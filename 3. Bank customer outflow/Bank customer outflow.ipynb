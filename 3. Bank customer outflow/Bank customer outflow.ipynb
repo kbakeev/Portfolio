{
 "cells": [
  {
   "cell_type": "markdown",
   "metadata": {},
   "source": [
    "# Проект \"Анализ оттока клиентов банка\" \n",
    "\n",
    "**Описание проекта**\n",
    "\n",
    "Банк «Метанпромбанк» в срочном порядке ищет аналитиков с уверенным владением «Python». Главной задачей станет анализ оттока клиентов. Анализ покажет, как клиенты пользуются услугами банка, а так же поможет составить портрет клиентов, которые склонны уходить из банка.\n",
    "\n",
    "**Основная цель проекта**\n",
    "\n",
    "Проанализировать информацию о клиентах банка и составить портрет клиентов, которые склонны к оттоку.\n",
    "\n",
    "**Задачи проекта**\n",
    "\n",
    "- Провести исследовательский анализ данных и выявить все значимые признаки отточности; \n",
    "- Выделить портреты клиентов и сравнить портреты типичных клиентов, которые склонны и не склонны уходить из банка; \n",
    "- Сформулировать и проверить статитические гипотезы; \n",
    "- Объединяя признаки отточности, сформировать сегменты и отобрать из них лучшие. Дать по ним рекомендации; \n",
    "- Подготовить презентацию по итогам исследования. \n"
   ]
  },
  {
   "cell_type": "markdown",
   "metadata": {},
   "source": [
    "## Общий вывод и рекомендации для отдела маркетинга \n",
    "\n",
    "Мы проанализировали клиентов регионального банка и выделили сегменты клиентов, которые склонны уходить из банка.\n",
    "\n",
    "На этапе предобработки данных обнаружили: \n",
    "- около 23% пропусков в столбце 'balance', что может говорить о технической ошибке, так что стоит проверить способ сбора этой информации\n",
    "- дубликаты в userid. Однако выяснилось, что дублирующиеся userid уникальны для каждого города. Вероятно раньше в Ярославле, Ростове и Рыбинске были свои базы данных, которые после объединили. Эту особенность стоит иметь в виду в будущем\n",
    "\n",
    "Выяснили, что всего отток составил 18,2%\n",
    "\n",
    "Выявили средний портрет отточных клиентов: \n",
    "- баллы кредитного скоринга находятся в диапазоне от 830 до 910 и от 930 до 940 баллов\n",
    "- живут в Ярославле и Ростове\n",
    "- мужчины\n",
    "- возраст от 25 до 35 лет и от 50 до 60 лет\n",
    "- имеют от 3 до 9 баллов собственности\n",
    "- имеют на счёте более 1 млн\n",
    "- имеют от 2 до 5 продуктов банка\n",
    "- не имеют кредитную карту\n",
    "- с доходом от 100 тысяч\n",
    "\n",
    "Сформировали сегменты клиентов с наибольшей вероятностью оттока. Среди таковых наиболее значимыми оказались следующие сегменты: \n",
    "- клиенты с более, чем двумя продуктами - процент оттока: 39.49%\n",
    "- клиенты c балансом более 1 млн - процент оттока: 38.49%\n",
    "- клиенты без кредитной карты из Ярославля - процент оттока: 28.99%\n",
    "- клиенты мужчины в возрасте от 25 до 35 лет - процент оттока: 25.51%\n",
    "- клиенты без кредитной карты из Ростова - Процент оттока: 21.86%\n",
    "\n",
    "**Рекомендации для отдела маркетинга**\n",
    "\n",
    "- Следует выяснить почему уходят мужчины вообще и в частности в возрасте от 25 до 35 лет. Возможно, стоит предложить им повышенный кэшбек на определенные категории или кобрендинговые карты с автосалонами, заправками. \n",
    "\n",
    "- Возможно стоит рассмотреть вариант с предложением жителям Ярославля оформить кредитную карту, так как мы выяснили, что если у клиента она есть, то он с меньшей веротяностью уйдет из банка. \n",
    "\n",
    "- Клиенты с балансом от 1 млн тоже уходят, может быть их не устраивает ставка по вкладам или обслуживание. Возможно стоит подумать над индивидуальными предложениями по ставкам или страхованию вклада, а также предложить им расширенное клинтское обслуживание. Например выпуск серебрянных или золотых карт. \n",
    "\n",
    "- Самая проблемная группа это клиенты с более чем двумя продуктами банка. Стоит изучить вопрос с набором этих продуктов и процессом перехода с двух на три и более продуктов. Что это за продукты, действительно ли они нужны клиенту. Возможно проблема в клиентском сервисе - чем больше у клиента продуктов банка, тем чаще он с ним взаимодействует и что-то идет не так. \n"
   ]
  },
  {
   "cell_type": "markdown",
   "metadata": {},
   "source": [
    "## Загрузка библитек и данных"
   ]
  },
  {
   "cell_type": "code",
   "execution_count": 1,
   "metadata": {},
   "outputs": [
    {
     "name": "stdout",
     "output_type": "stream",
     "text": [
      "Collecting phik\n",
      "  Downloading phik-0.12.4-cp39-cp39-manylinux_2_17_x86_64.manylinux2014_x86_64.whl (686 kB)\n",
      "\u001b[K     |████████████████████████████████| 686 kB 2.1 MB/s eta 0:00:01\n",
      "\u001b[?25hRequirement already satisfied: joblib>=0.14.1 in /opt/conda/lib/python3.9/site-packages (from phik) (1.1.0)\n",
      "Requirement already satisfied: scipy>=1.5.2 in /opt/conda/lib/python3.9/site-packages (from phik) (1.9.1)\n",
      "Requirement already satisfied: numpy>=1.18.0 in /opt/conda/lib/python3.9/site-packages (from phik) (1.26.4)\n",
      "Requirement already satisfied: pandas>=0.25.1 in /opt/conda/lib/python3.9/site-packages (from phik) (1.2.4)\n",
      "Requirement already satisfied: matplotlib>=2.2.3 in /opt/conda/lib/python3.9/site-packages (from phik) (3.9.0)\n",
      "Requirement already satisfied: contourpy>=1.0.1 in /opt/conda/lib/python3.9/site-packages (from matplotlib>=2.2.3->phik) (1.2.1)\n",
      "Requirement already satisfied: packaging>=20.0 in /opt/conda/lib/python3.9/site-packages (from matplotlib>=2.2.3->phik) (21.3)\n",
      "Requirement already satisfied: fonttools>=4.22.0 in /opt/conda/lib/python3.9/site-packages (from matplotlib>=2.2.3->phik) (4.53.0)\n",
      "Requirement already satisfied: pillow>=8 in /opt/conda/lib/python3.9/site-packages (from matplotlib>=2.2.3->phik) (8.4.0)\n",
      "Requirement already satisfied: pyparsing>=2.3.1 in /opt/conda/lib/python3.9/site-packages (from matplotlib>=2.2.3->phik) (2.4.7)\n",
      "Requirement already satisfied: importlib-resources>=3.2.0 in /opt/conda/lib/python3.9/site-packages (from matplotlib>=2.2.3->phik) (6.4.0)\n",
      "Requirement already satisfied: cycler>=0.10 in /opt/conda/lib/python3.9/site-packages (from matplotlib>=2.2.3->phik) (0.11.0)\n",
      "Requirement already satisfied: kiwisolver>=1.3.1 in /opt/conda/lib/python3.9/site-packages (from matplotlib>=2.2.3->phik) (1.4.4)\n",
      "Requirement already satisfied: python-dateutil>=2.7 in /opt/conda/lib/python3.9/site-packages (from matplotlib>=2.2.3->phik) (2.8.1)\n",
      "Requirement already satisfied: zipp>=3.1.0 in /opt/conda/lib/python3.9/site-packages (from importlib-resources>=3.2.0->matplotlib>=2.2.3->phik) (3.5.0)\n",
      "Requirement already satisfied: pytz>=2017.3 in /opt/conda/lib/python3.9/site-packages (from pandas>=0.25.1->phik) (2021.1)\n",
      "Requirement already satisfied: six>=1.5 in /opt/conda/lib/python3.9/site-packages (from python-dateutil>=2.7->matplotlib>=2.2.3->phik) (1.16.0)\n",
      "Collecting numpy>=1.18.0\n",
      "  Downloading numpy-1.24.4-cp39-cp39-manylinux_2_17_x86_64.manylinux2014_x86_64.whl (17.3 MB)\n",
      "\u001b[K     |████████████████████████████████| 17.3 MB 103.3 MB/s eta 0:00:01\n",
      "\u001b[?25hInstalling collected packages: numpy, phik\n",
      "  Attempting uninstall: numpy\n",
      "    Found existing installation: numpy 1.26.4\n",
      "    Uninstalling numpy-1.26.4:\n",
      "      Successfully uninstalled numpy-1.26.4\n",
      "\u001b[31mERROR: pip's dependency resolver does not currently take into account all the packages that are installed. This behaviour is the source of the following dependency conflicts.\n",
      "numba 0.56.0 requires numpy<1.23,>=1.18, but you have numpy 1.24.4 which is incompatible.\u001b[0m\n",
      "Successfully installed numpy-1.24.4 phik-0.12.4\n"
     ]
    }
   ],
   "source": [
    "# Загрузка библиотек \n",
    "\n",
    "! pip install phik\n",
    "\n",
    "import pandas as pd\n",
    "import matplotlib.pyplot as plt\n",
    "import seaborn as sns\n",
    "import numpy as np\n",
    "import scipy.stats as st\n",
    "import math\n",
    "import warnings\n",
    "warnings.filterwarnings('ignore')\n",
    "import phik\n",
    "from phik.report import plot_correlation_matrix\n",
    "from phik import report"
   ]
  },
  {
   "cell_type": "code",
   "execution_count": 2,
   "metadata": {},
   "outputs": [],
   "source": [
    "# Настраиваем отображение всех колонок и их ширину \n",
    "\n",
    "pd.set_option('display.max_columns', None)\n",
    "\n",
    "pd.set_option('display.max_colwidth', 1000)\n",
    "\n",
    "pd.set_option('display.float_format', '{:.2f}'.format)"
   ]
  },
  {
   "cell_type": "code",
   "execution_count": 3,
   "metadata": {},
   "outputs": [
    {
     "data": {
      "text/html": [
       "<div>\n",
       "<style scoped>\n",
       "    .dataframe tbody tr th:only-of-type {\n",
       "        vertical-align: middle;\n",
       "    }\n",
       "\n",
       "    .dataframe tbody tr th {\n",
       "        vertical-align: top;\n",
       "    }\n",
       "\n",
       "    .dataframe thead th {\n",
       "        text-align: right;\n",
       "    }\n",
       "</style>\n",
       "<table border=\"1\" class=\"dataframe\">\n",
       "  <thead>\n",
       "    <tr style=\"text-align: right;\">\n",
       "      <th></th>\n",
       "      <th>USERID</th>\n",
       "      <th>score</th>\n",
       "      <th>city</th>\n",
       "      <th>gender</th>\n",
       "      <th>age</th>\n",
       "      <th>equity</th>\n",
       "      <th>balance</th>\n",
       "      <th>products</th>\n",
       "      <th>credit_card</th>\n",
       "      <th>last_activity</th>\n",
       "      <th>EST_SALARY</th>\n",
       "      <th>churn</th>\n",
       "    </tr>\n",
       "  </thead>\n",
       "  <tbody>\n",
       "    <tr>\n",
       "      <th>0</th>\n",
       "      <td>183012</td>\n",
       "      <td>850.00</td>\n",
       "      <td>Рыбинск</td>\n",
       "      <td>Ж</td>\n",
       "      <td>25.00</td>\n",
       "      <td>1</td>\n",
       "      <td>59214.82</td>\n",
       "      <td>2</td>\n",
       "      <td>0</td>\n",
       "      <td>1</td>\n",
       "      <td>75719.14</td>\n",
       "      <td>1</td>\n",
       "    </tr>\n",
       "    <tr>\n",
       "      <th>1</th>\n",
       "      <td>146556</td>\n",
       "      <td>861.00</td>\n",
       "      <td>Рыбинск</td>\n",
       "      <td>Ж</td>\n",
       "      <td>37.00</td>\n",
       "      <td>5</td>\n",
       "      <td>850594.33</td>\n",
       "      <td>3</td>\n",
       "      <td>1</td>\n",
       "      <td>0</td>\n",
       "      <td>86621.77</td>\n",
       "      <td>0</td>\n",
       "    </tr>\n",
       "    <tr>\n",
       "      <th>2</th>\n",
       "      <td>120722</td>\n",
       "      <td>892.00</td>\n",
       "      <td>Рыбинск</td>\n",
       "      <td>Ж</td>\n",
       "      <td>30.00</td>\n",
       "      <td>0</td>\n",
       "      <td>NaN</td>\n",
       "      <td>1</td>\n",
       "      <td>1</td>\n",
       "      <td>1</td>\n",
       "      <td>107683.34</td>\n",
       "      <td>0</td>\n",
       "    </tr>\n",
       "    <tr>\n",
       "      <th>3</th>\n",
       "      <td>225363</td>\n",
       "      <td>866.00</td>\n",
       "      <td>Ярославль</td>\n",
       "      <td>Ж</td>\n",
       "      <td>51.00</td>\n",
       "      <td>5</td>\n",
       "      <td>1524746.26</td>\n",
       "      <td>2</td>\n",
       "      <td>0</td>\n",
       "      <td>1</td>\n",
       "      <td>174423.53</td>\n",
       "      <td>1</td>\n",
       "    </tr>\n",
       "    <tr>\n",
       "      <th>4</th>\n",
       "      <td>157978</td>\n",
       "      <td>730.00</td>\n",
       "      <td>Ярославль</td>\n",
       "      <td>М</td>\n",
       "      <td>34.00</td>\n",
       "      <td>5</td>\n",
       "      <td>174.00</td>\n",
       "      <td>1</td>\n",
       "      <td>1</td>\n",
       "      <td>0</td>\n",
       "      <td>67353.16</td>\n",
       "      <td>1</td>\n",
       "    </tr>\n",
       "    <tr>\n",
       "      <th>...</th>\n",
       "      <td>...</td>\n",
       "      <td>...</td>\n",
       "      <td>...</td>\n",
       "      <td>...</td>\n",
       "      <td>...</td>\n",
       "      <td>...</td>\n",
       "      <td>...</td>\n",
       "      <td>...</td>\n",
       "      <td>...</td>\n",
       "      <td>...</td>\n",
       "      <td>...</td>\n",
       "      <td>...</td>\n",
       "    </tr>\n",
       "    <tr>\n",
       "      <th>9995</th>\n",
       "      <td>120553</td>\n",
       "      <td>814.00</td>\n",
       "      <td>Рыбинск</td>\n",
       "      <td>М</td>\n",
       "      <td>27.00</td>\n",
       "      <td>1</td>\n",
       "      <td>78144.65</td>\n",
       "      <td>1</td>\n",
       "      <td>0</td>\n",
       "      <td>1</td>\n",
       "      <td>18943.64</td>\n",
       "      <td>0</td>\n",
       "    </tr>\n",
       "    <tr>\n",
       "      <th>9996</th>\n",
       "      <td>139170</td>\n",
       "      <td>894.00</td>\n",
       "      <td>Ярославль</td>\n",
       "      <td>М</td>\n",
       "      <td>46.00</td>\n",
       "      <td>0</td>\n",
       "      <td>NaN</td>\n",
       "      <td>1</td>\n",
       "      <td>1</td>\n",
       "      <td>0</td>\n",
       "      <td>196898.29</td>\n",
       "      <td>0</td>\n",
       "    </tr>\n",
       "    <tr>\n",
       "      <th>9997</th>\n",
       "      <td>115639</td>\n",
       "      <td>903.00</td>\n",
       "      <td>Ярославль</td>\n",
       "      <td>М</td>\n",
       "      <td>24.00</td>\n",
       "      <td>0</td>\n",
       "      <td>NaN</td>\n",
       "      <td>2</td>\n",
       "      <td>1</td>\n",
       "      <td>1</td>\n",
       "      <td>108905.09</td>\n",
       "      <td>0</td>\n",
       "    </tr>\n",
       "    <tr>\n",
       "      <th>9998</th>\n",
       "      <td>148700</td>\n",
       "      <td>777.00</td>\n",
       "      <td>Ярославль</td>\n",
       "      <td>Ж</td>\n",
       "      <td>68.00</td>\n",
       "      <td>3</td>\n",
       "      <td>865457.97</td>\n",
       "      <td>3</td>\n",
       "      <td>0</td>\n",
       "      <td>1</td>\n",
       "      <td>86874.90</td>\n",
       "      <td>0</td>\n",
       "    </tr>\n",
       "    <tr>\n",
       "      <th>9999</th>\n",
       "      <td>96267</td>\n",
       "      <td>828.00</td>\n",
       "      <td>Рыбинск</td>\n",
       "      <td>Ж</td>\n",
       "      <td>58.00</td>\n",
       "      <td>3</td>\n",
       "      <td>1180886.70</td>\n",
       "      <td>4</td>\n",
       "      <td>0</td>\n",
       "      <td>1</td>\n",
       "      <td>21422.37</td>\n",
       "      <td>0</td>\n",
       "    </tr>\n",
       "  </tbody>\n",
       "</table>\n",
       "<p>10000 rows × 12 columns</p>\n",
       "</div>"
      ],
      "text/plain": [
       "      USERID  score       city gender   age  equity    balance  products  \\\n",
       "0     183012 850.00    Рыбинск      Ж 25.00       1   59214.82         2   \n",
       "1     146556 861.00    Рыбинск      Ж 37.00       5  850594.33         3   \n",
       "2     120722 892.00    Рыбинск      Ж 30.00       0        NaN         1   \n",
       "3     225363 866.00  Ярославль      Ж 51.00       5 1524746.26         2   \n",
       "4     157978 730.00  Ярославль      М 34.00       5     174.00         1   \n",
       "...      ...    ...        ...    ...   ...     ...        ...       ...   \n",
       "9995  120553 814.00    Рыбинск      М 27.00       1   78144.65         1   \n",
       "9996  139170 894.00  Ярославль      М 46.00       0        NaN         1   \n",
       "9997  115639 903.00  Ярославль      М 24.00       0        NaN         2   \n",
       "9998  148700 777.00  Ярославль      Ж 68.00       3  865457.97         3   \n",
       "9999   96267 828.00    Рыбинск      Ж 58.00       3 1180886.70         4   \n",
       "\n",
       "      credit_card  last_activity  EST_SALARY  churn  \n",
       "0               0              1    75719.14      1  \n",
       "1               1              0    86621.77      0  \n",
       "2               1              1   107683.34      0  \n",
       "3               0              1   174423.53      1  \n",
       "4               1              0    67353.16      1  \n",
       "...           ...            ...         ...    ...  \n",
       "9995            0              1    18943.64      0  \n",
       "9996            1              0   196898.29      0  \n",
       "9997            1              1   108905.09      0  \n",
       "9998            0              1    86874.90      0  \n",
       "9999            0              1    21422.37      0  \n",
       "\n",
       "[10000 rows x 12 columns]"
      ]
     },
     "metadata": {},
     "output_type": "display_data"
    }
   ],
   "source": [
    "# Загружаем данные \n",
    "\n",
    "try:\n",
    "    df = pd.read_csv('/Users/kirillbakeev/Downloads/bank_scrooge.csv').copy()\n",
    "except:\n",
    "    df = pd.read_csv('https://code.s3.yandex.net/datasets/bank_scrooge.csv').copy()\n",
    "    \n",
    "display(df)"
   ]
  },
  {
   "cell_type": "markdown",
   "metadata": {},
   "source": [
    "Создадим функции для вывода общей информации о данных "
   ]
  },
  {
   "cell_type": "code",
   "execution_count": 4,
   "metadata": {},
   "outputs": [],
   "source": [
    "# Функция для поиска информации о пропусках \n",
    "\n",
    "def is_nan(df):\n",
    "        for col in df.columns:\n",
    "            data_missing = np.mean(df[col].isnull())\n",
    "            print('{} - {}%'.format(col, round(data_missing*100)))"
   ]
  },
  {
   "cell_type": "code",
   "execution_count": 5,
   "metadata": {},
   "outputs": [],
   "source": [
    "# Функция для вывода информации по датафрейму\n",
    "\n",
    "def data_info(df):\n",
    "    return display('10 случайных строк из данных', df.sample(10)), \\\n",
    "    display('Описание данных', df.describe(), 'Info'), \\\n",
    "    print(df.info()), \\\n",
    "    display('Размерность датафрейма', df.shape), \\\n",
    "    display('Количество дубликатов', df.duplicated().sum(), 'Пропуски в данных в %'), \\\n",
    "    display(is_nan(df))"
   ]
  },
  {
   "cell_type": "markdown",
   "metadata": {},
   "source": [
    "### Информация о данных "
   ]
  },
  {
   "cell_type": "code",
   "execution_count": 6,
   "metadata": {},
   "outputs": [
    {
     "data": {
      "text/plain": [
       "'10 случайных строк из данных'"
      ]
     },
     "metadata": {},
     "output_type": "display_data"
    },
    {
     "data": {
      "text/html": [
       "<div>\n",
       "<style scoped>\n",
       "    .dataframe tbody tr th:only-of-type {\n",
       "        vertical-align: middle;\n",
       "    }\n",
       "\n",
       "    .dataframe tbody tr th {\n",
       "        vertical-align: top;\n",
       "    }\n",
       "\n",
       "    .dataframe thead th {\n",
       "        text-align: right;\n",
       "    }\n",
       "</style>\n",
       "<table border=\"1\" class=\"dataframe\">\n",
       "  <thead>\n",
       "    <tr style=\"text-align: right;\">\n",
       "      <th></th>\n",
       "      <th>USERID</th>\n",
       "      <th>score</th>\n",
       "      <th>city</th>\n",
       "      <th>gender</th>\n",
       "      <th>age</th>\n",
       "      <th>equity</th>\n",
       "      <th>balance</th>\n",
       "      <th>products</th>\n",
       "      <th>credit_card</th>\n",
       "      <th>last_activity</th>\n",
       "      <th>EST_SALARY</th>\n",
       "      <th>churn</th>\n",
       "    </tr>\n",
       "  </thead>\n",
       "  <tbody>\n",
       "    <tr>\n",
       "      <th>5664</th>\n",
       "      <td>213989</td>\n",
       "      <td>900.00</td>\n",
       "      <td>Рыбинск</td>\n",
       "      <td>М</td>\n",
       "      <td>34.00</td>\n",
       "      <td>5</td>\n",
       "      <td>542159.17</td>\n",
       "      <td>2</td>\n",
       "      <td>1</td>\n",
       "      <td>0</td>\n",
       "      <td>152649.68</td>\n",
       "      <td>0</td>\n",
       "    </tr>\n",
       "    <tr>\n",
       "      <th>8835</th>\n",
       "      <td>136628</td>\n",
       "      <td>925.00</td>\n",
       "      <td>Ярославль</td>\n",
       "      <td>М</td>\n",
       "      <td>40.00</td>\n",
       "      <td>0</td>\n",
       "      <td>NaN</td>\n",
       "      <td>1</td>\n",
       "      <td>0</td>\n",
       "      <td>1</td>\n",
       "      <td>259053.42</td>\n",
       "      <td>0</td>\n",
       "    </tr>\n",
       "    <tr>\n",
       "      <th>1215</th>\n",
       "      <td>226005</td>\n",
       "      <td>795.00</td>\n",
       "      <td>Ярославль</td>\n",
       "      <td>Ж</td>\n",
       "      <td>24.00</td>\n",
       "      <td>4</td>\n",
       "      <td>724805.75</td>\n",
       "      <td>2</td>\n",
       "      <td>0</td>\n",
       "      <td>1</td>\n",
       "      <td>225631.31</td>\n",
       "      <td>0</td>\n",
       "    </tr>\n",
       "    <tr>\n",
       "      <th>3578</th>\n",
       "      <td>218990</td>\n",
       "      <td>927.00</td>\n",
       "      <td>Рыбинск</td>\n",
       "      <td>М</td>\n",
       "      <td>36.00</td>\n",
       "      <td>0</td>\n",
       "      <td>NaN</td>\n",
       "      <td>2</td>\n",
       "      <td>0</td>\n",
       "      <td>1</td>\n",
       "      <td>239903.87</td>\n",
       "      <td>0</td>\n",
       "    </tr>\n",
       "    <tr>\n",
       "      <th>661</th>\n",
       "      <td>122604</td>\n",
       "      <td>817.00</td>\n",
       "      <td>Ростов</td>\n",
       "      <td>М</td>\n",
       "      <td>36.00</td>\n",
       "      <td>2</td>\n",
       "      <td>237951.32</td>\n",
       "      <td>3</td>\n",
       "      <td>1</td>\n",
       "      <td>0</td>\n",
       "      <td>203587.31</td>\n",
       "      <td>0</td>\n",
       "    </tr>\n",
       "    <tr>\n",
       "      <th>7319</th>\n",
       "      <td>179385</td>\n",
       "      <td>814.00</td>\n",
       "      <td>Ярославль</td>\n",
       "      <td>М</td>\n",
       "      <td>30.00</td>\n",
       "      <td>3</td>\n",
       "      <td>145695.95</td>\n",
       "      <td>2</td>\n",
       "      <td>1</td>\n",
       "      <td>1</td>\n",
       "      <td>196896.09</td>\n",
       "      <td>0</td>\n",
       "    </tr>\n",
       "    <tr>\n",
       "      <th>6815</th>\n",
       "      <td>224153</td>\n",
       "      <td>853.00</td>\n",
       "      <td>Ярославль</td>\n",
       "      <td>М</td>\n",
       "      <td>53.00</td>\n",
       "      <td>6</td>\n",
       "      <td>672118.41</td>\n",
       "      <td>3</td>\n",
       "      <td>0</td>\n",
       "      <td>0</td>\n",
       "      <td>83398.89</td>\n",
       "      <td>0</td>\n",
       "    </tr>\n",
       "    <tr>\n",
       "      <th>5486</th>\n",
       "      <td>119524</td>\n",
       "      <td>882.00</td>\n",
       "      <td>Ростов</td>\n",
       "      <td>М</td>\n",
       "      <td>27.00</td>\n",
       "      <td>3</td>\n",
       "      <td>573808.13</td>\n",
       "      <td>2</td>\n",
       "      <td>0</td>\n",
       "      <td>1</td>\n",
       "      <td>43644.45</td>\n",
       "      <td>1</td>\n",
       "    </tr>\n",
       "    <tr>\n",
       "      <th>6603</th>\n",
       "      <td>219667</td>\n",
       "      <td>886.00</td>\n",
       "      <td>Ярославль</td>\n",
       "      <td>Ж</td>\n",
       "      <td>72.00</td>\n",
       "      <td>3</td>\n",
       "      <td>273683.21</td>\n",
       "      <td>1</td>\n",
       "      <td>1</td>\n",
       "      <td>1</td>\n",
       "      <td>128067.75</td>\n",
       "      <td>0</td>\n",
       "    </tr>\n",
       "    <tr>\n",
       "      <th>4043</th>\n",
       "      <td>141291</td>\n",
       "      <td>870.00</td>\n",
       "      <td>Рыбинск</td>\n",
       "      <td>Ж</td>\n",
       "      <td>44.00</td>\n",
       "      <td>5</td>\n",
       "      <td>789790.13</td>\n",
       "      <td>1</td>\n",
       "      <td>1</td>\n",
       "      <td>0</td>\n",
       "      <td>220963.36</td>\n",
       "      <td>0</td>\n",
       "    </tr>\n",
       "  </tbody>\n",
       "</table>\n",
       "</div>"
      ],
      "text/plain": [
       "      USERID  score       city gender   age  equity   balance  products  \\\n",
       "5664  213989 900.00    Рыбинск      М 34.00       5 542159.17         2   \n",
       "8835  136628 925.00  Ярославль      М 40.00       0       NaN         1   \n",
       "1215  226005 795.00  Ярославль      Ж 24.00       4 724805.75         2   \n",
       "3578  218990 927.00    Рыбинск      М 36.00       0       NaN         2   \n",
       "661   122604 817.00     Ростов      М 36.00       2 237951.32         3   \n",
       "7319  179385 814.00  Ярославль      М 30.00       3 145695.95         2   \n",
       "6815  224153 853.00  Ярославль      М 53.00       6 672118.41         3   \n",
       "5486  119524 882.00     Ростов      М 27.00       3 573808.13         2   \n",
       "6603  219667 886.00  Ярославль      Ж 72.00       3 273683.21         1   \n",
       "4043  141291 870.00    Рыбинск      Ж 44.00       5 789790.13         1   \n",
       "\n",
       "      credit_card  last_activity  EST_SALARY  churn  \n",
       "5664            1              0   152649.68      0  \n",
       "8835            0              1   259053.42      0  \n",
       "1215            0              1   225631.31      0  \n",
       "3578            0              1   239903.87      0  \n",
       "661             1              0   203587.31      0  \n",
       "7319            1              1   196896.09      0  \n",
       "6815            0              0    83398.89      0  \n",
       "5486            0              1    43644.45      1  \n",
       "6603            1              1   128067.75      0  \n",
       "4043            1              0   220963.36      0  "
      ]
     },
     "metadata": {},
     "output_type": "display_data"
    },
    {
     "data": {
      "text/plain": [
       "'Описание данных'"
      ]
     },
     "metadata": {},
     "output_type": "display_data"
    },
    {
     "data": {
      "text/html": [
       "<div>\n",
       "<style scoped>\n",
       "    .dataframe tbody tr th:only-of-type {\n",
       "        vertical-align: middle;\n",
       "    }\n",
       "\n",
       "    .dataframe tbody tr th {\n",
       "        vertical-align: top;\n",
       "    }\n",
       "\n",
       "    .dataframe thead th {\n",
       "        text-align: right;\n",
       "    }\n",
       "</style>\n",
       "<table border=\"1\" class=\"dataframe\">\n",
       "  <thead>\n",
       "    <tr style=\"text-align: right;\">\n",
       "      <th></th>\n",
       "      <th>USERID</th>\n",
       "      <th>score</th>\n",
       "      <th>age</th>\n",
       "      <th>equity</th>\n",
       "      <th>balance</th>\n",
       "      <th>products</th>\n",
       "      <th>credit_card</th>\n",
       "      <th>last_activity</th>\n",
       "      <th>EST_SALARY</th>\n",
       "      <th>churn</th>\n",
       "    </tr>\n",
       "  </thead>\n",
       "  <tbody>\n",
       "    <tr>\n",
       "      <th>count</th>\n",
       "      <td>10000.00</td>\n",
       "      <td>10000.00</td>\n",
       "      <td>9974.00</td>\n",
       "      <td>10000.00</td>\n",
       "      <td>7705.00</td>\n",
       "      <td>10000.00</td>\n",
       "      <td>10000.00</td>\n",
       "      <td>10000.00</td>\n",
       "      <td>10000.00</td>\n",
       "      <td>10000.00</td>\n",
       "    </tr>\n",
       "    <tr>\n",
       "      <th>mean</th>\n",
       "      <td>171814.71</td>\n",
       "      <td>848.70</td>\n",
       "      <td>42.73</td>\n",
       "      <td>2.63</td>\n",
       "      <td>827794.31</td>\n",
       "      <td>1.87</td>\n",
       "      <td>0.68</td>\n",
       "      <td>0.52</td>\n",
       "      <td>147866.89</td>\n",
       "      <td>0.18</td>\n",
       "    </tr>\n",
       "    <tr>\n",
       "      <th>std</th>\n",
       "      <td>33708.24</td>\n",
       "      <td>65.45</td>\n",
       "      <td>12.18</td>\n",
       "      <td>1.98</td>\n",
       "      <td>1980614.15</td>\n",
       "      <td>0.79</td>\n",
       "      <td>0.47</td>\n",
       "      <td>0.50</td>\n",
       "      <td>139388.51</td>\n",
       "      <td>0.39</td>\n",
       "    </tr>\n",
       "    <tr>\n",
       "      <th>min</th>\n",
       "      <td>94561.00</td>\n",
       "      <td>642.00</td>\n",
       "      <td>18.00</td>\n",
       "      <td>0.00</td>\n",
       "      <td>0.00</td>\n",
       "      <td>0.00</td>\n",
       "      <td>0.00</td>\n",
       "      <td>0.00</td>\n",
       "      <td>2546.30</td>\n",
       "      <td>0.00</td>\n",
       "    </tr>\n",
       "    <tr>\n",
       "      <th>25%</th>\n",
       "      <td>142810.25</td>\n",
       "      <td>802.00</td>\n",
       "      <td>33.00</td>\n",
       "      <td>0.00</td>\n",
       "      <td>295554.16</td>\n",
       "      <td>1.00</td>\n",
       "      <td>0.00</td>\n",
       "      <td>0.00</td>\n",
       "      <td>75251.90</td>\n",
       "      <td>0.00</td>\n",
       "    </tr>\n",
       "    <tr>\n",
       "      <th>50%</th>\n",
       "      <td>172728.00</td>\n",
       "      <td>853.00</td>\n",
       "      <td>40.00</td>\n",
       "      <td>3.00</td>\n",
       "      <td>524272.20</td>\n",
       "      <td>2.00</td>\n",
       "      <td>1.00</td>\n",
       "      <td>1.00</td>\n",
       "      <td>119658.10</td>\n",
       "      <td>0.00</td>\n",
       "    </tr>\n",
       "    <tr>\n",
       "      <th>75%</th>\n",
       "      <td>201261.75</td>\n",
       "      <td>900.00</td>\n",
       "      <td>51.00</td>\n",
       "      <td>4.00</td>\n",
       "      <td>980705.85</td>\n",
       "      <td>2.00</td>\n",
       "      <td>1.00</td>\n",
       "      <td>1.00</td>\n",
       "      <td>174500.54</td>\n",
       "      <td>0.00</td>\n",
       "    </tr>\n",
       "    <tr>\n",
       "      <th>max</th>\n",
       "      <td>229145.00</td>\n",
       "      <td>1000.00</td>\n",
       "      <td>86.00</td>\n",
       "      <td>9.00</td>\n",
       "      <td>119113552.01</td>\n",
       "      <td>5.00</td>\n",
       "      <td>1.00</td>\n",
       "      <td>1.00</td>\n",
       "      <td>1395064.45</td>\n",
       "      <td>1.00</td>\n",
       "    </tr>\n",
       "  </tbody>\n",
       "</table>\n",
       "</div>"
      ],
      "text/plain": [
       "         USERID    score     age   equity      balance  products  credit_card  \\\n",
       "count  10000.00 10000.00 9974.00 10000.00      7705.00  10000.00     10000.00   \n",
       "mean  171814.71   848.70   42.73     2.63    827794.31      1.87         0.68   \n",
       "std    33708.24    65.45   12.18     1.98   1980614.15      0.79         0.47   \n",
       "min    94561.00   642.00   18.00     0.00         0.00      0.00         0.00   \n",
       "25%   142810.25   802.00   33.00     0.00    295554.16      1.00         0.00   \n",
       "50%   172728.00   853.00   40.00     3.00    524272.20      2.00         1.00   \n",
       "75%   201261.75   900.00   51.00     4.00    980705.85      2.00         1.00   \n",
       "max   229145.00  1000.00   86.00     9.00 119113552.01      5.00         1.00   \n",
       "\n",
       "       last_activity  EST_SALARY    churn  \n",
       "count       10000.00    10000.00 10000.00  \n",
       "mean            0.52   147866.89     0.18  \n",
       "std             0.50   139388.51     0.39  \n",
       "min             0.00     2546.30     0.00  \n",
       "25%             0.00    75251.90     0.00  \n",
       "50%             1.00   119658.10     0.00  \n",
       "75%             1.00   174500.54     0.00  \n",
       "max             1.00  1395064.45     1.00  "
      ]
     },
     "metadata": {},
     "output_type": "display_data"
    },
    {
     "data": {
      "text/plain": [
       "'Info'"
      ]
     },
     "metadata": {},
     "output_type": "display_data"
    },
    {
     "name": "stdout",
     "output_type": "stream",
     "text": [
      "<class 'pandas.core.frame.DataFrame'>\n",
      "RangeIndex: 10000 entries, 0 to 9999\n",
      "Data columns (total 12 columns):\n",
      " #   Column         Non-Null Count  Dtype  \n",
      "---  ------         --------------  -----  \n",
      " 0   USERID         10000 non-null  int64  \n",
      " 1   score          10000 non-null  float64\n",
      " 2   city           10000 non-null  object \n",
      " 3   gender         10000 non-null  object \n",
      " 4   age            9974 non-null   float64\n",
      " 5   equity         10000 non-null  int64  \n",
      " 6   balance        7705 non-null   float64\n",
      " 7   products       10000 non-null  int64  \n",
      " 8   credit_card    10000 non-null  int64  \n",
      " 9   last_activity  10000 non-null  int64  \n",
      " 10  EST_SALARY     10000 non-null  float64\n",
      " 11  churn          10000 non-null  int64  \n",
      "dtypes: float64(4), int64(6), object(2)\n",
      "memory usage: 937.6+ KB\n",
      "None\n"
     ]
    },
    {
     "data": {
      "text/plain": [
       "'Размерность датафрейма'"
      ]
     },
     "metadata": {},
     "output_type": "display_data"
    },
    {
     "data": {
      "text/plain": [
       "(10000, 12)"
      ]
     },
     "metadata": {},
     "output_type": "display_data"
    },
    {
     "data": {
      "text/plain": [
       "'Количество дубликатов'"
      ]
     },
     "metadata": {},
     "output_type": "display_data"
    },
    {
     "data": {
      "text/plain": [
       "0"
      ]
     },
     "metadata": {},
     "output_type": "display_data"
    },
    {
     "data": {
      "text/plain": [
       "'Пропуски в данных в %'"
      ]
     },
     "metadata": {},
     "output_type": "display_data"
    },
    {
     "name": "stdout",
     "output_type": "stream",
     "text": [
      "USERID - 0%\n",
      "score - 0%\n",
      "city - 0%\n",
      "gender - 0%\n",
      "age - 0%\n",
      "equity - 0%\n",
      "balance - 23%\n",
      "products - 0%\n",
      "credit_card - 0%\n",
      "last_activity - 0%\n",
      "EST_SALARY - 0%\n",
      "churn - 0%\n"
     ]
    },
    {
     "data": {
      "text/plain": [
       "None"
      ]
     },
     "metadata": {},
     "output_type": "display_data"
    },
    {
     "data": {
      "text/plain": [
       "(None, None, None, None, None, None)"
      ]
     },
     "execution_count": 6,
     "metadata": {},
     "output_type": "execute_result"
    }
   ],
   "source": [
    "data_info(df)"
   ]
  },
  {
   "cell_type": "markdown",
   "metadata": {},
   "source": [
    "**Промежуточный вывод**\n",
    "В целом данные в порядке, но видно что есть большое число пропусков в столбце balance. \n",
    "Кроме того видно, что: \n",
    "- Столбцы нужно привести в единый вид\n",
    "- Минимальное значение зарплаты 2546.30\n",
    "- Возраст клиентов от 18 до 86 лет \n"
   ]
  },
  {
   "cell_type": "markdown",
   "metadata": {},
   "source": [
    "## Предобработка данных "
   ]
  },
  {
   "cell_type": "markdown",
   "metadata": {},
   "source": [
    "Приведем названия столбцов к нижнему регистру "
   ]
  },
  {
   "cell_type": "code",
   "execution_count": 7,
   "metadata": {},
   "outputs": [
    {
     "data": {
      "text/html": [
       "<div>\n",
       "<style scoped>\n",
       "    .dataframe tbody tr th:only-of-type {\n",
       "        vertical-align: middle;\n",
       "    }\n",
       "\n",
       "    .dataframe tbody tr th {\n",
       "        vertical-align: top;\n",
       "    }\n",
       "\n",
       "    .dataframe thead th {\n",
       "        text-align: right;\n",
       "    }\n",
       "</style>\n",
       "<table border=\"1\" class=\"dataframe\">\n",
       "  <thead>\n",
       "    <tr style=\"text-align: right;\">\n",
       "      <th></th>\n",
       "      <th>userid</th>\n",
       "      <th>score</th>\n",
       "      <th>city</th>\n",
       "      <th>gender</th>\n",
       "      <th>age</th>\n",
       "      <th>equity</th>\n",
       "      <th>balance</th>\n",
       "      <th>products</th>\n",
       "      <th>credit_card</th>\n",
       "      <th>last_activity</th>\n",
       "      <th>est_salary</th>\n",
       "      <th>churn</th>\n",
       "    </tr>\n",
       "  </thead>\n",
       "  <tbody>\n",
       "    <tr>\n",
       "      <th>0</th>\n",
       "      <td>183012</td>\n",
       "      <td>850.00</td>\n",
       "      <td>Рыбинск</td>\n",
       "      <td>Ж</td>\n",
       "      <td>25.00</td>\n",
       "      <td>1</td>\n",
       "      <td>59214.82</td>\n",
       "      <td>2</td>\n",
       "      <td>0</td>\n",
       "      <td>1</td>\n",
       "      <td>75719.14</td>\n",
       "      <td>1</td>\n",
       "    </tr>\n",
       "    <tr>\n",
       "      <th>1</th>\n",
       "      <td>146556</td>\n",
       "      <td>861.00</td>\n",
       "      <td>Рыбинск</td>\n",
       "      <td>Ж</td>\n",
       "      <td>37.00</td>\n",
       "      <td>5</td>\n",
       "      <td>850594.33</td>\n",
       "      <td>3</td>\n",
       "      <td>1</td>\n",
       "      <td>0</td>\n",
       "      <td>86621.77</td>\n",
       "      <td>0</td>\n",
       "    </tr>\n",
       "    <tr>\n",
       "      <th>2</th>\n",
       "      <td>120722</td>\n",
       "      <td>892.00</td>\n",
       "      <td>Рыбинск</td>\n",
       "      <td>Ж</td>\n",
       "      <td>30.00</td>\n",
       "      <td>0</td>\n",
       "      <td>NaN</td>\n",
       "      <td>1</td>\n",
       "      <td>1</td>\n",
       "      <td>1</td>\n",
       "      <td>107683.34</td>\n",
       "      <td>0</td>\n",
       "    </tr>\n",
       "    <tr>\n",
       "      <th>3</th>\n",
       "      <td>225363</td>\n",
       "      <td>866.00</td>\n",
       "      <td>Ярославль</td>\n",
       "      <td>Ж</td>\n",
       "      <td>51.00</td>\n",
       "      <td>5</td>\n",
       "      <td>1524746.26</td>\n",
       "      <td>2</td>\n",
       "      <td>0</td>\n",
       "      <td>1</td>\n",
       "      <td>174423.53</td>\n",
       "      <td>1</td>\n",
       "    </tr>\n",
       "    <tr>\n",
       "      <th>4</th>\n",
       "      <td>157978</td>\n",
       "      <td>730.00</td>\n",
       "      <td>Ярославль</td>\n",
       "      <td>М</td>\n",
       "      <td>34.00</td>\n",
       "      <td>5</td>\n",
       "      <td>174.00</td>\n",
       "      <td>1</td>\n",
       "      <td>1</td>\n",
       "      <td>0</td>\n",
       "      <td>67353.16</td>\n",
       "      <td>1</td>\n",
       "    </tr>\n",
       "  </tbody>\n",
       "</table>\n",
       "</div>"
      ],
      "text/plain": [
       "   userid  score       city gender   age  equity    balance  products  \\\n",
       "0  183012 850.00    Рыбинск      Ж 25.00       1   59214.82         2   \n",
       "1  146556 861.00    Рыбинск      Ж 37.00       5  850594.33         3   \n",
       "2  120722 892.00    Рыбинск      Ж 30.00       0        NaN         1   \n",
       "3  225363 866.00  Ярославль      Ж 51.00       5 1524746.26         2   \n",
       "4  157978 730.00  Ярославль      М 34.00       5     174.00         1   \n",
       "\n",
       "   credit_card  last_activity  est_salary  churn  \n",
       "0            0              1    75719.14      1  \n",
       "1            1              0    86621.77      0  \n",
       "2            1              1   107683.34      0  \n",
       "3            0              1   174423.53      1  \n",
       "4            1              0    67353.16      1  "
      ]
     },
     "execution_count": 7,
     "metadata": {},
     "output_type": "execute_result"
    }
   ],
   "source": [
    "df.columns = df.columns.str.lower()\n",
    "df.head()"
   ]
  },
  {
   "cell_type": "markdown",
   "metadata": {},
   "source": [
    "Посмотрим на пропуски в столбце balance "
   ]
  },
  {
   "cell_type": "code",
   "execution_count": 8,
   "metadata": {},
   "outputs": [
    {
     "data": {
      "text/html": [
       "<div>\n",
       "<style scoped>\n",
       "    .dataframe tbody tr th:only-of-type {\n",
       "        vertical-align: middle;\n",
       "    }\n",
       "\n",
       "    .dataframe tbody tr th {\n",
       "        vertical-align: top;\n",
       "    }\n",
       "\n",
       "    .dataframe thead th {\n",
       "        text-align: right;\n",
       "    }\n",
       "</style>\n",
       "<table border=\"1\" class=\"dataframe\">\n",
       "  <thead>\n",
       "    <tr style=\"text-align: right;\">\n",
       "      <th></th>\n",
       "      <th>userid</th>\n",
       "      <th>score</th>\n",
       "      <th>city</th>\n",
       "      <th>gender</th>\n",
       "      <th>age</th>\n",
       "      <th>equity</th>\n",
       "      <th>balance</th>\n",
       "      <th>products</th>\n",
       "      <th>credit_card</th>\n",
       "      <th>last_activity</th>\n",
       "      <th>est_salary</th>\n",
       "      <th>churn</th>\n",
       "    </tr>\n",
       "  </thead>\n",
       "  <tbody>\n",
       "    <tr>\n",
       "      <th>2</th>\n",
       "      <td>120722</td>\n",
       "      <td>892.00</td>\n",
       "      <td>Рыбинск</td>\n",
       "      <td>Ж</td>\n",
       "      <td>30.00</td>\n",
       "      <td>0</td>\n",
       "      <td>NaN</td>\n",
       "      <td>1</td>\n",
       "      <td>1</td>\n",
       "      <td>1</td>\n",
       "      <td>107683.34</td>\n",
       "      <td>0</td>\n",
       "    </tr>\n",
       "    <tr>\n",
       "      <th>9</th>\n",
       "      <td>133130</td>\n",
       "      <td>906.00</td>\n",
       "      <td>Ярославль</td>\n",
       "      <td>Ж</td>\n",
       "      <td>67.00</td>\n",
       "      <td>0</td>\n",
       "      <td>NaN</td>\n",
       "      <td>1</td>\n",
       "      <td>0</td>\n",
       "      <td>1</td>\n",
       "      <td>238055.53</td>\n",
       "      <td>0</td>\n",
       "    </tr>\n",
       "    <tr>\n",
       "      <th>10</th>\n",
       "      <td>148929</td>\n",
       "      <td>927.00</td>\n",
       "      <td>Ростов</td>\n",
       "      <td>М</td>\n",
       "      <td>52.00</td>\n",
       "      <td>0</td>\n",
       "      <td>NaN</td>\n",
       "      <td>1</td>\n",
       "      <td>1</td>\n",
       "      <td>1</td>\n",
       "      <td>196820.07</td>\n",
       "      <td>0</td>\n",
       "    </tr>\n",
       "    <tr>\n",
       "      <th>11</th>\n",
       "      <td>172184</td>\n",
       "      <td>921.00</td>\n",
       "      <td>Ростов</td>\n",
       "      <td>М</td>\n",
       "      <td>41.00</td>\n",
       "      <td>0</td>\n",
       "      <td>NaN</td>\n",
       "      <td>1</td>\n",
       "      <td>1</td>\n",
       "      <td>1</td>\n",
       "      <td>217469.48</td>\n",
       "      <td>0</td>\n",
       "    </tr>\n",
       "    <tr>\n",
       "      <th>19</th>\n",
       "      <td>127034</td>\n",
       "      <td>922.00</td>\n",
       "      <td>Рыбинск</td>\n",
       "      <td>Ж</td>\n",
       "      <td>53.00</td>\n",
       "      <td>0</td>\n",
       "      <td>NaN</td>\n",
       "      <td>1</td>\n",
       "      <td>0</td>\n",
       "      <td>0</td>\n",
       "      <td>147094.82</td>\n",
       "      <td>0</td>\n",
       "    </tr>\n",
       "    <tr>\n",
       "      <th>...</th>\n",
       "      <td>...</td>\n",
       "      <td>...</td>\n",
       "      <td>...</td>\n",
       "      <td>...</td>\n",
       "      <td>...</td>\n",
       "      <td>...</td>\n",
       "      <td>...</td>\n",
       "      <td>...</td>\n",
       "      <td>...</td>\n",
       "      <td>...</td>\n",
       "      <td>...</td>\n",
       "      <td>...</td>\n",
       "    </tr>\n",
       "    <tr>\n",
       "      <th>9976</th>\n",
       "      <td>208085</td>\n",
       "      <td>876.00</td>\n",
       "      <td>Ростов</td>\n",
       "      <td>М</td>\n",
       "      <td>38.00</td>\n",
       "      <td>0</td>\n",
       "      <td>NaN</td>\n",
       "      <td>1</td>\n",
       "      <td>0</td>\n",
       "      <td>0</td>\n",
       "      <td>171763.69</td>\n",
       "      <td>0</td>\n",
       "    </tr>\n",
       "    <tr>\n",
       "      <th>9984</th>\n",
       "      <td>125941</td>\n",
       "      <td>729.00</td>\n",
       "      <td>Ярославль</td>\n",
       "      <td>Ж</td>\n",
       "      <td>42.00</td>\n",
       "      <td>0</td>\n",
       "      <td>NaN</td>\n",
       "      <td>1</td>\n",
       "      <td>1</td>\n",
       "      <td>1</td>\n",
       "      <td>687538.70</td>\n",
       "      <td>0</td>\n",
       "    </tr>\n",
       "    <tr>\n",
       "      <th>9993</th>\n",
       "      <td>219924</td>\n",
       "      <td>884.00</td>\n",
       "      <td>Рыбинск</td>\n",
       "      <td>Ж</td>\n",
       "      <td>36.00</td>\n",
       "      <td>0</td>\n",
       "      <td>NaN</td>\n",
       "      <td>1</td>\n",
       "      <td>1</td>\n",
       "      <td>1</td>\n",
       "      <td>169844.88</td>\n",
       "      <td>0</td>\n",
       "    </tr>\n",
       "    <tr>\n",
       "      <th>9996</th>\n",
       "      <td>139170</td>\n",
       "      <td>894.00</td>\n",
       "      <td>Ярославль</td>\n",
       "      <td>М</td>\n",
       "      <td>46.00</td>\n",
       "      <td>0</td>\n",
       "      <td>NaN</td>\n",
       "      <td>1</td>\n",
       "      <td>1</td>\n",
       "      <td>0</td>\n",
       "      <td>196898.29</td>\n",
       "      <td>0</td>\n",
       "    </tr>\n",
       "    <tr>\n",
       "      <th>9997</th>\n",
       "      <td>115639</td>\n",
       "      <td>903.00</td>\n",
       "      <td>Ярославль</td>\n",
       "      <td>М</td>\n",
       "      <td>24.00</td>\n",
       "      <td>0</td>\n",
       "      <td>NaN</td>\n",
       "      <td>2</td>\n",
       "      <td>1</td>\n",
       "      <td>1</td>\n",
       "      <td>108905.09</td>\n",
       "      <td>0</td>\n",
       "    </tr>\n",
       "  </tbody>\n",
       "</table>\n",
       "<p>2295 rows × 12 columns</p>\n",
       "</div>"
      ],
      "text/plain": [
       "      userid  score       city gender   age  equity  balance  products  \\\n",
       "2     120722 892.00    Рыбинск      Ж 30.00       0      NaN         1   \n",
       "9     133130 906.00  Ярославль      Ж 67.00       0      NaN         1   \n",
       "10    148929 927.00     Ростов      М 52.00       0      NaN         1   \n",
       "11    172184 921.00     Ростов      М 41.00       0      NaN         1   \n",
       "19    127034 922.00    Рыбинск      Ж 53.00       0      NaN         1   \n",
       "...      ...    ...        ...    ...   ...     ...      ...       ...   \n",
       "9976  208085 876.00     Ростов      М 38.00       0      NaN         1   \n",
       "9984  125941 729.00  Ярославль      Ж 42.00       0      NaN         1   \n",
       "9993  219924 884.00    Рыбинск      Ж 36.00       0      NaN         1   \n",
       "9996  139170 894.00  Ярославль      М 46.00       0      NaN         1   \n",
       "9997  115639 903.00  Ярославль      М 24.00       0      NaN         2   \n",
       "\n",
       "      credit_card  last_activity  est_salary  churn  \n",
       "2               1              1   107683.34      0  \n",
       "9               0              1   238055.53      0  \n",
       "10              1              1   196820.07      0  \n",
       "11              1              1   217469.48      0  \n",
       "19              0              0   147094.82      0  \n",
       "...           ...            ...         ...    ...  \n",
       "9976            0              0   171763.69      0  \n",
       "9984            1              1   687538.70      0  \n",
       "9993            1              1   169844.88      0  \n",
       "9996            1              0   196898.29      0  \n",
       "9997            1              1   108905.09      0  \n",
       "\n",
       "[2295 rows x 12 columns]"
      ]
     },
     "execution_count": 8,
     "metadata": {},
     "output_type": "execute_result"
    }
   ],
   "source": [
    "df[df['balance'].isna()]"
   ]
  },
  {
   "cell_type": "markdown",
   "metadata": {},
   "source": [
    "**Промежуточный вывод**\n",
    "\n",
    "Из предыдущего шага мы выяснили, что пропусков в этом столбце 23%. Удаление такого большого объема данных может исказить результаты исследовательского анализа, как и заполнение средним или медианой. Оставим как есть. "
   ]
  },
  {
   "cell_type": "markdown",
   "metadata": {},
   "source": [
    "Посмотрим есть ли дубликаты среди пользователей"
   ]
  },
  {
   "cell_type": "code",
   "execution_count": 9,
   "metadata": {
    "scrolled": true
   },
   "outputs": [
    {
     "data": {
      "text/plain": [
       "73"
      ]
     },
     "execution_count": 9,
     "metadata": {},
     "output_type": "execute_result"
    }
   ],
   "source": [
    "df['userid'].duplicated().sum()"
   ]
  },
  {
   "cell_type": "markdown",
   "metadata": {},
   "source": [
    "Проверим есть ли пересечения дубликатов по городам и возрасту "
   ]
  },
  {
   "cell_type": "code",
   "execution_count": 10,
   "metadata": {},
   "outputs": [
    {
     "data": {
      "text/html": [
       "<div>\n",
       "<style scoped>\n",
       "    .dataframe tbody tr th:only-of-type {\n",
       "        vertical-align: middle;\n",
       "    }\n",
       "\n",
       "    .dataframe tbody tr th {\n",
       "        vertical-align: top;\n",
       "    }\n",
       "\n",
       "    .dataframe thead th {\n",
       "        text-align: right;\n",
       "    }\n",
       "</style>\n",
       "<table border=\"1\" class=\"dataframe\">\n",
       "  <thead>\n",
       "    <tr style=\"text-align: right;\">\n",
       "      <th></th>\n",
       "      <th>userid</th>\n",
       "      <th>score</th>\n",
       "      <th>city</th>\n",
       "      <th>gender</th>\n",
       "      <th>age</th>\n",
       "      <th>equity</th>\n",
       "      <th>balance</th>\n",
       "      <th>products</th>\n",
       "      <th>credit_card</th>\n",
       "      <th>last_activity</th>\n",
       "      <th>est_salary</th>\n",
       "      <th>churn</th>\n",
       "    </tr>\n",
       "  </thead>\n",
       "  <tbody>\n",
       "  </tbody>\n",
       "</table>\n",
       "</div>"
      ],
      "text/plain": [
       "Empty DataFrame\n",
       "Columns: [userid, score, city, gender, age, equity, balance, products, credit_card, last_activity, est_salary, churn]\n",
       "Index: []"
      ]
     },
     "execution_count": 10,
     "metadata": {},
     "output_type": "execute_result"
    }
   ],
   "source": [
    "df[df.duplicated(['userid', 'city', 'age'])]"
   ]
  },
  {
   "cell_type": "markdown",
   "metadata": {},
   "source": [
    "**Промежуточный вывод** \n",
    "\n",
    "Дубликатов не оказалось, значит дубликаты userid в общей таблице уникальны для своих городов, поэтому ибавляться от них не стоит так как можем лишиться важных данных для дальнейшего анализа"
   ]
  },
  {
   "cell_type": "markdown",
   "metadata": {},
   "source": [
    "## Исследовательский анализ данных"
   ]
  },
  {
   "cell_type": "markdown",
   "metadata": {},
   "source": [
    "### Изучение интервалов значений характеристик, которые связаны с повышенным оттоком"
   ]
  },
  {
   "cell_type": "markdown",
   "metadata": {},
   "source": [
    "Посмотрим на общий процент оттока клиентов "
   ]
  },
  {
   "cell_type": "code",
   "execution_count": 11,
   "metadata": {},
   "outputs": [
    {
     "data": {
      "text/html": [
       "<div>\n",
       "<style scoped>\n",
       "    .dataframe tbody tr th:only-of-type {\n",
       "        vertical-align: middle;\n",
       "    }\n",
       "\n",
       "    .dataframe tbody tr th {\n",
       "        vertical-align: top;\n",
       "    }\n",
       "\n",
       "    .dataframe thead th {\n",
       "        text-align: right;\n",
       "    }\n",
       "</style>\n",
       "<table border=\"1\" class=\"dataframe\">\n",
       "  <thead>\n",
       "    <tr style=\"text-align: right;\">\n",
       "      <th></th>\n",
       "      <th>churn</th>\n",
       "    </tr>\n",
       "    <tr>\n",
       "      <th>churn</th>\n",
       "      <th></th>\n",
       "    </tr>\n",
       "  </thead>\n",
       "  <tbody>\n",
       "    <tr>\n",
       "      <th>0</th>\n",
       "      <td>8180</td>\n",
       "    </tr>\n",
       "    <tr>\n",
       "      <th>1</th>\n",
       "      <td>1820</td>\n",
       "    </tr>\n",
       "  </tbody>\n",
       "</table>\n",
       "</div>"
      ],
      "text/plain": [
       "       churn\n",
       "churn       \n",
       "0       8180\n",
       "1       1820"
      ]
     },
     "metadata": {},
     "output_type": "display_data"
    },
    {
     "data": {
      "image/png": "[encoded data removed]",
      "text/plain": [
       "<Figure size 576x576 with 1 Axes>"
      ]
     },
     "metadata": {},
     "output_type": "display_data"
    }
   ],
   "source": [
    "churn_perctage = df.groupby('churn').agg({'churn': 'count'})\n",
    "display(churn_perctage)\n",
    "\n",
    "churn_perctage.plot(kind='pie', y='churn', autopct='%1.1f%%', figsize=(8,8))\n",
    "plt.title('Доли клиентов в разрезе оттока')\n",
    "plt.legend(['Оставшиеся клиенты', 'Ушедшие клиенты'])\n",
    "plt.show()"
   ]
  },
  {
   "cell_type": "markdown",
   "metadata": {},
   "source": [
    "Общий процент оттока клиентов составил 18.2%. "
   ]
  },
  {
   "cell_type": "markdown",
   "metadata": {},
   "source": [
    "Используем нормализованные гистограммы для исследования отточных клиентов по показателям."
   ]
  },
  {
   "cell_type": "code",
   "execution_count": 12,
   "metadata": {
    "scrolled": false
   },
   "outputs": [
    {
     "data": {
      "image/png": "[encoded data removed]",
      "text/plain": [
       "<Figure size 1440x576 with 1 Axes>"
      ]
     },
     "metadata": {
      "needs_background": "light"
     },
     "output_type": "display_data"
    }
   ],
   "source": [
    "plt.figure(figsize=(20,8))\n",
    "ax = sns.histplot(data=df, x='score', hue='churn', stat=\"density\", common_norm=False);\n",
    "plt.title('Распределение клиентов по баллам кредитного скоринга')\n",
    "ax.set(xlabel='Баллы кредитного скоринга', ylabel='Плотность')\n",
    "plt.show()"
   ]
  },
  {
   "cell_type": "markdown",
   "metadata": {},
   "source": [
    "Видим, что можно выделить две группы отточности по показателю кредитного скоринга. Первая, самая крупная, начинается с 830 баллов до 910 баллов, вторая 930-940 баллов. "
   ]
  },
  {
   "cell_type": "code",
   "execution_count": 13,
   "metadata": {},
   "outputs": [
    {
     "data": {
      "image/png": "[encoded data removed]",
      "text/plain": [
       "<Figure size 1440x576 with 1 Axes>"
      ]
     },
     "metadata": {
      "needs_background": "light"
     },
     "output_type": "display_data"
    }
   ],
   "source": [
    "plt.figure(figsize=(20,8))\n",
    "ax = sns.histplot(data=df, x='city', hue='churn', stat=\"density\", common_norm=False);\n",
    "plt.title('Распределение клиентов по городам')\n",
    "ax.set(xlabel='Города', ylabel='Плотность')\n",
    "plt.show()"
   ]
  },
  {
   "cell_type": "markdown",
   "metadata": {},
   "source": [
    "Из трех городов по которым у нас есть данные клиенты ушли из Ярославля и Ростова. При этом в Рыбинске никаких проблем нет. "
   ]
  },
  {
   "cell_type": "code",
   "execution_count": 14,
   "metadata": {
    "scrolled": false
   },
   "outputs": [
    {
     "data": {
      "image/png": "[encoded data removed]",
      "text/plain": [
       "<Figure size 1440x576 with 1 Axes>"
      ]
     },
     "metadata": {
      "needs_background": "light"
     },
     "output_type": "display_data"
    }
   ],
   "source": [
    "plt.figure(figsize=(20,8))\n",
    "ax = sns.histplot(data=df, x='gender', hue='churn', stat=\"density\", common_norm=False);\n",
    "plt.title('Распределение клиентов по полу')\n",
    "ax.set(xlabel='Пол', ylabel='Плотность')\n",
    "plt.show()"
   ]
  },
  {
   "cell_type": "markdown",
   "metadata": {},
   "source": [
    "Видим, что мужчины уходят чаще, чем женщины, но мужчин в датасете больше "
   ]
  },
  {
   "cell_type": "code",
   "execution_count": 15,
   "metadata": {},
   "outputs": [
    {
     "data": {
      "image/png": "[encoded data removed]",
      "text/plain": [
       "<Figure size 1440x576 with 1 Axes>"
      ]
     },
     "metadata": {
      "needs_background": "light"
     },
     "output_type": "display_data"
    }
   ],
   "source": [
    "plt.figure(figsize=(20,8))\n",
    "ax = sns.histplot(data=df, x='age', hue='churn', stat=\"density\", common_norm=False);\n",
    "plt.title('Распределение клиентов по возрасту')\n",
    "ax.set(xlabel='Возраст', ylabel='Плотность')\n",
    "plt.show()"
   ]
  },
  {
   "cell_type": "markdown",
   "metadata": {},
   "source": [
    "График показывает две больше группы отточности, первая - клиенты в возрасте примерно от 25 до 35, и вторая - от 50 до 60 "
   ]
  },
  {
   "cell_type": "code",
   "execution_count": 16,
   "metadata": {},
   "outputs": [
    {
     "data": {
      "image/png": "[encoded data removed]",
      "text/plain": [
       "<Figure size 1440x576 with 1 Axes>"
      ]
     },
     "metadata": {
      "needs_background": "light"
     },
     "output_type": "display_data"
    }
   ],
   "source": [
    "plt.figure(figsize=(20,8))\n",
    "ax = sns.histplot(data=df, x='equity', hue='churn', stat=\"density\", common_norm=False);\n",
    "plt.title('Распределение клиентов по количеству баллов собственности')\n",
    "ax.set(xlabel='Баллы собственности', ylabel='Плотность')\n",
    "plt.show()"
   ]
  },
  {
   "cell_type": "markdown",
   "metadata": {},
   "source": [
    "Чем больше у клиента баллов собственности, тем чаще они уходят. Саммый высокий отток среди тех, у кого от 3 до 9 баллов "
   ]
  },
  {
   "cell_type": "code",
   "execution_count": 17,
   "metadata": {},
   "outputs": [
    {
     "data": {
      "image/png": "[encoded data removed]",
      "text/plain": [
       "<Figure size 1440x576 with 1 Axes>"
      ]
     },
     "metadata": {
      "needs_background": "light"
     },
     "output_type": "display_data"
    }
   ],
   "source": [
    "plt.figure(figsize=(20,8))\n",
    "ax = sns.histplot(data=df, x='balance', hue='churn', stat=\"density\", common_norm=False,);\n",
    "plt.xlim(0, 5000000)\n",
    "plt.title('Распределение клиентов по балансу')\n",
    "ax.set(xlabel='Баланс', ylabel='Плотность')\n",
    "plt.show()"
   ]
  },
  {
   "cell_type": "markdown",
   "metadata": {},
   "source": [
    "График показывает, что отточность выше начиная с 1 млн на балансе "
   ]
  },
  {
   "cell_type": "code",
   "execution_count": 18,
   "metadata": {},
   "outputs": [
    {
     "data": {
      "image/png": "[encoded data removed]",
      "text/plain": [
       "<Figure size 1440x576 with 1 Axes>"
      ]
     },
     "metadata": {
      "needs_background": "light"
     },
     "output_type": "display_data"
    }
   ],
   "source": [
    "plt.figure(figsize=(20,8))\n",
    "ax = sns.histplot(data=df, x='products', hue='churn', stat=\"density\", common_norm=False,);\n",
    "plt.title('Распределение клиентов по количеству кредитных продуктов')\n",
    "ax.set(xlabel='Продукты', ylabel='Плотность')\n",
    "plt.show()"
   ]
  },
  {
   "cell_type": "markdown",
   "metadata": {},
   "source": [
    "Получается, чем больше у клиента продуктов, тем выше веротяность, что он уйдет. Клиенты начинают уходит имея больше одного продукта "
   ]
  },
  {
   "cell_type": "code",
   "execution_count": 19,
   "metadata": {
    "scrolled": false
   },
   "outputs": [
    {
     "data": {
      "image/png": "[encoded data removed]",
      "text/plain": [
       "<Figure size 1440x576 with 1 Axes>"
      ]
     },
     "metadata": {
      "needs_background": "light"
     },
     "output_type": "display_data"
    }
   ],
   "source": [
    "plt.figure(figsize=(20,8))\n",
    "ax = sns.histplot(data=df, x='credit_card', hue='churn', stat=\"density\", common_norm=False,);\n",
    "plt.title('Распределение клиентов по кредитным картам')\n",
    "ax.set(xlabel='Наличие кредитной карты', ylabel='Плотность')\n",
    "plt.show()"
   ]
  },
  {
   "cell_type": "markdown",
   "metadata": {},
   "source": [
    "Если у клиента есть кредитная карта, то вероятность, что он останется выше"
   ]
  },
  {
   "cell_type": "code",
   "execution_count": 20,
   "metadata": {},
   "outputs": [
    {
     "data": {
      "image/png": "[encoded data removed]",
      "text/plain": [
       "<Figure size 1440x576 with 1 Axes>"
      ]
     },
     "metadata": {
      "needs_background": "light"
     },
     "output_type": "display_data"
    }
   ],
   "source": [
    "plt.figure(figsize=(20,8))\n",
    "ax = sns.histplot(data=df, x='last_activity', hue='churn', stat=\"density\", common_norm=False,);\n",
    "plt.title('Распределение клиентов по активности')\n",
    "ax.set(xlabel='Активность', ylabel='Плотность')\n",
    "plt.show()"
   ]
  },
  {
   "cell_type": "markdown",
   "metadata": {},
   "source": [
    "Видим, что уходят активные клиенты"
   ]
  },
  {
   "cell_type": "code",
   "execution_count": 21,
   "metadata": {},
   "outputs": [
    {
     "data": {
      "image/png": "[encoded data removed]",
      "text/plain": [
       "<Figure size 1440x576 with 1 Axes>"
      ]
     },
     "metadata": {
      "needs_background": "light"
     },
     "output_type": "display_data"
    }
   ],
   "source": [
    "plt.figure(figsize=(20,8))\n",
    "ax = sns.histplot(data=df, x='est_salary', hue='churn', stat=\"density\", common_norm=False);\n",
    "plt.title('Распределение клиентов оценочному доходу')\n",
    "ax.set(xlabel='Оценочный доход', ylabel='Плотность')\n",
    "plt.xlim(0, 1000000) # максимальный доход более 1300000 поэтому ограничим график 1000000 чтобы видеть более четкую картину \n",
    "plt.show()"
   ]
  },
  {
   "cell_type": "markdown",
   "metadata": {},
   "source": [
    "График показывает, что п"
   ]
  },
  {
   "cell_type": "markdown",
   "metadata": {},
   "source": [
    "**Промежуточный вывод**\n",
    "\n",
    "Плотностные диаграммы повзолили выделить следующие интервалы значений характеристик, которые связаны с повышенным оттоком клиентов:\n",
    "\n",
    "- клиенты, у которых баллы кредитного скоринга находятся в диапазоне 830 баллов до 910 баллов и 930-940 баллов\n",
    "- отточные клиенты присутствуют в Ярославле и Ростове\n",
    "- отточные клиенты чаще мужчины\n",
    "- примерный возраст от 25 до 35 и - от 50 до 60\n",
    "- отточные клиенты имеют от 3 до 9 баллов собственности\n",
    "- на счёту у клиентов от 1 млн \n",
    "- отточные клиенты имеют от 2 до 5 продуктов банка\n",
    "- чаще уходят клиенты без кредитной карты\n",
    "- активные клиенты\n",
    "- начиная где-то со 100 тысяч отток становится выше "
   ]
  },
  {
   "cell_type": "markdown",
   "metadata": {},
   "source": [
    "### Матрица корреляции и коэффициент корреляции Phik"
   ]
  },
  {
   "cell_type": "markdown",
   "metadata": {},
   "source": [
    "Применим матрицу корреляции и коэффициент корреляции Phik для того, чтобы определить столбцы, которые связаны с повышенным оттоком. Для этого создадим копию датафрейма."
   ]
  },
  {
   "cell_type": "code",
   "execution_count": 22,
   "metadata": {},
   "outputs": [],
   "source": [
    "df_copy = df.copy()"
   ]
  },
  {
   "cell_type": "markdown",
   "metadata": {},
   "source": [
    "Применим коэффициент корреляции Phik и вручную зададим нужные столбцы для анализа. "
   ]
  },
  {
   "cell_type": "code",
   "execution_count": 23,
   "metadata": {},
   "outputs": [
    {
     "name": "stdout",
     "output_type": "stream",
     "text": [
      "interval columns not set, guessing: ['score', 'age', 'equity', 'balance', 'products', 'credit_card', 'last_activity', 'est_salary', 'churn']\n"
     ]
    },
    {
     "data": {
      "text/html": [
       "<div>\n",
       "<style scoped>\n",
       "    .dataframe tbody tr th:only-of-type {\n",
       "        vertical-align: middle;\n",
       "    }\n",
       "\n",
       "    .dataframe tbody tr th {\n",
       "        vertical-align: top;\n",
       "    }\n",
       "\n",
       "    .dataframe thead th {\n",
       "        text-align: right;\n",
       "    }\n",
       "</style>\n",
       "<table border=\"1\" class=\"dataframe\">\n",
       "  <thead>\n",
       "    <tr style=\"text-align: right;\">\n",
       "      <th></th>\n",
       "      <th>score</th>\n",
       "      <th>city</th>\n",
       "      <th>gender</th>\n",
       "      <th>age</th>\n",
       "      <th>equity</th>\n",
       "      <th>balance</th>\n",
       "      <th>products</th>\n",
       "      <th>credit_card</th>\n",
       "      <th>last_activity</th>\n",
       "      <th>est_salary</th>\n",
       "      <th>churn</th>\n",
       "    </tr>\n",
       "  </thead>\n",
       "  <tbody>\n",
       "    <tr>\n",
       "      <th>score</th>\n",
       "      <td>1.00</td>\n",
       "      <td>0.09</td>\n",
       "      <td>0.07</td>\n",
       "      <td>0.03</td>\n",
       "      <td>0.53</td>\n",
       "      <td>0.17</td>\n",
       "      <td>0.31</td>\n",
       "      <td>0.21</td>\n",
       "      <td>0.05</td>\n",
       "      <td>0.40</td>\n",
       "      <td>0.23</td>\n",
       "    </tr>\n",
       "    <tr>\n",
       "      <th>city</th>\n",
       "      <td>0.09</td>\n",
       "      <td>1.00</td>\n",
       "      <td>0.01</td>\n",
       "      <td>0.09</td>\n",
       "      <td>0.06</td>\n",
       "      <td>0.04</td>\n",
       "      <td>0.22</td>\n",
       "      <td>0.07</td>\n",
       "      <td>0.03</td>\n",
       "      <td>0.17</td>\n",
       "      <td>0.02</td>\n",
       "    </tr>\n",
       "    <tr>\n",
       "      <th>gender</th>\n",
       "      <td>0.07</td>\n",
       "      <td>0.01</td>\n",
       "      <td>1.00</td>\n",
       "      <td>0.29</td>\n",
       "      <td>0.06</td>\n",
       "      <td>0.05</td>\n",
       "      <td>0.12</td>\n",
       "      <td>0.20</td>\n",
       "      <td>0.01</td>\n",
       "      <td>0.14</td>\n",
       "      <td>0.22</td>\n",
       "    </tr>\n",
       "    <tr>\n",
       "      <th>age</th>\n",
       "      <td>0.03</td>\n",
       "      <td>0.09</td>\n",
       "      <td>0.29</td>\n",
       "      <td>1.00</td>\n",
       "      <td>0.05</td>\n",
       "      <td>0.02</td>\n",
       "      <td>0.13</td>\n",
       "      <td>0.16</td>\n",
       "      <td>0.09</td>\n",
       "      <td>0.36</td>\n",
       "      <td>0.19</td>\n",
       "    </tr>\n",
       "    <tr>\n",
       "      <th>equity</th>\n",
       "      <td>0.53</td>\n",
       "      <td>0.06</td>\n",
       "      <td>0.06</td>\n",
       "      <td>0.05</td>\n",
       "      <td>1.00</td>\n",
       "      <td>0.00</td>\n",
       "      <td>0.44</td>\n",
       "      <td>0.22</td>\n",
       "      <td>0.05</td>\n",
       "      <td>0.29</td>\n",
       "      <td>0.35</td>\n",
       "    </tr>\n",
       "    <tr>\n",
       "      <th>balance</th>\n",
       "      <td>0.17</td>\n",
       "      <td>0.04</td>\n",
       "      <td>0.05</td>\n",
       "      <td>0.02</td>\n",
       "      <td>0.00</td>\n",
       "      <td>1.00</td>\n",
       "      <td>0.00</td>\n",
       "      <td>0.00</td>\n",
       "      <td>0.00</td>\n",
       "      <td>0.37</td>\n",
       "      <td>0.02</td>\n",
       "    </tr>\n",
       "    <tr>\n",
       "      <th>products</th>\n",
       "      <td>0.31</td>\n",
       "      <td>0.22</td>\n",
       "      <td>0.12</td>\n",
       "      <td>0.13</td>\n",
       "      <td>0.44</td>\n",
       "      <td>0.00</td>\n",
       "      <td>1.00</td>\n",
       "      <td>0.46</td>\n",
       "      <td>0.19</td>\n",
       "      <td>0.16</td>\n",
       "      <td>0.44</td>\n",
       "    </tr>\n",
       "    <tr>\n",
       "      <th>credit_card</th>\n",
       "      <td>0.21</td>\n",
       "      <td>0.07</td>\n",
       "      <td>0.20</td>\n",
       "      <td>0.16</td>\n",
       "      <td>0.22</td>\n",
       "      <td>0.00</td>\n",
       "      <td>0.46</td>\n",
       "      <td>1.00</td>\n",
       "      <td>0.05</td>\n",
       "      <td>0.04</td>\n",
       "      <td>0.20</td>\n",
       "    </tr>\n",
       "    <tr>\n",
       "      <th>last_activity</th>\n",
       "      <td>0.05</td>\n",
       "      <td>0.03</td>\n",
       "      <td>0.01</td>\n",
       "      <td>0.09</td>\n",
       "      <td>0.05</td>\n",
       "      <td>0.00</td>\n",
       "      <td>0.19</td>\n",
       "      <td>0.05</td>\n",
       "      <td>1.00</td>\n",
       "      <td>0.05</td>\n",
       "      <td>0.26</td>\n",
       "    </tr>\n",
       "    <tr>\n",
       "      <th>est_salary</th>\n",
       "      <td>0.40</td>\n",
       "      <td>0.17</td>\n",
       "      <td>0.14</td>\n",
       "      <td>0.36</td>\n",
       "      <td>0.29</td>\n",
       "      <td>0.37</td>\n",
       "      <td>0.16</td>\n",
       "      <td>0.04</td>\n",
       "      <td>0.05</td>\n",
       "      <td>1.00</td>\n",
       "      <td>0.05</td>\n",
       "    </tr>\n",
       "    <tr>\n",
       "      <th>churn</th>\n",
       "      <td>0.23</td>\n",
       "      <td>0.02</td>\n",
       "      <td>0.22</td>\n",
       "      <td>0.19</td>\n",
       "      <td>0.35</td>\n",
       "      <td>0.02</td>\n",
       "      <td>0.44</td>\n",
       "      <td>0.20</td>\n",
       "      <td>0.26</td>\n",
       "      <td>0.05</td>\n",
       "      <td>1.00</td>\n",
       "    </tr>\n",
       "  </tbody>\n",
       "</table>\n",
       "</div>"
      ],
      "text/plain": [
       "               score  city  gender  age  equity  balance  products  \\\n",
       "score           1.00  0.09    0.07 0.03    0.53     0.17      0.31   \n",
       "city            0.09  1.00    0.01 0.09    0.06     0.04      0.22   \n",
       "gender          0.07  0.01    1.00 0.29    0.06     0.05      0.12   \n",
       "age             0.03  0.09    0.29 1.00    0.05     0.02      0.13   \n",
       "equity          0.53  0.06    0.06 0.05    1.00     0.00      0.44   \n",
       "balance         0.17  0.04    0.05 0.02    0.00     1.00      0.00   \n",
       "products        0.31  0.22    0.12 0.13    0.44     0.00      1.00   \n",
       "credit_card     0.21  0.07    0.20 0.16    0.22     0.00      0.46   \n",
       "last_activity   0.05  0.03    0.01 0.09    0.05     0.00      0.19   \n",
       "est_salary      0.40  0.17    0.14 0.36    0.29     0.37      0.16   \n",
       "churn           0.23  0.02    0.22 0.19    0.35     0.02      0.44   \n",
       "\n",
       "               credit_card  last_activity  est_salary  churn  \n",
       "score                 0.21           0.05        0.40   0.23  \n",
       "city                  0.07           0.03        0.17   0.02  \n",
       "gender                0.20           0.01        0.14   0.22  \n",
       "age                   0.16           0.09        0.36   0.19  \n",
       "equity                0.22           0.05        0.29   0.35  \n",
       "balance               0.00           0.00        0.37   0.02  \n",
       "products              0.46           0.19        0.16   0.44  \n",
       "credit_card           1.00           0.05        0.04   0.20  \n",
       "last_activity         0.05           1.00        0.05   0.26  \n",
       "est_salary            0.04           0.05        1.00   0.05  \n",
       "churn                 0.20           0.26        0.05   1.00  "
      ]
     },
     "execution_count": 23,
     "metadata": {},
     "output_type": "execute_result"
    }
   ],
   "source": [
    "interval_cols = ['score', 'city', 'gender', 'age', 'equity', 'balance', 'products', 'credit_card', 'last_activity', 'est_salary', 'churn'] \n",
    "df_corr=df_copy[interval_cols]\n",
    "phik_overview = df_corr.phik_matrix()\n",
    "phik_overview.round(2)"
   ]
  },
  {
   "cell_type": "markdown",
   "metadata": {},
   "source": [
    "Отдельно построим тепловую карту корреляций признаков непосредственно с оттоком"
   ]
  },
  {
   "cell_type": "code",
   "execution_count": 24,
   "metadata": {},
   "outputs": [
    {
     "data": {
      "image/png": "[encoded data removed]",
      "text/plain": [
       "<Figure size 576x576 with 2 Axes>"
      ]
     },
     "metadata": {
      "needs_background": "light"
     },
     "output_type": "display_data"
    }
   ],
   "source": [
    "plt.figure(figsize=(8,8))\n",
    "sns.heatmap(\n",
    "    phik_overview.loc[:,['churn']].drop('churn').sort_values('churn'),\n",
    "    annot=True, fmt=\".0%\", cmap=\"coolwarm\", center=0);"
   ]
  },
  {
   "cell_type": "markdown",
   "metadata": {},
   "source": [
    "**Промежуточный вывод**\n",
    "\n",
    "Видим, что существует слабая взаимосвязь столбца 'churn' со столбцами 'products' и 'equity'. Еще меньше столбец 'churn' взаимосвязан со столбцами 'last_activity', 'score', 'gender', 'credit_card', 'age'."
   ]
  },
  {
   "cell_type": "markdown",
   "metadata": {},
   "source": [
    "### Сравнение портретов типичных клиентов, которые склонны и не склонны уходить из банка "
   ]
  },
  {
   "cell_type": "markdown",
   "metadata": {},
   "source": [
    "Портреты клиентов, которые склонны уходить из банка:\n",
    "\n",
    "- баллы кредитного скоринга находятся в диапазоне от 830 до 910 и от 930 до 940 баллов\n",
    "- живут в Ярославле и Ростове\n",
    "- мужчины\n",
    "- возраст от 25 до 35 лет и от 50 до 60 лет\n",
    "- имеют от 3 до 9 баллов собственности\n",
    "- имеют на счёте более 1 млн \n",
    "- имеют от 2 до 5 продуктов банка\n",
    "- не имеют кредитную карту\n",
    "- с доходом от 100 тысяч \n",
    "\n",
    "\n",
    "Портреты клиентов, которые не склонны уходить из банка:\n",
    "\n",
    "- баллы кредитного скоринга находятся в диапазоне до 830 баллов и более 940 баллов\n",
    "- живут в Рыбинске\n",
    "- женщины\n",
    "- возраст до 25 лет, от 35 до 50 лет и после 60 лет\n",
    "- имеют 2 и меньше баллов собственности \n",
    "- на счёте у клиентов до 1 млн \n",
    "- имеют 1 продукт банка\n",
    "- имеют кредитную карту\n",
    "- имеют доход 100 тысяч и меньше"
   ]
  },
  {
   "cell_type": "markdown",
   "metadata": {},
   "source": [
    "## Проверка статистических гипотез"
   ]
  },
  {
   "cell_type": "markdown",
   "metadata": {},
   "source": [
    "### Проверка гипотезы о различии дохода между теми клиентами, которые ушли и теми, которые остались"
   ]
  },
  {
   "cell_type": "markdown",
   "metadata": {},
   "source": [
    "Сформулируем нулевую и альтернативную гипотезы так:\n",
    "- Нулевая гипотеза (H0): статистически значимых различий в доходах клиентов, которые покинули банк и которые остались в банке, нет.\n",
    "- Альтернативная гипотеза (H1): статистически значимые различия в доходах клиентов, которые покинули банк и которые остались в банке, есть.\n",
    "\n",
    "Такие данные, как доход, не распределены нормально, поэтому для проверки гипотезы лучше использовать U-критерий Манна — Уитни. Зададим уровень стат. значимости в 5%. "
   ]
  },
  {
   "cell_type": "code",
   "execution_count": 25,
   "metadata": {},
   "outputs": [],
   "source": [
    "# разделим датасет на ушедших и оставшихся клиентов\n",
    "\n",
    "df_churn_0 = df.query('churn == 0')\n",
    "df_churn_1 = df.query('churn == 1')"
   ]
  },
  {
   "cell_type": "code",
   "execution_count": 26,
   "metadata": {},
   "outputs": [
    {
     "name": "stdout",
     "output_type": "stream",
     "text": [
      "p-значение: 0.000243559272811695\n",
      "Отвергаем нулевую гипотезу\n"
     ]
    }
   ],
   "source": [
    "alpha = 0.05 \n",
    "\n",
    "results = st.mannwhitneyu(\n",
    "    df_churn_0['est_salary'], \n",
    "    df_churn_1['est_salary'])\n",
    "\n",
    "print('p-значение:', results.pvalue)\n",
    "\n",
    "if (results.pvalue < alpha):\n",
    "    print(\"Отвергаем нулевую гипотезу\")\n",
    "else:\n",
    "    print(\"Не получилось отвергнуть нулевую гипотезу\")"
   ]
  },
  {
   "cell_type": "markdown",
   "metadata": {},
   "source": [
    "Нулевая гипотеза отвергнута. Значит принимаем альтернативную (Н1) - статистически значимые различия в доходах клиентов, которые покинули банк и которые остались в банке, есть."
   ]
  },
  {
   "cell_type": "markdown",
   "metadata": {},
   "source": [
    "### Проверка гипотезы о количестве используемых продуктов между теми клиентами, которые ушли и теми, которые остались"
   ]
  },
  {
   "cell_type": "markdown",
   "metadata": {},
   "source": [
    "**Обоснование**\n",
    "\n",
    "Коэффициент корреляции Phik и тепловая карта показали, что количество продуктов имеет наиболее значимую связь с оттоком по сравнению со всеми остальными параметрами. Так что стоит проверить статистические различия в этой гипотезе. "
   ]
  },
  {
   "cell_type": "markdown",
   "metadata": {},
   "source": [
    "Сформируем нулевую и альтернативную гипотезы так: \n",
    "- Нулевая гипотеза (H0): Статистически значимой разницы в количестве используемых продуктов между теми клиентами, которые ушли и теми, которые остались, нет \n",
    "- Альтернативная гипотеза (H1): Статистически значимая разница в количестве используемых продуктов между теми клиентами, которые ушли и теми, которые остались, есть \n",
    "\n",
    "Посчитаем p-value, при помощи t-критери Стьюдента используя st.ttest_ind из библиотеки scipy для сравнения средних двух выборок. Параметр equal_var установим на False, поскольку мы не уверены в распределении дисперсий.\n",
    "\n",
    "Уровень стат. значимости зададим в 5%"
   ]
  },
  {
   "cell_type": "code",
   "execution_count": 27,
   "metadata": {},
   "outputs": [
    {
     "name": "stdout",
     "output_type": "stream",
     "text": [
      "Значение p-value: 1.9356112628058777e-138\n",
      "Отвергаем нулевую гипотезу\n"
     ]
    }
   ],
   "source": [
    "alpha = 0.05\n",
    "results = st.ttest_ind(\n",
    "    df_churn_0['products'], \n",
    "    df_churn_1['products'], equal_var = False)\n",
    "\n",
    "print('Значение p-value:', results.pvalue)\n",
    "\n",
    "if (results.pvalue < alpha):\n",
    "    print ('Отвергаем нулевую гипотезу')\n",
    "else:\n",
    "    print ('Не получилось отвергнуть нулевую гипотезу')"
   ]
  },
  {
   "cell_type": "markdown",
   "metadata": {},
   "source": [
    "Нулевая гипотеза отвергнута, значит принимаем альтернативную (H1) - статистически значимая разница в количестве используемых продуктов между теми клиентами, которые ушли и теми, которые остались, есть\n"
   ]
  },
  {
   "cell_type": "markdown",
   "metadata": {},
   "source": [
    "## Сегментация клиентов"
   ]
  },
  {
   "cell_type": "markdown",
   "metadata": {},
   "source": [
    "Сформируем сегменты клиентов с наибольшей вероятностью оттока"
   ]
  },
  {
   "cell_type": "code",
   "execution_count": 28,
   "metadata": {},
   "outputs": [
    {
     "name": "stdout",
     "output_type": "stream",
     "text": [
      "Сегмент клиентов мужчин в возрасте от 25 до 35 лет\n",
      "Процент оттока: 25.51%\n",
      "Размер группы: 1780\n",
      "---------------------------------------\n",
      "Сегмент клиентов без кредитной карты из Ярославля\n",
      "Процент оттока: 28.99%\n",
      "Размер группы: 1618\n",
      "---------------------------------------\n",
      "Сегмент клиентов без кредитной карты из Ростова\n",
      "Процент оттока: 21.86%\n",
      "Размер группы: 613\n",
      "---------------------------------------\n",
      "Сегмент клиентов c балансом более 1 млн\n",
      "Процент оттока: 38.49%\n",
      "Размер группы: 1876\n",
      "---------------------------------------\n",
      "Сегмент клиентов с более, чем двумя продуктами\n",
      "Процент оттока: 39.49%\n",
      "Размер группы: 1532\n"
     ]
    }
   ],
   "source": [
    "print('Сегмент клиентов мужчин в возрасте от 25 до 35 лет')\n",
    "print('Процент оттока: {:.2%}'.format(df.query('gender == \"М\" and age >= 25 and age <= 35')['churn'].mean()))\n",
    "print('Размер группы:', df.query('gender == \"М\" and age >= 25 and age <= 35')['churn'].count())\n",
    "print('---------------------------------------')\n",
    "\n",
    "print('Сегмент клиентов без кредитной карты из Ярославля')\n",
    "print('Процент оттока: {:.2%}'.format(df.query('credit_card == 0 and city == \"Ярославль\"')['churn'].mean()))\n",
    "print('Размер группы:', df.query('credit_card == 0 and city == \"Ярославль\"')['churn'].count())\n",
    "print('---------------------------------------')\n",
    "\n",
    "print('Сегмент клиентов без кредитной карты из Ростова')\n",
    "print('Процент оттока: {:.2%}'.format(df.query('credit_card == 0 and city == \"Ростов\"')['churn'].mean()))\n",
    "print('Размер группы:', df.query('credit_card == 0 and city == \"Ростов\"')['churn'].count())\n",
    "print('---------------------------------------')\n",
    "\n",
    "print('Сегмент клиентов c балансом более 1 млн')\n",
    "print('Процент оттока: {:.2%}'.format(df.query('balance >= 1000000')['churn'].mean()))\n",
    "print('Размер группы:', df.query('balance >= 1000000')['churn'].count())\n",
    "print('---------------------------------------')\n",
    "\n",
    "print('Сегмент клиентов с более, чем двумя продуктами')\n",
    "print('Процент оттока: {:.2%}'.format(df.query('products > 2')['churn'].mean()))\n",
    "print('Размер группы:', df.query('products > 2')['churn'].count())"
   ]
  },
  {
   "cell_type": "markdown",
   "metadata": {},
   "source": [
    "Самые проблемный сегмент - клиенты с более чем 2 продуктами банка. Есть проблемы и с сегментом клиентов с балансом более 1 млн и с сегментом без кредитной карты в Ярославле и Ростове.\n"
   ]
  }
 ],
 "metadata": {
  "ExecuteTimeLog": [
   {
    "duration": 1490,
    "start_time": "2024-06-07T08:13:46.288Z"
   },
   {
    "duration": 3,
    "start_time": "2024-06-07T08:14:26.618Z"
   },
   {
    "duration": 131,
    "start_time": "2024-06-07T08:18:51.934Z"
   },
   {
    "duration": 3,
    "start_time": "2024-06-07T08:20:56.695Z"
   },
   {
    "duration": 5,
    "start_time": "2024-06-07T08:21:17.779Z"
   },
   {
    "duration": 118,
    "start_time": "2024-06-07T08:22:30.902Z"
   },
   {
    "duration": 1292,
    "start_time": "2024-06-07T08:30:58.554Z"
   },
   {
    "duration": 3,
    "start_time": "2024-06-07T08:30:59.849Z"
   },
   {
    "duration": 107,
    "start_time": "2024-06-07T08:30:59.853Z"
   },
   {
    "duration": 3,
    "start_time": "2024-06-07T08:30:59.961Z"
   },
   {
    "duration": 20,
    "start_time": "2024-06-07T08:30:59.967Z"
   },
   {
    "duration": 127,
    "start_time": "2024-06-07T08:30:59.989Z"
   },
   {
    "duration": 40,
    "start_time": "2024-06-07T08:38:03.164Z"
   },
   {
    "duration": 1248,
    "start_time": "2024-06-07T08:49:28.993Z"
   },
   {
    "duration": 2,
    "start_time": "2024-06-07T08:49:30.243Z"
   },
   {
    "duration": 201,
    "start_time": "2024-06-07T08:49:30.247Z"
   },
   {
    "duration": 4,
    "start_time": "2024-06-07T08:49:30.450Z"
   },
   {
    "duration": 106,
    "start_time": "2024-06-07T08:49:30.456Z"
   },
   {
    "duration": 200,
    "start_time": "2024-06-07T08:49:30.564Z"
   },
   {
    "duration": 79,
    "start_time": "2024-06-07T08:49:30.766Z"
   },
   {
    "duration": 1263,
    "start_time": "2024-06-07T08:50:47.504Z"
   },
   {
    "duration": 4,
    "start_time": "2024-06-07T08:50:48.770Z"
   },
   {
    "duration": 164,
    "start_time": "2024-06-07T08:50:48.778Z"
   },
   {
    "duration": 11,
    "start_time": "2024-06-07T08:50:48.944Z"
   },
   {
    "duration": 95,
    "start_time": "2024-06-07T08:50:48.958Z"
   },
   {
    "duration": 114,
    "start_time": "2024-06-07T08:50:49.055Z"
   },
   {
    "duration": 53,
    "start_time": "2024-06-07T08:50:49.192Z"
   },
   {
    "duration": 1255,
    "start_time": "2024-06-07T08:57:55.600Z"
   },
   {
    "duration": 4,
    "start_time": "2024-06-07T08:57:56.857Z"
   },
   {
    "duration": 140,
    "start_time": "2024-06-07T08:57:56.863Z"
   },
   {
    "duration": 3,
    "start_time": "2024-06-07T08:57:57.005Z"
   },
   {
    "duration": 63,
    "start_time": "2024-06-07T08:57:57.011Z"
   },
   {
    "duration": 152,
    "start_time": "2024-06-07T08:57:57.075Z"
   },
   {
    "duration": 38,
    "start_time": "2024-06-07T08:57:57.228Z"
   },
   {
    "duration": 4,
    "start_time": "2024-06-07T08:59:57.049Z"
   },
   {
    "duration": 130,
    "start_time": "2024-06-07T09:00:02.064Z"
   },
   {
    "duration": 1184,
    "start_time": "2024-06-08T11:10:02.048Z"
   },
   {
    "duration": 3,
    "start_time": "2024-06-08T11:10:03.234Z"
   },
   {
    "duration": 270,
    "start_time": "2024-06-08T11:10:03.238Z"
   },
   {
    "duration": 150,
    "start_time": "2024-06-08T11:10:03.510Z"
   },
   {
    "duration": 308,
    "start_time": "2024-06-08T11:10:03.662Z"
   },
   {
    "duration": 122,
    "start_time": "2024-06-08T11:10:03.971Z"
   },
   {
    "duration": 16,
    "start_time": "2024-06-08T11:11:49.784Z"
   },
   {
    "duration": 19,
    "start_time": "2024-06-08T11:12:48.619Z"
   },
   {
    "duration": 46,
    "start_time": "2024-06-08T11:13:48.234Z"
   },
   {
    "duration": 109,
    "start_time": "2024-06-08T11:28:06.837Z"
   },
   {
    "duration": 10,
    "start_time": "2024-06-08T11:28:55.993Z"
   },
   {
    "duration": 42,
    "start_time": "2024-06-08T11:29:06.203Z"
   },
   {
    "duration": 3771,
    "start_time": "2024-06-08T11:31:05.296Z"
   },
   {
    "duration": 2535,
    "start_time": "2024-06-08T11:35:11.067Z"
   },
   {
    "duration": 3755,
    "start_time": "2024-06-08T11:35:21.506Z"
   },
   {
    "duration": 3,
    "start_time": "2024-06-08T11:35:25.264Z"
   },
   {
    "duration": 190,
    "start_time": "2024-06-08T11:35:25.268Z"
   },
   {
    "duration": 4,
    "start_time": "2024-06-08T11:35:25.460Z"
   },
   {
    "duration": 9,
    "start_time": "2024-06-08T11:35:25.466Z"
   },
   {
    "duration": 80,
    "start_time": "2024-06-08T11:35:25.476Z"
   },
   {
    "duration": 35,
    "start_time": "2024-06-08T11:35:25.558Z"
   },
   {
    "duration": 27,
    "start_time": "2024-06-08T11:35:25.594Z"
   },
   {
    "duration": 6,
    "start_time": "2024-06-08T11:38:18.465Z"
   },
   {
    "duration": 4,
    "start_time": "2024-06-08T11:39:17.513Z"
   },
   {
    "duration": 6,
    "start_time": "2024-06-08T11:39:25.716Z"
   },
   {
    "duration": 1214,
    "start_time": "2024-06-08T11:51:04.881Z"
   },
   {
    "duration": 541,
    "start_time": "2024-06-08T11:51:41.051Z"
   },
   {
    "duration": 13,
    "start_time": "2024-06-08T11:52:36.315Z"
   },
   {
    "duration": 14,
    "start_time": "2024-06-08T11:53:23.827Z"
   },
   {
    "duration": 20,
    "start_time": "2024-06-08T11:53:48.888Z"
   },
   {
    "duration": 10,
    "start_time": "2024-06-08T11:55:04.121Z"
   },
   {
    "duration": 5,
    "start_time": "2024-06-08T11:55:34.512Z"
   },
   {
    "duration": 847,
    "start_time": "2024-06-08T11:56:11.395Z"
   },
   {
    "duration": 423,
    "start_time": "2024-06-08T11:56:42.255Z"
   },
   {
    "duration": 9,
    "start_time": "2024-06-08T11:57:00.477Z"
   },
   {
    "duration": 480,
    "start_time": "2024-06-08T11:57:12.618Z"
   },
   {
    "duration": 4,
    "start_time": "2024-06-08T11:57:53.930Z"
   },
   {
    "duration": 19,
    "start_time": "2024-06-08T11:58:15.078Z"
   },
   {
    "duration": 10,
    "start_time": "2024-06-08T12:12:53.527Z"
   },
   {
    "duration": 10,
    "start_time": "2024-06-08T12:14:53.900Z"
   },
   {
    "duration": 10,
    "start_time": "2024-06-08T12:15:15.782Z"
   },
   {
    "duration": 10,
    "start_time": "2024-06-08T12:16:11.426Z"
   },
   {
    "duration": 19,
    "start_time": "2024-06-08T14:04:41.185Z"
   },
   {
    "duration": 8,
    "start_time": "2024-06-08T14:09:23.202Z"
   },
   {
    "duration": 5,
    "start_time": "2024-06-08T14:09:25.275Z"
   },
   {
    "duration": 5,
    "start_time": "2024-06-08T14:09:29.285Z"
   },
   {
    "duration": 11,
    "start_time": "2024-06-08T14:09:39.811Z"
   },
   {
    "duration": 1992,
    "start_time": "2024-06-08T14:10:33.855Z"
   },
   {
    "duration": 18,
    "start_time": "2024-06-08T14:21:55.358Z"
   },
   {
    "duration": 518,
    "start_time": "2024-06-08T14:22:49.363Z"
   },
   {
    "duration": 13,
    "start_time": "2024-06-08T14:24:06.440Z"
   },
   {
    "duration": 266,
    "start_time": "2024-06-08T14:24:12.657Z"
   },
   {
    "duration": 193,
    "start_time": "2024-06-09T13:45:02.272Z"
   },
   {
    "duration": 210,
    "start_time": "2024-06-09T13:45:14.776Z"
   },
   {
    "duration": 196,
    "start_time": "2024-06-09T13:45:25.088Z"
   },
   {
    "duration": 187,
    "start_time": "2024-06-09T13:45:36.708Z"
   },
   {
    "duration": 180,
    "start_time": "2024-06-09T13:45:43.140Z"
   },
   {
    "duration": 228,
    "start_time": "2024-06-09T13:45:49.690Z"
   },
   {
    "duration": 182,
    "start_time": "2024-06-09T13:46:45.524Z"
   },
   {
    "duration": 382,
    "start_time": "2024-06-09T13:49:05.188Z"
   },
   {
    "duration": 323,
    "start_time": "2024-06-09T22:16:52.605Z"
   },
   {
    "duration": 53,
    "start_time": "2024-06-09T22:17:18.029Z"
   },
   {
    "duration": 53,
    "start_time": "2024-06-09T22:17:44.808Z"
   },
   {
    "duration": 211,
    "start_time": "2024-06-09T22:18:49.168Z"
   },
   {
    "duration": 378,
    "start_time": "2024-06-09T22:25:01.785Z"
   },
   {
    "duration": 282,
    "start_time": "2024-06-09T22:31:38.632Z"
   },
   {
    "duration": 275,
    "start_time": "2024-06-09T22:36:13.199Z"
   },
   {
    "duration": 360,
    "start_time": "2024-06-09T22:37:03.622Z"
   },
   {
    "duration": 214,
    "start_time": "2024-06-09T22:37:31.362Z"
   },
   {
    "duration": 305,
    "start_time": "2024-06-09T22:38:06.673Z"
   },
   {
    "duration": 346,
    "start_time": "2024-06-09T22:38:34.403Z"
   },
   {
    "duration": 3645,
    "start_time": "2024-06-09T22:38:39.713Z"
   },
   {
    "duration": 3,
    "start_time": "2024-06-09T22:38:43.360Z"
   },
   {
    "duration": 172,
    "start_time": "2024-06-09T22:38:43.364Z"
   },
   {
    "duration": 3,
    "start_time": "2024-06-09T22:38:43.538Z"
   },
   {
    "duration": 27,
    "start_time": "2024-06-09T22:38:43.543Z"
   },
   {
    "duration": 102,
    "start_time": "2024-06-09T22:38:43.571Z"
   },
   {
    "duration": 14,
    "start_time": "2024-06-09T22:38:43.692Z"
   },
   {
    "duration": 31,
    "start_time": "2024-06-09T22:38:43.707Z"
   },
   {
    "duration": 6,
    "start_time": "2024-06-09T22:38:43.739Z"
   },
   {
    "duration": 16,
    "start_time": "2024-06-09T22:38:43.747Z"
   },
   {
    "duration": 217,
    "start_time": "2024-06-09T22:38:43.765Z"
   },
   {
    "duration": 376,
    "start_time": "2024-06-09T22:38:43.983Z"
   },
   {
    "duration": 226,
    "start_time": "2024-06-09T22:38:44.361Z"
   },
   {
    "duration": 205,
    "start_time": "2024-06-09T22:38:44.591Z"
   },
   {
    "duration": 351,
    "start_time": "2024-06-09T22:38:44.798Z"
   },
   {
    "duration": 379,
    "start_time": "2024-06-09T22:38:45.151Z"
   },
   {
    "duration": 6212,
    "start_time": "2024-06-09T22:39:38.157Z"
   },
   {
    "duration": 527,
    "start_time": "2024-06-09T22:42:06.309Z"
   },
   {
    "duration": 3911,
    "start_time": "2024-06-09T22:42:12.307Z"
   },
   {
    "duration": 1110,
    "start_time": "2024-06-09T22:42:23.837Z"
   },
   {
    "duration": 1600,
    "start_time": "2024-06-09T22:42:39.036Z"
   },
   {
    "duration": 376,
    "start_time": "2024-06-09T22:42:49.333Z"
   },
   {
    "duration": 275,
    "start_time": "2024-06-09T22:42:56.538Z"
   },
   {
    "duration": 1923,
    "start_time": "2024-06-09T22:43:06.583Z"
   },
   {
    "duration": 37560,
    "start_time": "2024-06-09T22:44:22.278Z"
   },
   {
    "duration": 574,
    "start_time": "2024-06-09T22:45:36.349Z"
   },
   {
    "duration": 693,
    "start_time": "2024-06-09T22:45:45.296Z"
   },
   {
    "duration": 857,
    "start_time": "2024-06-09T22:45:53.077Z"
   },
   {
    "duration": 1195,
    "start_time": "2024-06-09T22:45:59.084Z"
   },
   {
    "duration": 1553,
    "start_time": "2024-06-09T22:46:07.021Z"
   },
   {
    "duration": 445,
    "start_time": "2024-06-09T22:46:20.774Z"
   },
   {
    "duration": 330,
    "start_time": "2024-06-09T22:49:09.600Z"
   },
   {
    "duration": 549,
    "start_time": "2024-06-09T22:49:16.640Z"
   },
   {
    "duration": 2529,
    "start_time": "2024-06-09T22:52:27.938Z"
   },
   {
    "duration": 304,
    "start_time": "2024-06-09T22:55:39.405Z"
   },
   {
    "duration": 296,
    "start_time": "2024-06-09T22:59:06.958Z"
   },
   {
    "duration": 295,
    "start_time": "2024-06-09T22:59:46.202Z"
   },
   {
    "duration": 568,
    "start_time": "2024-06-09T22:59:52.656Z"
   },
   {
    "duration": 939,
    "start_time": "2024-06-09T23:00:13.351Z"
   },
   {
    "duration": 346,
    "start_time": "2024-06-09T23:00:39.958Z"
   },
   {
    "duration": 6096,
    "start_time": "2024-06-09T23:01:04.462Z"
   },
   {
    "duration": 6540,
    "start_time": "2024-06-09T23:03:43.574Z"
   },
   {
    "duration": 7005,
    "start_time": "2024-06-09T23:03:53.599Z"
   },
   {
    "duration": 6725,
    "start_time": "2024-06-09T23:04:01.060Z"
   },
   {
    "duration": 6289,
    "start_time": "2024-06-09T23:04:48.769Z"
   },
   {
    "duration": 6570,
    "start_time": "2024-06-09T23:05:11.001Z"
   },
   {
    "duration": 895,
    "start_time": "2024-06-09T23:05:38.015Z"
   },
   {
    "duration": 244,
    "start_time": "2024-06-09T23:05:44.375Z"
   },
   {
    "duration": 203,
    "start_time": "2024-06-09T23:05:52.172Z"
   },
   {
    "duration": 340,
    "start_time": "2024-06-09T23:05:57.051Z"
   },
   {
    "duration": 312,
    "start_time": "2024-06-09T23:06:01.215Z"
   },
   {
    "duration": 278,
    "start_time": "2024-06-09T23:06:04.565Z"
   },
   {
    "duration": 6393,
    "start_time": "2024-06-09T23:06:11.681Z"
   },
   {
    "duration": 368,
    "start_time": "2024-06-09T23:10:45.566Z"
   },
   {
    "duration": 254,
    "start_time": "2024-06-09T23:13:21.620Z"
   },
   {
    "duration": 384,
    "start_time": "2024-06-09T23:16:03.288Z"
   },
   {
    "duration": 251,
    "start_time": "2024-06-09T23:16:38.876Z"
   },
   {
    "duration": 254,
    "start_time": "2024-06-09T23:18:43.498Z"
   },
   {
    "duration": 1149,
    "start_time": "2024-06-09T23:21:00.945Z"
   },
   {
    "duration": 193,
    "start_time": "2024-06-10T09:01:18.133Z"
   },
   {
    "duration": 331,
    "start_time": "2024-06-10T09:01:23.961Z"
   },
   {
    "duration": 350,
    "start_time": "2024-06-10T09:02:33.347Z"
   },
   {
    "duration": 475,
    "start_time": "2024-06-10T09:02:40.255Z"
   },
   {
    "duration": 551,
    "start_time": "2024-06-10T09:02:54.338Z"
   },
   {
    "duration": 339,
    "start_time": "2024-06-10T09:03:04.688Z"
   },
   {
    "duration": 326,
    "start_time": "2024-06-10T09:03:33.655Z"
   },
   {
    "duration": 290,
    "start_time": "2024-06-10T09:03:40.163Z"
   },
   {
    "duration": 344,
    "start_time": "2024-06-10T09:03:46.520Z"
   },
   {
    "duration": 450,
    "start_time": "2024-06-10T09:04:21.090Z"
   },
   {
    "duration": 719,
    "start_time": "2024-06-10T09:04:26.767Z"
   },
   {
    "duration": 851,
    "start_time": "2024-06-10T09:04:38.992Z"
   },
   {
    "duration": 730,
    "start_time": "2024-06-10T09:04:55.161Z"
   },
   {
    "duration": 66,
    "start_time": "2024-06-10T09:08:55.218Z"
   },
   {
    "duration": 4,
    "start_time": "2024-06-10T09:19:02.278Z"
   },
   {
    "duration": 22057,
    "start_time": "2024-06-10T09:20:49.370Z"
   },
   {
    "duration": 22982,
    "start_time": "2024-06-10T09:21:44.371Z"
   },
   {
    "duration": 205,
    "start_time": "2024-06-10T09:24:11.605Z"
   },
   {
    "duration": 244,
    "start_time": "2024-06-10T09:25:16.186Z"
   },
   {
    "duration": 311,
    "start_time": "2024-06-10T09:25:57.094Z"
   },
   {
    "duration": 487,
    "start_time": "2024-06-10T09:27:44.554Z"
   },
   {
    "duration": 287,
    "start_time": "2024-06-10T09:28:11.271Z"
   },
   {
    "duration": 188,
    "start_time": "2024-06-10T09:28:42.715Z"
   },
   {
    "duration": 484,
    "start_time": "2024-06-10T09:30:07.638Z"
   },
   {
    "duration": 4,
    "start_time": "2024-06-10T09:33:08.908Z"
   },
   {
    "duration": 55,
    "start_time": "2024-06-10T11:16:34.333Z"
   },
   {
    "duration": 651,
    "start_time": "2024-06-10T11:17:11.973Z"
   },
   {
    "duration": 505,
    "start_time": "2024-06-10T11:18:13.992Z"
   },
   {
    "duration": 398,
    "start_time": "2024-06-10T11:21:06.468Z"
   },
   {
    "duration": 377,
    "start_time": "2024-06-10T11:21:27.065Z"
   },
   {
    "duration": 10,
    "start_time": "2024-06-10T11:39:33.505Z"
   },
   {
    "duration": 1052,
    "start_time": "2024-06-10T11:40:02.760Z"
   },
   {
    "duration": 14,
    "start_time": "2024-06-10T11:40:21.377Z"
   },
   {
    "duration": 7,
    "start_time": "2024-06-10T11:59:33.944Z"
   },
   {
    "duration": 34,
    "start_time": "2024-06-10T12:35:46.631Z"
   },
   {
    "duration": 44,
    "start_time": "2024-06-10T12:36:23.933Z"
   },
   {
    "duration": 33,
    "start_time": "2024-06-10T12:37:25.660Z"
   },
   {
    "duration": 39,
    "start_time": "2024-06-10T12:38:22.529Z"
   },
   {
    "duration": 43,
    "start_time": "2024-06-10T12:38:55.782Z"
   },
   {
    "duration": 40,
    "start_time": "2024-06-10T12:39:09.017Z"
   },
   {
    "duration": 33,
    "start_time": "2024-06-10T12:39:31.406Z"
   },
   {
    "duration": 31,
    "start_time": "2024-06-10T12:41:04.811Z"
   },
   {
    "duration": 33,
    "start_time": "2024-06-10T12:42:34.370Z"
   },
   {
    "duration": 33,
    "start_time": "2024-06-10T12:43:31.649Z"
   },
   {
    "duration": 40,
    "start_time": "2024-06-10T12:44:43.880Z"
   },
   {
    "duration": 40,
    "start_time": "2024-06-10T12:46:56.448Z"
   },
   {
    "duration": 8843,
    "start_time": "2024-06-10T22:54:41.701Z"
   },
   {
    "duration": 2,
    "start_time": "2024-06-10T22:54:50.546Z"
   },
   {
    "duration": 140,
    "start_time": "2024-06-10T22:54:50.549Z"
   },
   {
    "duration": 2,
    "start_time": "2024-06-10T22:54:50.691Z"
   },
   {
    "duration": 7,
    "start_time": "2024-06-10T22:54:50.694Z"
   },
   {
    "duration": 60,
    "start_time": "2024-06-10T22:54:50.702Z"
   },
   {
    "duration": 29,
    "start_time": "2024-06-10T22:54:50.763Z"
   },
   {
    "duration": 15,
    "start_time": "2024-06-10T22:54:50.793Z"
   },
   {
    "duration": 6,
    "start_time": "2024-06-10T22:54:50.809Z"
   },
   {
    "duration": 9,
    "start_time": "2024-06-10T22:54:50.817Z"
   },
   {
    "duration": 191,
    "start_time": "2024-06-10T22:54:50.827Z"
   },
   {
    "duration": 433,
    "start_time": "2024-06-10T22:54:51.090Z"
   },
   {
    "duration": 298,
    "start_time": "2024-06-10T22:54:51.525Z"
   },
   {
    "duration": 358,
    "start_time": "2024-06-10T22:54:51.824Z"
   },
   {
    "duration": 402,
    "start_time": "2024-06-10T22:54:52.183Z"
   },
   {
    "duration": 333,
    "start_time": "2024-06-10T22:54:52.589Z"
   },
   {
    "duration": 3864,
    "start_time": "2024-06-10T22:54:52.923Z"
   },
   {
    "duration": 442,
    "start_time": "2024-06-10T22:54:56.789Z"
   },
   {
    "duration": 343,
    "start_time": "2024-06-10T22:54:57.232Z"
   },
   {
    "duration": 326,
    "start_time": "2024-06-10T22:54:57.576Z"
   },
   {
    "duration": 657,
    "start_time": "2024-06-10T22:54:57.904Z"
   },
   {
    "duration": 3,
    "start_time": "2024-06-10T22:54:58.563Z"
   },
   {
    "duration": 360,
    "start_time": "2024-06-10T22:54:58.567Z"
   },
   {
    "duration": 295,
    "start_time": "2024-06-10T22:54:58.929Z"
   },
   {
    "duration": 7,
    "start_time": "2024-06-10T22:54:59.225Z"
   },
   {
    "duration": 25,
    "start_time": "2024-06-10T22:54:59.233Z"
   },
   {
    "duration": 4,
    "start_time": "2024-06-10T22:54:59.259Z"
   },
   {
    "duration": 37,
    "start_time": "2024-06-10T22:54:59.267Z"
   }
  ],
  "kernelspec": {
   "display_name": "Python 3 (ipykernel)",
   "language": "python",
   "name": "python3"
  },
  "language_info": {
   "codemirror_mode": {
    "name": "ipython",
    "version": 3
   },
   "file_extension": ".py",
   "mimetype": "text/x-python",
   "name": "python",
   "nbconvert_exporter": "python",
   "pygments_lexer": "ipython3",
   "version": "3.9.5"
  },
  "toc": {
   "base_numbering": 1,
   "nav_menu": {},
   "number_sections": true,
   "sideBar": true,
   "skip_h1_title": true,
   "title_cell": "Table of Contents",
   "title_sidebar": "Contents",
   "toc_cell": false,
   "toc_position": {},
   "toc_section_display": true,
   "toc_window_display": false
  }
 },
 "nbformat": 4,
 "nbformat_minor": 2
}
