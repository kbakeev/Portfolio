{
 "cells": [
  {
   "cell_type": "markdown",
   "metadata": {},
   "source": [
    "# Исследование объявлений о продаже квартир\n",
    "\n",
    "В вашем распоряжении данные сервиса Яндекс.Недвижимость — архив объявлений о продаже квартир в Санкт-Петербурге и соседних населённых пунктов за несколько лет. Нужно научиться определять рыночную стоимость объектов недвижимости. Ваша задача — установить параметры. Это позволит построить автоматизированную систему: она отследит аномалии и мошенническую деятельность. \n",
    "\n",
    "По каждой квартире на продажу доступны два вида данных. Первые вписаны пользователем, вторые — получены автоматически на основе картографических данных. Например, расстояние до центра, аэропорта, ближайшего парка и водоёма. \n",
    "\n",
    "#### Цель исследования \n",
    "\n",
    "Провести исследовательский анализ данных, чтобы установить параметры, влияющие на цену объектов. Это позволит построить автоматизированную систему для остлеживания аномалий и мошеннической деятельности. \n",
    "\n",
    "#### Вопросы исследования \n",
    "\n",
    "\n",
    "#### Ход исследования \n",
    "\n",
    "1. Обзор данных\n",
    "2. Предобработка данных\n",
    "3. Исследовательский анализ данных\n",
    "4. Объединение данных\n",
    "5. Подсчёт выручки \n",
    "6. Проверка гипотез\n"
   ]
  },
  {
   "cell_type": "markdown",
   "metadata": {},
   "source": [
    "## Открытие файла и изучение данных"
   ]
  },
  {
   "cell_type": "code",
   "execution_count": 1,
   "metadata": {},
   "outputs": [],
   "source": [
    "# импортируем необходимые для работы бибилиотеки \n",
    "\n",
    "import pandas as pd\n",
    "import numpy as np\n",
    "import matplotlib.pyplot as plt\n",
    "import seaborn as sns"
   ]
  },
  {
   "cell_type": "code",
   "execution_count": 2,
   "metadata": {},
   "outputs": [],
   "source": [
    "# чтение файла и сохранение данных в переменную df\n",
    "\n",
    "try:\n",
    "    df = pd.read_csv('/datasets/real_estate_data.csv', sep='\\t')\n",
    "except:\n",
    "    df = pd.read_csv('real_estate_data.csv', sep='\\t')"
   ]
  },
  {
   "cell_type": "code",
   "execution_count": 3,
   "metadata": {},
   "outputs": [
    {
     "data": {
      "text/html": [
       "<div>\n",
       "<style scoped>\n",
       "    .dataframe tbody tr th:only-of-type {\n",
       "        vertical-align: middle;\n",
       "    }\n",
       "\n",
       "    .dataframe tbody tr th {\n",
       "        vertical-align: top;\n",
       "    }\n",
       "\n",
       "    .dataframe thead th {\n",
       "        text-align: right;\n",
       "    }\n",
       "</style>\n",
       "<table border=\"1\" class=\"dataframe\">\n",
       "  <thead>\n",
       "    <tr style=\"text-align: right;\">\n",
       "      <th></th>\n",
       "      <th>total_images</th>\n",
       "      <th>last_price</th>\n",
       "      <th>total_area</th>\n",
       "      <th>first_day_exposition</th>\n",
       "      <th>rooms</th>\n",
       "      <th>ceiling_height</th>\n",
       "      <th>floors_total</th>\n",
       "      <th>living_area</th>\n",
       "      <th>floor</th>\n",
       "      <th>is_apartment</th>\n",
       "      <th>studio</th>\n",
       "      <th>open_plan</th>\n",
       "      <th>kitchen_area</th>\n",
       "      <th>balcony</th>\n",
       "      <th>locality_name</th>\n",
       "      <th>airports_nearest</th>\n",
       "      <th>cityCenters_nearest</th>\n",
       "      <th>parks_around3000</th>\n",
       "      <th>parks_nearest</th>\n",
       "      <th>ponds_around3000</th>\n",
       "      <th>ponds_nearest</th>\n",
       "      <th>days_exposition</th>\n",
       "    </tr>\n",
       "  </thead>\n",
       "  <tbody>\n",
       "    <tr>\n",
       "      <th>21389</th>\n",
       "      <td>6</td>\n",
       "      <td>3770000.0</td>\n",
       "      <td>45.0</td>\n",
       "      <td>2015-04-21T00:00:00</td>\n",
       "      <td>2</td>\n",
       "      <td>2.6</td>\n",
       "      <td>9.0</td>\n",
       "      <td>27.0</td>\n",
       "      <td>2</td>\n",
       "      <td>False</td>\n",
       "      <td>False</td>\n",
       "      <td>False</td>\n",
       "      <td>7.0</td>\n",
       "      <td>0.0</td>\n",
       "      <td>Санкт-Петербург</td>\n",
       "      <td>22882.0</td>\n",
       "      <td>12503.0</td>\n",
       "      <td>0.0</td>\n",
       "      <td>NaN</td>\n",
       "      <td>0.0</td>\n",
       "      <td>NaN</td>\n",
       "      <td>707.0</td>\n",
       "    </tr>\n",
       "    <tr>\n",
       "      <th>13224</th>\n",
       "      <td>8</td>\n",
       "      <td>16900000.0</td>\n",
       "      <td>170.0</td>\n",
       "      <td>2019-03-27T00:00:00</td>\n",
       "      <td>6</td>\n",
       "      <td>4.5</td>\n",
       "      <td>4.0</td>\n",
       "      <td>115.5</td>\n",
       "      <td>4</td>\n",
       "      <td>NaN</td>\n",
       "      <td>False</td>\n",
       "      <td>False</td>\n",
       "      <td>16.0</td>\n",
       "      <td>NaN</td>\n",
       "      <td>Санкт-Петербург</td>\n",
       "      <td>26619.0</td>\n",
       "      <td>5579.0</td>\n",
       "      <td>0.0</td>\n",
       "      <td>NaN</td>\n",
       "      <td>1.0</td>\n",
       "      <td>281.0</td>\n",
       "      <td>NaN</td>\n",
       "    </tr>\n",
       "    <tr>\n",
       "      <th>3149</th>\n",
       "      <td>7</td>\n",
       "      <td>4650000.0</td>\n",
       "      <td>55.0</td>\n",
       "      <td>2016-02-08T00:00:00</td>\n",
       "      <td>2</td>\n",
       "      <td>NaN</td>\n",
       "      <td>15.0</td>\n",
       "      <td>28.0</td>\n",
       "      <td>1</td>\n",
       "      <td>NaN</td>\n",
       "      <td>False</td>\n",
       "      <td>False</td>\n",
       "      <td>12.0</td>\n",
       "      <td>1.0</td>\n",
       "      <td>Санкт-Петербург</td>\n",
       "      <td>27666.0</td>\n",
       "      <td>9479.0</td>\n",
       "      <td>1.0</td>\n",
       "      <td>637.0</td>\n",
       "      <td>0.0</td>\n",
       "      <td>NaN</td>\n",
       "      <td>166.0</td>\n",
       "    </tr>\n",
       "    <tr>\n",
       "      <th>8875</th>\n",
       "      <td>10</td>\n",
       "      <td>1350000.0</td>\n",
       "      <td>58.0</td>\n",
       "      <td>2017-07-27T00:00:00</td>\n",
       "      <td>2</td>\n",
       "      <td>NaN</td>\n",
       "      <td>9.0</td>\n",
       "      <td>29.0</td>\n",
       "      <td>1</td>\n",
       "      <td>NaN</td>\n",
       "      <td>False</td>\n",
       "      <td>False</td>\n",
       "      <td>8.0</td>\n",
       "      <td>NaN</td>\n",
       "      <td>Сланцы</td>\n",
       "      <td>NaN</td>\n",
       "      <td>NaN</td>\n",
       "      <td>NaN</td>\n",
       "      <td>NaN</td>\n",
       "      <td>NaN</td>\n",
       "      <td>NaN</td>\n",
       "      <td>416.0</td>\n",
       "    </tr>\n",
       "    <tr>\n",
       "      <th>2453</th>\n",
       "      <td>18</td>\n",
       "      <td>5299000.0</td>\n",
       "      <td>60.0</td>\n",
       "      <td>2018-10-24T00:00:00</td>\n",
       "      <td>3</td>\n",
       "      <td>NaN</td>\n",
       "      <td>5.0</td>\n",
       "      <td>NaN</td>\n",
       "      <td>4</td>\n",
       "      <td>NaN</td>\n",
       "      <td>False</td>\n",
       "      <td>False</td>\n",
       "      <td>6.0</td>\n",
       "      <td>NaN</td>\n",
       "      <td>Санкт-Петербург</td>\n",
       "      <td>21058.0</td>\n",
       "      <td>15432.0</td>\n",
       "      <td>1.0</td>\n",
       "      <td>732.0</td>\n",
       "      <td>1.0</td>\n",
       "      <td>118.0</td>\n",
       "      <td>NaN</td>\n",
       "    </tr>\n",
       "    <tr>\n",
       "      <th>9153</th>\n",
       "      <td>8</td>\n",
       "      <td>4850000.0</td>\n",
       "      <td>55.5</td>\n",
       "      <td>2015-04-06T00:00:00</td>\n",
       "      <td>3</td>\n",
       "      <td>NaN</td>\n",
       "      <td>5.0</td>\n",
       "      <td>40.0</td>\n",
       "      <td>5</td>\n",
       "      <td>NaN</td>\n",
       "      <td>False</td>\n",
       "      <td>False</td>\n",
       "      <td>5.0</td>\n",
       "      <td>0.0</td>\n",
       "      <td>Санкт-Петербург</td>\n",
       "      <td>40230.0</td>\n",
       "      <td>11933.0</td>\n",
       "      <td>2.0</td>\n",
       "      <td>388.0</td>\n",
       "      <td>0.0</td>\n",
       "      <td>NaN</td>\n",
       "      <td>700.0</td>\n",
       "    </tr>\n",
       "    <tr>\n",
       "      <th>630</th>\n",
       "      <td>20</td>\n",
       "      <td>3700000.0</td>\n",
       "      <td>59.6</td>\n",
       "      <td>2018-07-19T00:00:00</td>\n",
       "      <td>3</td>\n",
       "      <td>2.5</td>\n",
       "      <td>9.0</td>\n",
       "      <td>38.0</td>\n",
       "      <td>7</td>\n",
       "      <td>NaN</td>\n",
       "      <td>False</td>\n",
       "      <td>False</td>\n",
       "      <td>8.0</td>\n",
       "      <td>2.0</td>\n",
       "      <td>Сертолово</td>\n",
       "      <td>NaN</td>\n",
       "      <td>NaN</td>\n",
       "      <td>NaN</td>\n",
       "      <td>NaN</td>\n",
       "      <td>NaN</td>\n",
       "      <td>NaN</td>\n",
       "      <td>NaN</td>\n",
       "    </tr>\n",
       "    <tr>\n",
       "      <th>20729</th>\n",
       "      <td>13</td>\n",
       "      <td>5395000.0</td>\n",
       "      <td>40.4</td>\n",
       "      <td>2018-02-01T00:00:00</td>\n",
       "      <td>1</td>\n",
       "      <td>2.6</td>\n",
       "      <td>17.0</td>\n",
       "      <td>20.2</td>\n",
       "      <td>14</td>\n",
       "      <td>NaN</td>\n",
       "      <td>False</td>\n",
       "      <td>False</td>\n",
       "      <td>10.7</td>\n",
       "      <td>2.0</td>\n",
       "      <td>Санкт-Петербург</td>\n",
       "      <td>34273.0</td>\n",
       "      <td>15372.0</td>\n",
       "      <td>1.0</td>\n",
       "      <td>518.0</td>\n",
       "      <td>3.0</td>\n",
       "      <td>491.0</td>\n",
       "      <td>36.0</td>\n",
       "    </tr>\n",
       "    <tr>\n",
       "      <th>16431</th>\n",
       "      <td>13</td>\n",
       "      <td>3799000.0</td>\n",
       "      <td>31.0</td>\n",
       "      <td>2018-04-12T00:00:00</td>\n",
       "      <td>1</td>\n",
       "      <td>2.6</td>\n",
       "      <td>5.0</td>\n",
       "      <td>6.0</td>\n",
       "      <td>1</td>\n",
       "      <td>NaN</td>\n",
       "      <td>False</td>\n",
       "      <td>False</td>\n",
       "      <td>17.0</td>\n",
       "      <td>NaN</td>\n",
       "      <td>Санкт-Петербург</td>\n",
       "      <td>32177.0</td>\n",
       "      <td>4826.0</td>\n",
       "      <td>1.0</td>\n",
       "      <td>430.0</td>\n",
       "      <td>0.0</td>\n",
       "      <td>NaN</td>\n",
       "      <td>168.0</td>\n",
       "    </tr>\n",
       "    <tr>\n",
       "      <th>1371</th>\n",
       "      <td>9</td>\n",
       "      <td>8000000.0</td>\n",
       "      <td>92.0</td>\n",
       "      <td>2019-04-01T00:00:00</td>\n",
       "      <td>3</td>\n",
       "      <td>3.4</td>\n",
       "      <td>5.0</td>\n",
       "      <td>52.7</td>\n",
       "      <td>4</td>\n",
       "      <td>NaN</td>\n",
       "      <td>False</td>\n",
       "      <td>False</td>\n",
       "      <td>11.5</td>\n",
       "      <td>NaN</td>\n",
       "      <td>Санкт-Петербург</td>\n",
       "      <td>23486.0</td>\n",
       "      <td>3027.0</td>\n",
       "      <td>0.0</td>\n",
       "      <td>NaN</td>\n",
       "      <td>0.0</td>\n",
       "      <td>NaN</td>\n",
       "      <td>NaN</td>\n",
       "    </tr>\n",
       "  </tbody>\n",
       "</table>\n",
       "</div>"
      ],
      "text/plain": [
       "       total_images  last_price  total_area first_day_exposition  rooms  \\\n",
       "21389             6   3770000.0        45.0  2015-04-21T00:00:00      2   \n",
       "13224             8  16900000.0       170.0  2019-03-27T00:00:00      6   \n",
       "3149              7   4650000.0        55.0  2016-02-08T00:00:00      2   \n",
       "8875             10   1350000.0        58.0  2017-07-27T00:00:00      2   \n",
       "2453             18   5299000.0        60.0  2018-10-24T00:00:00      3   \n",
       "9153              8   4850000.0        55.5  2015-04-06T00:00:00      3   \n",
       "630              20   3700000.0        59.6  2018-07-19T00:00:00      3   \n",
       "20729            13   5395000.0        40.4  2018-02-01T00:00:00      1   \n",
       "16431            13   3799000.0        31.0  2018-04-12T00:00:00      1   \n",
       "1371              9   8000000.0        92.0  2019-04-01T00:00:00      3   \n",
       "\n",
       "       ceiling_height  floors_total  living_area  floor is_apartment  studio  \\\n",
       "21389             2.6           9.0         27.0      2        False   False   \n",
       "13224             4.5           4.0        115.5      4          NaN   False   \n",
       "3149              NaN          15.0         28.0      1          NaN   False   \n",
       "8875              NaN           9.0         29.0      1          NaN   False   \n",
       "2453              NaN           5.0          NaN      4          NaN   False   \n",
       "9153              NaN           5.0         40.0      5          NaN   False   \n",
       "630               2.5           9.0         38.0      7          NaN   False   \n",
       "20729             2.6          17.0         20.2     14          NaN   False   \n",
       "16431             2.6           5.0          6.0      1          NaN   False   \n",
       "1371              3.4           5.0         52.7      4          NaN   False   \n",
       "\n",
       "       open_plan  kitchen_area  balcony    locality_name  airports_nearest  \\\n",
       "21389      False           7.0      0.0  Санкт-Петербург           22882.0   \n",
       "13224      False          16.0      NaN  Санкт-Петербург           26619.0   \n",
       "3149       False          12.0      1.0  Санкт-Петербург           27666.0   \n",
       "8875       False           8.0      NaN           Сланцы               NaN   \n",
       "2453       False           6.0      NaN  Санкт-Петербург           21058.0   \n",
       "9153       False           5.0      0.0  Санкт-Петербург           40230.0   \n",
       "630        False           8.0      2.0        Сертолово               NaN   \n",
       "20729      False          10.7      2.0  Санкт-Петербург           34273.0   \n",
       "16431      False          17.0      NaN  Санкт-Петербург           32177.0   \n",
       "1371       False          11.5      NaN  Санкт-Петербург           23486.0   \n",
       "\n",
       "       cityCenters_nearest  parks_around3000  parks_nearest  ponds_around3000  \\\n",
       "21389              12503.0               0.0            NaN               0.0   \n",
       "13224               5579.0               0.0            NaN               1.0   \n",
       "3149                9479.0               1.0          637.0               0.0   \n",
       "8875                   NaN               NaN            NaN               NaN   \n",
       "2453               15432.0               1.0          732.0               1.0   \n",
       "9153               11933.0               2.0          388.0               0.0   \n",
       "630                    NaN               NaN            NaN               NaN   \n",
       "20729              15372.0               1.0          518.0               3.0   \n",
       "16431               4826.0               1.0          430.0               0.0   \n",
       "1371                3027.0               0.0            NaN               0.0   \n",
       "\n",
       "       ponds_nearest  days_exposition  \n",
       "21389            NaN            707.0  \n",
       "13224          281.0              NaN  \n",
       "3149             NaN            166.0  \n",
       "8875             NaN            416.0  \n",
       "2453           118.0              NaN  \n",
       "9153             NaN            700.0  \n",
       "630              NaN              NaN  \n",
       "20729          491.0             36.0  \n",
       "16431            NaN            168.0  \n",
       "1371             NaN              NaN  "
      ]
     },
     "execution_count": 3,
     "metadata": {},
     "output_type": "execute_result"
    }
   ],
   "source": [
    "# выводим для просмотра информацию о таблице в случайном порядке \n",
    "\n",
    "pd.set_option('display.max_columns', None)\n",
    "df.sample(10)"
   ]
  },
  {
   "cell_type": "code",
   "execution_count": 4,
   "metadata": {
    "scrolled": false
   },
   "outputs": [
    {
     "name": "stdout",
     "output_type": "stream",
     "text": [
      "<class 'pandas.core.frame.DataFrame'>\n",
      "RangeIndex: 23699 entries, 0 to 23698\n",
      "Data columns (total 22 columns):\n",
      " #   Column                Non-Null Count  Dtype  \n",
      "---  ------                --------------  -----  \n",
      " 0   total_images          23699 non-null  int64  \n",
      " 1   last_price            23699 non-null  float64\n",
      " 2   total_area            23699 non-null  float64\n",
      " 3   first_day_exposition  23699 non-null  object \n",
      " 4   rooms                 23699 non-null  int64  \n",
      " 5   ceiling_height        14504 non-null  float64\n",
      " 6   floors_total          23613 non-null  float64\n",
      " 7   living_area           21796 non-null  float64\n",
      " 8   floor                 23699 non-null  int64  \n",
      " 9   is_apartment          2775 non-null   object \n",
      " 10  studio                23699 non-null  bool   \n",
      " 11  open_plan             23699 non-null  bool   \n",
      " 12  kitchen_area          21421 non-null  float64\n",
      " 13  balcony               12180 non-null  float64\n",
      " 14  locality_name         23650 non-null  object \n",
      " 15  airports_nearest      18157 non-null  float64\n",
      " 16  cityCenters_nearest   18180 non-null  float64\n",
      " 17  parks_around3000      18181 non-null  float64\n",
      " 18  parks_nearest         8079 non-null   float64\n",
      " 19  ponds_around3000      18181 non-null  float64\n",
      " 20  ponds_nearest         9110 non-null   float64\n",
      " 21  days_exposition       20518 non-null  float64\n",
      "dtypes: bool(2), float64(14), int64(3), object(3)\n",
      "memory usage: 3.7+ MB\n"
     ]
    }
   ],
   "source": [
    "# выводим общую информацию о данных\n",
    "\n",
    "df.info()"
   ]
  },
  {
   "cell_type": "markdown",
   "metadata": {},
   "source": [
    "В таблице двадцать два столбца, есть пропуски в данных и несоответсвия в типе данных:  \n",
    "\n",
    "first_day_exposition - типа данных object, а должен быть datetime;\n",
    "\n",
    "ceiling_height - нулевые значения;\n",
    "\n",
    "floors_total - должен быть тип int, ведь количество этажей целое значение, нулевые значения;\n",
    "\n",
    "is_apartment - должен быть тип bool, нулевые значения;\n",
    "\n",
    "living_area - нулевые значения;\n",
    "\n",
    "kitchen_area - нулевые значения;\n",
    "\n",
    "balcony - нулевые значения;\n",
    "\n",
    "locality_name - нулевые значения + из задания мы знаем, что есть дубликаты явные и неявные;\n",
    "\n",
    "airports_nearest - нулевые значения;\n",
    "\n",
    "cityCenters_nearest - нулевые значения;\n",
    "\n",
    "parks_around3000 - тип должен быть int, нулевые значения;\n",
    "\n",
    "parks_nearest - нулевые значения;\n",
    "\n",
    "ponds_around3000 - тип должен быть int, нулевые значения;\n",
    "\n",
    "ponds_nearest - нулевые значения;\n",
    "\n",
    "days_exposition - тип должен быть int, нулевые значения.\n"
   ]
  },
  {
   "cell_type": "code",
   "execution_count": 5,
   "metadata": {
    "scrolled": true
   },
   "outputs": [
    {
     "data": {
      "image/png": "[encoded data removed]",
      "text/plain": [
       "<Figure size 1080x1440 with 20 Axes>"
      ]
     },
     "metadata": {
      "needs_background": "light"
     },
     "output_type": "display_data"
    }
   ],
   "source": [
    "# Строим гистограмму для всех числовых столбцов таблицы на одном графике\n",
    "\n",
    "df.hist(figsize=(15, 20));"
   ]
  },
  {
   "cell_type": "markdown",
   "metadata": {},
   "source": [
    "**Промежуточный вывод**\n",
    "\n",
    "На графиках видно, что наибольший интерес, с точки зрения обработки данных, представляют столбцы last_price, rooms, ceiling_height,total_area, kitchen_area, living_area, так большинство данных сосредоточены в левой части графиков. Это может говорить об аномалиях в данных, некорректном типе данных или о пропущенных значениях.  "
   ]
  },
  {
   "cell_type": "markdown",
   "metadata": {},
   "source": [
    "## Предобработка данных"
   ]
  },
  {
   "cell_type": "code",
   "execution_count": 6,
   "metadata": {},
   "outputs": [
    {
     "data": {
      "text/plain": [
       "total_images                0\n",
       "open_plan                   0\n",
       "floor                       0\n",
       "rooms                       0\n",
       "studio                      0\n",
       "total_area                  0\n",
       "last_price                  0\n",
       "first_day_exposition        0\n",
       "locality_name              49\n",
       "floors_total               86\n",
       "living_area              1903\n",
       "kitchen_area             2278\n",
       "days_exposition          3181\n",
       "ponds_around3000         5518\n",
       "parks_around3000         5518\n",
       "cityCenters_nearest      5519\n",
       "airports_nearest         5542\n",
       "ceiling_height           9195\n",
       "balcony                 11519\n",
       "ponds_nearest           14589\n",
       "parks_nearest           15620\n",
       "is_apartment            20924\n",
       "dtype: int64"
      ]
     },
     "execution_count": 6,
     "metadata": {},
     "output_type": "execute_result"
    }
   ],
   "source": [
    "# посмотрим количество пропущенных значений в каждом столбце \n",
    "\n",
    "df.isna().sum().sort_values()"
   ]
  },
  {
   "cell_type": "code",
   "execution_count": 7,
   "metadata": {},
   "outputs": [
    {
     "data": {
      "text/plain": [
       "total_images             0.000000\n",
       "open_plan                0.000000\n",
       "floor                    0.000000\n",
       "rooms                    0.000000\n",
       "studio                   0.000000\n",
       "total_area               0.000000\n",
       "last_price               0.000000\n",
       "first_day_exposition     0.000000\n",
       "locality_name            0.206760\n",
       "floors_total             0.362885\n",
       "living_area              8.029875\n",
       "kitchen_area             9.612220\n",
       "days_exposition         13.422507\n",
       "ponds_around3000        23.283683\n",
       "parks_around3000        23.283683\n",
       "cityCenters_nearest     23.287902\n",
       "airports_nearest        23.384953\n",
       "ceiling_height          38.799105\n",
       "balcony                 48.605426\n",
       "ponds_nearest           61.559559\n",
       "parks_nearest           65.909954\n",
       "is_apartment            88.290645\n",
       "dtype: float64"
      ]
     },
     "execution_count": 7,
     "metadata": {},
     "output_type": "execute_result"
    }
   ],
   "source": [
    "# посмотрим процентное соотношение, чтобы понимать наиболее критические области с пропусками \n",
    "df.isnull().sum().sort_values()/df.shape[0]*100"
   ]
  },
  {
   "cell_type": "code",
   "execution_count": 8,
   "metadata": {
    "scrolled": true
   },
   "outputs": [
    {
     "data": {
      "text/plain": [
       "Index(['total_images', 'last_price', 'total_area', 'first_day_exposition',\n",
       "       'rooms', 'ceiling_height', 'floors_total', 'living_area', 'floor',\n",
       "       'is_apartment', 'is_studio', 'is_open_plan', 'kitchen_area', 'balcony',\n",
       "       'locality_name', 'airports_nearest', 'city_centers_nearest',\n",
       "       'parks_around_3000', 'parks_nearest', 'ponds_around_3000',\n",
       "       'ponds_nearest', 'days_exposition'],\n",
       "      dtype='object')"
      ]
     },
     "execution_count": 8,
     "metadata": {},
     "output_type": "execute_result"
    }
   ],
   "source": [
    "# Начнем с приведения названия столбцов к единому стилю \n",
    "\n",
    "df = df.rename(columns={'cityCenters_nearest': 'city_centers_nearest', \n",
    "                        'parks_around3000': 'parks_around_3000', \n",
    "                        'ponds_around3000': 'ponds_around_3000',\n",
    "                        'studio': 'is_studio',\n",
    "                        'open_plan': 'is_open_plan'\n",
    "                       })\n",
    "df.columns"
   ]
  },
  {
   "cell_type": "markdown",
   "metadata": {},
   "source": [
    "### Столбец first_day_exposition "
   ]
  },
  {
   "cell_type": "code",
   "execution_count": 9,
   "metadata": {
    "scrolled": false
   },
   "outputs": [
    {
     "data": {
      "text/html": [
       "<div>\n",
       "<style scoped>\n",
       "    .dataframe tbody tr th:only-of-type {\n",
       "        vertical-align: middle;\n",
       "    }\n",
       "\n",
       "    .dataframe tbody tr th {\n",
       "        vertical-align: top;\n",
       "    }\n",
       "\n",
       "    .dataframe thead th {\n",
       "        text-align: right;\n",
       "    }\n",
       "</style>\n",
       "<table border=\"1\" class=\"dataframe\">\n",
       "  <thead>\n",
       "    <tr style=\"text-align: right;\">\n",
       "      <th></th>\n",
       "      <th>total_images</th>\n",
       "      <th>last_price</th>\n",
       "      <th>total_area</th>\n",
       "      <th>first_day_exposition</th>\n",
       "      <th>rooms</th>\n",
       "      <th>ceiling_height</th>\n",
       "      <th>floors_total</th>\n",
       "      <th>living_area</th>\n",
       "      <th>floor</th>\n",
       "      <th>is_apartment</th>\n",
       "      <th>is_studio</th>\n",
       "      <th>is_open_plan</th>\n",
       "      <th>kitchen_area</th>\n",
       "      <th>balcony</th>\n",
       "      <th>locality_name</th>\n",
       "      <th>airports_nearest</th>\n",
       "      <th>city_centers_nearest</th>\n",
       "      <th>parks_around_3000</th>\n",
       "      <th>parks_nearest</th>\n",
       "      <th>ponds_around_3000</th>\n",
       "      <th>ponds_nearest</th>\n",
       "      <th>days_exposition</th>\n",
       "    </tr>\n",
       "  </thead>\n",
       "  <tbody>\n",
       "    <tr>\n",
       "      <th>0</th>\n",
       "      <td>20</td>\n",
       "      <td>13000000.0</td>\n",
       "      <td>108.0</td>\n",
       "      <td>2019-03-07</td>\n",
       "      <td>3</td>\n",
       "      <td>2.70</td>\n",
       "      <td>16.0</td>\n",
       "      <td>51.0</td>\n",
       "      <td>8</td>\n",
       "      <td>NaN</td>\n",
       "      <td>False</td>\n",
       "      <td>False</td>\n",
       "      <td>25.0</td>\n",
       "      <td>NaN</td>\n",
       "      <td>Санкт-Петербург</td>\n",
       "      <td>18863.0</td>\n",
       "      <td>16028.0</td>\n",
       "      <td>1.0</td>\n",
       "      <td>482.0</td>\n",
       "      <td>2.0</td>\n",
       "      <td>755.0</td>\n",
       "      <td>NaN</td>\n",
       "    </tr>\n",
       "    <tr>\n",
       "      <th>1</th>\n",
       "      <td>7</td>\n",
       "      <td>3350000.0</td>\n",
       "      <td>40.4</td>\n",
       "      <td>2018-12-04</td>\n",
       "      <td>1</td>\n",
       "      <td>NaN</td>\n",
       "      <td>11.0</td>\n",
       "      <td>18.6</td>\n",
       "      <td>1</td>\n",
       "      <td>NaN</td>\n",
       "      <td>False</td>\n",
       "      <td>False</td>\n",
       "      <td>11.0</td>\n",
       "      <td>2.0</td>\n",
       "      <td>посёлок Шушары</td>\n",
       "      <td>12817.0</td>\n",
       "      <td>18603.0</td>\n",
       "      <td>0.0</td>\n",
       "      <td>NaN</td>\n",
       "      <td>0.0</td>\n",
       "      <td>NaN</td>\n",
       "      <td>81.0</td>\n",
       "    </tr>\n",
       "    <tr>\n",
       "      <th>2</th>\n",
       "      <td>10</td>\n",
       "      <td>5196000.0</td>\n",
       "      <td>56.0</td>\n",
       "      <td>2015-08-20</td>\n",
       "      <td>2</td>\n",
       "      <td>NaN</td>\n",
       "      <td>5.0</td>\n",
       "      <td>34.3</td>\n",
       "      <td>4</td>\n",
       "      <td>NaN</td>\n",
       "      <td>False</td>\n",
       "      <td>False</td>\n",
       "      <td>8.3</td>\n",
       "      <td>0.0</td>\n",
       "      <td>Санкт-Петербург</td>\n",
       "      <td>21741.0</td>\n",
       "      <td>13933.0</td>\n",
       "      <td>1.0</td>\n",
       "      <td>90.0</td>\n",
       "      <td>2.0</td>\n",
       "      <td>574.0</td>\n",
       "      <td>558.0</td>\n",
       "    </tr>\n",
       "    <tr>\n",
       "      <th>3</th>\n",
       "      <td>0</td>\n",
       "      <td>64900000.0</td>\n",
       "      <td>159.0</td>\n",
       "      <td>2015-07-24</td>\n",
       "      <td>3</td>\n",
       "      <td>NaN</td>\n",
       "      <td>14.0</td>\n",
       "      <td>NaN</td>\n",
       "      <td>9</td>\n",
       "      <td>NaN</td>\n",
       "      <td>False</td>\n",
       "      <td>False</td>\n",
       "      <td>NaN</td>\n",
       "      <td>0.0</td>\n",
       "      <td>Санкт-Петербург</td>\n",
       "      <td>28098.0</td>\n",
       "      <td>6800.0</td>\n",
       "      <td>2.0</td>\n",
       "      <td>84.0</td>\n",
       "      <td>3.0</td>\n",
       "      <td>234.0</td>\n",
       "      <td>424.0</td>\n",
       "    </tr>\n",
       "    <tr>\n",
       "      <th>4</th>\n",
       "      <td>2</td>\n",
       "      <td>10000000.0</td>\n",
       "      <td>100.0</td>\n",
       "      <td>2018-06-19</td>\n",
       "      <td>2</td>\n",
       "      <td>3.03</td>\n",
       "      <td>14.0</td>\n",
       "      <td>32.0</td>\n",
       "      <td>13</td>\n",
       "      <td>NaN</td>\n",
       "      <td>False</td>\n",
       "      <td>False</td>\n",
       "      <td>41.0</td>\n",
       "      <td>NaN</td>\n",
       "      <td>Санкт-Петербург</td>\n",
       "      <td>31856.0</td>\n",
       "      <td>8098.0</td>\n",
       "      <td>2.0</td>\n",
       "      <td>112.0</td>\n",
       "      <td>1.0</td>\n",
       "      <td>48.0</td>\n",
       "      <td>121.0</td>\n",
       "    </tr>\n",
       "  </tbody>\n",
       "</table>\n",
       "</div>"
      ],
      "text/plain": [
       "   total_images  last_price  total_area first_day_exposition  rooms  \\\n",
       "0            20  13000000.0       108.0           2019-03-07      3   \n",
       "1             7   3350000.0        40.4           2018-12-04      1   \n",
       "2            10   5196000.0        56.0           2015-08-20      2   \n",
       "3             0  64900000.0       159.0           2015-07-24      3   \n",
       "4             2  10000000.0       100.0           2018-06-19      2   \n",
       "\n",
       "   ceiling_height  floors_total  living_area  floor is_apartment  is_studio  \\\n",
       "0            2.70          16.0         51.0      8          NaN      False   \n",
       "1             NaN          11.0         18.6      1          NaN      False   \n",
       "2             NaN           5.0         34.3      4          NaN      False   \n",
       "3             NaN          14.0          NaN      9          NaN      False   \n",
       "4            3.03          14.0         32.0     13          NaN      False   \n",
       "\n",
       "   is_open_plan  kitchen_area  balcony    locality_name  airports_nearest  \\\n",
       "0         False          25.0      NaN  Санкт-Петербург           18863.0   \n",
       "1         False          11.0      2.0   посёлок Шушары           12817.0   \n",
       "2         False           8.3      0.0  Санкт-Петербург           21741.0   \n",
       "3         False           NaN      0.0  Санкт-Петербург           28098.0   \n",
       "4         False          41.0      NaN  Санкт-Петербург           31856.0   \n",
       "\n",
       "   city_centers_nearest  parks_around_3000  parks_nearest  ponds_around_3000  \\\n",
       "0               16028.0                1.0          482.0                2.0   \n",
       "1               18603.0                0.0            NaN                0.0   \n",
       "2               13933.0                1.0           90.0                2.0   \n",
       "3                6800.0                2.0           84.0                3.0   \n",
       "4                8098.0                2.0          112.0                1.0   \n",
       "\n",
       "   ponds_nearest  days_exposition  \n",
       "0          755.0              NaN  \n",
       "1            NaN             81.0  \n",
       "2          574.0            558.0  \n",
       "3          234.0            424.0  \n",
       "4           48.0            121.0  "
      ]
     },
     "execution_count": 9,
     "metadata": {},
     "output_type": "execute_result"
    }
   ],
   "source": [
    "# Изменим формат даты на дату без времени, так как времени мы не знаем\n",
    "\n",
    "df['first_day_exposition'] = pd.to_datetime(df['first_day_exposition'], format = '%Y-%m-%d')\n",
    "\n",
    "df.head()\n"
   ]
  },
  {
   "cell_type": "code",
   "execution_count": 10,
   "metadata": {},
   "outputs": [
    {
     "data": {
      "text/plain": [
       "Timestamp('2014-11-27 00:00:00')"
      ]
     },
     "metadata": {},
     "output_type": "display_data"
    },
    {
     "data": {
      "text/plain": [
       "Timestamp('2019-05-03 00:00:00')"
      ]
     },
     "metadata": {},
     "output_type": "display_data"
    }
   ],
   "source": [
    "# Посмотрим на первое и последнее объявление в датасете \n",
    "\n",
    "display(df['first_day_exposition'].min(), df['first_day_exposition'].max())"
   ]
  },
  {
   "cell_type": "markdown",
   "metadata": {},
   "source": [
    "**Промежуточный вывод**\n",
    "\n",
    "Теперь мы знаем, что в датасете находятся объявления с ноября 2014 года по май 2019 года. Можно посмотреть на то, как распределены объявления"
   ]
  },
  {
   "cell_type": "code",
   "execution_count": 11,
   "metadata": {},
   "outputs": [
    {
     "data": {
      "image/png": "[encoded data removed]",
      "text/plain": [
       "<Figure size 432x288 with 1 Axes>"
      ]
     },
     "metadata": {
      "needs_background": "light"
     },
     "output_type": "display_data"
    }
   ],
   "source": [
    "plt.hist(df['first_day_exposition'])\n",
    "plt.grid()\n",
    "plt.xticks(rotation=30)\n",
    "plt.title('Распределение размещения объявлений по времени')\n",
    "plt.show()"
   ]
  },
  {
   "cell_type": "markdown",
   "metadata": {},
   "source": [
    "**Промежуточный вывод**\n",
    "\n",
    "Благодаря графику мы видим, что рост размещения объявлений о продаже начался с февраля 2017 года. "
   ]
  },
  {
   "cell_type": "markdown",
   "metadata": {},
   "source": [
    "### Столбец days_exposition"
   ]
  },
  {
   "cell_type": "code",
   "execution_count": 12,
   "metadata": {},
   "outputs": [],
   "source": [
    "# Изменим тип данных на целочисленный\n",
    "\n",
    "df['days_exposition'] = np.floor(pd.to_numeric(df['days_exposition'], errors='coerce')).astype('Int64')"
   ]
  },
  {
   "cell_type": "markdown",
   "metadata": {},
   "source": [
    "### Столбец ceiling_height"
   ]
  },
  {
   "cell_type": "code",
   "execution_count": 13,
   "metadata": {
    "scrolled": true
   },
   "outputs": [
    {
     "data": {
      "text/html": [
       "<div>\n",
       "<style scoped>\n",
       "    .dataframe tbody tr th:only-of-type {\n",
       "        vertical-align: middle;\n",
       "    }\n",
       "\n",
       "    .dataframe tbody tr th {\n",
       "        vertical-align: top;\n",
       "    }\n",
       "\n",
       "    .dataframe thead th {\n",
       "        text-align: right;\n",
       "    }\n",
       "</style>\n",
       "<table border=\"1\" class=\"dataframe\">\n",
       "  <thead>\n",
       "    <tr style=\"text-align: right;\">\n",
       "      <th></th>\n",
       "      <th>total_images</th>\n",
       "      <th>last_price</th>\n",
       "      <th>total_area</th>\n",
       "      <th>first_day_exposition</th>\n",
       "      <th>rooms</th>\n",
       "      <th>ceiling_height</th>\n",
       "      <th>floors_total</th>\n",
       "      <th>living_area</th>\n",
       "      <th>floor</th>\n",
       "      <th>is_apartment</th>\n",
       "      <th>is_studio</th>\n",
       "      <th>is_open_plan</th>\n",
       "      <th>kitchen_area</th>\n",
       "      <th>balcony</th>\n",
       "      <th>locality_name</th>\n",
       "      <th>airports_nearest</th>\n",
       "      <th>city_centers_nearest</th>\n",
       "      <th>parks_around_3000</th>\n",
       "      <th>parks_nearest</th>\n",
       "      <th>ponds_around_3000</th>\n",
       "      <th>ponds_nearest</th>\n",
       "      <th>days_exposition</th>\n",
       "    </tr>\n",
       "  </thead>\n",
       "  <tbody>\n",
       "    <tr>\n",
       "      <th>0</th>\n",
       "      <td>20</td>\n",
       "      <td>13000000.0</td>\n",
       "      <td>108.0</td>\n",
       "      <td>2019-03-07</td>\n",
       "      <td>3</td>\n",
       "      <td>2.70</td>\n",
       "      <td>16.0</td>\n",
       "      <td>51.0</td>\n",
       "      <td>8</td>\n",
       "      <td>NaN</td>\n",
       "      <td>False</td>\n",
       "      <td>False</td>\n",
       "      <td>25.0</td>\n",
       "      <td>NaN</td>\n",
       "      <td>Санкт-Петербург</td>\n",
       "      <td>18863.0</td>\n",
       "      <td>16028.0</td>\n",
       "      <td>1.0</td>\n",
       "      <td>482.0</td>\n",
       "      <td>2.0</td>\n",
       "      <td>755.0</td>\n",
       "      <td>&lt;NA&gt;</td>\n",
       "    </tr>\n",
       "    <tr>\n",
       "      <th>1</th>\n",
       "      <td>7</td>\n",
       "      <td>3350000.0</td>\n",
       "      <td>40.4</td>\n",
       "      <td>2018-12-04</td>\n",
       "      <td>1</td>\n",
       "      <td>2.65</td>\n",
       "      <td>11.0</td>\n",
       "      <td>18.6</td>\n",
       "      <td>1</td>\n",
       "      <td>NaN</td>\n",
       "      <td>False</td>\n",
       "      <td>False</td>\n",
       "      <td>11.0</td>\n",
       "      <td>2.0</td>\n",
       "      <td>посёлок Шушары</td>\n",
       "      <td>12817.0</td>\n",
       "      <td>18603.0</td>\n",
       "      <td>0.0</td>\n",
       "      <td>NaN</td>\n",
       "      <td>0.0</td>\n",
       "      <td>NaN</td>\n",
       "      <td>81</td>\n",
       "    </tr>\n",
       "    <tr>\n",
       "      <th>2</th>\n",
       "      <td>10</td>\n",
       "      <td>5196000.0</td>\n",
       "      <td>56.0</td>\n",
       "      <td>2015-08-20</td>\n",
       "      <td>2</td>\n",
       "      <td>2.65</td>\n",
       "      <td>5.0</td>\n",
       "      <td>34.3</td>\n",
       "      <td>4</td>\n",
       "      <td>NaN</td>\n",
       "      <td>False</td>\n",
       "      <td>False</td>\n",
       "      <td>8.3</td>\n",
       "      <td>0.0</td>\n",
       "      <td>Санкт-Петербург</td>\n",
       "      <td>21741.0</td>\n",
       "      <td>13933.0</td>\n",
       "      <td>1.0</td>\n",
       "      <td>90.0</td>\n",
       "      <td>2.0</td>\n",
       "      <td>574.0</td>\n",
       "      <td>558</td>\n",
       "    </tr>\n",
       "    <tr>\n",
       "      <th>3</th>\n",
       "      <td>0</td>\n",
       "      <td>64900000.0</td>\n",
       "      <td>159.0</td>\n",
       "      <td>2015-07-24</td>\n",
       "      <td>3</td>\n",
       "      <td>2.65</td>\n",
       "      <td>14.0</td>\n",
       "      <td>NaN</td>\n",
       "      <td>9</td>\n",
       "      <td>NaN</td>\n",
       "      <td>False</td>\n",
       "      <td>False</td>\n",
       "      <td>NaN</td>\n",
       "      <td>0.0</td>\n",
       "      <td>Санкт-Петербург</td>\n",
       "      <td>28098.0</td>\n",
       "      <td>6800.0</td>\n",
       "      <td>2.0</td>\n",
       "      <td>84.0</td>\n",
       "      <td>3.0</td>\n",
       "      <td>234.0</td>\n",
       "      <td>424</td>\n",
       "    </tr>\n",
       "    <tr>\n",
       "      <th>4</th>\n",
       "      <td>2</td>\n",
       "      <td>10000000.0</td>\n",
       "      <td>100.0</td>\n",
       "      <td>2018-06-19</td>\n",
       "      <td>2</td>\n",
       "      <td>3.03</td>\n",
       "      <td>14.0</td>\n",
       "      <td>32.0</td>\n",
       "      <td>13</td>\n",
       "      <td>NaN</td>\n",
       "      <td>False</td>\n",
       "      <td>False</td>\n",
       "      <td>41.0</td>\n",
       "      <td>NaN</td>\n",
       "      <td>Санкт-Петербург</td>\n",
       "      <td>31856.0</td>\n",
       "      <td>8098.0</td>\n",
       "      <td>2.0</td>\n",
       "      <td>112.0</td>\n",
       "      <td>1.0</td>\n",
       "      <td>48.0</td>\n",
       "      <td>121</td>\n",
       "    </tr>\n",
       "  </tbody>\n",
       "</table>\n",
       "</div>"
      ],
      "text/plain": [
       "   total_images  last_price  total_area first_day_exposition  rooms  \\\n",
       "0            20  13000000.0       108.0           2019-03-07      3   \n",
       "1             7   3350000.0        40.4           2018-12-04      1   \n",
       "2            10   5196000.0        56.0           2015-08-20      2   \n",
       "3             0  64900000.0       159.0           2015-07-24      3   \n",
       "4             2  10000000.0       100.0           2018-06-19      2   \n",
       "\n",
       "   ceiling_height  floors_total  living_area  floor is_apartment  is_studio  \\\n",
       "0            2.70          16.0         51.0      8          NaN      False   \n",
       "1            2.65          11.0         18.6      1          NaN      False   \n",
       "2            2.65           5.0         34.3      4          NaN      False   \n",
       "3            2.65          14.0          NaN      9          NaN      False   \n",
       "4            3.03          14.0         32.0     13          NaN      False   \n",
       "\n",
       "   is_open_plan  kitchen_area  balcony    locality_name  airports_nearest  \\\n",
       "0         False          25.0      NaN  Санкт-Петербург           18863.0   \n",
       "1         False          11.0      2.0   посёлок Шушары           12817.0   \n",
       "2         False           8.3      0.0  Санкт-Петербург           21741.0   \n",
       "3         False           NaN      0.0  Санкт-Петербург           28098.0   \n",
       "4         False          41.0      NaN  Санкт-Петербург           31856.0   \n",
       "\n",
       "   city_centers_nearest  parks_around_3000  parks_nearest  ponds_around_3000  \\\n",
       "0               16028.0                1.0          482.0                2.0   \n",
       "1               18603.0                0.0            NaN                0.0   \n",
       "2               13933.0                1.0           90.0                2.0   \n",
       "3                6800.0                2.0           84.0                3.0   \n",
       "4                8098.0                2.0          112.0                1.0   \n",
       "\n",
       "   ponds_nearest  days_exposition  \n",
       "0          755.0             <NA>  \n",
       "1            NaN               81  \n",
       "2          574.0              558  \n",
       "3          234.0              424  \n",
       "4           48.0              121  "
      ]
     },
     "execution_count": 13,
     "metadata": {},
     "output_type": "execute_result"
    }
   ],
   "source": [
    "# Из обзора данных мы помним, что пропусков в этом столбце 9195. Заменим их медианой \n",
    "\n",
    "df['ceiling_height'] = df['ceiling_height'].fillna(df['ceiling_height'].median())\n",
    "df.head()"
   ]
  },
  {
   "cell_type": "code",
   "execution_count": 14,
   "metadata": {},
   "outputs": [
    {
     "data": {
      "text/html": [
       "<div>\n",
       "<style scoped>\n",
       "    .dataframe tbody tr th:only-of-type {\n",
       "        vertical-align: middle;\n",
       "    }\n",
       "\n",
       "    .dataframe tbody tr th {\n",
       "        vertical-align: top;\n",
       "    }\n",
       "\n",
       "    .dataframe thead th {\n",
       "        text-align: right;\n",
       "    }\n",
       "</style>\n",
       "<table border=\"1\" class=\"dataframe\">\n",
       "  <thead>\n",
       "    <tr style=\"text-align: right;\">\n",
       "      <th></th>\n",
       "      <th>total_images</th>\n",
       "      <th>last_price</th>\n",
       "      <th>total_area</th>\n",
       "      <th>first_day_exposition</th>\n",
       "      <th>rooms</th>\n",
       "      <th>ceiling_height</th>\n",
       "      <th>floors_total</th>\n",
       "      <th>living_area</th>\n",
       "      <th>floor</th>\n",
       "      <th>is_apartment</th>\n",
       "      <th>is_studio</th>\n",
       "      <th>is_open_plan</th>\n",
       "      <th>kitchen_area</th>\n",
       "      <th>balcony</th>\n",
       "      <th>locality_name</th>\n",
       "      <th>airports_nearest</th>\n",
       "      <th>city_centers_nearest</th>\n",
       "      <th>parks_around_3000</th>\n",
       "      <th>parks_nearest</th>\n",
       "      <th>ponds_around_3000</th>\n",
       "      <th>ponds_nearest</th>\n",
       "      <th>days_exposition</th>\n",
       "    </tr>\n",
       "  </thead>\n",
       "  <tbody>\n",
       "    <tr>\n",
       "      <th>355</th>\n",
       "      <td>17</td>\n",
       "      <td>3600000.0</td>\n",
       "      <td>55.2</td>\n",
       "      <td>2018-07-12</td>\n",
       "      <td>2</td>\n",
       "      <td>25.00</td>\n",
       "      <td>5.0</td>\n",
       "      <td>32.0</td>\n",
       "      <td>2</td>\n",
       "      <td>False</td>\n",
       "      <td>False</td>\n",
       "      <td>False</td>\n",
       "      <td>NaN</td>\n",
       "      <td>2.0</td>\n",
       "      <td>Гатчина</td>\n",
       "      <td>NaN</td>\n",
       "      <td>NaN</td>\n",
       "      <td>NaN</td>\n",
       "      <td>NaN</td>\n",
       "      <td>NaN</td>\n",
       "      <td>NaN</td>\n",
       "      <td>259</td>\n",
       "    </tr>\n",
       "    <tr>\n",
       "      <th>464</th>\n",
       "      <td>15</td>\n",
       "      <td>66571000.0</td>\n",
       "      <td>280.3</td>\n",
       "      <td>2015-06-11</td>\n",
       "      <td>6</td>\n",
       "      <td>5.20</td>\n",
       "      <td>8.0</td>\n",
       "      <td>159.5</td>\n",
       "      <td>7</td>\n",
       "      <td>NaN</td>\n",
       "      <td>False</td>\n",
       "      <td>False</td>\n",
       "      <td>21.10</td>\n",
       "      <td>0.0</td>\n",
       "      <td>Санкт-Петербург</td>\n",
       "      <td>26316.0</td>\n",
       "      <td>6655.0</td>\n",
       "      <td>3.0</td>\n",
       "      <td>187.0</td>\n",
       "      <td>1.0</td>\n",
       "      <td>616.0</td>\n",
       "      <td>578</td>\n",
       "    </tr>\n",
       "    <tr>\n",
       "      <th>1026</th>\n",
       "      <td>20</td>\n",
       "      <td>155000000.0</td>\n",
       "      <td>310.0</td>\n",
       "      <td>2018-10-12</td>\n",
       "      <td>5</td>\n",
       "      <td>5.30</td>\n",
       "      <td>3.0</td>\n",
       "      <td>190.0</td>\n",
       "      <td>3</td>\n",
       "      <td>NaN</td>\n",
       "      <td>False</td>\n",
       "      <td>False</td>\n",
       "      <td>63.00</td>\n",
       "      <td>2.0</td>\n",
       "      <td>Санкт-Петербург</td>\n",
       "      <td>24899.0</td>\n",
       "      <td>4785.0</td>\n",
       "      <td>0.0</td>\n",
       "      <td>NaN</td>\n",
       "      <td>1.0</td>\n",
       "      <td>603.0</td>\n",
       "      <td>&lt;NA&gt;</td>\n",
       "    </tr>\n",
       "    <tr>\n",
       "      <th>1388</th>\n",
       "      <td>20</td>\n",
       "      <td>59800000.0</td>\n",
       "      <td>399.0</td>\n",
       "      <td>2015-01-21</td>\n",
       "      <td>5</td>\n",
       "      <td>5.60</td>\n",
       "      <td>6.0</td>\n",
       "      <td>NaN</td>\n",
       "      <td>6</td>\n",
       "      <td>NaN</td>\n",
       "      <td>False</td>\n",
       "      <td>False</td>\n",
       "      <td>NaN</td>\n",
       "      <td>0.0</td>\n",
       "      <td>Санкт-Петербург</td>\n",
       "      <td>26204.0</td>\n",
       "      <td>6934.0</td>\n",
       "      <td>2.0</td>\n",
       "      <td>149.0</td>\n",
       "      <td>2.0</td>\n",
       "      <td>577.0</td>\n",
       "      <td>719</td>\n",
       "    </tr>\n",
       "    <tr>\n",
       "      <th>3148</th>\n",
       "      <td>14</td>\n",
       "      <td>2900000.0</td>\n",
       "      <td>75.0</td>\n",
       "      <td>2018-11-12</td>\n",
       "      <td>3</td>\n",
       "      <td>32.00</td>\n",
       "      <td>3.0</td>\n",
       "      <td>53.0</td>\n",
       "      <td>2</td>\n",
       "      <td>NaN</td>\n",
       "      <td>False</td>\n",
       "      <td>False</td>\n",
       "      <td>8.00</td>\n",
       "      <td>NaN</td>\n",
       "      <td>Волхов</td>\n",
       "      <td>NaN</td>\n",
       "      <td>NaN</td>\n",
       "      <td>NaN</td>\n",
       "      <td>NaN</td>\n",
       "      <td>NaN</td>\n",
       "      <td>NaN</td>\n",
       "      <td>&lt;NA&gt;</td>\n",
       "    </tr>\n",
       "    <tr>\n",
       "      <th>3474</th>\n",
       "      <td>3</td>\n",
       "      <td>1400000.0</td>\n",
       "      <td>30.0</td>\n",
       "      <td>2018-03-16</td>\n",
       "      <td>1</td>\n",
       "      <td>8.00</td>\n",
       "      <td>5.0</td>\n",
       "      <td>15.3</td>\n",
       "      <td>2</td>\n",
       "      <td>False</td>\n",
       "      <td>False</td>\n",
       "      <td>False</td>\n",
       "      <td>7.30</td>\n",
       "      <td>NaN</td>\n",
       "      <td>деревня Нурма</td>\n",
       "      <td>NaN</td>\n",
       "      <td>NaN</td>\n",
       "      <td>NaN</td>\n",
       "      <td>NaN</td>\n",
       "      <td>NaN</td>\n",
       "      <td>NaN</td>\n",
       "      <td>125</td>\n",
       "    </tr>\n",
       "    <tr>\n",
       "      <th>4643</th>\n",
       "      <td>0</td>\n",
       "      <td>4300000.0</td>\n",
       "      <td>45.0</td>\n",
       "      <td>2018-02-01</td>\n",
       "      <td>2</td>\n",
       "      <td>25.00</td>\n",
       "      <td>9.0</td>\n",
       "      <td>30.0</td>\n",
       "      <td>2</td>\n",
       "      <td>NaN</td>\n",
       "      <td>False</td>\n",
       "      <td>False</td>\n",
       "      <td>7.00</td>\n",
       "      <td>1.0</td>\n",
       "      <td>Санкт-Петербург</td>\n",
       "      <td>12016.0</td>\n",
       "      <td>13256.0</td>\n",
       "      <td>1.0</td>\n",
       "      <td>658.0</td>\n",
       "      <td>1.0</td>\n",
       "      <td>331.0</td>\n",
       "      <td>181</td>\n",
       "    </tr>\n",
       "    <tr>\n",
       "      <th>4876</th>\n",
       "      <td>7</td>\n",
       "      <td>3000000.0</td>\n",
       "      <td>25.0</td>\n",
       "      <td>2017-09-27</td>\n",
       "      <td>0</td>\n",
       "      <td>27.00</td>\n",
       "      <td>25.0</td>\n",
       "      <td>17.0</td>\n",
       "      <td>17</td>\n",
       "      <td>NaN</td>\n",
       "      <td>False</td>\n",
       "      <td>True</td>\n",
       "      <td>NaN</td>\n",
       "      <td>2.0</td>\n",
       "      <td>посёлок Мурино</td>\n",
       "      <td>NaN</td>\n",
       "      <td>NaN</td>\n",
       "      <td>NaN</td>\n",
       "      <td>NaN</td>\n",
       "      <td>NaN</td>\n",
       "      <td>NaN</td>\n",
       "      <td>28</td>\n",
       "    </tr>\n",
       "    <tr>\n",
       "      <th>5076</th>\n",
       "      <td>0</td>\n",
       "      <td>3850000.0</td>\n",
       "      <td>30.5</td>\n",
       "      <td>2018-10-03</td>\n",
       "      <td>1</td>\n",
       "      <td>24.00</td>\n",
       "      <td>5.0</td>\n",
       "      <td>19.5</td>\n",
       "      <td>1</td>\n",
       "      <td>True</td>\n",
       "      <td>False</td>\n",
       "      <td>False</td>\n",
       "      <td>5.50</td>\n",
       "      <td>NaN</td>\n",
       "      <td>Санкт-Петербург</td>\n",
       "      <td>29686.0</td>\n",
       "      <td>8389.0</td>\n",
       "      <td>3.0</td>\n",
       "      <td>397.0</td>\n",
       "      <td>1.0</td>\n",
       "      <td>578.0</td>\n",
       "      <td>7</td>\n",
       "    </tr>\n",
       "    <tr>\n",
       "      <th>5246</th>\n",
       "      <td>0</td>\n",
       "      <td>2500000.0</td>\n",
       "      <td>54.0</td>\n",
       "      <td>2017-10-13</td>\n",
       "      <td>2</td>\n",
       "      <td>27.00</td>\n",
       "      <td>5.0</td>\n",
       "      <td>30.0</td>\n",
       "      <td>3</td>\n",
       "      <td>NaN</td>\n",
       "      <td>False</td>\n",
       "      <td>False</td>\n",
       "      <td>9.00</td>\n",
       "      <td>2.0</td>\n",
       "      <td>деревня Мины</td>\n",
       "      <td>NaN</td>\n",
       "      <td>NaN</td>\n",
       "      <td>NaN</td>\n",
       "      <td>NaN</td>\n",
       "      <td>NaN</td>\n",
       "      <td>NaN</td>\n",
       "      <td>540</td>\n",
       "    </tr>\n",
       "    <tr>\n",
       "      <th>5669</th>\n",
       "      <td>4</td>\n",
       "      <td>4400000.0</td>\n",
       "      <td>50.0</td>\n",
       "      <td>2017-08-08</td>\n",
       "      <td>2</td>\n",
       "      <td>26.00</td>\n",
       "      <td>9.0</td>\n",
       "      <td>21.3</td>\n",
       "      <td>3</td>\n",
       "      <td>NaN</td>\n",
       "      <td>False</td>\n",
       "      <td>False</td>\n",
       "      <td>7.00</td>\n",
       "      <td>2.0</td>\n",
       "      <td>Санкт-Петербург</td>\n",
       "      <td>28981.0</td>\n",
       "      <td>10912.0</td>\n",
       "      <td>1.0</td>\n",
       "      <td>305.0</td>\n",
       "      <td>0.0</td>\n",
       "      <td>NaN</td>\n",
       "      <td>267</td>\n",
       "    </tr>\n",
       "    <tr>\n",
       "      <th>5712</th>\n",
       "      <td>5</td>\n",
       "      <td>1500000.0</td>\n",
       "      <td>42.8</td>\n",
       "      <td>2017-08-14</td>\n",
       "      <td>2</td>\n",
       "      <td>1.20</td>\n",
       "      <td>2.0</td>\n",
       "      <td>27.5</td>\n",
       "      <td>1</td>\n",
       "      <td>NaN</td>\n",
       "      <td>False</td>\n",
       "      <td>False</td>\n",
       "      <td>5.20</td>\n",
       "      <td>NaN</td>\n",
       "      <td>городской посёлок Мга</td>\n",
       "      <td>NaN</td>\n",
       "      <td>NaN</td>\n",
       "      <td>NaN</td>\n",
       "      <td>NaN</td>\n",
       "      <td>NaN</td>\n",
       "      <td>NaN</td>\n",
       "      <td>248</td>\n",
       "    </tr>\n",
       "    <tr>\n",
       "      <th>5807</th>\n",
       "      <td>17</td>\n",
       "      <td>8150000.0</td>\n",
       "      <td>80.0</td>\n",
       "      <td>2019-01-09</td>\n",
       "      <td>2</td>\n",
       "      <td>27.00</td>\n",
       "      <td>36.0</td>\n",
       "      <td>41.0</td>\n",
       "      <td>13</td>\n",
       "      <td>NaN</td>\n",
       "      <td>False</td>\n",
       "      <td>False</td>\n",
       "      <td>12.00</td>\n",
       "      <td>5.0</td>\n",
       "      <td>Санкт-Петербург</td>\n",
       "      <td>18732.0</td>\n",
       "      <td>20444.0</td>\n",
       "      <td>0.0</td>\n",
       "      <td>NaN</td>\n",
       "      <td>3.0</td>\n",
       "      <td>80.0</td>\n",
       "      <td>38</td>\n",
       "    </tr>\n",
       "    <tr>\n",
       "      <th>5863</th>\n",
       "      <td>20</td>\n",
       "      <td>5650000.0</td>\n",
       "      <td>45.0</td>\n",
       "      <td>2018-08-15</td>\n",
       "      <td>1</td>\n",
       "      <td>8.30</td>\n",
       "      <td>16.0</td>\n",
       "      <td>19.3</td>\n",
       "      <td>14</td>\n",
       "      <td>NaN</td>\n",
       "      <td>False</td>\n",
       "      <td>False</td>\n",
       "      <td>8.30</td>\n",
       "      <td>1.0</td>\n",
       "      <td>Санкт-Петербург</td>\n",
       "      <td>13069.0</td>\n",
       "      <td>10763.0</td>\n",
       "      <td>0.0</td>\n",
       "      <td>NaN</td>\n",
       "      <td>1.0</td>\n",
       "      <td>613.0</td>\n",
       "      <td>14</td>\n",
       "    </tr>\n",
       "    <tr>\n",
       "      <th>6246</th>\n",
       "      <td>6</td>\n",
       "      <td>3300000.0</td>\n",
       "      <td>44.4</td>\n",
       "      <td>2019-03-25</td>\n",
       "      <td>2</td>\n",
       "      <td>25.00</td>\n",
       "      <td>5.0</td>\n",
       "      <td>31.3</td>\n",
       "      <td>5</td>\n",
       "      <td>NaN</td>\n",
       "      <td>False</td>\n",
       "      <td>False</td>\n",
       "      <td>5.70</td>\n",
       "      <td>NaN</td>\n",
       "      <td>Кронштадт</td>\n",
       "      <td>68923.0</td>\n",
       "      <td>50649.0</td>\n",
       "      <td>1.0</td>\n",
       "      <td>417.0</td>\n",
       "      <td>2.0</td>\n",
       "      <td>73.0</td>\n",
       "      <td>&lt;NA&gt;</td>\n",
       "    </tr>\n",
       "    <tr>\n",
       "      <th>7578</th>\n",
       "      <td>17</td>\n",
       "      <td>38000000.0</td>\n",
       "      <td>143.0</td>\n",
       "      <td>2017-11-02</td>\n",
       "      <td>3</td>\n",
       "      <td>5.50</td>\n",
       "      <td>5.0</td>\n",
       "      <td>83.0</td>\n",
       "      <td>5</td>\n",
       "      <td>NaN</td>\n",
       "      <td>False</td>\n",
       "      <td>False</td>\n",
       "      <td>29.00</td>\n",
       "      <td>1.0</td>\n",
       "      <td>Санкт-Петербург</td>\n",
       "      <td>26333.0</td>\n",
       "      <td>6448.0</td>\n",
       "      <td>3.0</td>\n",
       "      <td>479.0</td>\n",
       "      <td>0.0</td>\n",
       "      <td>NaN</td>\n",
       "      <td>&lt;NA&gt;</td>\n",
       "    </tr>\n",
       "    <tr>\n",
       "      <th>9379</th>\n",
       "      <td>5</td>\n",
       "      <td>3950000.0</td>\n",
       "      <td>42.0</td>\n",
       "      <td>2017-03-26</td>\n",
       "      <td>3</td>\n",
       "      <td>25.00</td>\n",
       "      <td>5.0</td>\n",
       "      <td>30.0</td>\n",
       "      <td>2</td>\n",
       "      <td>NaN</td>\n",
       "      <td>False</td>\n",
       "      <td>False</td>\n",
       "      <td>5.20</td>\n",
       "      <td>NaN</td>\n",
       "      <td>Санкт-Петербург</td>\n",
       "      <td>11647.0</td>\n",
       "      <td>13581.0</td>\n",
       "      <td>0.0</td>\n",
       "      <td>NaN</td>\n",
       "      <td>0.0</td>\n",
       "      <td>NaN</td>\n",
       "      <td>&lt;NA&gt;</td>\n",
       "    </tr>\n",
       "    <tr>\n",
       "      <th>10773</th>\n",
       "      <td>8</td>\n",
       "      <td>3800000.0</td>\n",
       "      <td>58.0</td>\n",
       "      <td>2017-10-13</td>\n",
       "      <td>2</td>\n",
       "      <td>27.00</td>\n",
       "      <td>10.0</td>\n",
       "      <td>30.1</td>\n",
       "      <td>3</td>\n",
       "      <td>False</td>\n",
       "      <td>False</td>\n",
       "      <td>False</td>\n",
       "      <td>8.10</td>\n",
       "      <td>2.0</td>\n",
       "      <td>посёлок Мурино</td>\n",
       "      <td>NaN</td>\n",
       "      <td>NaN</td>\n",
       "      <td>NaN</td>\n",
       "      <td>NaN</td>\n",
       "      <td>NaN</td>\n",
       "      <td>NaN</td>\n",
       "      <td>71</td>\n",
       "    </tr>\n",
       "    <tr>\n",
       "      <th>11285</th>\n",
       "      <td>0</td>\n",
       "      <td>1950000.0</td>\n",
       "      <td>37.0</td>\n",
       "      <td>2019-03-20</td>\n",
       "      <td>1</td>\n",
       "      <td>25.00</td>\n",
       "      <td>5.0</td>\n",
       "      <td>17.0</td>\n",
       "      <td>4</td>\n",
       "      <td>False</td>\n",
       "      <td>False</td>\n",
       "      <td>False</td>\n",
       "      <td>9.00</td>\n",
       "      <td>2.0</td>\n",
       "      <td>Луга</td>\n",
       "      <td>NaN</td>\n",
       "      <td>NaN</td>\n",
       "      <td>NaN</td>\n",
       "      <td>NaN</td>\n",
       "      <td>NaN</td>\n",
       "      <td>NaN</td>\n",
       "      <td>18</td>\n",
       "    </tr>\n",
       "    <tr>\n",
       "      <th>12628</th>\n",
       "      <td>14</td>\n",
       "      <td>3900000.0</td>\n",
       "      <td>50.0</td>\n",
       "      <td>2018-03-29</td>\n",
       "      <td>1</td>\n",
       "      <td>5.30</td>\n",
       "      <td>5.0</td>\n",
       "      <td>NaN</td>\n",
       "      <td>5</td>\n",
       "      <td>NaN</td>\n",
       "      <td>False</td>\n",
       "      <td>False</td>\n",
       "      <td>NaN</td>\n",
       "      <td>NaN</td>\n",
       "      <td>Санкт-Петербург</td>\n",
       "      <td>19644.0</td>\n",
       "      <td>3918.0</td>\n",
       "      <td>1.0</td>\n",
       "      <td>505.0</td>\n",
       "      <td>1.0</td>\n",
       "      <td>92.0</td>\n",
       "      <td>8</td>\n",
       "    </tr>\n",
       "    <tr>\n",
       "      <th>14382</th>\n",
       "      <td>9</td>\n",
       "      <td>1700000.0</td>\n",
       "      <td>35.0</td>\n",
       "      <td>2015-12-04</td>\n",
       "      <td>1</td>\n",
       "      <td>25.00</td>\n",
       "      <td>5.0</td>\n",
       "      <td>20.0</td>\n",
       "      <td>2</td>\n",
       "      <td>False</td>\n",
       "      <td>False</td>\n",
       "      <td>False</td>\n",
       "      <td>8.00</td>\n",
       "      <td>1.0</td>\n",
       "      <td>поселок Новый Свет</td>\n",
       "      <td>NaN</td>\n",
       "      <td>NaN</td>\n",
       "      <td>NaN</td>\n",
       "      <td>NaN</td>\n",
       "      <td>NaN</td>\n",
       "      <td>NaN</td>\n",
       "      <td>206</td>\n",
       "    </tr>\n",
       "    <tr>\n",
       "      <th>15061</th>\n",
       "      <td>19</td>\n",
       "      <td>5600000.0</td>\n",
       "      <td>56.4</td>\n",
       "      <td>2018-05-11</td>\n",
       "      <td>2</td>\n",
       "      <td>14.00</td>\n",
       "      <td>14.0</td>\n",
       "      <td>32.4</td>\n",
       "      <td>5</td>\n",
       "      <td>NaN</td>\n",
       "      <td>False</td>\n",
       "      <td>False</td>\n",
       "      <td>9.10</td>\n",
       "      <td>2.0</td>\n",
       "      <td>Санкт-Петербург</td>\n",
       "      <td>14814.0</td>\n",
       "      <td>13610.0</td>\n",
       "      <td>0.0</td>\n",
       "      <td>NaN</td>\n",
       "      <td>0.0</td>\n",
       "      <td>NaN</td>\n",
       "      <td>315</td>\n",
       "    </tr>\n",
       "    <tr>\n",
       "      <th>15743</th>\n",
       "      <td>14</td>\n",
       "      <td>5600000.0</td>\n",
       "      <td>67.0</td>\n",
       "      <td>2016-11-11</td>\n",
       "      <td>3</td>\n",
       "      <td>8.00</td>\n",
       "      <td>16.0</td>\n",
       "      <td>41.0</td>\n",
       "      <td>1</td>\n",
       "      <td>NaN</td>\n",
       "      <td>False</td>\n",
       "      <td>False</td>\n",
       "      <td>8.00</td>\n",
       "      <td>NaN</td>\n",
       "      <td>Санкт-Петербург</td>\n",
       "      <td>32691.0</td>\n",
       "      <td>11035.0</td>\n",
       "      <td>1.0</td>\n",
       "      <td>723.0</td>\n",
       "      <td>0.0</td>\n",
       "      <td>NaN</td>\n",
       "      <td>474</td>\n",
       "    </tr>\n",
       "    <tr>\n",
       "      <th>16934</th>\n",
       "      <td>5</td>\n",
       "      <td>4100000.0</td>\n",
       "      <td>40.0</td>\n",
       "      <td>2017-10-17</td>\n",
       "      <td>1</td>\n",
       "      <td>1.75</td>\n",
       "      <td>37.0</td>\n",
       "      <td>17.4</td>\n",
       "      <td>5</td>\n",
       "      <td>NaN</td>\n",
       "      <td>False</td>\n",
       "      <td>False</td>\n",
       "      <td>8.34</td>\n",
       "      <td>NaN</td>\n",
       "      <td>Санкт-Петербург</td>\n",
       "      <td>18732.0</td>\n",
       "      <td>20444.0</td>\n",
       "      <td>0.0</td>\n",
       "      <td>NaN</td>\n",
       "      <td>3.0</td>\n",
       "      <td>80.0</td>\n",
       "      <td>71</td>\n",
       "    </tr>\n",
       "    <tr>\n",
       "      <th>17442</th>\n",
       "      <td>0</td>\n",
       "      <td>5350000.0</td>\n",
       "      <td>54.0</td>\n",
       "      <td>2015-06-16</td>\n",
       "      <td>2</td>\n",
       "      <td>8.00</td>\n",
       "      <td>5.0</td>\n",
       "      <td>29.0</td>\n",
       "      <td>2</td>\n",
       "      <td>NaN</td>\n",
       "      <td>False</td>\n",
       "      <td>False</td>\n",
       "      <td>NaN</td>\n",
       "      <td>1.0</td>\n",
       "      <td>Красное Село</td>\n",
       "      <td>24638.0</td>\n",
       "      <td>28062.0</td>\n",
       "      <td>0.0</td>\n",
       "      <td>NaN</td>\n",
       "      <td>0.0</td>\n",
       "      <td>NaN</td>\n",
       "      <td>469</td>\n",
       "    </tr>\n",
       "    <tr>\n",
       "      <th>17496</th>\n",
       "      <td>15</td>\n",
       "      <td>6700000.0</td>\n",
       "      <td>92.9</td>\n",
       "      <td>2019-02-19</td>\n",
       "      <td>3</td>\n",
       "      <td>20.00</td>\n",
       "      <td>17.0</td>\n",
       "      <td>53.2</td>\n",
       "      <td>14</td>\n",
       "      <td>NaN</td>\n",
       "      <td>False</td>\n",
       "      <td>False</td>\n",
       "      <td>12.00</td>\n",
       "      <td>5.0</td>\n",
       "      <td>Санкт-Петербург</td>\n",
       "      <td>16295.0</td>\n",
       "      <td>15092.0</td>\n",
       "      <td>1.0</td>\n",
       "      <td>967.0</td>\n",
       "      <td>0.0</td>\n",
       "      <td>NaN</td>\n",
       "      <td>&lt;NA&gt;</td>\n",
       "    </tr>\n",
       "    <tr>\n",
       "      <th>17857</th>\n",
       "      <td>1</td>\n",
       "      <td>3900000.0</td>\n",
       "      <td>56.0</td>\n",
       "      <td>2017-12-22</td>\n",
       "      <td>3</td>\n",
       "      <td>27.00</td>\n",
       "      <td>5.0</td>\n",
       "      <td>33.0</td>\n",
       "      <td>4</td>\n",
       "      <td>False</td>\n",
       "      <td>False</td>\n",
       "      <td>False</td>\n",
       "      <td>NaN</td>\n",
       "      <td>NaN</td>\n",
       "      <td>Санкт-Петербург</td>\n",
       "      <td>41030.0</td>\n",
       "      <td>15543.0</td>\n",
       "      <td>0.0</td>\n",
       "      <td>NaN</td>\n",
       "      <td>0.0</td>\n",
       "      <td>NaN</td>\n",
       "      <td>73</td>\n",
       "    </tr>\n",
       "    <tr>\n",
       "      <th>18545</th>\n",
       "      <td>6</td>\n",
       "      <td>3750000.0</td>\n",
       "      <td>43.0</td>\n",
       "      <td>2019-03-18</td>\n",
       "      <td>2</td>\n",
       "      <td>25.00</td>\n",
       "      <td>5.0</td>\n",
       "      <td>29.0</td>\n",
       "      <td>3</td>\n",
       "      <td>False</td>\n",
       "      <td>False</td>\n",
       "      <td>False</td>\n",
       "      <td>NaN</td>\n",
       "      <td>NaN</td>\n",
       "      <td>Санкт-Петербург</td>\n",
       "      <td>27054.0</td>\n",
       "      <td>8033.0</td>\n",
       "      <td>1.0</td>\n",
       "      <td>540.0</td>\n",
       "      <td>0.0</td>\n",
       "      <td>NaN</td>\n",
       "      <td>12</td>\n",
       "    </tr>\n",
       "    <tr>\n",
       "      <th>20264</th>\n",
       "      <td>17</td>\n",
       "      <td>119000000.0</td>\n",
       "      <td>187.6</td>\n",
       "      <td>2017-07-10</td>\n",
       "      <td>4</td>\n",
       "      <td>6.00</td>\n",
       "      <td>7.0</td>\n",
       "      <td>147.0</td>\n",
       "      <td>7</td>\n",
       "      <td>NaN</td>\n",
       "      <td>False</td>\n",
       "      <td>False</td>\n",
       "      <td>15.60</td>\n",
       "      <td>NaN</td>\n",
       "      <td>Санкт-Петербург</td>\n",
       "      <td>26902.0</td>\n",
       "      <td>5605.0</td>\n",
       "      <td>3.0</td>\n",
       "      <td>484.0</td>\n",
       "      <td>1.0</td>\n",
       "      <td>305.0</td>\n",
       "      <td>259</td>\n",
       "    </tr>\n",
       "    <tr>\n",
       "      <th>20478</th>\n",
       "      <td>11</td>\n",
       "      <td>8000000.0</td>\n",
       "      <td>45.0</td>\n",
       "      <td>2017-07-18</td>\n",
       "      <td>1</td>\n",
       "      <td>27.00</td>\n",
       "      <td>4.0</td>\n",
       "      <td>22.0</td>\n",
       "      <td>2</td>\n",
       "      <td>NaN</td>\n",
       "      <td>False</td>\n",
       "      <td>False</td>\n",
       "      <td>10.00</td>\n",
       "      <td>1.0</td>\n",
       "      <td>Санкт-Петербург</td>\n",
       "      <td>18975.0</td>\n",
       "      <td>3246.0</td>\n",
       "      <td>0.0</td>\n",
       "      <td>NaN</td>\n",
       "      <td>3.0</td>\n",
       "      <td>449.0</td>\n",
       "      <td>429</td>\n",
       "    </tr>\n",
       "    <tr>\n",
       "      <th>20507</th>\n",
       "      <td>12</td>\n",
       "      <td>5950000.0</td>\n",
       "      <td>60.0</td>\n",
       "      <td>2018-02-19</td>\n",
       "      <td>2</td>\n",
       "      <td>22.60</td>\n",
       "      <td>14.0</td>\n",
       "      <td>35.0</td>\n",
       "      <td>11</td>\n",
       "      <td>NaN</td>\n",
       "      <td>False</td>\n",
       "      <td>False</td>\n",
       "      <td>13.00</td>\n",
       "      <td>1.0</td>\n",
       "      <td>Санкт-Петербург</td>\n",
       "      <td>27028.0</td>\n",
       "      <td>12570.0</td>\n",
       "      <td>0.0</td>\n",
       "      <td>NaN</td>\n",
       "      <td>0.0</td>\n",
       "      <td>NaN</td>\n",
       "      <td>40</td>\n",
       "    </tr>\n",
       "    <tr>\n",
       "      <th>21227</th>\n",
       "      <td>0</td>\n",
       "      <td>8200000.0</td>\n",
       "      <td>71.0</td>\n",
       "      <td>2017-07-21</td>\n",
       "      <td>0</td>\n",
       "      <td>5.80</td>\n",
       "      <td>5.0</td>\n",
       "      <td>68.0</td>\n",
       "      <td>5</td>\n",
       "      <td>NaN</td>\n",
       "      <td>True</td>\n",
       "      <td>False</td>\n",
       "      <td>NaN</td>\n",
       "      <td>0.0</td>\n",
       "      <td>Санкт-Петербург</td>\n",
       "      <td>20170.0</td>\n",
       "      <td>1261.0</td>\n",
       "      <td>2.0</td>\n",
       "      <td>295.0</td>\n",
       "      <td>3.0</td>\n",
       "      <td>366.0</td>\n",
       "      <td>30</td>\n",
       "    </tr>\n",
       "    <tr>\n",
       "      <th>21377</th>\n",
       "      <td>19</td>\n",
       "      <td>4900000.0</td>\n",
       "      <td>42.0</td>\n",
       "      <td>2017-04-18</td>\n",
       "      <td>1</td>\n",
       "      <td>27.50</td>\n",
       "      <td>24.0</td>\n",
       "      <td>37.7</td>\n",
       "      <td>19</td>\n",
       "      <td>False</td>\n",
       "      <td>False</td>\n",
       "      <td>False</td>\n",
       "      <td>11.00</td>\n",
       "      <td>2.0</td>\n",
       "      <td>Санкт-Петербург</td>\n",
       "      <td>42742.0</td>\n",
       "      <td>9760.0</td>\n",
       "      <td>0.0</td>\n",
       "      <td>NaN</td>\n",
       "      <td>0.0</td>\n",
       "      <td>NaN</td>\n",
       "      <td>61</td>\n",
       "    </tr>\n",
       "    <tr>\n",
       "      <th>21824</th>\n",
       "      <td>20</td>\n",
       "      <td>2450000.0</td>\n",
       "      <td>44.0</td>\n",
       "      <td>2019-02-12</td>\n",
       "      <td>2</td>\n",
       "      <td>27.00</td>\n",
       "      <td>2.0</td>\n",
       "      <td>38.0</td>\n",
       "      <td>2</td>\n",
       "      <td>False</td>\n",
       "      <td>False</td>\n",
       "      <td>False</td>\n",
       "      <td>8.60</td>\n",
       "      <td>2.0</td>\n",
       "      <td>городской поселок Большая Ижора</td>\n",
       "      <td>NaN</td>\n",
       "      <td>NaN</td>\n",
       "      <td>NaN</td>\n",
       "      <td>NaN</td>\n",
       "      <td>NaN</td>\n",
       "      <td>NaN</td>\n",
       "      <td>&lt;NA&gt;</td>\n",
       "    </tr>\n",
       "    <tr>\n",
       "      <th>22309</th>\n",
       "      <td>20</td>\n",
       "      <td>5300000.0</td>\n",
       "      <td>45.0</td>\n",
       "      <td>2017-09-30</td>\n",
       "      <td>1</td>\n",
       "      <td>10.30</td>\n",
       "      <td>16.0</td>\n",
       "      <td>15.5</td>\n",
       "      <td>15</td>\n",
       "      <td>NaN</td>\n",
       "      <td>False</td>\n",
       "      <td>False</td>\n",
       "      <td>NaN</td>\n",
       "      <td>NaN</td>\n",
       "      <td>Санкт-Петербург</td>\n",
       "      <td>36353.0</td>\n",
       "      <td>11936.0</td>\n",
       "      <td>2.0</td>\n",
       "      <td>440.0</td>\n",
       "      <td>2.0</td>\n",
       "      <td>450.0</td>\n",
       "      <td>136</td>\n",
       "    </tr>\n",
       "    <tr>\n",
       "      <th>22336</th>\n",
       "      <td>19</td>\n",
       "      <td>9999000.0</td>\n",
       "      <td>92.4</td>\n",
       "      <td>2019-04-05</td>\n",
       "      <td>2</td>\n",
       "      <td>32.00</td>\n",
       "      <td>6.0</td>\n",
       "      <td>55.5</td>\n",
       "      <td>5</td>\n",
       "      <td>False</td>\n",
       "      <td>False</td>\n",
       "      <td>False</td>\n",
       "      <td>16.50</td>\n",
       "      <td>4.0</td>\n",
       "      <td>Санкт-Петербург</td>\n",
       "      <td>18838.0</td>\n",
       "      <td>3506.0</td>\n",
       "      <td>0.0</td>\n",
       "      <td>NaN</td>\n",
       "      <td>3.0</td>\n",
       "      <td>511.0</td>\n",
       "      <td>&lt;NA&gt;</td>\n",
       "    </tr>\n",
       "    <tr>\n",
       "      <th>22590</th>\n",
       "      <td>16</td>\n",
       "      <td>6000000.0</td>\n",
       "      <td>55.0</td>\n",
       "      <td>2018-10-31</td>\n",
       "      <td>2</td>\n",
       "      <td>1.00</td>\n",
       "      <td>12.0</td>\n",
       "      <td>32.4</td>\n",
       "      <td>7</td>\n",
       "      <td>NaN</td>\n",
       "      <td>False</td>\n",
       "      <td>False</td>\n",
       "      <td>10.00</td>\n",
       "      <td>NaN</td>\n",
       "      <td>Санкт-Петербург</td>\n",
       "      <td>33053.0</td>\n",
       "      <td>14217.0</td>\n",
       "      <td>2.0</td>\n",
       "      <td>293.0</td>\n",
       "      <td>2.0</td>\n",
       "      <td>289.0</td>\n",
       "      <td>13</td>\n",
       "    </tr>\n",
       "    <tr>\n",
       "      <th>22869</th>\n",
       "      <td>0</td>\n",
       "      <td>15000000.0</td>\n",
       "      <td>25.0</td>\n",
       "      <td>2018-07-25</td>\n",
       "      <td>1</td>\n",
       "      <td>100.00</td>\n",
       "      <td>5.0</td>\n",
       "      <td>14.0</td>\n",
       "      <td>5</td>\n",
       "      <td>True</td>\n",
       "      <td>False</td>\n",
       "      <td>False</td>\n",
       "      <td>11.00</td>\n",
       "      <td>5.0</td>\n",
       "      <td>Санкт-Петербург</td>\n",
       "      <td>34963.0</td>\n",
       "      <td>8283.0</td>\n",
       "      <td>1.0</td>\n",
       "      <td>223.0</td>\n",
       "      <td>3.0</td>\n",
       "      <td>30.0</td>\n",
       "      <td>19</td>\n",
       "    </tr>\n",
       "    <tr>\n",
       "      <th>22938</th>\n",
       "      <td>14</td>\n",
       "      <td>4000000.0</td>\n",
       "      <td>98.0</td>\n",
       "      <td>2018-03-15</td>\n",
       "      <td>4</td>\n",
       "      <td>27.00</td>\n",
       "      <td>2.0</td>\n",
       "      <td>73.0</td>\n",
       "      <td>2</td>\n",
       "      <td>True</td>\n",
       "      <td>False</td>\n",
       "      <td>False</td>\n",
       "      <td>9.00</td>\n",
       "      <td>1.0</td>\n",
       "      <td>деревня Нижняя</td>\n",
       "      <td>NaN</td>\n",
       "      <td>NaN</td>\n",
       "      <td>NaN</td>\n",
       "      <td>NaN</td>\n",
       "      <td>NaN</td>\n",
       "      <td>NaN</td>\n",
       "      <td>27</td>\n",
       "    </tr>\n",
       "  </tbody>\n",
       "</table>\n",
       "</div>"
      ],
      "text/plain": [
       "       total_images   last_price  total_area first_day_exposition  rooms  \\\n",
       "355              17    3600000.0        55.2           2018-07-12      2   \n",
       "464              15   66571000.0       280.3           2015-06-11      6   \n",
       "1026             20  155000000.0       310.0           2018-10-12      5   \n",
       "1388             20   59800000.0       399.0           2015-01-21      5   \n",
       "3148             14    2900000.0        75.0           2018-11-12      3   \n",
       "3474              3    1400000.0        30.0           2018-03-16      1   \n",
       "4643              0    4300000.0        45.0           2018-02-01      2   \n",
       "4876              7    3000000.0        25.0           2017-09-27      0   \n",
       "5076              0    3850000.0        30.5           2018-10-03      1   \n",
       "5246              0    2500000.0        54.0           2017-10-13      2   \n",
       "5669              4    4400000.0        50.0           2017-08-08      2   \n",
       "5712              5    1500000.0        42.8           2017-08-14      2   \n",
       "5807             17    8150000.0        80.0           2019-01-09      2   \n",
       "5863             20    5650000.0        45.0           2018-08-15      1   \n",
       "6246              6    3300000.0        44.4           2019-03-25      2   \n",
       "7578             17   38000000.0       143.0           2017-11-02      3   \n",
       "9379              5    3950000.0        42.0           2017-03-26      3   \n",
       "10773             8    3800000.0        58.0           2017-10-13      2   \n",
       "11285             0    1950000.0        37.0           2019-03-20      1   \n",
       "12628            14    3900000.0        50.0           2018-03-29      1   \n",
       "14382             9    1700000.0        35.0           2015-12-04      1   \n",
       "15061            19    5600000.0        56.4           2018-05-11      2   \n",
       "15743            14    5600000.0        67.0           2016-11-11      3   \n",
       "16934             5    4100000.0        40.0           2017-10-17      1   \n",
       "17442             0    5350000.0        54.0           2015-06-16      2   \n",
       "17496            15    6700000.0        92.9           2019-02-19      3   \n",
       "17857             1    3900000.0        56.0           2017-12-22      3   \n",
       "18545             6    3750000.0        43.0           2019-03-18      2   \n",
       "20264            17  119000000.0       187.6           2017-07-10      4   \n",
       "20478            11    8000000.0        45.0           2017-07-18      1   \n",
       "20507            12    5950000.0        60.0           2018-02-19      2   \n",
       "21227             0    8200000.0        71.0           2017-07-21      0   \n",
       "21377            19    4900000.0        42.0           2017-04-18      1   \n",
       "21824            20    2450000.0        44.0           2019-02-12      2   \n",
       "22309            20    5300000.0        45.0           2017-09-30      1   \n",
       "22336            19    9999000.0        92.4           2019-04-05      2   \n",
       "22590            16    6000000.0        55.0           2018-10-31      2   \n",
       "22869             0   15000000.0        25.0           2018-07-25      1   \n",
       "22938            14    4000000.0        98.0           2018-03-15      4   \n",
       "\n",
       "       ceiling_height  floors_total  living_area  floor is_apartment  \\\n",
       "355             25.00           5.0         32.0      2        False   \n",
       "464              5.20           8.0        159.5      7          NaN   \n",
       "1026             5.30           3.0        190.0      3          NaN   \n",
       "1388             5.60           6.0          NaN      6          NaN   \n",
       "3148            32.00           3.0         53.0      2          NaN   \n",
       "3474             8.00           5.0         15.3      2        False   \n",
       "4643            25.00           9.0         30.0      2          NaN   \n",
       "4876            27.00          25.0         17.0     17          NaN   \n",
       "5076            24.00           5.0         19.5      1         True   \n",
       "5246            27.00           5.0         30.0      3          NaN   \n",
       "5669            26.00           9.0         21.3      3          NaN   \n",
       "5712             1.20           2.0         27.5      1          NaN   \n",
       "5807            27.00          36.0         41.0     13          NaN   \n",
       "5863             8.30          16.0         19.3     14          NaN   \n",
       "6246            25.00           5.0         31.3      5          NaN   \n",
       "7578             5.50           5.0         83.0      5          NaN   \n",
       "9379            25.00           5.0         30.0      2          NaN   \n",
       "10773           27.00          10.0         30.1      3        False   \n",
       "11285           25.00           5.0         17.0      4        False   \n",
       "12628            5.30           5.0          NaN      5          NaN   \n",
       "14382           25.00           5.0         20.0      2        False   \n",
       "15061           14.00          14.0         32.4      5          NaN   \n",
       "15743            8.00          16.0         41.0      1          NaN   \n",
       "16934            1.75          37.0         17.4      5          NaN   \n",
       "17442            8.00           5.0         29.0      2          NaN   \n",
       "17496           20.00          17.0         53.2     14          NaN   \n",
       "17857           27.00           5.0         33.0      4        False   \n",
       "18545           25.00           5.0         29.0      3        False   \n",
       "20264            6.00           7.0        147.0      7          NaN   \n",
       "20478           27.00           4.0         22.0      2          NaN   \n",
       "20507           22.60          14.0         35.0     11          NaN   \n",
       "21227            5.80           5.0         68.0      5          NaN   \n",
       "21377           27.50          24.0         37.7     19        False   \n",
       "21824           27.00           2.0         38.0      2        False   \n",
       "22309           10.30          16.0         15.5     15          NaN   \n",
       "22336           32.00           6.0         55.5      5        False   \n",
       "22590            1.00          12.0         32.4      7          NaN   \n",
       "22869          100.00           5.0         14.0      5         True   \n",
       "22938           27.00           2.0         73.0      2         True   \n",
       "\n",
       "       is_studio  is_open_plan  kitchen_area  balcony  \\\n",
       "355        False         False           NaN      2.0   \n",
       "464        False         False         21.10      0.0   \n",
       "1026       False         False         63.00      2.0   \n",
       "1388       False         False           NaN      0.0   \n",
       "3148       False         False          8.00      NaN   \n",
       "3474       False         False          7.30      NaN   \n",
       "4643       False         False          7.00      1.0   \n",
       "4876       False          True           NaN      2.0   \n",
       "5076       False         False          5.50      NaN   \n",
       "5246       False         False          9.00      2.0   \n",
       "5669       False         False          7.00      2.0   \n",
       "5712       False         False          5.20      NaN   \n",
       "5807       False         False         12.00      5.0   \n",
       "5863       False         False          8.30      1.0   \n",
       "6246       False         False          5.70      NaN   \n",
       "7578       False         False         29.00      1.0   \n",
       "9379       False         False          5.20      NaN   \n",
       "10773      False         False          8.10      2.0   \n",
       "11285      False         False          9.00      2.0   \n",
       "12628      False         False           NaN      NaN   \n",
       "14382      False         False          8.00      1.0   \n",
       "15061      False         False          9.10      2.0   \n",
       "15743      False         False          8.00      NaN   \n",
       "16934      False         False          8.34      NaN   \n",
       "17442      False         False           NaN      1.0   \n",
       "17496      False         False         12.00      5.0   \n",
       "17857      False         False           NaN      NaN   \n",
       "18545      False         False           NaN      NaN   \n",
       "20264      False         False         15.60      NaN   \n",
       "20478      False         False         10.00      1.0   \n",
       "20507      False         False         13.00      1.0   \n",
       "21227       True         False           NaN      0.0   \n",
       "21377      False         False         11.00      2.0   \n",
       "21824      False         False          8.60      2.0   \n",
       "22309      False         False           NaN      NaN   \n",
       "22336      False         False         16.50      4.0   \n",
       "22590      False         False         10.00      NaN   \n",
       "22869      False         False         11.00      5.0   \n",
       "22938      False         False          9.00      1.0   \n",
       "\n",
       "                         locality_name  airports_nearest  \\\n",
       "355                            Гатчина               NaN   \n",
       "464                    Санкт-Петербург           26316.0   \n",
       "1026                   Санкт-Петербург           24899.0   \n",
       "1388                   Санкт-Петербург           26204.0   \n",
       "3148                            Волхов               NaN   \n",
       "3474                     деревня Нурма               NaN   \n",
       "4643                   Санкт-Петербург           12016.0   \n",
       "4876                    посёлок Мурино               NaN   \n",
       "5076                   Санкт-Петербург           29686.0   \n",
       "5246                      деревня Мины               NaN   \n",
       "5669                   Санкт-Петербург           28981.0   \n",
       "5712             городской посёлок Мга               NaN   \n",
       "5807                   Санкт-Петербург           18732.0   \n",
       "5863                   Санкт-Петербург           13069.0   \n",
       "6246                         Кронштадт           68923.0   \n",
       "7578                   Санкт-Петербург           26333.0   \n",
       "9379                   Санкт-Петербург           11647.0   \n",
       "10773                   посёлок Мурино               NaN   \n",
       "11285                             Луга               NaN   \n",
       "12628                  Санкт-Петербург           19644.0   \n",
       "14382               поселок Новый Свет               NaN   \n",
       "15061                  Санкт-Петербург           14814.0   \n",
       "15743                  Санкт-Петербург           32691.0   \n",
       "16934                  Санкт-Петербург           18732.0   \n",
       "17442                     Красное Село           24638.0   \n",
       "17496                  Санкт-Петербург           16295.0   \n",
       "17857                  Санкт-Петербург           41030.0   \n",
       "18545                  Санкт-Петербург           27054.0   \n",
       "20264                  Санкт-Петербург           26902.0   \n",
       "20478                  Санкт-Петербург           18975.0   \n",
       "20507                  Санкт-Петербург           27028.0   \n",
       "21227                  Санкт-Петербург           20170.0   \n",
       "21377                  Санкт-Петербург           42742.0   \n",
       "21824  городской поселок Большая Ижора               NaN   \n",
       "22309                  Санкт-Петербург           36353.0   \n",
       "22336                  Санкт-Петербург           18838.0   \n",
       "22590                  Санкт-Петербург           33053.0   \n",
       "22869                  Санкт-Петербург           34963.0   \n",
       "22938                   деревня Нижняя               NaN   \n",
       "\n",
       "       city_centers_nearest  parks_around_3000  parks_nearest  \\\n",
       "355                     NaN                NaN            NaN   \n",
       "464                  6655.0                3.0          187.0   \n",
       "1026                 4785.0                0.0            NaN   \n",
       "1388                 6934.0                2.0          149.0   \n",
       "3148                    NaN                NaN            NaN   \n",
       "3474                    NaN                NaN            NaN   \n",
       "4643                13256.0                1.0          658.0   \n",
       "4876                    NaN                NaN            NaN   \n",
       "5076                 8389.0                3.0          397.0   \n",
       "5246                    NaN                NaN            NaN   \n",
       "5669                10912.0                1.0          305.0   \n",
       "5712                    NaN                NaN            NaN   \n",
       "5807                20444.0                0.0            NaN   \n",
       "5863                10763.0                0.0            NaN   \n",
       "6246                50649.0                1.0          417.0   \n",
       "7578                 6448.0                3.0          479.0   \n",
       "9379                13581.0                0.0            NaN   \n",
       "10773                   NaN                NaN            NaN   \n",
       "11285                   NaN                NaN            NaN   \n",
       "12628                3918.0                1.0          505.0   \n",
       "14382                   NaN                NaN            NaN   \n",
       "15061               13610.0                0.0            NaN   \n",
       "15743               11035.0                1.0          723.0   \n",
       "16934               20444.0                0.0            NaN   \n",
       "17442               28062.0                0.0            NaN   \n",
       "17496               15092.0                1.0          967.0   \n",
       "17857               15543.0                0.0            NaN   \n",
       "18545                8033.0                1.0          540.0   \n",
       "20264                5605.0                3.0          484.0   \n",
       "20478                3246.0                0.0            NaN   \n",
       "20507               12570.0                0.0            NaN   \n",
       "21227                1261.0                2.0          295.0   \n",
       "21377                9760.0                0.0            NaN   \n",
       "21824                   NaN                NaN            NaN   \n",
       "22309               11936.0                2.0          440.0   \n",
       "22336                3506.0                0.0            NaN   \n",
       "22590               14217.0                2.0          293.0   \n",
       "22869                8283.0                1.0          223.0   \n",
       "22938                   NaN                NaN            NaN   \n",
       "\n",
       "       ponds_around_3000  ponds_nearest  days_exposition  \n",
       "355                  NaN            NaN              259  \n",
       "464                  1.0          616.0              578  \n",
       "1026                 1.0          603.0             <NA>  \n",
       "1388                 2.0          577.0              719  \n",
       "3148                 NaN            NaN             <NA>  \n",
       "3474                 NaN            NaN              125  \n",
       "4643                 1.0          331.0              181  \n",
       "4876                 NaN            NaN               28  \n",
       "5076                 1.0          578.0                7  \n",
       "5246                 NaN            NaN              540  \n",
       "5669                 0.0            NaN              267  \n",
       "5712                 NaN            NaN              248  \n",
       "5807                 3.0           80.0               38  \n",
       "5863                 1.0          613.0               14  \n",
       "6246                 2.0           73.0             <NA>  \n",
       "7578                 0.0            NaN             <NA>  \n",
       "9379                 0.0            NaN             <NA>  \n",
       "10773                NaN            NaN               71  \n",
       "11285                NaN            NaN               18  \n",
       "12628                1.0           92.0                8  \n",
       "14382                NaN            NaN              206  \n",
       "15061                0.0            NaN              315  \n",
       "15743                0.0            NaN              474  \n",
       "16934                3.0           80.0               71  \n",
       "17442                0.0            NaN              469  \n",
       "17496                0.0            NaN             <NA>  \n",
       "17857                0.0            NaN               73  \n",
       "18545                0.0            NaN               12  \n",
       "20264                1.0          305.0              259  \n",
       "20478                3.0          449.0              429  \n",
       "20507                0.0            NaN               40  \n",
       "21227                3.0          366.0               30  \n",
       "21377                0.0            NaN               61  \n",
       "21824                NaN            NaN             <NA>  \n",
       "22309                2.0          450.0              136  \n",
       "22336                3.0          511.0             <NA>  \n",
       "22590                2.0          289.0               13  \n",
       "22869                3.0           30.0               19  \n",
       "22938                NaN            NaN               27  "
      ]
     },
     "execution_count": 14,
     "metadata": {},
     "output_type": "execute_result"
    }
   ],
   "source": [
    "# Теперь посмотрим на аномальнве значения \n",
    "\n",
    "df.loc[(df['ceiling_height'] > 5) | (df['ceiling_height'] < 2)]"
   ]
  },
  {
   "cell_type": "code",
   "execution_count": 15,
   "metadata": {},
   "outputs": [],
   "source": [
    "# Заменим аномальные значения медианой\n",
    "\n",
    "df.loc[(df['ceiling_height'] > 5) | (df['ceiling_height'] < 2), 'ceiling_height'] = df['ceiling_height'].median()"
   ]
  },
  {
   "cell_type": "code",
   "execution_count": 16,
   "metadata": {},
   "outputs": [
    {
     "data": {
      "text/plain": [
       "5.0"
      ]
     },
     "execution_count": 16,
     "metadata": {},
     "output_type": "execute_result"
    }
   ],
   "source": [
    "# Проверим, что аномалий не осталось\n",
    "\n",
    "df['ceiling_height'].max()"
   ]
  },
  {
   "cell_type": "markdown",
   "metadata": {},
   "source": [
    "### Столбец is_apartment"
   ]
  },
  {
   "cell_type": "code",
   "execution_count": 17,
   "metadata": {},
   "outputs": [
    {
     "data": {
      "text/plain": [
       "False    23649\n",
       "True        50\n",
       "Name: is_apartment, dtype: int64"
      ]
     },
     "execution_count": 17,
     "metadata": {},
     "output_type": "execute_result"
    }
   ],
   "source": [
    "# Пропуски в этом столбце можно заменить по логике \"Если не указано, что это апартаменты, то это не они\", то есть сделать так, чтобы на месте пропуска было False \n",
    "\n",
    "df['is_apartment'] = df['is_apartment'].fillna(False).astype('bool')    \n",
    "df['is_apartment'].value_counts()"
   ]
  },
  {
   "cell_type": "markdown",
   "metadata": {},
   "source": [
    "### Столбец balcony"
   ]
  },
  {
   "cell_type": "code",
   "execution_count": 18,
   "metadata": {},
   "outputs": [
    {
     "data": {
      "text/plain": [
       "11519"
      ]
     },
     "execution_count": 18,
     "metadata": {},
     "output_type": "execute_result"
    }
   ],
   "source": [
    "# Посмотрим на данные в столбце \n",
    "\n",
    "df['balcony'].isna().sum()"
   ]
  },
  {
   "cell_type": "code",
   "execution_count": 19,
   "metadata": {},
   "outputs": [
    {
     "data": {
      "text/plain": [
       "count    12180.00\n",
       "mean         1.15\n",
       "std          1.07\n",
       "min          0.00\n",
       "25%          0.00\n",
       "50%          1.00\n",
       "75%          2.00\n",
       "max          5.00\n",
       "Name: balcony, dtype: float64"
      ]
     },
     "execution_count": 19,
     "metadata": {},
     "output_type": "execute_result"
    }
   ],
   "source": [
    "df['balcony'].describe().round(2)"
   ]
  },
  {
   "cell_type": "code",
   "execution_count": 20,
   "metadata": {},
   "outputs": [
    {
     "data": {
      "text/html": [
       "<div>\n",
       "<style scoped>\n",
       "    .dataframe tbody tr th:only-of-type {\n",
       "        vertical-align: middle;\n",
       "    }\n",
       "\n",
       "    .dataframe tbody tr th {\n",
       "        vertical-align: top;\n",
       "    }\n",
       "\n",
       "    .dataframe thead th {\n",
       "        text-align: right;\n",
       "    }\n",
       "</style>\n",
       "<table border=\"1\" class=\"dataframe\">\n",
       "  <thead>\n",
       "    <tr style=\"text-align: right;\">\n",
       "      <th></th>\n",
       "      <th>total_images</th>\n",
       "      <th>last_price</th>\n",
       "      <th>total_area</th>\n",
       "      <th>first_day_exposition</th>\n",
       "      <th>rooms</th>\n",
       "      <th>ceiling_height</th>\n",
       "      <th>floors_total</th>\n",
       "      <th>living_area</th>\n",
       "      <th>floor</th>\n",
       "      <th>is_apartment</th>\n",
       "      <th>is_studio</th>\n",
       "      <th>is_open_plan</th>\n",
       "      <th>kitchen_area</th>\n",
       "      <th>balcony</th>\n",
       "      <th>locality_name</th>\n",
       "      <th>airports_nearest</th>\n",
       "      <th>city_centers_nearest</th>\n",
       "      <th>parks_around_3000</th>\n",
       "      <th>parks_nearest</th>\n",
       "      <th>ponds_around_3000</th>\n",
       "      <th>ponds_nearest</th>\n",
       "      <th>days_exposition</th>\n",
       "    </tr>\n",
       "  </thead>\n",
       "  <tbody>\n",
       "    <tr>\n",
       "      <th>0</th>\n",
       "      <td>20</td>\n",
       "      <td>13000000.0</td>\n",
       "      <td>108.0</td>\n",
       "      <td>2019-03-07</td>\n",
       "      <td>3</td>\n",
       "      <td>2.70</td>\n",
       "      <td>16.0</td>\n",
       "      <td>51.0</td>\n",
       "      <td>8</td>\n",
       "      <td>False</td>\n",
       "      <td>False</td>\n",
       "      <td>False</td>\n",
       "      <td>25.0</td>\n",
       "      <td>0</td>\n",
       "      <td>Санкт-Петербург</td>\n",
       "      <td>18863.0</td>\n",
       "      <td>16028.0</td>\n",
       "      <td>1.0</td>\n",
       "      <td>482.0</td>\n",
       "      <td>2.0</td>\n",
       "      <td>755.0</td>\n",
       "      <td>&lt;NA&gt;</td>\n",
       "    </tr>\n",
       "    <tr>\n",
       "      <th>1</th>\n",
       "      <td>7</td>\n",
       "      <td>3350000.0</td>\n",
       "      <td>40.4</td>\n",
       "      <td>2018-12-04</td>\n",
       "      <td>1</td>\n",
       "      <td>2.65</td>\n",
       "      <td>11.0</td>\n",
       "      <td>18.6</td>\n",
       "      <td>1</td>\n",
       "      <td>False</td>\n",
       "      <td>False</td>\n",
       "      <td>False</td>\n",
       "      <td>11.0</td>\n",
       "      <td>2</td>\n",
       "      <td>посёлок Шушары</td>\n",
       "      <td>12817.0</td>\n",
       "      <td>18603.0</td>\n",
       "      <td>0.0</td>\n",
       "      <td>NaN</td>\n",
       "      <td>0.0</td>\n",
       "      <td>NaN</td>\n",
       "      <td>81</td>\n",
       "    </tr>\n",
       "    <tr>\n",
       "      <th>2</th>\n",
       "      <td>10</td>\n",
       "      <td>5196000.0</td>\n",
       "      <td>56.0</td>\n",
       "      <td>2015-08-20</td>\n",
       "      <td>2</td>\n",
       "      <td>2.65</td>\n",
       "      <td>5.0</td>\n",
       "      <td>34.3</td>\n",
       "      <td>4</td>\n",
       "      <td>False</td>\n",
       "      <td>False</td>\n",
       "      <td>False</td>\n",
       "      <td>8.3</td>\n",
       "      <td>0</td>\n",
       "      <td>Санкт-Петербург</td>\n",
       "      <td>21741.0</td>\n",
       "      <td>13933.0</td>\n",
       "      <td>1.0</td>\n",
       "      <td>90.0</td>\n",
       "      <td>2.0</td>\n",
       "      <td>574.0</td>\n",
       "      <td>558</td>\n",
       "    </tr>\n",
       "    <tr>\n",
       "      <th>3</th>\n",
       "      <td>0</td>\n",
       "      <td>64900000.0</td>\n",
       "      <td>159.0</td>\n",
       "      <td>2015-07-24</td>\n",
       "      <td>3</td>\n",
       "      <td>2.65</td>\n",
       "      <td>14.0</td>\n",
       "      <td>NaN</td>\n",
       "      <td>9</td>\n",
       "      <td>False</td>\n",
       "      <td>False</td>\n",
       "      <td>False</td>\n",
       "      <td>NaN</td>\n",
       "      <td>0</td>\n",
       "      <td>Санкт-Петербург</td>\n",
       "      <td>28098.0</td>\n",
       "      <td>6800.0</td>\n",
       "      <td>2.0</td>\n",
       "      <td>84.0</td>\n",
       "      <td>3.0</td>\n",
       "      <td>234.0</td>\n",
       "      <td>424</td>\n",
       "    </tr>\n",
       "    <tr>\n",
       "      <th>4</th>\n",
       "      <td>2</td>\n",
       "      <td>10000000.0</td>\n",
       "      <td>100.0</td>\n",
       "      <td>2018-06-19</td>\n",
       "      <td>2</td>\n",
       "      <td>3.03</td>\n",
       "      <td>14.0</td>\n",
       "      <td>32.0</td>\n",
       "      <td>13</td>\n",
       "      <td>False</td>\n",
       "      <td>False</td>\n",
       "      <td>False</td>\n",
       "      <td>41.0</td>\n",
       "      <td>0</td>\n",
       "      <td>Санкт-Петербург</td>\n",
       "      <td>31856.0</td>\n",
       "      <td>8098.0</td>\n",
       "      <td>2.0</td>\n",
       "      <td>112.0</td>\n",
       "      <td>1.0</td>\n",
       "      <td>48.0</td>\n",
       "      <td>121</td>\n",
       "    </tr>\n",
       "  </tbody>\n",
       "</table>\n",
       "</div>"
      ],
      "text/plain": [
       "   total_images  last_price  total_area first_day_exposition  rooms  \\\n",
       "0            20  13000000.0       108.0           2019-03-07      3   \n",
       "1             7   3350000.0        40.4           2018-12-04      1   \n",
       "2            10   5196000.0        56.0           2015-08-20      2   \n",
       "3             0  64900000.0       159.0           2015-07-24      3   \n",
       "4             2  10000000.0       100.0           2018-06-19      2   \n",
       "\n",
       "   ceiling_height  floors_total  living_area  floor  is_apartment  is_studio  \\\n",
       "0            2.70          16.0         51.0      8         False      False   \n",
       "1            2.65          11.0         18.6      1         False      False   \n",
       "2            2.65           5.0         34.3      4         False      False   \n",
       "3            2.65          14.0          NaN      9         False      False   \n",
       "4            3.03          14.0         32.0     13         False      False   \n",
       "\n",
       "   is_open_plan  kitchen_area  balcony    locality_name  airports_nearest  \\\n",
       "0         False          25.0        0  Санкт-Петербург           18863.0   \n",
       "1         False          11.0        2   посёлок Шушары           12817.0   \n",
       "2         False           8.3        0  Санкт-Петербург           21741.0   \n",
       "3         False           NaN        0  Санкт-Петербург           28098.0   \n",
       "4         False          41.0        0  Санкт-Петербург           31856.0   \n",
       "\n",
       "   city_centers_nearest  parks_around_3000  parks_nearest  ponds_around_3000  \\\n",
       "0               16028.0                1.0          482.0                2.0   \n",
       "1               18603.0                0.0            NaN                0.0   \n",
       "2               13933.0                1.0           90.0                2.0   \n",
       "3                6800.0                2.0           84.0                3.0   \n",
       "4                8098.0                2.0          112.0                1.0   \n",
       "\n",
       "   ponds_nearest  days_exposition  \n",
       "0          755.0             <NA>  \n",
       "1            NaN               81  \n",
       "2          574.0              558  \n",
       "3          234.0              424  \n",
       "4           48.0              121  "
      ]
     },
     "execution_count": 20,
     "metadata": {},
     "output_type": "execute_result"
    }
   ],
   "source": [
    "# Пропуски в данном столбце можно замненить на 0, основываясь на предположении, что если в объявлении не указано число балконов, значит их нет. \n",
    "# Также разумно было бы привести тип данных к целочисленному формату. \n",
    "\n",
    "df['balcony'] = df['balcony'].fillna(0).astype('int')\n",
    "df.head()"
   ]
  },
  {
   "cell_type": "markdown",
   "metadata": {},
   "source": [
    "### Столбец locality_name"
   ]
  },
  {
   "cell_type": "code",
   "execution_count": 21,
   "metadata": {},
   "outputs": [
    {
     "data": {
      "text/plain": [
       "Санкт-Петербург           15721\n",
       "посёлок Мурино              522\n",
       "посёлок Шушары              440\n",
       "Всеволожск                  398\n",
       "Пушкин                      369\n",
       "                          ...  \n",
       "деревня Нижние Осельки        1\n",
       "поселок Каложицы              1\n",
       "деревня Трубников Бор         1\n",
       "поселок Ромашки               1\n",
       "поселок Коммунары             1\n",
       "Name: locality_name, Length: 364, dtype: int64"
      ]
     },
     "execution_count": 21,
     "metadata": {},
     "output_type": "execute_result"
    }
   ],
   "source": [
    "df['locality_name'].value_counts()"
   ]
  },
  {
   "cell_type": "code",
   "execution_count": 22,
   "metadata": {},
   "outputs": [
    {
     "data": {
      "text/plain": [
       "49"
      ]
     },
     "execution_count": 22,
     "metadata": {},
     "output_type": "execute_result"
    }
   ],
   "source": [
    "# Посчитаем количество строк, где пропущен населенный пункт \n",
    "\n",
    "df.locality_name.isnull().sum()"
   ]
  },
  {
   "cell_type": "code",
   "execution_count": 23,
   "metadata": {},
   "outputs": [
    {
     "data": {
      "text/html": [
       "<div>\n",
       "<style scoped>\n",
       "    .dataframe tbody tr th:only-of-type {\n",
       "        vertical-align: middle;\n",
       "    }\n",
       "\n",
       "    .dataframe tbody tr th {\n",
       "        vertical-align: top;\n",
       "    }\n",
       "\n",
       "    .dataframe thead th {\n",
       "        text-align: right;\n",
       "    }\n",
       "</style>\n",
       "<table border=\"1\" class=\"dataframe\">\n",
       "  <thead>\n",
       "    <tr style=\"text-align: right;\">\n",
       "      <th></th>\n",
       "      <th>total_images</th>\n",
       "      <th>last_price</th>\n",
       "      <th>total_area</th>\n",
       "      <th>first_day_exposition</th>\n",
       "      <th>rooms</th>\n",
       "      <th>ceiling_height</th>\n",
       "      <th>floors_total</th>\n",
       "      <th>living_area</th>\n",
       "      <th>floor</th>\n",
       "      <th>is_apartment</th>\n",
       "      <th>is_studio</th>\n",
       "      <th>is_open_plan</th>\n",
       "      <th>kitchen_area</th>\n",
       "      <th>balcony</th>\n",
       "      <th>locality_name</th>\n",
       "      <th>airports_nearest</th>\n",
       "      <th>city_centers_nearest</th>\n",
       "      <th>parks_around_3000</th>\n",
       "      <th>parks_nearest</th>\n",
       "      <th>ponds_around_3000</th>\n",
       "      <th>ponds_nearest</th>\n",
       "      <th>days_exposition</th>\n",
       "    </tr>\n",
       "  </thead>\n",
       "  <tbody>\n",
       "    <tr>\n",
       "      <th>1097</th>\n",
       "      <td>3</td>\n",
       "      <td>8600000.0</td>\n",
       "      <td>81.7</td>\n",
       "      <td>2016-04-15</td>\n",
       "      <td>3</td>\n",
       "      <td>3.55</td>\n",
       "      <td>5.0</td>\n",
       "      <td>50.8</td>\n",
       "      <td>2</td>\n",
       "      <td>False</td>\n",
       "      <td>False</td>\n",
       "      <td>False</td>\n",
       "      <td>8.8</td>\n",
       "      <td>0</td>\n",
       "      <td>NaN</td>\n",
       "      <td>23478.0</td>\n",
       "      <td>4258.0</td>\n",
       "      <td>0.0</td>\n",
       "      <td>NaN</td>\n",
       "      <td>0.0</td>\n",
       "      <td>NaN</td>\n",
       "      <td>147</td>\n",
       "    </tr>\n",
       "    <tr>\n",
       "      <th>2033</th>\n",
       "      <td>6</td>\n",
       "      <td>5398000.0</td>\n",
       "      <td>80.0</td>\n",
       "      <td>2017-05-30</td>\n",
       "      <td>3</td>\n",
       "      <td>2.65</td>\n",
       "      <td>4.0</td>\n",
       "      <td>42.6</td>\n",
       "      <td>2</td>\n",
       "      <td>False</td>\n",
       "      <td>False</td>\n",
       "      <td>False</td>\n",
       "      <td>18.6</td>\n",
       "      <td>0</td>\n",
       "      <td>NaN</td>\n",
       "      <td>NaN</td>\n",
       "      <td>NaN</td>\n",
       "      <td>NaN</td>\n",
       "      <td>NaN</td>\n",
       "      <td>NaN</td>\n",
       "      <td>NaN</td>\n",
       "      <td>34</td>\n",
       "    </tr>\n",
       "    <tr>\n",
       "      <th>2603</th>\n",
       "      <td>20</td>\n",
       "      <td>3351765.0</td>\n",
       "      <td>42.7</td>\n",
       "      <td>2015-09-20</td>\n",
       "      <td>1</td>\n",
       "      <td>2.65</td>\n",
       "      <td>24.0</td>\n",
       "      <td>15.6</td>\n",
       "      <td>3</td>\n",
       "      <td>False</td>\n",
       "      <td>False</td>\n",
       "      <td>False</td>\n",
       "      <td>10.7</td>\n",
       "      <td>0</td>\n",
       "      <td>NaN</td>\n",
       "      <td>22041.0</td>\n",
       "      <td>17369.0</td>\n",
       "      <td>0.0</td>\n",
       "      <td>NaN</td>\n",
       "      <td>1.0</td>\n",
       "      <td>374.0</td>\n",
       "      <td>276</td>\n",
       "    </tr>\n",
       "    <tr>\n",
       "      <th>2632</th>\n",
       "      <td>2</td>\n",
       "      <td>5130593.0</td>\n",
       "      <td>62.4</td>\n",
       "      <td>2015-10-11</td>\n",
       "      <td>2</td>\n",
       "      <td>2.65</td>\n",
       "      <td>24.0</td>\n",
       "      <td>33.1</td>\n",
       "      <td>21</td>\n",
       "      <td>False</td>\n",
       "      <td>False</td>\n",
       "      <td>False</td>\n",
       "      <td>8.2</td>\n",
       "      <td>0</td>\n",
       "      <td>NaN</td>\n",
       "      <td>22041.0</td>\n",
       "      <td>17369.0</td>\n",
       "      <td>0.0</td>\n",
       "      <td>NaN</td>\n",
       "      <td>1.0</td>\n",
       "      <td>374.0</td>\n",
       "      <td>256</td>\n",
       "    </tr>\n",
       "    <tr>\n",
       "      <th>3574</th>\n",
       "      <td>10</td>\n",
       "      <td>4200000.0</td>\n",
       "      <td>46.5</td>\n",
       "      <td>2016-05-28</td>\n",
       "      <td>2</td>\n",
       "      <td>2.65</td>\n",
       "      <td>5.0</td>\n",
       "      <td>30.8</td>\n",
       "      <td>5</td>\n",
       "      <td>False</td>\n",
       "      <td>False</td>\n",
       "      <td>False</td>\n",
       "      <td>6.5</td>\n",
       "      <td>0</td>\n",
       "      <td>NaN</td>\n",
       "      <td>27419.0</td>\n",
       "      <td>8127.0</td>\n",
       "      <td>0.0</td>\n",
       "      <td>NaN</td>\n",
       "      <td>1.0</td>\n",
       "      <td>603.0</td>\n",
       "      <td>45</td>\n",
       "    </tr>\n",
       "  </tbody>\n",
       "</table>\n",
       "</div>"
      ],
      "text/plain": [
       "      total_images  last_price  total_area first_day_exposition  rooms  \\\n",
       "1097             3   8600000.0        81.7           2016-04-15      3   \n",
       "2033             6   5398000.0        80.0           2017-05-30      3   \n",
       "2603            20   3351765.0        42.7           2015-09-20      1   \n",
       "2632             2   5130593.0        62.4           2015-10-11      2   \n",
       "3574            10   4200000.0        46.5           2016-05-28      2   \n",
       "\n",
       "      ceiling_height  floors_total  living_area  floor  is_apartment  \\\n",
       "1097            3.55           5.0         50.8      2         False   \n",
       "2033            2.65           4.0         42.6      2         False   \n",
       "2603            2.65          24.0         15.6      3         False   \n",
       "2632            2.65          24.0         33.1     21         False   \n",
       "3574            2.65           5.0         30.8      5         False   \n",
       "\n",
       "      is_studio  is_open_plan  kitchen_area  balcony locality_name  \\\n",
       "1097      False         False           8.8        0           NaN   \n",
       "2033      False         False          18.6        0           NaN   \n",
       "2603      False         False          10.7        0           NaN   \n",
       "2632      False         False           8.2        0           NaN   \n",
       "3574      False         False           6.5        0           NaN   \n",
       "\n",
       "      airports_nearest  city_centers_nearest  parks_around_3000  \\\n",
       "1097           23478.0                4258.0                0.0   \n",
       "2033               NaN                   NaN                NaN   \n",
       "2603           22041.0               17369.0                0.0   \n",
       "2632           22041.0               17369.0                0.0   \n",
       "3574           27419.0                8127.0                0.0   \n",
       "\n",
       "      parks_nearest  ponds_around_3000  ponds_nearest  days_exposition  \n",
       "1097            NaN                0.0            NaN              147  \n",
       "2033            NaN                NaN            NaN               34  \n",
       "2603            NaN                1.0          374.0              276  \n",
       "2632            NaN                1.0          374.0              256  \n",
       "3574            NaN                1.0          603.0               45  "
      ]
     },
     "execution_count": 23,
     "metadata": {},
     "output_type": "execute_result"
    }
   ],
   "source": [
    "# Посмотрим на строки, где населенный пункт не указан \n",
    "\n",
    "df[df.locality_name.isnull()].head()"
   ]
  },
  {
   "cell_type": "code",
   "execution_count": 24,
   "metadata": {},
   "outputs": [],
   "source": [
    "# Избавимся от объектов без названия  \n",
    "\n",
    "df= df.dropna(subset=['locality_name'])   "
   ]
  },
  {
   "cell_type": "code",
   "execution_count": 25,
   "metadata": {},
   "outputs": [
    {
     "data": {
      "text/plain": [
       "Санкт-Петербург                                      15721\n",
       "поселок Мурино                                         556\n",
       "поселок Шушары                                         440\n",
       "Всеволожск                                             398\n",
       "Пушкин                                                 369\n",
       "                                                     ...  \n",
       "деревня Лупполово                                        1\n",
       "поселок Рабитицы                                         1\n",
       "поселок при железнодорожной станции Приветнинское        1\n",
       "поселок Лужайка                                          1\n",
       "поселок Коммунары                                        1\n",
       "Name: locality_name, Length: 320, dtype: int64"
      ]
     },
     "execution_count": 25,
     "metadata": {},
     "output_type": "execute_result"
    }
   ],
   "source": [
    "# Избавимся от дубликатов \n",
    "\n",
    "df['locality_name'] = (\n",
    "    df['locality_name']\n",
    "    .str.replace('ё', 'е')\n",
    "    .replace(['поселок городского типа', 'коттеджный поселок', 'городской поселок', 'поселок станции'], 'поселок', regex=True)\n",
    ") \n",
    "\n",
    "df['locality_name'].value_counts()"
   ]
  },
  {
   "cell_type": "markdown",
   "metadata": {},
   "source": [
    "#### Столбцы ponds_around_3000, ponds_nearest, parks_around_3000, parks_nearest, city_centers_nearest, airports_nearest"
   ]
  },
  {
   "cell_type": "markdown",
   "metadata": {},
   "source": [
    "**Промежуточный вывод**\n",
    "\n",
    "Поскольку данные в этих столбцах заполняются без участия пользователя и получены из геосервисов, то оставляем их как есть. "
   ]
  },
  {
   "cell_type": "markdown",
   "metadata": {},
   "source": [
    "## Рассчеты и добавление новых столбцов"
   ]
  },
  {
   "cell_type": "markdown",
   "metadata": {},
   "source": [
    "### Цена одного квадратного метра "
   ]
  },
  {
   "cell_type": "code",
   "execution_count": 26,
   "metadata": {},
   "outputs": [],
   "source": [
    "df['price_to_m'] = (df['last_price'] / df['total_area']).round(2)"
   ]
  },
  {
   "cell_type": "code",
   "execution_count": 27,
   "metadata": {},
   "outputs": [
    {
     "data": {
      "text/plain": [
       "0    120370.37\n",
       "1     82920.79\n",
       "2     92785.71\n",
       "3    408176.10\n",
       "4    100000.00\n",
       "Name: price_to_m, dtype: float64"
      ]
     },
     "execution_count": 27,
     "metadata": {},
     "output_type": "execute_result"
    }
   ],
   "source": [
    "df['price_to_m'].head()"
   ]
  },
  {
   "cell_type": "markdown",
   "metadata": {},
   "source": [
    "### День недели публикации объявления"
   ]
  },
  {
   "cell_type": "code",
   "execution_count": 28,
   "metadata": {},
   "outputs": [],
   "source": [
    "df['weekday_exposition'] = df['first_day_exposition'].dt.weekday    \n",
    "df['month_exposition'] = df['first_day_exposition'].dt.month    \n",
    "df['year_exposition'] = df['first_day_exposition'].dt.year "
   ]
  },
  {
   "cell_type": "code",
   "execution_count": 29,
   "metadata": {},
   "outputs": [
    {
     "data": {
      "text/html": [
       "<div>\n",
       "<style scoped>\n",
       "    .dataframe tbody tr th:only-of-type {\n",
       "        vertical-align: middle;\n",
       "    }\n",
       "\n",
       "    .dataframe tbody tr th {\n",
       "        vertical-align: top;\n",
       "    }\n",
       "\n",
       "    .dataframe thead th {\n",
       "        text-align: right;\n",
       "    }\n",
       "</style>\n",
       "<table border=\"1\" class=\"dataframe\">\n",
       "  <thead>\n",
       "    <tr style=\"text-align: right;\">\n",
       "      <th></th>\n",
       "      <th>total_images</th>\n",
       "      <th>last_price</th>\n",
       "      <th>total_area</th>\n",
       "      <th>first_day_exposition</th>\n",
       "      <th>rooms</th>\n",
       "      <th>ceiling_height</th>\n",
       "      <th>floors_total</th>\n",
       "      <th>living_area</th>\n",
       "      <th>floor</th>\n",
       "      <th>is_apartment</th>\n",
       "      <th>is_studio</th>\n",
       "      <th>is_open_plan</th>\n",
       "      <th>kitchen_area</th>\n",
       "      <th>balcony</th>\n",
       "      <th>locality_name</th>\n",
       "      <th>airports_nearest</th>\n",
       "      <th>city_centers_nearest</th>\n",
       "      <th>parks_around_3000</th>\n",
       "      <th>parks_nearest</th>\n",
       "      <th>ponds_around_3000</th>\n",
       "      <th>ponds_nearest</th>\n",
       "      <th>days_exposition</th>\n",
       "      <th>price_to_m</th>\n",
       "      <th>weekday_exposition</th>\n",
       "      <th>month_exposition</th>\n",
       "      <th>year_exposition</th>\n",
       "    </tr>\n",
       "  </thead>\n",
       "  <tbody>\n",
       "    <tr>\n",
       "      <th>0</th>\n",
       "      <td>20</td>\n",
       "      <td>13000000.0</td>\n",
       "      <td>108.0</td>\n",
       "      <td>2019-03-07</td>\n",
       "      <td>3</td>\n",
       "      <td>2.70</td>\n",
       "      <td>16.0</td>\n",
       "      <td>51.0</td>\n",
       "      <td>8</td>\n",
       "      <td>False</td>\n",
       "      <td>False</td>\n",
       "      <td>False</td>\n",
       "      <td>25.0</td>\n",
       "      <td>0</td>\n",
       "      <td>Санкт-Петербург</td>\n",
       "      <td>18863.0</td>\n",
       "      <td>16028.0</td>\n",
       "      <td>1.0</td>\n",
       "      <td>482.0</td>\n",
       "      <td>2.0</td>\n",
       "      <td>755.0</td>\n",
       "      <td>&lt;NA&gt;</td>\n",
       "      <td>120370.37</td>\n",
       "      <td>3</td>\n",
       "      <td>3</td>\n",
       "      <td>2019</td>\n",
       "    </tr>\n",
       "    <tr>\n",
       "      <th>1</th>\n",
       "      <td>7</td>\n",
       "      <td>3350000.0</td>\n",
       "      <td>40.4</td>\n",
       "      <td>2018-12-04</td>\n",
       "      <td>1</td>\n",
       "      <td>2.65</td>\n",
       "      <td>11.0</td>\n",
       "      <td>18.6</td>\n",
       "      <td>1</td>\n",
       "      <td>False</td>\n",
       "      <td>False</td>\n",
       "      <td>False</td>\n",
       "      <td>11.0</td>\n",
       "      <td>2</td>\n",
       "      <td>поселок Шушары</td>\n",
       "      <td>12817.0</td>\n",
       "      <td>18603.0</td>\n",
       "      <td>0.0</td>\n",
       "      <td>NaN</td>\n",
       "      <td>0.0</td>\n",
       "      <td>NaN</td>\n",
       "      <td>81</td>\n",
       "      <td>82920.79</td>\n",
       "      <td>1</td>\n",
       "      <td>12</td>\n",
       "      <td>2018</td>\n",
       "    </tr>\n",
       "    <tr>\n",
       "      <th>2</th>\n",
       "      <td>10</td>\n",
       "      <td>5196000.0</td>\n",
       "      <td>56.0</td>\n",
       "      <td>2015-08-20</td>\n",
       "      <td>2</td>\n",
       "      <td>2.65</td>\n",
       "      <td>5.0</td>\n",
       "      <td>34.3</td>\n",
       "      <td>4</td>\n",
       "      <td>False</td>\n",
       "      <td>False</td>\n",
       "      <td>False</td>\n",
       "      <td>8.3</td>\n",
       "      <td>0</td>\n",
       "      <td>Санкт-Петербург</td>\n",
       "      <td>21741.0</td>\n",
       "      <td>13933.0</td>\n",
       "      <td>1.0</td>\n",
       "      <td>90.0</td>\n",
       "      <td>2.0</td>\n",
       "      <td>574.0</td>\n",
       "      <td>558</td>\n",
       "      <td>92785.71</td>\n",
       "      <td>3</td>\n",
       "      <td>8</td>\n",
       "      <td>2015</td>\n",
       "    </tr>\n",
       "    <tr>\n",
       "      <th>3</th>\n",
       "      <td>0</td>\n",
       "      <td>64900000.0</td>\n",
       "      <td>159.0</td>\n",
       "      <td>2015-07-24</td>\n",
       "      <td>3</td>\n",
       "      <td>2.65</td>\n",
       "      <td>14.0</td>\n",
       "      <td>NaN</td>\n",
       "      <td>9</td>\n",
       "      <td>False</td>\n",
       "      <td>False</td>\n",
       "      <td>False</td>\n",
       "      <td>NaN</td>\n",
       "      <td>0</td>\n",
       "      <td>Санкт-Петербург</td>\n",
       "      <td>28098.0</td>\n",
       "      <td>6800.0</td>\n",
       "      <td>2.0</td>\n",
       "      <td>84.0</td>\n",
       "      <td>3.0</td>\n",
       "      <td>234.0</td>\n",
       "      <td>424</td>\n",
       "      <td>408176.10</td>\n",
       "      <td>4</td>\n",
       "      <td>7</td>\n",
       "      <td>2015</td>\n",
       "    </tr>\n",
       "    <tr>\n",
       "      <th>4</th>\n",
       "      <td>2</td>\n",
       "      <td>10000000.0</td>\n",
       "      <td>100.0</td>\n",
       "      <td>2018-06-19</td>\n",
       "      <td>2</td>\n",
       "      <td>3.03</td>\n",
       "      <td>14.0</td>\n",
       "      <td>32.0</td>\n",
       "      <td>13</td>\n",
       "      <td>False</td>\n",
       "      <td>False</td>\n",
       "      <td>False</td>\n",
       "      <td>41.0</td>\n",
       "      <td>0</td>\n",
       "      <td>Санкт-Петербург</td>\n",
       "      <td>31856.0</td>\n",
       "      <td>8098.0</td>\n",
       "      <td>2.0</td>\n",
       "      <td>112.0</td>\n",
       "      <td>1.0</td>\n",
       "      <td>48.0</td>\n",
       "      <td>121</td>\n",
       "      <td>100000.00</td>\n",
       "      <td>1</td>\n",
       "      <td>6</td>\n",
       "      <td>2018</td>\n",
       "    </tr>\n",
       "  </tbody>\n",
       "</table>\n",
       "</div>"
      ],
      "text/plain": [
       "   total_images  last_price  total_area first_day_exposition  rooms  \\\n",
       "0            20  13000000.0       108.0           2019-03-07      3   \n",
       "1             7   3350000.0        40.4           2018-12-04      1   \n",
       "2            10   5196000.0        56.0           2015-08-20      2   \n",
       "3             0  64900000.0       159.0           2015-07-24      3   \n",
       "4             2  10000000.0       100.0           2018-06-19      2   \n",
       "\n",
       "   ceiling_height  floors_total  living_area  floor  is_apartment  is_studio  \\\n",
       "0            2.70          16.0         51.0      8         False      False   \n",
       "1            2.65          11.0         18.6      1         False      False   \n",
       "2            2.65           5.0         34.3      4         False      False   \n",
       "3            2.65          14.0          NaN      9         False      False   \n",
       "4            3.03          14.0         32.0     13         False      False   \n",
       "\n",
       "   is_open_plan  kitchen_area  balcony    locality_name  airports_nearest  \\\n",
       "0         False          25.0        0  Санкт-Петербург           18863.0   \n",
       "1         False          11.0        2   поселок Шушары           12817.0   \n",
       "2         False           8.3        0  Санкт-Петербург           21741.0   \n",
       "3         False           NaN        0  Санкт-Петербург           28098.0   \n",
       "4         False          41.0        0  Санкт-Петербург           31856.0   \n",
       "\n",
       "   city_centers_nearest  parks_around_3000  parks_nearest  ponds_around_3000  \\\n",
       "0               16028.0                1.0          482.0                2.0   \n",
       "1               18603.0                0.0            NaN                0.0   \n",
       "2               13933.0                1.0           90.0                2.0   \n",
       "3                6800.0                2.0           84.0                3.0   \n",
       "4                8098.0                2.0          112.0                1.0   \n",
       "\n",
       "   ponds_nearest  days_exposition  price_to_m  weekday_exposition  \\\n",
       "0          755.0             <NA>   120370.37                   3   \n",
       "1            NaN               81    82920.79                   1   \n",
       "2          574.0              558    92785.71                   3   \n",
       "3          234.0              424   408176.10                   4   \n",
       "4           48.0              121   100000.00                   1   \n",
       "\n",
       "   month_exposition  year_exposition  \n",
       "0                 3             2019  \n",
       "1                12             2018  \n",
       "2                 8             2015  \n",
       "3                 7             2015  \n",
       "4                 6             2018  "
      ]
     },
     "execution_count": 29,
     "metadata": {},
     "output_type": "execute_result"
    }
   ],
   "source": [
    "df.head()"
   ]
  },
  {
   "cell_type": "markdown",
   "metadata": {},
   "source": [
    "### Тип этажа квартиры "
   ]
  },
  {
   "cell_type": "code",
   "execution_count": 30,
   "metadata": {},
   "outputs": [],
   "source": [
    "def floors_type(row):\n",
    "    if row['floor'] == 1:\n",
    "        return 'первый'\n",
    "    elif row['floor'] == row['floors_total']:\n",
    "        return 'последний'\n",
    "    else:\n",
    "        return 'другой'"
   ]
  },
  {
   "cell_type": "code",
   "execution_count": 31,
   "metadata": {},
   "outputs": [],
   "source": [
    "df['floors_type'] = df.apply(floors_type, axis=1)"
   ]
  },
  {
   "cell_type": "code",
   "execution_count": 32,
   "metadata": {},
   "outputs": [
    {
     "data": {
      "text/html": [
       "<div>\n",
       "<style scoped>\n",
       "    .dataframe tbody tr th:only-of-type {\n",
       "        vertical-align: middle;\n",
       "    }\n",
       "\n",
       "    .dataframe tbody tr th {\n",
       "        vertical-align: top;\n",
       "    }\n",
       "\n",
       "    .dataframe thead th {\n",
       "        text-align: right;\n",
       "    }\n",
       "</style>\n",
       "<table border=\"1\" class=\"dataframe\">\n",
       "  <thead>\n",
       "    <tr style=\"text-align: right;\">\n",
       "      <th></th>\n",
       "      <th>total_images</th>\n",
       "      <th>last_price</th>\n",
       "      <th>total_area</th>\n",
       "      <th>first_day_exposition</th>\n",
       "      <th>rooms</th>\n",
       "      <th>ceiling_height</th>\n",
       "      <th>floors_total</th>\n",
       "      <th>living_area</th>\n",
       "      <th>floor</th>\n",
       "      <th>is_apartment</th>\n",
       "      <th>is_studio</th>\n",
       "      <th>is_open_plan</th>\n",
       "      <th>kitchen_area</th>\n",
       "      <th>balcony</th>\n",
       "      <th>locality_name</th>\n",
       "      <th>airports_nearest</th>\n",
       "      <th>city_centers_nearest</th>\n",
       "      <th>parks_around_3000</th>\n",
       "      <th>parks_nearest</th>\n",
       "      <th>ponds_around_3000</th>\n",
       "      <th>ponds_nearest</th>\n",
       "      <th>days_exposition</th>\n",
       "      <th>price_to_m</th>\n",
       "      <th>weekday_exposition</th>\n",
       "      <th>month_exposition</th>\n",
       "      <th>year_exposition</th>\n",
       "      <th>floors_type</th>\n",
       "    </tr>\n",
       "  </thead>\n",
       "  <tbody>\n",
       "    <tr>\n",
       "      <th>0</th>\n",
       "      <td>20</td>\n",
       "      <td>13000000.0</td>\n",
       "      <td>108.0</td>\n",
       "      <td>2019-03-07</td>\n",
       "      <td>3</td>\n",
       "      <td>2.70</td>\n",
       "      <td>16.0</td>\n",
       "      <td>51.0</td>\n",
       "      <td>8</td>\n",
       "      <td>False</td>\n",
       "      <td>False</td>\n",
       "      <td>False</td>\n",
       "      <td>25.0</td>\n",
       "      <td>0</td>\n",
       "      <td>Санкт-Петербург</td>\n",
       "      <td>18863.0</td>\n",
       "      <td>16028.0</td>\n",
       "      <td>1.0</td>\n",
       "      <td>482.0</td>\n",
       "      <td>2.0</td>\n",
       "      <td>755.0</td>\n",
       "      <td>&lt;NA&gt;</td>\n",
       "      <td>120370.37</td>\n",
       "      <td>3</td>\n",
       "      <td>3</td>\n",
       "      <td>2019</td>\n",
       "      <td>другой</td>\n",
       "    </tr>\n",
       "    <tr>\n",
       "      <th>1</th>\n",
       "      <td>7</td>\n",
       "      <td>3350000.0</td>\n",
       "      <td>40.4</td>\n",
       "      <td>2018-12-04</td>\n",
       "      <td>1</td>\n",
       "      <td>2.65</td>\n",
       "      <td>11.0</td>\n",
       "      <td>18.6</td>\n",
       "      <td>1</td>\n",
       "      <td>False</td>\n",
       "      <td>False</td>\n",
       "      <td>False</td>\n",
       "      <td>11.0</td>\n",
       "      <td>2</td>\n",
       "      <td>поселок Шушары</td>\n",
       "      <td>12817.0</td>\n",
       "      <td>18603.0</td>\n",
       "      <td>0.0</td>\n",
       "      <td>NaN</td>\n",
       "      <td>0.0</td>\n",
       "      <td>NaN</td>\n",
       "      <td>81</td>\n",
       "      <td>82920.79</td>\n",
       "      <td>1</td>\n",
       "      <td>12</td>\n",
       "      <td>2018</td>\n",
       "      <td>первый</td>\n",
       "    </tr>\n",
       "    <tr>\n",
       "      <th>2</th>\n",
       "      <td>10</td>\n",
       "      <td>5196000.0</td>\n",
       "      <td>56.0</td>\n",
       "      <td>2015-08-20</td>\n",
       "      <td>2</td>\n",
       "      <td>2.65</td>\n",
       "      <td>5.0</td>\n",
       "      <td>34.3</td>\n",
       "      <td>4</td>\n",
       "      <td>False</td>\n",
       "      <td>False</td>\n",
       "      <td>False</td>\n",
       "      <td>8.3</td>\n",
       "      <td>0</td>\n",
       "      <td>Санкт-Петербург</td>\n",
       "      <td>21741.0</td>\n",
       "      <td>13933.0</td>\n",
       "      <td>1.0</td>\n",
       "      <td>90.0</td>\n",
       "      <td>2.0</td>\n",
       "      <td>574.0</td>\n",
       "      <td>558</td>\n",
       "      <td>92785.71</td>\n",
       "      <td>3</td>\n",
       "      <td>8</td>\n",
       "      <td>2015</td>\n",
       "      <td>другой</td>\n",
       "    </tr>\n",
       "    <tr>\n",
       "      <th>3</th>\n",
       "      <td>0</td>\n",
       "      <td>64900000.0</td>\n",
       "      <td>159.0</td>\n",
       "      <td>2015-07-24</td>\n",
       "      <td>3</td>\n",
       "      <td>2.65</td>\n",
       "      <td>14.0</td>\n",
       "      <td>NaN</td>\n",
       "      <td>9</td>\n",
       "      <td>False</td>\n",
       "      <td>False</td>\n",
       "      <td>False</td>\n",
       "      <td>NaN</td>\n",
       "      <td>0</td>\n",
       "      <td>Санкт-Петербург</td>\n",
       "      <td>28098.0</td>\n",
       "      <td>6800.0</td>\n",
       "      <td>2.0</td>\n",
       "      <td>84.0</td>\n",
       "      <td>3.0</td>\n",
       "      <td>234.0</td>\n",
       "      <td>424</td>\n",
       "      <td>408176.10</td>\n",
       "      <td>4</td>\n",
       "      <td>7</td>\n",
       "      <td>2015</td>\n",
       "      <td>другой</td>\n",
       "    </tr>\n",
       "    <tr>\n",
       "      <th>4</th>\n",
       "      <td>2</td>\n",
       "      <td>10000000.0</td>\n",
       "      <td>100.0</td>\n",
       "      <td>2018-06-19</td>\n",
       "      <td>2</td>\n",
       "      <td>3.03</td>\n",
       "      <td>14.0</td>\n",
       "      <td>32.0</td>\n",
       "      <td>13</td>\n",
       "      <td>False</td>\n",
       "      <td>False</td>\n",
       "      <td>False</td>\n",
       "      <td>41.0</td>\n",
       "      <td>0</td>\n",
       "      <td>Санкт-Петербург</td>\n",
       "      <td>31856.0</td>\n",
       "      <td>8098.0</td>\n",
       "      <td>2.0</td>\n",
       "      <td>112.0</td>\n",
       "      <td>1.0</td>\n",
       "      <td>48.0</td>\n",
       "      <td>121</td>\n",
       "      <td>100000.00</td>\n",
       "      <td>1</td>\n",
       "      <td>6</td>\n",
       "      <td>2018</td>\n",
       "      <td>другой</td>\n",
       "    </tr>\n",
       "  </tbody>\n",
       "</table>\n",
       "</div>"
      ],
      "text/plain": [
       "   total_images  last_price  total_area first_day_exposition  rooms  \\\n",
       "0            20  13000000.0       108.0           2019-03-07      3   \n",
       "1             7   3350000.0        40.4           2018-12-04      1   \n",
       "2            10   5196000.0        56.0           2015-08-20      2   \n",
       "3             0  64900000.0       159.0           2015-07-24      3   \n",
       "4             2  10000000.0       100.0           2018-06-19      2   \n",
       "\n",
       "   ceiling_height  floors_total  living_area  floor  is_apartment  is_studio  \\\n",
       "0            2.70          16.0         51.0      8         False      False   \n",
       "1            2.65          11.0         18.6      1         False      False   \n",
       "2            2.65           5.0         34.3      4         False      False   \n",
       "3            2.65          14.0          NaN      9         False      False   \n",
       "4            3.03          14.0         32.0     13         False      False   \n",
       "\n",
       "   is_open_plan  kitchen_area  balcony    locality_name  airports_nearest  \\\n",
       "0         False          25.0        0  Санкт-Петербург           18863.0   \n",
       "1         False          11.0        2   поселок Шушары           12817.0   \n",
       "2         False           8.3        0  Санкт-Петербург           21741.0   \n",
       "3         False           NaN        0  Санкт-Петербург           28098.0   \n",
       "4         False          41.0        0  Санкт-Петербург           31856.0   \n",
       "\n",
       "   city_centers_nearest  parks_around_3000  parks_nearest  ponds_around_3000  \\\n",
       "0               16028.0                1.0          482.0                2.0   \n",
       "1               18603.0                0.0            NaN                0.0   \n",
       "2               13933.0                1.0           90.0                2.0   \n",
       "3                6800.0                2.0           84.0                3.0   \n",
       "4                8098.0                2.0          112.0                1.0   \n",
       "\n",
       "   ponds_nearest  days_exposition  price_to_m  weekday_exposition  \\\n",
       "0          755.0             <NA>   120370.37                   3   \n",
       "1            NaN               81    82920.79                   1   \n",
       "2          574.0              558    92785.71                   3   \n",
       "3          234.0              424   408176.10                   4   \n",
       "4           48.0              121   100000.00                   1   \n",
       "\n",
       "   month_exposition  year_exposition floors_type  \n",
       "0                 3             2019      другой  \n",
       "1                12             2018      первый  \n",
       "2                 8             2015      другой  \n",
       "3                 7             2015      другой  \n",
       "4                 6             2018      другой  "
      ]
     },
     "execution_count": 32,
     "metadata": {},
     "output_type": "execute_result"
    }
   ],
   "source": [
    "df.head()"
   ]
  },
  {
   "cell_type": "markdown",
   "metadata": {},
   "source": [
    "### Расстояние до центра города"
   ]
  },
  {
   "cell_type": "code",
   "execution_count": 33,
   "metadata": {},
   "outputs": [],
   "source": [
    "df['city_centers_nearest'] = df['city_centers_nearest']/1000"
   ]
  },
  {
   "cell_type": "code",
   "execution_count": 34,
   "metadata": {},
   "outputs": [
    {
     "data": {
      "text/html": [
       "<div>\n",
       "<style scoped>\n",
       "    .dataframe tbody tr th:only-of-type {\n",
       "        vertical-align: middle;\n",
       "    }\n",
       "\n",
       "    .dataframe tbody tr th {\n",
       "        vertical-align: top;\n",
       "    }\n",
       "\n",
       "    .dataframe thead th {\n",
       "        text-align: right;\n",
       "    }\n",
       "</style>\n",
       "<table border=\"1\" class=\"dataframe\">\n",
       "  <thead>\n",
       "    <tr style=\"text-align: right;\">\n",
       "      <th></th>\n",
       "      <th>total_images</th>\n",
       "      <th>last_price</th>\n",
       "      <th>total_area</th>\n",
       "      <th>first_day_exposition</th>\n",
       "      <th>rooms</th>\n",
       "      <th>ceiling_height</th>\n",
       "      <th>floors_total</th>\n",
       "      <th>living_area</th>\n",
       "      <th>floor</th>\n",
       "      <th>is_apartment</th>\n",
       "      <th>is_studio</th>\n",
       "      <th>is_open_plan</th>\n",
       "      <th>kitchen_area</th>\n",
       "      <th>balcony</th>\n",
       "      <th>locality_name</th>\n",
       "      <th>airports_nearest</th>\n",
       "      <th>city_centers_nearest</th>\n",
       "      <th>parks_around_3000</th>\n",
       "      <th>parks_nearest</th>\n",
       "      <th>ponds_around_3000</th>\n",
       "      <th>ponds_nearest</th>\n",
       "      <th>days_exposition</th>\n",
       "      <th>price_to_m</th>\n",
       "      <th>weekday_exposition</th>\n",
       "      <th>month_exposition</th>\n",
       "      <th>year_exposition</th>\n",
       "      <th>floors_type</th>\n",
       "    </tr>\n",
       "  </thead>\n",
       "  <tbody>\n",
       "    <tr>\n",
       "      <th>0</th>\n",
       "      <td>20</td>\n",
       "      <td>13000000.0</td>\n",
       "      <td>108.0</td>\n",
       "      <td>2019-03-07</td>\n",
       "      <td>3</td>\n",
       "      <td>2.70</td>\n",
       "      <td>16.0</td>\n",
       "      <td>51.0</td>\n",
       "      <td>8</td>\n",
       "      <td>False</td>\n",
       "      <td>False</td>\n",
       "      <td>False</td>\n",
       "      <td>25.0</td>\n",
       "      <td>0</td>\n",
       "      <td>Санкт-Петербург</td>\n",
       "      <td>18863.0</td>\n",
       "      <td>16.028</td>\n",
       "      <td>1.0</td>\n",
       "      <td>482.0</td>\n",
       "      <td>2.0</td>\n",
       "      <td>755.0</td>\n",
       "      <td>&lt;NA&gt;</td>\n",
       "      <td>120370.37</td>\n",
       "      <td>3</td>\n",
       "      <td>3</td>\n",
       "      <td>2019</td>\n",
       "      <td>другой</td>\n",
       "    </tr>\n",
       "    <tr>\n",
       "      <th>1</th>\n",
       "      <td>7</td>\n",
       "      <td>3350000.0</td>\n",
       "      <td>40.4</td>\n",
       "      <td>2018-12-04</td>\n",
       "      <td>1</td>\n",
       "      <td>2.65</td>\n",
       "      <td>11.0</td>\n",
       "      <td>18.6</td>\n",
       "      <td>1</td>\n",
       "      <td>False</td>\n",
       "      <td>False</td>\n",
       "      <td>False</td>\n",
       "      <td>11.0</td>\n",
       "      <td>2</td>\n",
       "      <td>поселок Шушары</td>\n",
       "      <td>12817.0</td>\n",
       "      <td>18.603</td>\n",
       "      <td>0.0</td>\n",
       "      <td>NaN</td>\n",
       "      <td>0.0</td>\n",
       "      <td>NaN</td>\n",
       "      <td>81</td>\n",
       "      <td>82920.79</td>\n",
       "      <td>1</td>\n",
       "      <td>12</td>\n",
       "      <td>2018</td>\n",
       "      <td>первый</td>\n",
       "    </tr>\n",
       "    <tr>\n",
       "      <th>2</th>\n",
       "      <td>10</td>\n",
       "      <td>5196000.0</td>\n",
       "      <td>56.0</td>\n",
       "      <td>2015-08-20</td>\n",
       "      <td>2</td>\n",
       "      <td>2.65</td>\n",
       "      <td>5.0</td>\n",
       "      <td>34.3</td>\n",
       "      <td>4</td>\n",
       "      <td>False</td>\n",
       "      <td>False</td>\n",
       "      <td>False</td>\n",
       "      <td>8.3</td>\n",
       "      <td>0</td>\n",
       "      <td>Санкт-Петербург</td>\n",
       "      <td>21741.0</td>\n",
       "      <td>13.933</td>\n",
       "      <td>1.0</td>\n",
       "      <td>90.0</td>\n",
       "      <td>2.0</td>\n",
       "      <td>574.0</td>\n",
       "      <td>558</td>\n",
       "      <td>92785.71</td>\n",
       "      <td>3</td>\n",
       "      <td>8</td>\n",
       "      <td>2015</td>\n",
       "      <td>другой</td>\n",
       "    </tr>\n",
       "    <tr>\n",
       "      <th>3</th>\n",
       "      <td>0</td>\n",
       "      <td>64900000.0</td>\n",
       "      <td>159.0</td>\n",
       "      <td>2015-07-24</td>\n",
       "      <td>3</td>\n",
       "      <td>2.65</td>\n",
       "      <td>14.0</td>\n",
       "      <td>NaN</td>\n",
       "      <td>9</td>\n",
       "      <td>False</td>\n",
       "      <td>False</td>\n",
       "      <td>False</td>\n",
       "      <td>NaN</td>\n",
       "      <td>0</td>\n",
       "      <td>Санкт-Петербург</td>\n",
       "      <td>28098.0</td>\n",
       "      <td>6.800</td>\n",
       "      <td>2.0</td>\n",
       "      <td>84.0</td>\n",
       "      <td>3.0</td>\n",
       "      <td>234.0</td>\n",
       "      <td>424</td>\n",
       "      <td>408176.10</td>\n",
       "      <td>4</td>\n",
       "      <td>7</td>\n",
       "      <td>2015</td>\n",
       "      <td>другой</td>\n",
       "    </tr>\n",
       "    <tr>\n",
       "      <th>4</th>\n",
       "      <td>2</td>\n",
       "      <td>10000000.0</td>\n",
       "      <td>100.0</td>\n",
       "      <td>2018-06-19</td>\n",
       "      <td>2</td>\n",
       "      <td>3.03</td>\n",
       "      <td>14.0</td>\n",
       "      <td>32.0</td>\n",
       "      <td>13</td>\n",
       "      <td>False</td>\n",
       "      <td>False</td>\n",
       "      <td>False</td>\n",
       "      <td>41.0</td>\n",
       "      <td>0</td>\n",
       "      <td>Санкт-Петербург</td>\n",
       "      <td>31856.0</td>\n",
       "      <td>8.098</td>\n",
       "      <td>2.0</td>\n",
       "      <td>112.0</td>\n",
       "      <td>1.0</td>\n",
       "      <td>48.0</td>\n",
       "      <td>121</td>\n",
       "      <td>100000.00</td>\n",
       "      <td>1</td>\n",
       "      <td>6</td>\n",
       "      <td>2018</td>\n",
       "      <td>другой</td>\n",
       "    </tr>\n",
       "  </tbody>\n",
       "</table>\n",
       "</div>"
      ],
      "text/plain": [
       "   total_images  last_price  total_area first_day_exposition  rooms  \\\n",
       "0            20  13000000.0       108.0           2019-03-07      3   \n",
       "1             7   3350000.0        40.4           2018-12-04      1   \n",
       "2            10   5196000.0        56.0           2015-08-20      2   \n",
       "3             0  64900000.0       159.0           2015-07-24      3   \n",
       "4             2  10000000.0       100.0           2018-06-19      2   \n",
       "\n",
       "   ceiling_height  floors_total  living_area  floor  is_apartment  is_studio  \\\n",
       "0            2.70          16.0         51.0      8         False      False   \n",
       "1            2.65          11.0         18.6      1         False      False   \n",
       "2            2.65           5.0         34.3      4         False      False   \n",
       "3            2.65          14.0          NaN      9         False      False   \n",
       "4            3.03          14.0         32.0     13         False      False   \n",
       "\n",
       "   is_open_plan  kitchen_area  balcony    locality_name  airports_nearest  \\\n",
       "0         False          25.0        0  Санкт-Петербург           18863.0   \n",
       "1         False          11.0        2   поселок Шушары           12817.0   \n",
       "2         False           8.3        0  Санкт-Петербург           21741.0   \n",
       "3         False           NaN        0  Санкт-Петербург           28098.0   \n",
       "4         False          41.0        0  Санкт-Петербург           31856.0   \n",
       "\n",
       "   city_centers_nearest  parks_around_3000  parks_nearest  ponds_around_3000  \\\n",
       "0                16.028                1.0          482.0                2.0   \n",
       "1                18.603                0.0            NaN                0.0   \n",
       "2                13.933                1.0           90.0                2.0   \n",
       "3                 6.800                2.0           84.0                3.0   \n",
       "4                 8.098                2.0          112.0                1.0   \n",
       "\n",
       "   ponds_nearest  days_exposition  price_to_m  weekday_exposition  \\\n",
       "0          755.0             <NA>   120370.37                   3   \n",
       "1            NaN               81    82920.79                   1   \n",
       "2          574.0              558    92785.71                   3   \n",
       "3          234.0              424   408176.10                   4   \n",
       "4           48.0              121   100000.00                   1   \n",
       "\n",
       "   month_exposition  year_exposition floors_type  \n",
       "0                 3             2019      другой  \n",
       "1                12             2018      первый  \n",
       "2                 8             2015      другой  \n",
       "3                 7             2015      другой  \n",
       "4                 6             2018      другой  "
      ]
     },
     "execution_count": 34,
     "metadata": {},
     "output_type": "execute_result"
    }
   ],
   "source": [
    "df.head()"
   ]
  },
  {
   "cell_type": "markdown",
   "metadata": {},
   "source": [
    "## Исследовательский анализ данных"
   ]
  },
  {
   "cell_type": "markdown",
   "metadata": {},
   "source": [
    "### Изучение параметров объектов: общая площадь; жилая площадь; площадь кухни; цена объекта; количество комнат; высота потолков; тип этажа квартиры («первый», «последний», «другой»); общее количество этажей в доме; расстояние до центра города в метрах; расстояние до ближайшего парка"
   ]
  },
  {
   "cell_type": "code",
   "execution_count": 35,
   "metadata": {},
   "outputs": [
    {
     "data": {
      "text/plain": [
       "count    23650.000000\n",
       "mean        60.329069\n",
       "std         35.661808\n",
       "min         12.000000\n",
       "25%         40.000000\n",
       "50%         52.000000\n",
       "75%         69.700000\n",
       "max        900.000000\n",
       "Name: total_area, dtype: float64"
      ]
     },
     "execution_count": 35,
     "metadata": {},
     "output_type": "execute_result"
    },
    {
     "data": {
      "image/png": "[encoded data removed]",
      "text/plain": [
       "<Figure size 360x216 with 1 Axes>"
      ]
     },
     "metadata": {
      "needs_background": "light"
     },
     "output_type": "display_data"
    }
   ],
   "source": [
    "# Общая площадь \n",
    "\n",
    "df.plot(y = 'total_area', kind = 'hist', bins = 100, grid=True, figsize = (5,3), range = (0,500))\n",
    "df['total_area'].describe()"
   ]
  },
  {
   "cell_type": "markdown",
   "metadata": {},
   "source": [
    "**Промежуточный вывод**\n",
    "\n",
    "В выборке есть объявления о продаже квартир площадью от 12м до 900м. Получается, медианный размер квартиры в продаже - 52м, благодаря среднему мы можем сказать, что чаще всего в продаже встречаются квартиры в 60м "
   ]
  },
  {
   "cell_type": "code",
   "execution_count": 36,
   "metadata": {},
   "outputs": [
    {
     "data": {
      "image/png": "[encoded data removed]",
      "text/plain": [
       "<Figure size 432x288 with 1 Axes>"
      ]
     },
     "metadata": {
      "needs_background": "light"
     },
     "output_type": "display_data"
    }
   ],
   "source": [
    "sns.boxplot(x='total_area', data=df)\n",
    "plt.title('Распределение общей площади', fontsize= 12)\n",
    "plt.xlim(0,300)\n",
    "plt.show()"
   ]
  },
  {
   "cell_type": "markdown",
   "metadata": {},
   "source": [
    "**Промежуточный вывод**\n",
    "\n",
    "Редкие значения начинаются примерно с 200 метров"
   ]
  },
  {
   "cell_type": "code",
   "execution_count": 37,
   "metadata": {},
   "outputs": [
    {
     "data": {
      "text/plain": [
       "count    21752.000000\n",
       "mean        34.448356\n",
       "std         22.037664\n",
       "min          2.000000\n",
       "25%         18.600000\n",
       "50%         30.000000\n",
       "75%         42.300000\n",
       "max        409.700000\n",
       "Name: living_area, dtype: float64"
      ]
     },
     "execution_count": 37,
     "metadata": {},
     "output_type": "execute_result"
    },
    {
     "data": {
      "image/png": "[encoded data removed]",
      "text/plain": [
       "<Figure size 360x216 with 1 Axes>"
      ]
     },
     "metadata": {
      "needs_background": "light"
     },
     "output_type": "display_data"
    }
   ],
   "source": [
    "# Жилая площадь\n",
    "\n",
    "df.plot(y = 'living_area', kind = 'hist', bins = 100, grid=True, figsize = (5,3), range = (0,500))\n",
    "df['living_area'].describe()"
   ]
  },
  {
   "cell_type": "markdown",
   "metadata": {},
   "source": [
    "**Промежуточный вывод**\n",
    "\n",
    "В среднем, размер жилой площади в квартирах - 34 метра. "
   ]
  },
  {
   "cell_type": "code",
   "execution_count": 38,
   "metadata": {},
   "outputs": [
    {
     "data": {
      "text/plain": [
       "count    21381.000000\n",
       "mean        10.566403\n",
       "std          5.901753\n",
       "min          1.300000\n",
       "25%          7.000000\n",
       "50%          9.100000\n",
       "75%         12.000000\n",
       "max        112.000000\n",
       "Name: kitchen_area, dtype: float64"
      ]
     },
     "execution_count": 38,
     "metadata": {},
     "output_type": "execute_result"
    },
    {
     "data": {
      "image/png": "[encoded data removed]",
      "text/plain": [
       "<Figure size 360x216 with 1 Axes>"
      ]
     },
     "metadata": {
      "needs_background": "light"
     },
     "output_type": "display_data"
    }
   ],
   "source": [
    "# Площадь кухни\n",
    "\n",
    "df.plot(y = 'kitchen_area', kind = 'hist', bins = 100, grid=True, figsize = (5,3), range = (0,500))\n",
    "df['kitchen_area'].describe()"
   ]
  },
  {
   "cell_type": "markdown",
   "metadata": {},
   "source": [
    "**Промежуточный вывод**\n",
    "\n",
    "Средний размер кухни - 10м. Можно сказать, что это соответсвует реальности - кухни в квартирах небольшие. "
   ]
  },
  {
   "cell_type": "code",
   "execution_count": 39,
   "metadata": {
    "scrolled": false
   },
   "outputs": [
    {
     "data": {
      "text/plain": [
       "count    2.365000e+04\n",
       "mean     6.541127e+06\n",
       "std      1.089640e+07\n",
       "min      1.219000e+04\n",
       "25%      3.400000e+06\n",
       "50%      4.650000e+06\n",
       "75%      6.799000e+06\n",
       "max      7.630000e+08\n",
       "Name: last_price, dtype: float64"
      ]
     },
     "execution_count": 39,
     "metadata": {},
     "output_type": "execute_result"
    },
    {
     "data": {
      "image/png": "[encoded data removed]",
      "text/plain": [
       "<Figure size 360x216 with 1 Axes>"
      ]
     },
     "metadata": {
      "needs_background": "light"
     },
     "output_type": "display_data"
    }
   ],
   "source": [
    "# Цена объекта \n",
    "df.plot(y = 'last_price', kind = 'hist', bins = 100, grid=True, range = (0,15000000), figsize = (5,3))\n",
    "df['last_price'].describe()"
   ]
  },
  {
   "cell_type": "markdown",
   "metadata": {},
   "source": [
    "**Промежуточный вывод**\n",
    "\n",
    "Видно, что минимальная цена квартиры 12 тысяч, а максимальная 763 миллиона. Так же видно, что максимальная цена очень сильно отличается от третьего квартиля. "
   ]
  },
  {
   "cell_type": "code",
   "execution_count": 40,
   "metadata": {},
   "outputs": [
    {
     "data": {
      "text/html": [
       "<div>\n",
       "<style scoped>\n",
       "    .dataframe tbody tr th:only-of-type {\n",
       "        vertical-align: middle;\n",
       "    }\n",
       "\n",
       "    .dataframe tbody tr th {\n",
       "        vertical-align: top;\n",
       "    }\n",
       "\n",
       "    .dataframe thead th {\n",
       "        text-align: right;\n",
       "    }\n",
       "</style>\n",
       "<table border=\"1\" class=\"dataframe\">\n",
       "  <thead>\n",
       "    <tr style=\"text-align: right;\">\n",
       "      <th></th>\n",
       "      <th>total_images</th>\n",
       "      <th>last_price</th>\n",
       "      <th>total_area</th>\n",
       "      <th>first_day_exposition</th>\n",
       "      <th>rooms</th>\n",
       "      <th>ceiling_height</th>\n",
       "      <th>floors_total</th>\n",
       "      <th>living_area</th>\n",
       "      <th>floor</th>\n",
       "      <th>is_apartment</th>\n",
       "      <th>is_studio</th>\n",
       "      <th>is_open_plan</th>\n",
       "      <th>kitchen_area</th>\n",
       "      <th>balcony</th>\n",
       "      <th>locality_name</th>\n",
       "      <th>airports_nearest</th>\n",
       "      <th>city_centers_nearest</th>\n",
       "      <th>parks_around_3000</th>\n",
       "      <th>parks_nearest</th>\n",
       "      <th>ponds_around_3000</th>\n",
       "      <th>ponds_nearest</th>\n",
       "      <th>days_exposition</th>\n",
       "      <th>price_to_m</th>\n",
       "      <th>weekday_exposition</th>\n",
       "      <th>month_exposition</th>\n",
       "      <th>year_exposition</th>\n",
       "      <th>floors_type</th>\n",
       "    </tr>\n",
       "  </thead>\n",
       "  <tbody>\n",
       "    <tr>\n",
       "      <th>8793</th>\n",
       "      <td>7</td>\n",
       "      <td>12190.0</td>\n",
       "      <td>109.0</td>\n",
       "      <td>2019-03-20</td>\n",
       "      <td>2</td>\n",
       "      <td>2.75</td>\n",
       "      <td>25.0</td>\n",
       "      <td>32.0</td>\n",
       "      <td>25</td>\n",
       "      <td>False</td>\n",
       "      <td>False</td>\n",
       "      <td>False</td>\n",
       "      <td>40.5</td>\n",
       "      <td>0</td>\n",
       "      <td>Санкт-Петербург</td>\n",
       "      <td>36421.0</td>\n",
       "      <td>9.176</td>\n",
       "      <td>1.0</td>\n",
       "      <td>805.0</td>\n",
       "      <td>0.0</td>\n",
       "      <td>NaN</td>\n",
       "      <td>8</td>\n",
       "      <td>111.83</td>\n",
       "      <td>2</td>\n",
       "      <td>3</td>\n",
       "      <td>2019</td>\n",
       "      <td>последний</td>\n",
       "    </tr>\n",
       "  </tbody>\n",
       "</table>\n",
       "</div>"
      ],
      "text/plain": [
       "      total_images  last_price  total_area first_day_exposition  rooms  \\\n",
       "8793             7     12190.0       109.0           2019-03-20      2   \n",
       "\n",
       "      ceiling_height  floors_total  living_area  floor  is_apartment  \\\n",
       "8793            2.75          25.0         32.0     25         False   \n",
       "\n",
       "      is_studio  is_open_plan  kitchen_area  balcony    locality_name  \\\n",
       "8793      False         False          40.5        0  Санкт-Петербург   \n",
       "\n",
       "      airports_nearest  city_centers_nearest  parks_around_3000  \\\n",
       "8793           36421.0                 9.176                1.0   \n",
       "\n",
       "      parks_nearest  ponds_around_3000  ponds_nearest  days_exposition  \\\n",
       "8793          805.0                0.0            NaN                8   \n",
       "\n",
       "      price_to_m  weekday_exposition  month_exposition  year_exposition  \\\n",
       "8793      111.83                   2                 3             2019   \n",
       "\n",
       "     floors_type  \n",
       "8793   последний  "
      ]
     },
     "execution_count": 40,
     "metadata": {},
     "output_type": "execute_result"
    }
   ],
   "source": [
    "# Посмотрим на минимальное значение \n",
    "\n",
    "df[df['last_price'] < 100000]"
   ]
  },
  {
   "cell_type": "code",
   "execution_count": 41,
   "metadata": {},
   "outputs": [
    {
     "data": {
      "text/html": [
       "<div>\n",
       "<style scoped>\n",
       "    .dataframe tbody tr th:only-of-type {\n",
       "        vertical-align: middle;\n",
       "    }\n",
       "\n",
       "    .dataframe tbody tr th {\n",
       "        vertical-align: top;\n",
       "    }\n",
       "\n",
       "    .dataframe thead th {\n",
       "        text-align: right;\n",
       "    }\n",
       "</style>\n",
       "<table border=\"1\" class=\"dataframe\">\n",
       "  <thead>\n",
       "    <tr style=\"text-align: right;\">\n",
       "      <th></th>\n",
       "      <th>total_images</th>\n",
       "      <th>last_price</th>\n",
       "      <th>total_area</th>\n",
       "      <th>first_day_exposition</th>\n",
       "      <th>rooms</th>\n",
       "      <th>ceiling_height</th>\n",
       "      <th>floors_total</th>\n",
       "      <th>living_area</th>\n",
       "      <th>floor</th>\n",
       "      <th>is_apartment</th>\n",
       "      <th>is_studio</th>\n",
       "      <th>is_open_plan</th>\n",
       "      <th>kitchen_area</th>\n",
       "      <th>balcony</th>\n",
       "      <th>locality_name</th>\n",
       "      <th>airports_nearest</th>\n",
       "      <th>city_centers_nearest</th>\n",
       "      <th>parks_around_3000</th>\n",
       "      <th>parks_nearest</th>\n",
       "      <th>ponds_around_3000</th>\n",
       "      <th>ponds_nearest</th>\n",
       "      <th>days_exposition</th>\n",
       "      <th>price_to_m</th>\n",
       "      <th>weekday_exposition</th>\n",
       "      <th>month_exposition</th>\n",
       "      <th>year_exposition</th>\n",
       "      <th>floors_type</th>\n",
       "    </tr>\n",
       "  </thead>\n",
       "  <tbody>\n",
       "    <tr>\n",
       "      <th>12971</th>\n",
       "      <td>19</td>\n",
       "      <td>763000000.0</td>\n",
       "      <td>400.0</td>\n",
       "      <td>2017-09-30</td>\n",
       "      <td>7</td>\n",
       "      <td>2.65</td>\n",
       "      <td>10.0</td>\n",
       "      <td>250.0</td>\n",
       "      <td>10</td>\n",
       "      <td>False</td>\n",
       "      <td>False</td>\n",
       "      <td>False</td>\n",
       "      <td>NaN</td>\n",
       "      <td>2</td>\n",
       "      <td>Санкт-Петербург</td>\n",
       "      <td>25108.0</td>\n",
       "      <td>3.956</td>\n",
       "      <td>1.0</td>\n",
       "      <td>530.0</td>\n",
       "      <td>3.0</td>\n",
       "      <td>756.0</td>\n",
       "      <td>33</td>\n",
       "      <td>1907500.0</td>\n",
       "      <td>5</td>\n",
       "      <td>9</td>\n",
       "      <td>2017</td>\n",
       "      <td>последний</td>\n",
       "    </tr>\n",
       "  </tbody>\n",
       "</table>\n",
       "</div>"
      ],
      "text/plain": [
       "       total_images   last_price  total_area first_day_exposition  rooms  \\\n",
       "12971            19  763000000.0       400.0           2017-09-30      7   \n",
       "\n",
       "       ceiling_height  floors_total  living_area  floor  is_apartment  \\\n",
       "12971            2.65          10.0        250.0     10         False   \n",
       "\n",
       "       is_studio  is_open_plan  kitchen_area  balcony    locality_name  \\\n",
       "12971      False         False           NaN        2  Санкт-Петербург   \n",
       "\n",
       "       airports_nearest  city_centers_nearest  parks_around_3000  \\\n",
       "12971           25108.0                 3.956                1.0   \n",
       "\n",
       "       parks_nearest  ponds_around_3000  ponds_nearest  days_exposition  \\\n",
       "12971          530.0                3.0          756.0               33   \n",
       "\n",
       "       price_to_m  weekday_exposition  month_exposition  year_exposition  \\\n",
       "12971   1907500.0                   5                 9             2017   \n",
       "\n",
       "      floors_type  \n",
       "12971   последний  "
      ]
     },
     "execution_count": 41,
     "metadata": {},
     "output_type": "execute_result"
    }
   ],
   "source": [
    "# Посмотрим на максимальное значение \n",
    "\n",
    "df[df['last_price'] > 500000000] "
   ]
  },
  {
   "cell_type": "markdown",
   "metadata": {},
   "source": [
    "**Промежуточный вывод**\n",
    "\n",
    "По итогу мы имеем одно значение минимальной цены и одно значение максимальной, которые сильно отличаются от межквартильного размаха. Может быть это ошибка ввода, а может и нет. Лучше не гадать и избавиться от обоих  "
   ]
  },
  {
   "cell_type": "code",
   "execution_count": 42,
   "metadata": {},
   "outputs": [],
   "source": [
    "df = df.loc[df['last_price'] > 100000] "
   ]
  },
  {
   "cell_type": "code",
   "execution_count": 43,
   "metadata": {},
   "outputs": [],
   "source": [
    "df = df.loc[df['last_price'] < 500000000] "
   ]
  },
  {
   "cell_type": "code",
   "execution_count": 44,
   "metadata": {},
   "outputs": [
    {
     "data": {
      "text/plain": [
       "count    23648.000000\n",
       "mean         6.509415\n",
       "std          9.723163\n",
       "min          0.430000\n",
       "25%          3.400000\n",
       "50%          4.650000\n",
       "75%          6.799000\n",
       "max        420.000000\n",
       "Name: last_price, dtype: float64"
      ]
     },
     "execution_count": 44,
     "metadata": {},
     "output_type": "execute_result"
    },
    {
     "data": {
      "image/png": "[encoded data removed]",
      "text/plain": [
       "<Figure size 360x216 with 1 Axes>"
      ]
     },
     "metadata": {
      "needs_background": "light"
     },
     "output_type": "display_data"
    }
   ],
   "source": [
    "# Приведем данные в столбце к миллионам, заодно посмотрим корректно ли избавились от минимальной и максимальной стоимости\n",
    "\n",
    "df['last_price'] = df['last_price'] / 1000000\n",
    "df.plot(y = 'last_price', kind = 'hist', bins = 100, grid=True, range = (0,15), figsize = (5,3))\n",
    "df['last_price'].describe()"
   ]
  },
  {
   "cell_type": "code",
   "execution_count": 45,
   "metadata": {},
   "outputs": [
    {
     "data": {
      "image/png": "[encoded data removed]",
      "text/plain": [
       "<Figure size 432x288 with 1 Axes>"
      ]
     },
     "metadata": {
      "needs_background": "light"
     },
     "output_type": "display_data"
    }
   ],
   "source": [
    "# Посмотрим на аномалии в данных \n",
    "\n",
    "sns.boxplot(x='last_price', data=df)\n",
    "plt.title('Распределение цен', fontsize= 12)\n",
    "plt.xlim(0,70)\n",
    "plt.show()"
   ]
  },
  {
   "cell_type": "markdown",
   "metadata": {},
   "source": [
    "**Промежуточный вывод**\n",
    "\n",
    "Видно, что начиная где-то с цены в 30 миллионов значения встречаются реже "
   ]
  },
  {
   "cell_type": "markdown",
   "metadata": {},
   "source": [
    "Средняя цена квартиры в Санкт-Петербурге около 6,5 млн руб, однако это число сильно отличается от медианнной цены в 4,65 млн. Причиной тому может быть большое количество дорогих квартир. "
   ]
  },
  {
   "cell_type": "code",
   "execution_count": 46,
   "metadata": {},
   "outputs": [
    {
     "data": {
      "text/plain": [
       "count    23648.000000\n",
       "mean         2.069900\n",
       "std          1.078189\n",
       "min          0.000000\n",
       "25%          1.000000\n",
       "50%          2.000000\n",
       "75%          3.000000\n",
       "max         19.000000\n",
       "Name: rooms, dtype: float64"
      ]
     },
     "execution_count": 46,
     "metadata": {},
     "output_type": "execute_result"
    },
    {
     "data": {
      "image/png": "[encoded data removed]",
      "text/plain": [
       "<Figure size 360x216 with 1 Axes>"
      ]
     },
     "metadata": {
      "needs_background": "light"
     },
     "output_type": "display_data"
    }
   ],
   "source": [
    "# Количество комнат\n",
    "\n",
    "df.plot(y = 'rooms', kind = 'hist', bins = 30, grid=True, figsize = (5,3))\n",
    "df['rooms'].describe()"
   ]
  },
  {
   "cell_type": "markdown",
   "metadata": {},
   "source": [
    "**Промежуточный вывод**\n",
    "\n",
    "На рынке можно найти как однокомнатные квартиры, так и девятнадцатикомнатные. Однако, больше всего предложений среди однокомнатных квартир. "
   ]
  },
  {
   "cell_type": "code",
   "execution_count": 47,
   "metadata": {},
   "outputs": [
    {
     "data": {
      "image/png": "[encoded data removed]",
      "text/plain": [
       "<Figure size 432x288 with 1 Axes>"
      ]
     },
     "metadata": {
      "needs_background": "light"
     },
     "output_type": "display_data"
    }
   ],
   "source": [
    "sns.boxplot(x='rooms', data=df)\n",
    "plt.title('Распределение количества комнат', fontsize= 12)\n",
    "plt.xlim(0,10)\n",
    "plt.show()"
   ]
  },
  {
   "cell_type": "markdown",
   "metadata": {},
   "source": [
    "**Промежуточный вывод**\n",
    "\n",
    "Выбросы можно считать с 6 комнат"
   ]
  },
  {
   "cell_type": "code",
   "execution_count": 48,
   "metadata": {},
   "outputs": [
    {
     "data": {
      "text/plain": [
       "count    23648.000000\n",
       "mean         2.695938\n",
       "std          0.215425\n",
       "min          2.000000\n",
       "25%          2.600000\n",
       "50%          2.650000\n",
       "75%          2.700000\n",
       "max          5.000000\n",
       "Name: ceiling_height, dtype: float64"
      ]
     },
     "execution_count": 48,
     "metadata": {},
     "output_type": "execute_result"
    },
    {
     "data": {
      "image/png": "[encoded data removed]",
      "text/plain": [
       "<Figure size 360x216 with 1 Axes>"
      ]
     },
     "metadata": {
      "needs_background": "light"
     },
     "output_type": "display_data"
    }
   ],
   "source": [
    "# Высота потолков\n",
    "\n",
    "df.plot(y = 'ceiling_height', kind = 'hist', bins = 30, range = (2,5), grid=True, figsize = (5,3))\n",
    "df['ceiling_height'].describe()"
   ]
  },
  {
   "cell_type": "markdown",
   "metadata": {},
   "source": [
    "**Промежуточный вывод**\n",
    "\n",
    "Большинство квартир имеют высоту потолка в 2,7 метра, однако есть и нестандартные предложения с высотой потолков до 5 метров. "
   ]
  },
  {
   "cell_type": "code",
   "execution_count": 49,
   "metadata": {},
   "outputs": [
    {
     "data": {
      "text/plain": [
       "другой       17408\n",
       "последний     3328\n",
       "первый        2912\n",
       "Name: floors_type, dtype: int64"
      ]
     },
     "execution_count": 49,
     "metadata": {},
     "output_type": "execute_result"
    }
   ],
   "source": [
    "# Тип этажа квартиры («первый», «последний», «другой»)\n",
    "\n",
    "df['floors_type'].value_counts()"
   ]
  },
  {
   "cell_type": "markdown",
   "metadata": {},
   "source": [
    "**Промежуточный вывод**\n",
    "\n",
    "Большинство квартир находятся между первым и последним этажом. "
   ]
  },
  {
   "cell_type": "code",
   "execution_count": 50,
   "metadata": {},
   "outputs": [
    {
     "data": {
      "text/plain": [
       "count    23648.000000\n",
       "mean         5.892295\n",
       "std          4.881870\n",
       "min          1.000000\n",
       "25%          2.000000\n",
       "50%          4.000000\n",
       "75%          8.000000\n",
       "max         33.000000\n",
       "Name: floor, dtype: float64"
      ]
     },
     "execution_count": 50,
     "metadata": {},
     "output_type": "execute_result"
    },
    {
     "data": {
      "image/png": "[encoded data removed]",
      "text/plain": [
       "<Figure size 360x216 with 1 Axes>"
      ]
     },
     "metadata": {
      "needs_background": "light"
     },
     "output_type": "display_data"
    }
   ],
   "source": [
    "# Общее количество этажей в доме\n",
    "\n",
    "df.plot(y = 'floor', kind = 'hist', bins = 30, grid=True, figsize = (5,3))\n",
    "df['floor'].describe()"
   ]
  },
  {
   "cell_type": "markdown",
   "metadata": {},
   "source": [
    "**Промежуточный вывод**\n",
    "\n",
    "Поскольку среднее в этом показетеле 5 этажей, то можно предположить, что большинство квартир в продаже в пятиэтажках. "
   ]
  },
  {
   "cell_type": "code",
   "execution_count": 51,
   "metadata": {},
   "outputs": [
    {
     "data": {
      "text/plain": [
       "count    18137.000000\n",
       "mean        14.198702\n",
       "std          8.606888\n",
       "min          0.181000\n",
       "25%          9.241000\n",
       "50%         13.107000\n",
       "75%         16.293000\n",
       "max         65.968000\n",
       "Name: city_centers_nearest, dtype: float64"
      ]
     },
     "execution_count": 51,
     "metadata": {},
     "output_type": "execute_result"
    },
    {
     "data": {
      "image/png": "[encoded data removed]",
      "text/plain": [
       "<Figure size 360x216 with 1 Axes>"
      ]
     },
     "metadata": {
      "needs_background": "light"
     },
     "output_type": "display_data"
    }
   ],
   "source": [
    "# Расстояние до центра города в метрах\n",
    "\n",
    "df.plot(y = 'city_centers_nearest', kind = 'hist', bins = 30, grid=True, figsize = (5,3))\n",
    "df['city_centers_nearest'].describe()"
   ]
  },
  {
   "cell_type": "markdown",
   "metadata": {},
   "source": [
    "**Промежуточный вывод**\n",
    "\n",
    "Большинство квартир находятся в пределах 10-20 км от центра города, немало преложений и в радиусе 10км. В среднем, квартира находится на расстоянии 14 км от центра."
   ]
  },
  {
   "cell_type": "code",
   "execution_count": 52,
   "metadata": {},
   "outputs": [
    {
     "data": {
      "text/plain": [
       "count    8062.000000\n",
       "mean      490.786902\n",
       "std       342.578728\n",
       "min         1.000000\n",
       "25%       288.000000\n",
       "50%       454.000000\n",
       "75%       612.000000\n",
       "max      3190.000000\n",
       "Name: parks_nearest, dtype: float64"
      ]
     },
     "execution_count": 52,
     "metadata": {},
     "output_type": "execute_result"
    },
    {
     "data": {
      "image/png": "[encoded data removed]",
      "text/plain": [
       "<Figure size 360x216 with 1 Axes>"
      ]
     },
     "metadata": {
      "needs_background": "light"
     },
     "output_type": "display_data"
    }
   ],
   "source": [
    "# Расстояние до ближайшего парка\n",
    "\n",
    "df.plot(y = 'parks_nearest', kind = 'hist', bins = 30, grid=True, figsize = (5,3))\n",
    "df['parks_nearest'].describe()\n"
   ]
  },
  {
   "cell_type": "markdown",
   "metadata": {},
   "source": [
    "**Промежуточный вывод**\n",
    "\n",
    "В среднем парк находится на расстоянии 490 метров, можно сказать также, что немало квартир, где рядом есть парк."
   ]
  },
  {
   "cell_type": "markdown",
   "metadata": {},
   "source": [
    "Уберем выбросы в столбцах со стоимостью квартиры, комнатами и общей площадью "
   ]
  },
  {
   "cell_type": "code",
   "execution_count": 53,
   "metadata": {},
   "outputs": [],
   "source": [
    "df = df.query('last_price < 20 & rooms < 6 & total_area < 200')"
   ]
  },
  {
   "cell_type": "markdown",
   "metadata": {},
   "source": [
    "### Скорость продажи квартир"
   ]
  },
  {
   "cell_type": "code",
   "execution_count": 54,
   "metadata": {},
   "outputs": [
    {
     "data": {
      "text/plain": [
       "count    19871.000000\n",
       "mean       177.320769\n",
       "std        216.028914\n",
       "min          1.000000\n",
       "25%         44.000000\n",
       "50%         93.000000\n",
       "75%        226.000000\n",
       "max       1580.000000\n",
       "Name: days_exposition, dtype: float64"
      ]
     },
     "execution_count": 54,
     "metadata": {},
     "output_type": "execute_result"
    },
    {
     "data": {
      "image/png": "[encoded data removed]",
      "text/plain": [
       "<Figure size 432x288 with 1 Axes>"
      ]
     },
     "metadata": {
      "needs_background": "light"
     },
     "output_type": "display_data"
    },
    {
     "data": {
      "image/png": "[encoded data removed]",
      "text/plain": [
       "<Figure size 432x288 with 1 Axes>"
      ]
     },
     "metadata": {
      "needs_background": "light"
     },
     "output_type": "display_data"
    }
   ],
   "source": [
    "plt.boxplot(df[df['days_exposition']!=0]['days_exposition'])\n",
    "plt.ylim(1,1000)\n",
    "\n",
    "df.plot(y = 'days_exposition', kind = 'hist', bins = 30, grid = True, range = (1,1600))\n",
    "\n",
    "#среднее значение, медиана и межквартильный размах\n",
    "df[df['days_exposition']!=0]['days_exposition'].describe()\n"
   ]
  },
  {
   "cell_type": "markdown",
   "metadata": {},
   "source": [
    "**Промежуточный вывод**\n",
    "\n",
    "В среднем квартира продается за 180 дней. Однако есть и объекты, которые продавались более 4 лет. Быстрыми продажами можно считать те, что укладываются в срок совпадающей с медианой - 95 дней, все что находится после третьего квартиля 230 дней можно считать необычно долгими продажами. "
   ]
  },
  {
   "cell_type": "markdown",
   "metadata": {},
   "source": [
    "### Факторы влияющие на общую стоимость объекта "
   ]
  },
  {
   "cell_type": "code",
   "execution_count": 55,
   "metadata": {
    "scrolled": true
   },
   "outputs": [
    {
     "data": {
      "text/html": [
       "<style  type=\"text/css\" >\n",
       "#T_9a787_row0_col0,#T_9a787_row1_col1,#T_9a787_row2_col2,#T_9a787_row3_col3,#T_9a787_row4_col4{\n",
       "            background-color:  #b40426;\n",
       "            color:  #f1f1f1;\n",
       "        }#T_9a787_row0_col1{\n",
       "            background-color:  #e2dad5;\n",
       "            color:  #000000;\n",
       "        }#T_9a787_row0_col2{\n",
       "            background-color:  #e4d9d2;\n",
       "            color:  #000000;\n",
       "        }#T_9a787_row0_col3{\n",
       "            background-color:  #dedcdb;\n",
       "            color:  #000000;\n",
       "        }#T_9a787_row0_col4{\n",
       "            background-color:  #c1d4f4;\n",
       "            color:  #000000;\n",
       "        }#T_9a787_row1_col0{\n",
       "            background-color:  #e9d5cb;\n",
       "            color:  #000000;\n",
       "        }#T_9a787_row1_col2{\n",
       "            background-color:  #d95847;\n",
       "            color:  #000000;\n",
       "        }#T_9a787_row1_col3{\n",
       "            background-color:  #cdd9ec;\n",
       "            color:  #000000;\n",
       "        }#T_9a787_row1_col4{\n",
       "            background-color:  #f39778;\n",
       "            color:  #000000;\n",
       "        }#T_9a787_row2_col0{\n",
       "            background-color:  #a6c4fe;\n",
       "            color:  #000000;\n",
       "        }#T_9a787_row2_col1{\n",
       "            background-color:  #e8765c;\n",
       "            color:  #000000;\n",
       "        }#T_9a787_row2_col3{\n",
       "            background-color:  #6788ee;\n",
       "            color:  #000000;\n",
       "        }#T_9a787_row2_col4{\n",
       "            background-color:  #e26952;\n",
       "            color:  #000000;\n",
       "        }#T_9a787_row3_col0{\n",
       "            background-color:  #7093f3;\n",
       "            color:  #000000;\n",
       "        }#T_9a787_row3_col1,#T_9a787_row3_col2,#T_9a787_row3_col4,#T_9a787_row4_col0,#T_9a787_row4_col3{\n",
       "            background-color:  #3b4cc0;\n",
       "            color:  #f1f1f1;\n",
       "        }#T_9a787_row4_col1{\n",
       "            background-color:  #ecd3c5;\n",
       "            color:  #000000;\n",
       "        }#T_9a787_row4_col2{\n",
       "            background-color:  #e7745b;\n",
       "            color:  #000000;\n",
       "        }</style><table id=\"T_9a787_\" ><thead>    <tr>        <th class=\"blank level0\" ></th>        <th class=\"col_heading level0 col0\" >last_price</th>        <th class=\"col_heading level0 col1\" >total_area</th>        <th class=\"col_heading level0 col2\" >living_area</th>        <th class=\"col_heading level0 col3\" >kitchen_area</th>        <th class=\"col_heading level0 col4\" >rooms</th>    </tr></thead><tbody>\n",
       "                <tr>\n",
       "                        <th id=\"T_9a787_level0_row0\" class=\"row_heading level0 row0\" >last_price</th>\n",
       "                        <td id=\"T_9a787_row0_col0\" class=\"data row0 col0\" >1.000000</td>\n",
       "                        <td id=\"T_9a787_row0_col1\" class=\"data row0 col1\" >0.770169</td>\n",
       "                        <td id=\"T_9a787_row0_col2\" class=\"data row0 col2\" >0.654020</td>\n",
       "                        <td id=\"T_9a787_row0_col3\" class=\"data row0 col3\" >0.575173</td>\n",
       "                        <td id=\"T_9a787_row0_col4\" class=\"data row0 col4\" >0.488490</td>\n",
       "            </tr>\n",
       "            <tr>\n",
       "                        <th id=\"T_9a787_level0_row1\" class=\"row_heading level0 row1\" >total_area</th>\n",
       "                        <td id=\"T_9a787_row1_col0\" class=\"data row1 col0\" >0.770169</td>\n",
       "                        <td id=\"T_9a787_row1_col1\" class=\"data row1 col1\" >1.000000</td>\n",
       "                        <td id=\"T_9a787_row1_col2\" class=\"data row1 col2\" >0.919342</td>\n",
       "                        <td id=\"T_9a787_row1_col3\" class=\"data row1 col3\" >0.521534</td>\n",
       "                        <td id=\"T_9a787_row1_col4\" class=\"data row1 col4\" >0.791430</td>\n",
       "            </tr>\n",
       "            <tr>\n",
       "                        <th id=\"T_9a787_level0_row2\" class=\"row_heading level0 row2\" >living_area</th>\n",
       "                        <td id=\"T_9a787_row2_col0\" class=\"data row2 col0\" >0.654020</td>\n",
       "                        <td id=\"T_9a787_row2_col1\" class=\"data row2 col1\" >0.919342</td>\n",
       "                        <td id=\"T_9a787_row2_col2\" class=\"data row2 col2\" >1.000000</td>\n",
       "                        <td id=\"T_9a787_row2_col3\" class=\"data row2 col3\" >0.262663</td>\n",
       "                        <td id=\"T_9a787_row2_col4\" class=\"data row2 col4\" >0.876787</td>\n",
       "            </tr>\n",
       "            <tr>\n",
       "                        <th id=\"T_9a787_level0_row3\" class=\"row_heading level0 row3\" >kitchen_area</th>\n",
       "                        <td id=\"T_9a787_row3_col0\" class=\"data row3 col0\" >0.575173</td>\n",
       "                        <td id=\"T_9a787_row3_col1\" class=\"data row3 col1\" >0.521534</td>\n",
       "                        <td id=\"T_9a787_row3_col2\" class=\"data row3 col2\" >0.262663</td>\n",
       "                        <td id=\"T_9a787_row3_col3\" class=\"data row3 col3\" >1.000000</td>\n",
       "                        <td id=\"T_9a787_row3_col4\" class=\"data row3 col4\" >0.141801</td>\n",
       "            </tr>\n",
       "            <tr>\n",
       "                        <th id=\"T_9a787_level0_row4\" class=\"row_heading level0 row4\" >rooms</th>\n",
       "                        <td id=\"T_9a787_row4_col0\" class=\"data row4 col0\" >0.488490</td>\n",
       "                        <td id=\"T_9a787_row4_col1\" class=\"data row4 col1\" >0.791430</td>\n",
       "                        <td id=\"T_9a787_row4_col2\" class=\"data row4 col2\" >0.876787</td>\n",
       "                        <td id=\"T_9a787_row4_col3\" class=\"data row4 col3\" >0.141801</td>\n",
       "                        <td id=\"T_9a787_row4_col4\" class=\"data row4 col4\" >1.000000</td>\n",
       "            </tr>\n",
       "    </tbody></table>"
      ],
      "text/plain": [
       "<pandas.io.formats.style.Styler at 0x7fd9a08b4af0>"
      ]
     },
     "execution_count": 55,
     "metadata": {},
     "output_type": "execute_result"
    }
   ],
   "source": [
    "# Построим матрицу диаграмм рассеяния, чтобы выявить корреляцию \n",
    "# Столбцы отвечающие день, месяц, год размещения рассмотрим отдельно, как и floors_type\n",
    "\n",
    "corr = df[['last_price',\\\n",
    "           'total_area',\\\n",
    "           'living_area',\\\n",
    "           'kitchen_area',\\\n",
    "           'rooms']].corr()\n",
    "corr.style.background_gradient(cmap='coolwarm')"
   ]
  },
  {
   "cell_type": "markdown",
   "metadata": {},
   "source": [
    "**Промежуточный вывод**\n",
    "\n",
    "Видно, что набольшее влияние на цену оказывает общий метраж квартиры и связанные с ним столбцы (жилая площадь, площадь кухни). Наименьшая зависимость с количеством комнат. Возможно, это можно объяснить тем, что в любой квартире можно сделать перепланировку, поэтому количество комнат не так влияет на цену. "
   ]
  },
  {
   "cell_type": "code",
   "execution_count": 56,
   "metadata": {},
   "outputs": [
    {
     "data": {
      "text/html": [
       "<div>\n",
       "<style scoped>\n",
       "    .dataframe tbody tr th:only-of-type {\n",
       "        vertical-align: middle;\n",
       "    }\n",
       "\n",
       "    .dataframe tbody tr th {\n",
       "        vertical-align: top;\n",
       "    }\n",
       "\n",
       "    .dataframe thead th {\n",
       "        text-align: right;\n",
       "    }\n",
       "</style>\n",
       "<table border=\"1\" class=\"dataframe\">\n",
       "  <thead>\n",
       "    <tr style=\"text-align: right;\">\n",
       "      <th></th>\n",
       "      <th>floors_type</th>\n",
       "      <th>last_price</th>\n",
       "    </tr>\n",
       "  </thead>\n",
       "  <tbody>\n",
       "    <tr>\n",
       "      <th>0</th>\n",
       "      <td>другой</td>\n",
       "      <td>4.7100</td>\n",
       "    </tr>\n",
       "    <tr>\n",
       "      <th>1</th>\n",
       "      <td>первый</td>\n",
       "      <td>3.8825</td>\n",
       "    </tr>\n",
       "    <tr>\n",
       "      <th>2</th>\n",
       "      <td>последний</td>\n",
       "      <td>4.2000</td>\n",
       "    </tr>\n",
       "  </tbody>\n",
       "</table>\n",
       "</div>"
      ],
      "text/plain": [
       "  floors_type  last_price\n",
       "0      другой      4.7100\n",
       "1      первый      3.8825\n",
       "2   последний      4.2000"
      ]
     },
     "execution_count": 56,
     "metadata": {},
     "output_type": "execute_result"
    }
   ],
   "source": [
    "#Этаж на котором расположена квартира\n",
    "\n",
    "df.pivot_table(index='floors_type',values='last_price',  aggfunc='median').reset_index()"
   ]
  },
  {
   "cell_type": "markdown",
   "metadata": {},
   "source": [
    "**Промежуточный вывод**\n",
    "\n",
    "Расположение квартиры на первом или последнем этаже снижает стоимость квартиры. Дешевле всего квартиры на первом этаже. "
   ]
  },
  {
   "cell_type": "code",
   "execution_count": 57,
   "metadata": {},
   "outputs": [
    {
     "data": {
      "text/html": [
       "<div>\n",
       "<style scoped>\n",
       "    .dataframe tbody tr th:only-of-type {\n",
       "        vertical-align: middle;\n",
       "    }\n",
       "\n",
       "    .dataframe tbody tr th {\n",
       "        vertical-align: top;\n",
       "    }\n",
       "\n",
       "    .dataframe thead th {\n",
       "        text-align: right;\n",
       "    }\n",
       "</style>\n",
       "<table border=\"1\" class=\"dataframe\">\n",
       "  <thead>\n",
       "    <tr style=\"text-align: right;\">\n",
       "      <th></th>\n",
       "      <th>mean</th>\n",
       "      <th>count</th>\n",
       "      <th>median</th>\n",
       "    </tr>\n",
       "    <tr>\n",
       "      <th>weekday_exposition</th>\n",
       "      <th></th>\n",
       "      <th></th>\n",
       "      <th></th>\n",
       "    </tr>\n",
       "  </thead>\n",
       "  <tbody>\n",
       "    <tr>\n",
       "      <th>1</th>\n",
       "      <td>5.439680</td>\n",
       "      <td>4049</td>\n",
       "      <td>4.65</td>\n",
       "    </tr>\n",
       "    <tr>\n",
       "      <th>2</th>\n",
       "      <td>5.423835</td>\n",
       "      <td>3817</td>\n",
       "      <td>4.60</td>\n",
       "    </tr>\n",
       "    <tr>\n",
       "      <th>0</th>\n",
       "      <td>5.356854</td>\n",
       "      <td>3477</td>\n",
       "      <td>4.55</td>\n",
       "    </tr>\n",
       "    <tr>\n",
       "      <th>3</th>\n",
       "      <td>5.431494</td>\n",
       "      <td>4102</td>\n",
       "      <td>4.50</td>\n",
       "    </tr>\n",
       "    <tr>\n",
       "      <th>4</th>\n",
       "      <td>5.320599</td>\n",
       "      <td>3867</td>\n",
       "      <td>4.50</td>\n",
       "    </tr>\n",
       "    <tr>\n",
       "      <th>5</th>\n",
       "      <td>5.227124</td>\n",
       "      <td>1873</td>\n",
       "      <td>4.50</td>\n",
       "    </tr>\n",
       "    <tr>\n",
       "      <th>6</th>\n",
       "      <td>5.197549</td>\n",
       "      <td>1634</td>\n",
       "      <td>4.50</td>\n",
       "    </tr>\n",
       "  </tbody>\n",
       "</table>\n",
       "</div>"
      ],
      "text/plain": [
       "                        mean  count  median\n",
       "weekday_exposition                         \n",
       "1                   5.439680   4049    4.65\n",
       "2                   5.423835   3817    4.60\n",
       "0                   5.356854   3477    4.55\n",
       "3                   5.431494   4102    4.50\n",
       "4                   5.320599   3867    4.50\n",
       "5                   5.227124   1873    4.50\n",
       "6                   5.197549   1634    4.50"
      ]
     },
     "execution_count": 57,
     "metadata": {},
     "output_type": "execute_result"
    },
    {
     "data": {
      "image/png": "[encoded data removed]",
      "text/plain": [
       "<Figure size 432x288 with 1 Axes>"
      ]
     },
     "metadata": {
      "needs_background": "light"
     },
     "output_type": "display_data"
    }
   ],
   "source": [
    "#Даты размещения\n",
    "\n",
    "#День размещения \n",
    "\n",
    "pivot_table_weekday_exposition = df.pivot_table(index = 'weekday_exposition', values = 'last_price', aggfunc = ['mean', 'count', 'median'])\n",
    "pivot_table_weekday_exposition.columns = ['mean', 'count', 'median']\n",
    "pivot_table_weekday_exposition.plot(y = 'median')\n",
    "\n",
    "pivot_table_weekday_exposition.sort_values('median', ascending = False)"
   ]
  },
  {
   "cell_type": "markdown",
   "metadata": {},
   "source": [
    "**Промежуточный вывод**\n",
    "\n",
    "Самые дорогие квартиры выставляются во вторник, а вот самые дешевые с четверга. "
   ]
  },
  {
   "cell_type": "code",
   "execution_count": 58,
   "metadata": {},
   "outputs": [
    {
     "data": {
      "text/html": [
       "<div>\n",
       "<style scoped>\n",
       "    .dataframe tbody tr th:only-of-type {\n",
       "        vertical-align: middle;\n",
       "    }\n",
       "\n",
       "    .dataframe tbody tr th {\n",
       "        vertical-align: top;\n",
       "    }\n",
       "\n",
       "    .dataframe thead th {\n",
       "        text-align: right;\n",
       "    }\n",
       "</style>\n",
       "<table border=\"1\" class=\"dataframe\">\n",
       "  <thead>\n",
       "    <tr style=\"text-align: right;\">\n",
       "      <th></th>\n",
       "      <th>mean</th>\n",
       "      <th>count</th>\n",
       "      <th>median</th>\n",
       "    </tr>\n",
       "    <tr>\n",
       "      <th>month_exposition</th>\n",
       "      <th></th>\n",
       "      <th></th>\n",
       "      <th></th>\n",
       "    </tr>\n",
       "  </thead>\n",
       "  <tbody>\n",
       "    <tr>\n",
       "      <th>4</th>\n",
       "      <td>5.500050</td>\n",
       "      <td>2303</td>\n",
       "      <td>4.700</td>\n",
       "    </tr>\n",
       "    <tr>\n",
       "      <th>9</th>\n",
       "      <td>5.531227</td>\n",
       "      <td>1916</td>\n",
       "      <td>4.600</td>\n",
       "    </tr>\n",
       "    <tr>\n",
       "      <th>11</th>\n",
       "      <td>5.423031</td>\n",
       "      <td>2281</td>\n",
       "      <td>4.600</td>\n",
       "    </tr>\n",
       "    <tr>\n",
       "      <th>12</th>\n",
       "      <td>5.365143</td>\n",
       "      <td>1573</td>\n",
       "      <td>4.600</td>\n",
       "    </tr>\n",
       "    <tr>\n",
       "      <th>2</th>\n",
       "      <td>5.311487</td>\n",
       "      <td>2536</td>\n",
       "      <td>4.550</td>\n",
       "    </tr>\n",
       "    <tr>\n",
       "      <th>3</th>\n",
       "      <td>5.347556</td>\n",
       "      <td>2499</td>\n",
       "      <td>4.550</td>\n",
       "    </tr>\n",
       "    <tr>\n",
       "      <th>1</th>\n",
       "      <td>5.329954</td>\n",
       "      <td>1426</td>\n",
       "      <td>4.500</td>\n",
       "    </tr>\n",
       "    <tr>\n",
       "      <th>7</th>\n",
       "      <td>5.348122</td>\n",
       "      <td>1621</td>\n",
       "      <td>4.500</td>\n",
       "    </tr>\n",
       "    <tr>\n",
       "      <th>8</th>\n",
       "      <td>5.384412</td>\n",
       "      <td>1687</td>\n",
       "      <td>4.500</td>\n",
       "    </tr>\n",
       "    <tr>\n",
       "      <th>10</th>\n",
       "      <td>5.355169</td>\n",
       "      <td>2065</td>\n",
       "      <td>4.500</td>\n",
       "    </tr>\n",
       "    <tr>\n",
       "      <th>5</th>\n",
       "      <td>5.331548</td>\n",
       "      <td>1224</td>\n",
       "      <td>4.499</td>\n",
       "    </tr>\n",
       "    <tr>\n",
       "      <th>6</th>\n",
       "      <td>5.122620</td>\n",
       "      <td>1688</td>\n",
       "      <td>4.300</td>\n",
       "    </tr>\n",
       "  </tbody>\n",
       "</table>\n",
       "</div>"
      ],
      "text/plain": [
       "                      mean  count  median\n",
       "month_exposition                         \n",
       "4                 5.500050   2303   4.700\n",
       "9                 5.531227   1916   4.600\n",
       "11                5.423031   2281   4.600\n",
       "12                5.365143   1573   4.600\n",
       "2                 5.311487   2536   4.550\n",
       "3                 5.347556   2499   4.550\n",
       "1                 5.329954   1426   4.500\n",
       "7                 5.348122   1621   4.500\n",
       "8                 5.384412   1687   4.500\n",
       "10                5.355169   2065   4.500\n",
       "5                 5.331548   1224   4.499\n",
       "6                 5.122620   1688   4.300"
      ]
     },
     "execution_count": 58,
     "metadata": {},
     "output_type": "execute_result"
    },
    {
     "data": {
      "image/png": "[encoded data removed]",
      "text/plain": [
       "<Figure size 432x288 with 1 Axes>"
      ]
     },
     "metadata": {
      "needs_background": "light"
     },
     "output_type": "display_data"
    }
   ],
   "source": [
    "#Даты размещения\n",
    "\n",
    "#Месяц размещения \n",
    "\n",
    "pivot_table_month_exposition = df.pivot_table(index = 'month_exposition', values = 'last_price', aggfunc = ['mean', 'count', 'median'])\n",
    "pivot_table_month_exposition.columns = ['mean', 'count', 'median']\n",
    "pivot_table_month_exposition.plot(y = 'median')\n",
    "\n",
    "pivot_table_month_exposition.sort_values('median', ascending = False)"
   ]
  },
  {
   "cell_type": "markdown",
   "metadata": {},
   "source": [
    "**Промежуточный вывод**\n",
    "\n",
    "Самые дорогие квартиры появляются на рынке в апреле, а самые дешевые в июне. Интересно было бы узнать, с чем связано такое крутое падение с апреля по июнь. Возможно, это говорит о некой сезонности на рынке недвижимости. "
   ]
  },
  {
   "cell_type": "code",
   "execution_count": 59,
   "metadata": {},
   "outputs": [
    {
     "data": {
      "text/html": [
       "<div>\n",
       "<style scoped>\n",
       "    .dataframe tbody tr th:only-of-type {\n",
       "        vertical-align: middle;\n",
       "    }\n",
       "\n",
       "    .dataframe tbody tr th {\n",
       "        vertical-align: top;\n",
       "    }\n",
       "\n",
       "    .dataframe thead th {\n",
       "        text-align: right;\n",
       "    }\n",
       "</style>\n",
       "<table border=\"1\" class=\"dataframe\">\n",
       "  <thead>\n",
       "    <tr style=\"text-align: right;\">\n",
       "      <th></th>\n",
       "      <th>mean</th>\n",
       "      <th>count</th>\n",
       "      <th>median</th>\n",
       "    </tr>\n",
       "    <tr>\n",
       "      <th>year_exposition</th>\n",
       "      <th></th>\n",
       "      <th></th>\n",
       "      <th></th>\n",
       "    </tr>\n",
       "  </thead>\n",
       "  <tbody>\n",
       "    <tr>\n",
       "      <th>2014</th>\n",
       "      <td>7.956036</td>\n",
       "      <td>116</td>\n",
       "      <td>6.445</td>\n",
       "    </tr>\n",
       "    <tr>\n",
       "      <th>2015</th>\n",
       "      <td>6.082450</td>\n",
       "      <td>1095</td>\n",
       "      <td>5.100</td>\n",
       "    </tr>\n",
       "    <tr>\n",
       "      <th>2019</th>\n",
       "      <td>5.659160</td>\n",
       "      <td>2774</td>\n",
       "      <td>4.960</td>\n",
       "    </tr>\n",
       "    <tr>\n",
       "      <th>2018</th>\n",
       "      <td>5.229348</td>\n",
       "      <td>8286</td>\n",
       "      <td>4.500</td>\n",
       "    </tr>\n",
       "    <tr>\n",
       "      <th>2016</th>\n",
       "      <td>5.352590</td>\n",
       "      <td>2655</td>\n",
       "      <td>4.400</td>\n",
       "    </tr>\n",
       "    <tr>\n",
       "      <th>2017</th>\n",
       "      <td>5.279180</td>\n",
       "      <td>7893</td>\n",
       "      <td>4.400</td>\n",
       "    </tr>\n",
       "  </tbody>\n",
       "</table>\n",
       "</div>"
      ],
      "text/plain": [
       "                     mean  count  median\n",
       "year_exposition                         \n",
       "2014             7.956036    116   6.445\n",
       "2015             6.082450   1095   5.100\n",
       "2019             5.659160   2774   4.960\n",
       "2018             5.229348   8286   4.500\n",
       "2016             5.352590   2655   4.400\n",
       "2017             5.279180   7893   4.400"
      ]
     },
     "execution_count": 59,
     "metadata": {},
     "output_type": "execute_result"
    },
    {
     "data": {
      "image/png": "[encoded data removed]",
      "text/plain": [
       "<Figure size 432x288 with 1 Axes>"
      ]
     },
     "metadata": {
      "needs_background": "light"
     },
     "output_type": "display_data"
    }
   ],
   "source": [
    "#Даты размещения \n",
    "\n",
    "#Год размещения\n",
    "\n",
    "pivot_table_year_exposition = df.pivot_table(index = 'year_exposition', values = 'last_price', aggfunc = ['mean', 'count', 'median'])\n",
    "pivot_table_year_exposition.columns = ['mean', 'count', 'median']\n",
    "pivot_table_year_exposition.plot(y = 'median')\n",
    "\n",
    "pivot_table_year_exposition.sort_values('median', ascending = False)"
   ]
  },
  {
   "cell_type": "markdown",
   "metadata": {},
   "source": [
    "**Промежуточный вывод**\n",
    "\n",
    "Видно, что с 2014 по 2016 цена квартир снижалась, а с 2018 начала немного расти. Возможно, в период с 2014 по 2016 на рынке появилось много предложений, что вынудило продавцов снижать цены. "
   ]
  },
  {
   "cell_type": "markdown",
   "metadata": {},
   "source": [
    "### Cредняя цена одного квадратного метра в 10 населённых пунктах с наибольшим числом объявлений"
   ]
  },
  {
   "cell_type": "code",
   "execution_count": 60,
   "metadata": {},
   "outputs": [
    {
     "name": "stdout",
     "output_type": "stream",
     "text": [
      "                   count           mean\n",
      "locality_name                          \n",
      "Санкт-Петербург    14920  108756.648446\n",
      "поселок Мурино       556   85681.762572\n",
      "поселок Шушары       440   78677.364318\n",
      "Всеволожск           397   67214.252620\n",
      "Пушкин               358  101956.176844\n",
      "Колпино              337   75333.295816\n",
      "поселок Парголово    326   90332.262638\n",
      "Гатчина              307   68746.146515\n",
      "деревня Кудрово      299   92473.547559\n",
      "Выборг               237   58141.909325\n"
     ]
    }
   ],
   "source": [
    "locality_pivot_table = df.pivot_table(index = 'locality_name', values = 'price_to_m', aggfunc=['count', 'mean'])\n",
    "locality_pivot_table.columns = ['count', 'mean']\n",
    "locality_pivot_table = locality_pivot_table.sort_values('count', ascending = False).head(10)\n",
    "print(locality_pivot_table)"
   ]
  },
  {
   "cell_type": "code",
   "execution_count": 61,
   "metadata": {},
   "outputs": [
    {
     "data": {
      "text/html": [
       "<div>\n",
       "<style scoped>\n",
       "    .dataframe tbody tr th:only-of-type {\n",
       "        vertical-align: middle;\n",
       "    }\n",
       "\n",
       "    .dataframe tbody tr th {\n",
       "        vertical-align: top;\n",
       "    }\n",
       "\n",
       "    .dataframe thead th {\n",
       "        text-align: right;\n",
       "    }\n",
       "</style>\n",
       "<table border=\"1\" class=\"dataframe\">\n",
       "  <thead>\n",
       "    <tr style=\"text-align: right;\">\n",
       "      <th></th>\n",
       "      <th>count</th>\n",
       "      <th>mean</th>\n",
       "    </tr>\n",
       "    <tr>\n",
       "      <th>locality_name</th>\n",
       "      <th></th>\n",
       "      <th></th>\n",
       "    </tr>\n",
       "  </thead>\n",
       "  <tbody>\n",
       "    <tr>\n",
       "      <th>Санкт-Петербург</th>\n",
       "      <td>14920</td>\n",
       "      <td>108756.648446</td>\n",
       "    </tr>\n",
       "  </tbody>\n",
       "</table>\n",
       "</div>"
      ],
      "text/plain": [
       "                 count           mean\n",
       "locality_name                        \n",
       "Санкт-Петербург  14920  108756.648446"
      ]
     },
     "execution_count": 61,
     "metadata": {},
     "output_type": "execute_result"
    }
   ],
   "source": [
    "#Самая высокая стоимость квадратного метра \n",
    "\n",
    "locality_pivot_table[locality_pivot_table['mean']==locality_pivot_table['mean'].max()]"
   ]
  },
  {
   "cell_type": "code",
   "execution_count": 62,
   "metadata": {},
   "outputs": [
    {
     "data": {
      "text/html": [
       "<div>\n",
       "<style scoped>\n",
       "    .dataframe tbody tr th:only-of-type {\n",
       "        vertical-align: middle;\n",
       "    }\n",
       "\n",
       "    .dataframe tbody tr th {\n",
       "        vertical-align: top;\n",
       "    }\n",
       "\n",
       "    .dataframe thead th {\n",
       "        text-align: right;\n",
       "    }\n",
       "</style>\n",
       "<table border=\"1\" class=\"dataframe\">\n",
       "  <thead>\n",
       "    <tr style=\"text-align: right;\">\n",
       "      <th></th>\n",
       "      <th>count</th>\n",
       "      <th>mean</th>\n",
       "    </tr>\n",
       "    <tr>\n",
       "      <th>locality_name</th>\n",
       "      <th></th>\n",
       "      <th></th>\n",
       "    </tr>\n",
       "  </thead>\n",
       "  <tbody>\n",
       "    <tr>\n",
       "      <th>Выборг</th>\n",
       "      <td>237</td>\n",
       "      <td>58141.909325</td>\n",
       "    </tr>\n",
       "  </tbody>\n",
       "</table>\n",
       "</div>"
      ],
      "text/plain": [
       "               count          mean\n",
       "locality_name                     \n",
       "Выборг           237  58141.909325"
      ]
     },
     "execution_count": 62,
     "metadata": {},
     "output_type": "execute_result"
    }
   ],
   "source": [
    "#Самая низкая стоимость квадратного метра \n",
    "\n",
    "locality_pivot_table[locality_pivot_table['mean']==locality_pivot_table['mean'].min()]"
   ]
  },
  {
   "cell_type": "markdown",
   "metadata": {},
   "source": [
    "#### Средняя цена квартир в зависимости от удаления от центра Санкт-Петербурга "
   ]
  },
  {
   "cell_type": "code",
   "execution_count": 63,
   "metadata": {
    "scrolled": false
   },
   "outputs": [
    {
     "name": "stderr",
     "output_type": "stream",
     "text": [
      "/tmp/ipykernel_166/1598318135.py:1: SettingWithCopyWarning: \n",
      "A value is trying to be set on a copy of a slice from a DataFrame.\n",
      "Try using .loc[row_indexer,col_indexer] = value instead\n",
      "\n",
      "See the caveats in the documentation: https://pandas.pydata.org/pandas-docs/stable/user_guide/indexing.html#returning-a-view-versus-a-copy\n",
      "  df['city_centers_nearest'] = df['city_centers_nearest'].fillna(999999)\n",
      "/tmp/ipykernel_166/1598318135.py:2: SettingWithCopyWarning: \n",
      "A value is trying to be set on a copy of a slice from a DataFrame.\n",
      "Try using .loc[row_indexer,col_indexer] = value instead\n",
      "\n",
      "See the caveats in the documentation: https://pandas.pydata.org/pandas-docs/stable/user_guide/indexing.html#returning-a-view-versus-a-copy\n",
      "  df['city_centers_nearest'] = df['city_centers_nearest'].astype('int')\n"
     ]
    },
    {
     "data": {
      "text/html": [
       "<div>\n",
       "<style scoped>\n",
       "    .dataframe tbody tr th:only-of-type {\n",
       "        vertical-align: middle;\n",
       "    }\n",
       "\n",
       "    .dataframe tbody tr th {\n",
       "        vertical-align: top;\n",
       "    }\n",
       "\n",
       "    .dataframe thead th {\n",
       "        text-align: right;\n",
       "    }\n",
       "</style>\n",
       "<table border=\"1\" class=\"dataframe\">\n",
       "  <thead>\n",
       "    <tr style=\"text-align: right;\">\n",
       "      <th></th>\n",
       "      <th>price_to_m</th>\n",
       "    </tr>\n",
       "    <tr>\n",
       "      <th>city_centers_nearest</th>\n",
       "      <th></th>\n",
       "    </tr>\n",
       "  </thead>\n",
       "  <tbody>\n",
       "    <tr>\n",
       "      <th>0</th>\n",
       "      <td>124958.455614</td>\n",
       "    </tr>\n",
       "    <tr>\n",
       "      <th>1</th>\n",
       "      <td>129520.755947</td>\n",
       "    </tr>\n",
       "    <tr>\n",
       "      <th>2</th>\n",
       "      <td>118117.309565</td>\n",
       "    </tr>\n",
       "    <tr>\n",
       "      <th>3</th>\n",
       "      <td>116263.261285</td>\n",
       "    </tr>\n",
       "    <tr>\n",
       "      <th>4</th>\n",
       "      <td>125854.176711</td>\n",
       "    </tr>\n",
       "    <tr>\n",
       "      <th>5</th>\n",
       "      <td>126094.231050</td>\n",
       "    </tr>\n",
       "    <tr>\n",
       "      <th>6</th>\n",
       "      <td>126624.115377</td>\n",
       "    </tr>\n",
       "    <tr>\n",
       "      <th>7</th>\n",
       "      <td>124148.338149</td>\n",
       "    </tr>\n",
       "    <tr>\n",
       "      <th>8</th>\n",
       "      <td>116693.569634</td>\n",
       "    </tr>\n",
       "    <tr>\n",
       "      <th>9</th>\n",
       "      <td>108912.792348</td>\n",
       "    </tr>\n",
       "    <tr>\n",
       "      <th>10</th>\n",
       "      <td>110090.596201</td>\n",
       "    </tr>\n",
       "    <tr>\n",
       "      <th>11</th>\n",
       "      <td>105877.913372</td>\n",
       "    </tr>\n",
       "    <tr>\n",
       "      <th>12</th>\n",
       "      <td>108119.886215</td>\n",
       "    </tr>\n",
       "    <tr>\n",
       "      <th>13</th>\n",
       "      <td>106804.405518</td>\n",
       "    </tr>\n",
       "    <tr>\n",
       "      <th>14</th>\n",
       "      <td>104709.466338</td>\n",
       "    </tr>\n",
       "    <tr>\n",
       "      <th>15</th>\n",
       "      <td>101702.858174</td>\n",
       "    </tr>\n",
       "    <tr>\n",
       "      <th>16</th>\n",
       "      <td>99570.704521</td>\n",
       "    </tr>\n",
       "    <tr>\n",
       "      <th>17</th>\n",
       "      <td>94122.325066</td>\n",
       "    </tr>\n",
       "    <tr>\n",
       "      <th>18</th>\n",
       "      <td>94876.492281</td>\n",
       "    </tr>\n",
       "    <tr>\n",
       "      <th>19</th>\n",
       "      <td>95434.377195</td>\n",
       "    </tr>\n",
       "    <tr>\n",
       "      <th>20</th>\n",
       "      <td>107046.165714</td>\n",
       "    </tr>\n",
       "    <tr>\n",
       "      <th>21</th>\n",
       "      <td>91492.688256</td>\n",
       "    </tr>\n",
       "    <tr>\n",
       "      <th>22</th>\n",
       "      <td>88811.709927</td>\n",
       "    </tr>\n",
       "    <tr>\n",
       "      <th>23</th>\n",
       "      <td>92720.642000</td>\n",
       "    </tr>\n",
       "    <tr>\n",
       "      <th>24</th>\n",
       "      <td>82440.344091</td>\n",
       "    </tr>\n",
       "    <tr>\n",
       "      <th>25</th>\n",
       "      <td>91136.018667</td>\n",
       "    </tr>\n",
       "    <tr>\n",
       "      <th>26</th>\n",
       "      <td>75171.913333</td>\n",
       "    </tr>\n",
       "    <tr>\n",
       "      <th>27</th>\n",
       "      <td>132115.710000</td>\n",
       "    </tr>\n",
       "    <tr>\n",
       "      <th>28</th>\n",
       "      <td>81840.638000</td>\n",
       "    </tr>\n",
       "    <tr>\n",
       "      <th>29</th>\n",
       "      <td>62482.403333</td>\n",
       "    </tr>\n",
       "  </tbody>\n",
       "</table>\n",
       "</div>"
      ],
      "text/plain": [
       "                         price_to_m\n",
       "city_centers_nearest               \n",
       "0                     124958.455614\n",
       "1                     129520.755947\n",
       "2                     118117.309565\n",
       "3                     116263.261285\n",
       "4                     125854.176711\n",
       "5                     126094.231050\n",
       "6                     126624.115377\n",
       "7                     124148.338149\n",
       "8                     116693.569634\n",
       "9                     108912.792348\n",
       "10                    110090.596201\n",
       "11                    105877.913372\n",
       "12                    108119.886215\n",
       "13                    106804.405518\n",
       "14                    104709.466338\n",
       "15                    101702.858174\n",
       "16                     99570.704521\n",
       "17                     94122.325066\n",
       "18                     94876.492281\n",
       "19                     95434.377195\n",
       "20                    107046.165714\n",
       "21                     91492.688256\n",
       "22                     88811.709927\n",
       "23                     92720.642000\n",
       "24                     82440.344091\n",
       "25                     91136.018667\n",
       "26                     75171.913333\n",
       "27                    132115.710000\n",
       "28                     81840.638000\n",
       "29                     62482.403333"
      ]
     },
     "execution_count": 63,
     "metadata": {},
     "output_type": "execute_result"
    },
    {
     "data": {
      "image/png": "[encoded data removed]",
      "text/plain": [
       "<Figure size 432x288 with 1 Axes>"
      ]
     },
     "metadata": {
      "needs_background": "light"
     },
     "output_type": "display_data"
    }
   ],
   "source": [
    "df['city_centers_nearest'] = df['city_centers_nearest'].fillna(999999)\n",
    "df['city_centers_nearest'] = df['city_centers_nearest'].astype('int')\n",
    "pivot_table_km = df.query('locality_name == \"Санкт-Петербург\" and city_centers_nearest !=999999').pivot_table(index = 'city_centers_nearest', values = 'price_to_m', aggfunc = 'mean')\n",
    "pivot_table_km.plot()\n",
    "pivot_table_km\n"
   ]
  },
  {
   "cell_type": "markdown",
   "metadata": {},
   "source": [
    "**Промежуточный вывод**\n",
    "\n",
    "Общая тенденция такова, что чем дальше от центра города, тем дешевле квартиры. Тем не менее, на графике видны три пика - на 6 км, 20 км и на 27 км от центра. Это может говорить либо о том, что в этом радиусе спрос выше предложения, соответственно продавцы могут выставлять квартиры по более высокой цене, либо о том, что там есть какие-то другие факторы, которые влияют на стоимость. Особенно интересен в этом смысле 27 километр - там есть что-то такое, что даже перекрывает близость к центру.  "
   ]
  },
  {
   "cell_type": "markdown",
   "metadata": {},
   "source": [
    "### Общий вывод"
   ]
  },
  {
   "cell_type": "markdown",
   "metadata": {},
   "source": [
    "В этом исследовании я изучил данные о продаже квартир в Санкт-Петербурге за период с конца ноября 2014 года по май 2019 года. Определил и обработал пропущенные значения там, где это было возможно, привел тип данных к нужному формату и избавился от дубликатов. Поработал с редкими и выбивающимися значениями. \n",
    "\n",
    "Основываясь на проанализированных данных можно сделать следующие выводы о фирмировании цен на квартиры: \n",
    "- больше всего на стоимость влияет общий метраж, а также метраж кухни и жилой площади. Меньше всего из таких показателей влияет количество комнат в квартире. \n",
    "- этаж, на котором находится квартира, влияет на её стоимость. Квартиры на первом и последнем этажах стоят меньше, а самые дешевые на первом. \n",
    "- близость к центру также важна при формировании цены. Квартиры тем дешевле, чем они дальше от центра города. Хотя есть небольшие исключения, которые вызывают интерес, но, на общий тренд они не влияют. \n",
    "- время публикации не сильно влияет на скорость продажи. \n",
    "- в среднем квартиры продаются за 180 дней. Быстрой продажей можно считать ту, что произошла за 95 дней со дня публикации объявления. \n",
    "\n",
    "Также, нужно сказать, что с 2014 по 2016 цена квартир снижалась, а с 2018 начала немного расти, но на конец видимых данных в 2019 даже близко не приблизилась к точке паденения в 2014-м. Что вызвало такое падение цен мы не знаем, возможно избыточное предложение, а возможно другие экономические факторы. \n",
    "\n",
    "Точки роста: \n",
    "- данные о парках и прудах (ponds_nearest, parks_nearest). В этом исследовании эти данные нам не пригодились, однако них много пропусков, которые не позволили бы работать с ними. Посокльку эта информация заполняется автоматически из геосервисов, возможно где-то присутствует техническая ошибка, которая генерирует пропуски. "
   ]
  }
 ],
 "metadata": {
  "ExecuteTimeLog": [
   {
    "duration": 1353,
    "start_time": "2023-11-19T09:01:53.144Z"
   },
   {
    "duration": 302,
    "start_time": "2023-11-19T09:04:19.003Z"
   },
   {
    "duration": 34,
    "start_time": "2023-11-19T09:06:07.938Z"
   },
   {
    "duration": 28,
    "start_time": "2023-11-19T09:06:41.800Z"
   },
   {
    "duration": 16,
    "start_time": "2023-11-19T09:07:29.862Z"
   },
   {
    "duration": 13,
    "start_time": "2023-11-19T09:15:55.094Z"
   },
   {
    "duration": 13,
    "start_time": "2023-11-19T09:21:19.904Z"
   },
   {
    "duration": 1886,
    "start_time": "2023-11-19T09:27:32.266Z"
   },
   {
    "duration": 96,
    "start_time": "2023-11-19T11:21:56.702Z"
   },
   {
    "duration": 9,
    "start_time": "2023-11-19T11:22:06.128Z"
   },
   {
    "duration": 15,
    "start_time": "2023-11-19T11:24:32.150Z"
   },
   {
    "duration": 3,
    "start_time": "2023-11-19T11:33:36.911Z"
   },
   {
    "duration": 29,
    "start_time": "2023-11-19T11:34:23.481Z"
   },
   {
    "duration": 8,
    "start_time": "2023-11-19T11:43:10.124Z"
   },
   {
    "duration": 8,
    "start_time": "2023-11-19T11:51:06.754Z"
   },
   {
    "duration": 8,
    "start_time": "2023-11-19T11:53:29.379Z"
   },
   {
    "duration": 60,
    "start_time": "2023-11-19T11:53:40.172Z"
   },
   {
    "duration": 1350,
    "start_time": "2023-11-19T11:54:02.243Z"
   },
   {
    "duration": 9,
    "start_time": "2023-11-19T11:54:17.945Z"
   },
   {
    "duration": 27,
    "start_time": "2023-11-19T11:54:39.417Z"
   },
   {
    "duration": 7,
    "start_time": "2023-11-19T11:55:17.163Z"
   },
   {
    "duration": 7,
    "start_time": "2023-11-19T11:55:48.732Z"
   },
   {
    "duration": 8,
    "start_time": "2023-11-19T11:55:54.184Z"
   },
   {
    "duration": 22,
    "start_time": "2023-11-19T11:56:01.905Z"
   },
   {
    "duration": 5,
    "start_time": "2023-11-19T11:56:55.315Z"
   },
   {
    "duration": 33,
    "start_time": "2023-11-19T11:57:04.450Z"
   },
   {
    "duration": 27,
    "start_time": "2023-11-19T12:20:06.002Z"
   },
   {
    "duration": 10,
    "start_time": "2023-11-19T12:23:46.608Z"
   },
   {
    "duration": 8,
    "start_time": "2023-11-19T12:28:21.798Z"
   },
   {
    "duration": 9,
    "start_time": "2023-11-19T12:32:09.096Z"
   },
   {
    "duration": 2,
    "start_time": "2023-11-19T12:33:56.075Z"
   },
   {
    "duration": 104,
    "start_time": "2023-11-19T12:33:56.685Z"
   },
   {
    "duration": 28,
    "start_time": "2023-11-19T12:33:57.415Z"
   },
   {
    "duration": 15,
    "start_time": "2023-11-19T12:33:58.103Z"
   },
   {
    "duration": 1868,
    "start_time": "2023-11-19T12:33:59.369Z"
   },
   {
    "duration": 1163,
    "start_time": "2023-11-19T12:34:11.326Z"
   },
   {
    "duration": 96,
    "start_time": "2023-11-19T12:34:12.491Z"
   },
   {
    "duration": 30,
    "start_time": "2023-11-19T12:34:12.589Z"
   },
   {
    "duration": 15,
    "start_time": "2023-11-19T12:34:12.621Z"
   },
   {
    "duration": 2001,
    "start_time": "2023-11-19T12:34:12.638Z"
   },
   {
    "duration": 10,
    "start_time": "2023-11-19T12:34:14.641Z"
   },
   {
    "duration": 28,
    "start_time": "2023-11-19T12:34:14.652Z"
   },
   {
    "duration": 9,
    "start_time": "2023-11-19T12:34:14.681Z"
   },
   {
    "duration": 33,
    "start_time": "2023-11-19T12:34:14.691Z"
   },
   {
    "duration": 30,
    "start_time": "2023-11-19T12:34:14.725Z"
   },
   {
    "duration": 12,
    "start_time": "2023-11-19T12:34:14.756Z"
   },
   {
    "duration": 9,
    "start_time": "2023-11-19T12:34:14.769Z"
   },
   {
    "duration": 109,
    "start_time": "2023-11-19T12:40:19.494Z"
   },
   {
    "duration": 76,
    "start_time": "2023-11-19T12:40:27.250Z"
   },
   {
    "duration": 82,
    "start_time": "2023-11-19T12:40:35.583Z"
   },
   {
    "duration": 79,
    "start_time": "2023-11-19T12:42:10.482Z"
   },
   {
    "duration": 108,
    "start_time": "2023-11-19T12:44:50.435Z"
   },
   {
    "duration": 79,
    "start_time": "2023-11-19T13:14:37.522Z"
   },
   {
    "duration": 14,
    "start_time": "2023-11-19T13:15:15.173Z"
   },
   {
    "duration": 7,
    "start_time": "2023-11-19T13:15:49.835Z"
   },
   {
    "duration": 10,
    "start_time": "2023-11-19T17:29:49.098Z"
   },
   {
    "duration": 7,
    "start_time": "2023-11-19T17:30:00.935Z"
   },
   {
    "duration": 3,
    "start_time": "2023-11-19T17:30:18.029Z"
   },
   {
    "duration": 10,
    "start_time": "2023-11-19T17:30:19.876Z"
   },
   {
    "duration": 4,
    "start_time": "2023-11-19T17:30:34.777Z"
   },
   {
    "duration": 8,
    "start_time": "2023-11-19T17:30:35.759Z"
   },
   {
    "duration": 87,
    "start_time": "2023-11-19T17:30:51.295Z"
   },
   {
    "duration": 4,
    "start_time": "2023-11-19T17:31:04.129Z"
   },
   {
    "duration": 11,
    "start_time": "2023-11-19T17:31:05.394Z"
   },
   {
    "duration": 21,
    "start_time": "2023-11-19T17:49:38.717Z"
   },
   {
    "duration": 8,
    "start_time": "2023-11-19T17:49:44.329Z"
   },
   {
    "duration": 1261,
    "start_time": "2023-11-19T17:49:45.862Z"
   },
   {
    "duration": 137,
    "start_time": "2023-11-19T17:50:30.049Z"
   },
   {
    "duration": 11,
    "start_time": "2023-11-19T17:53:10.981Z"
   },
   {
    "duration": 138,
    "start_time": "2023-11-19T17:53:25.864Z"
   },
   {
    "duration": 5,
    "start_time": "2023-11-19T17:54:31.531Z"
   },
   {
    "duration": 274,
    "start_time": "2023-11-19T17:54:41.847Z"
   },
   {
    "duration": 142,
    "start_time": "2023-11-19T17:54:57.731Z"
   },
   {
    "duration": 7,
    "start_time": "2023-11-19T17:55:25.065Z"
   },
   {
    "duration": 175,
    "start_time": "2023-11-19T17:55:26.597Z"
   },
   {
    "duration": 4,
    "start_time": "2023-11-19T17:59:15.696Z"
   },
   {
    "duration": 148,
    "start_time": "2023-11-19T17:59:17.132Z"
   },
   {
    "duration": 149,
    "start_time": "2023-11-19T18:02:00.968Z"
   },
   {
    "duration": 150,
    "start_time": "2023-11-19T18:02:22.588Z"
   },
   {
    "duration": 162,
    "start_time": "2023-11-19T18:03:22.006Z"
   },
   {
    "duration": 12,
    "start_time": "2023-11-19T19:47:29.753Z"
   },
   {
    "duration": 9,
    "start_time": "2023-11-20T17:27:19.859Z"
   },
   {
    "duration": 12,
    "start_time": "2023-11-20T17:27:51.608Z"
   },
   {
    "duration": 1285,
    "start_time": "2023-11-20T17:52:47.395Z"
   },
   {
    "duration": 1401,
    "start_time": "2023-11-20T17:53:16.021Z"
   },
   {
    "duration": 17,
    "start_time": "2023-11-20T17:54:06.875Z"
   },
   {
    "duration": 6,
    "start_time": "2023-11-20T17:54:49.592Z"
   },
   {
    "duration": 133,
    "start_time": "2023-11-20T18:02:07.027Z"
   },
   {
    "duration": 148,
    "start_time": "2023-11-20T18:07:54.092Z"
   },
   {
    "duration": 8,
    "start_time": "2023-11-20T18:08:03.471Z"
   },
   {
    "duration": 168,
    "start_time": "2023-11-20T18:08:19.761Z"
   },
   {
    "duration": 130,
    "start_time": "2023-11-20T18:08:25.237Z"
   },
   {
    "duration": 8,
    "start_time": "2023-11-20T18:28:23.375Z"
   },
   {
    "duration": 9,
    "start_time": "2023-11-20T18:33:47.879Z"
   },
   {
    "duration": 114,
    "start_time": "2023-11-20T18:34:27.730Z"
   },
   {
    "duration": 31,
    "start_time": "2023-11-20T18:35:28.992Z"
   },
   {
    "duration": 188,
    "start_time": "2023-11-20T18:47:01.761Z"
   },
   {
    "duration": 8,
    "start_time": "2023-11-20T18:59:41.668Z"
   },
   {
    "duration": 11,
    "start_time": "2023-11-20T19:00:14.551Z"
   },
   {
    "duration": 8,
    "start_time": "2023-11-20T19:01:09.209Z"
   },
   {
    "duration": 150,
    "start_time": "2023-11-20T19:01:14.020Z"
   },
   {
    "duration": 162,
    "start_time": "2023-11-20T19:01:47.061Z"
   },
   {
    "duration": 145,
    "start_time": "2023-11-20T19:01:58.866Z"
   },
   {
    "duration": 50,
    "start_time": "2023-11-23T13:03:32.131Z"
   },
   {
    "duration": 1366,
    "start_time": "2023-11-23T13:04:37.513Z"
   },
   {
    "duration": 157,
    "start_time": "2023-11-23T13:04:38.882Z"
   },
   {
    "duration": 40,
    "start_time": "2023-11-23T13:04:39.041Z"
   },
   {
    "duration": 14,
    "start_time": "2023-11-23T13:04:39.083Z"
   },
   {
    "duration": 2009,
    "start_time": "2023-11-23T13:04:39.099Z"
   },
   {
    "duration": 10,
    "start_time": "2023-11-23T13:04:41.110Z"
   },
   {
    "duration": 11,
    "start_time": "2023-11-23T13:04:41.122Z"
   },
   {
    "duration": 7,
    "start_time": "2023-11-23T13:04:41.134Z"
   },
   {
    "duration": 27,
    "start_time": "2023-11-23T13:04:41.143Z"
   },
   {
    "duration": 6,
    "start_time": "2023-11-23T13:04:41.172Z"
   },
   {
    "duration": 42,
    "start_time": "2023-11-23T13:04:41.179Z"
   },
   {
    "duration": 14,
    "start_time": "2023-11-23T13:04:41.223Z"
   },
   {
    "duration": 31,
    "start_time": "2023-11-23T13:04:41.238Z"
   },
   {
    "duration": 13,
    "start_time": "2023-11-23T13:04:41.271Z"
   },
   {
    "duration": 103,
    "start_time": "2023-11-23T13:04:41.285Z"
   },
   {
    "duration": 109,
    "start_time": "2023-11-23T13:05:57.812Z"
   },
   {
    "duration": 12,
    "start_time": "2023-11-23T13:06:22.709Z"
   },
   {
    "duration": 9,
    "start_time": "2023-11-23T13:06:44.409Z"
   },
   {
    "duration": 10,
    "start_time": "2023-11-23T13:06:49.244Z"
   },
   {
    "duration": 8,
    "start_time": "2023-11-23T13:06:58.410Z"
   },
   {
    "duration": 13,
    "start_time": "2023-11-23T13:07:11.060Z"
   },
   {
    "duration": 8,
    "start_time": "2023-11-23T13:07:27.090Z"
   },
   {
    "duration": 6,
    "start_time": "2023-11-23T13:07:45.145Z"
   },
   {
    "duration": 6,
    "start_time": "2023-11-23T13:09:14.845Z"
   },
   {
    "duration": 4,
    "start_time": "2023-11-23T13:09:23.414Z"
   },
   {
    "duration": 4,
    "start_time": "2023-11-23T13:11:47.874Z"
   },
   {
    "duration": 98,
    "start_time": "2023-11-23T13:16:33.049Z"
   },
   {
    "duration": 9,
    "start_time": "2023-11-23T13:16:41.233Z"
   },
   {
    "duration": 5,
    "start_time": "2023-11-23T13:18:02.776Z"
   },
   {
    "duration": 24,
    "start_time": "2023-11-23T13:18:25.742Z"
   },
   {
    "duration": 7,
    "start_time": "2023-11-23T13:37:09.583Z"
   },
   {
    "duration": 11,
    "start_time": "2023-11-23T13:43:26.789Z"
   },
   {
    "duration": 8,
    "start_time": "2023-11-23T13:43:46.179Z"
   },
   {
    "duration": 8,
    "start_time": "2023-11-23T13:43:52.056Z"
   },
   {
    "duration": 7,
    "start_time": "2023-11-23T13:44:32.876Z"
   },
   {
    "duration": 8,
    "start_time": "2023-11-23T13:45:11.030Z"
   },
   {
    "duration": 8,
    "start_time": "2023-11-23T13:47:15.739Z"
   },
   {
    "duration": 112,
    "start_time": "2023-11-23T13:53:01.126Z"
   },
   {
    "duration": 13,
    "start_time": "2023-11-23T13:53:22.382Z"
   },
   {
    "duration": 5,
    "start_time": "2023-11-23T13:55:27.945Z"
   },
   {
    "duration": 4,
    "start_time": "2023-11-23T13:55:38.557Z"
   },
   {
    "duration": 5,
    "start_time": "2023-11-23T13:55:45.592Z"
   },
   {
    "duration": 7,
    "start_time": "2023-11-23T14:04:25.360Z"
   },
   {
    "duration": 24,
    "start_time": "2023-11-23T14:04:52.609Z"
   },
   {
    "duration": 6,
    "start_time": "2023-11-24T11:28:57.184Z"
   },
   {
    "duration": 5,
    "start_time": "2023-11-24T11:29:34.913Z"
   },
   {
    "duration": 2,
    "start_time": "2023-11-24T11:54:20.976Z"
   },
   {
    "duration": 11,
    "start_time": "2023-11-24T11:55:40.392Z"
   },
   {
    "duration": 8,
    "start_time": "2023-11-24T11:55:49.808Z"
   },
   {
    "duration": 8,
    "start_time": "2023-11-24T11:57:00.277Z"
   },
   {
    "duration": 8,
    "start_time": "2023-11-24T11:57:02.527Z"
   },
   {
    "duration": 4,
    "start_time": "2023-11-24T12:04:26.112Z"
   },
   {
    "duration": 9,
    "start_time": "2023-11-24T12:06:17.530Z"
   },
   {
    "duration": 28,
    "start_time": "2023-11-24T12:06:52.467Z"
   },
   {
    "duration": 22,
    "start_time": "2023-11-24T12:09:03.330Z"
   },
   {
    "duration": 31,
    "start_time": "2023-11-24T12:12:07.672Z"
   },
   {
    "duration": 22,
    "start_time": "2023-11-24T12:13:11.796Z"
   },
   {
    "duration": 28,
    "start_time": "2023-11-24T12:13:33.617Z"
   },
   {
    "duration": 28,
    "start_time": "2023-11-24T12:14:45.105Z"
   },
   {
    "duration": 27,
    "start_time": "2023-11-24T12:15:02.016Z"
   },
   {
    "duration": 6,
    "start_time": "2023-11-24T12:15:28.132Z"
   },
   {
    "duration": 5,
    "start_time": "2023-11-24T12:16:03.612Z"
   },
   {
    "duration": 1221,
    "start_time": "2023-11-24T12:16:49.200Z"
   },
   {
    "duration": 99,
    "start_time": "2023-11-24T12:16:50.423Z"
   },
   {
    "duration": 30,
    "start_time": "2023-11-24T12:16:50.524Z"
   },
   {
    "duration": 20,
    "start_time": "2023-11-24T12:16:50.557Z"
   },
   {
    "duration": 1954,
    "start_time": "2023-11-24T12:16:50.579Z"
   },
   {
    "duration": 10,
    "start_time": "2023-11-24T12:16:52.534Z"
   },
   {
    "duration": 13,
    "start_time": "2023-11-24T12:16:52.546Z"
   },
   {
    "duration": 8,
    "start_time": "2023-11-24T12:16:52.560Z"
   },
   {
    "duration": 36,
    "start_time": "2023-11-24T12:16:52.570Z"
   },
   {
    "duration": 30,
    "start_time": "2023-11-24T12:16:52.609Z"
   },
   {
    "duration": 22,
    "start_time": "2023-11-24T12:16:52.640Z"
   },
   {
    "duration": 7,
    "start_time": "2023-11-24T12:16:52.664Z"
   },
   {
    "duration": 8,
    "start_time": "2023-11-24T12:16:52.673Z"
   },
   {
    "duration": 57,
    "start_time": "2023-11-24T12:16:52.683Z"
   },
   {
    "duration": 11,
    "start_time": "2023-11-24T12:16:52.742Z"
   },
   {
    "duration": 104,
    "start_time": "2023-11-24T12:16:52.755Z"
   },
   {
    "duration": 8,
    "start_time": "2023-11-24T12:16:52.861Z"
   },
   {
    "duration": 27,
    "start_time": "2023-11-24T12:16:52.871Z"
   },
   {
    "duration": 38,
    "start_time": "2023-11-24T12:16:52.899Z"
   },
   {
    "duration": 22,
    "start_time": "2023-11-24T12:16:52.939Z"
   },
   {
    "duration": 44,
    "start_time": "2023-11-24T12:25:43.446Z"
   },
   {
    "duration": 7,
    "start_time": "2023-11-24T12:27:22.828Z"
   },
   {
    "duration": 89,
    "start_time": "2023-11-24T12:28:29.763Z"
   },
   {
    "duration": 5,
    "start_time": "2023-11-24T12:28:34.954Z"
   },
   {
    "duration": 4,
    "start_time": "2023-11-24T12:29:28.297Z"
   },
   {
    "duration": 4,
    "start_time": "2023-11-24T12:29:36.101Z"
   },
   {
    "duration": 1239,
    "start_time": "2023-11-24T12:31:08.509Z"
   },
   {
    "duration": 125,
    "start_time": "2023-11-24T12:31:09.750Z"
   },
   {
    "duration": 39,
    "start_time": "2023-11-24T12:31:09.877Z"
   },
   {
    "duration": 25,
    "start_time": "2023-11-24T12:31:09.919Z"
   },
   {
    "duration": 2161,
    "start_time": "2023-11-24T12:31:09.947Z"
   },
   {
    "duration": 14,
    "start_time": "2023-11-24T12:31:12.110Z"
   },
   {
    "duration": 17,
    "start_time": "2023-11-24T12:31:12.126Z"
   },
   {
    "duration": 11,
    "start_time": "2023-11-24T12:31:12.145Z"
   },
   {
    "duration": 42,
    "start_time": "2023-11-24T12:31:12.157Z"
   },
   {
    "duration": 28,
    "start_time": "2023-11-24T12:31:12.201Z"
   },
   {
    "duration": 27,
    "start_time": "2023-11-24T12:31:12.230Z"
   },
   {
    "duration": 63,
    "start_time": "2023-11-24T12:31:12.259Z"
   },
   {
    "duration": 9,
    "start_time": "2023-11-24T12:31:12.324Z"
   },
   {
    "duration": 15,
    "start_time": "2023-11-24T12:31:12.337Z"
   },
   {
    "duration": 27,
    "start_time": "2023-11-24T12:31:12.353Z"
   },
   {
    "duration": 21,
    "start_time": "2023-11-24T12:31:12.382Z"
   },
   {
    "duration": 33,
    "start_time": "2023-11-24T12:31:12.404Z"
   },
   {
    "duration": 14,
    "start_time": "2023-11-24T12:31:12.438Z"
   },
   {
    "duration": 125,
    "start_time": "2023-11-24T12:31:12.454Z"
   },
   {
    "duration": 7,
    "start_time": "2023-11-24T12:31:12.581Z"
   },
   {
    "duration": 20,
    "start_time": "2023-11-24T12:31:12.590Z"
   },
   {
    "duration": 44,
    "start_time": "2023-11-24T12:31:12.612Z"
   },
   {
    "duration": 23,
    "start_time": "2023-11-24T12:31:12.658Z"
   },
   {
    "duration": 5,
    "start_time": "2023-11-24T13:29:48.589Z"
   },
   {
    "duration": 5,
    "start_time": "2023-11-24T13:30:53.002Z"
   },
   {
    "duration": 13,
    "start_time": "2023-11-24T13:31:28.929Z"
   },
   {
    "duration": 4,
    "start_time": "2023-11-24T13:32:30.601Z"
   },
   {
    "duration": 9,
    "start_time": "2023-11-24T13:32:31.168Z"
   },
   {
    "duration": 5,
    "start_time": "2023-11-24T13:41:02.240Z"
   },
   {
    "duration": 20,
    "start_time": "2023-11-24T13:41:20.616Z"
   },
   {
    "duration": 14,
    "start_time": "2023-11-24T13:49:36.307Z"
   },
   {
    "duration": 4,
    "start_time": "2023-11-24T13:51:22.104Z"
   },
   {
    "duration": 6,
    "start_time": "2023-11-24T13:51:46.348Z"
   },
   {
    "duration": 4,
    "start_time": "2023-11-24T13:51:54.322Z"
   },
   {
    "duration": 7,
    "start_time": "2023-11-24T13:51:57.853Z"
   },
   {
    "duration": 1146,
    "start_time": "2023-11-24T13:52:07.667Z"
   },
   {
    "duration": 108,
    "start_time": "2023-11-24T13:52:08.815Z"
   },
   {
    "duration": 36,
    "start_time": "2023-11-24T13:52:08.925Z"
   },
   {
    "duration": 15,
    "start_time": "2023-11-24T13:52:08.962Z"
   },
   {
    "duration": 1965,
    "start_time": "2023-11-24T13:52:08.979Z"
   },
   {
    "duration": 10,
    "start_time": "2023-11-24T13:52:10.946Z"
   },
   {
    "duration": 39,
    "start_time": "2023-11-24T13:52:10.958Z"
   },
   {
    "duration": 24,
    "start_time": "2023-11-24T13:52:10.998Z"
   },
   {
    "duration": 53,
    "start_time": "2023-11-24T13:52:11.023Z"
   },
   {
    "duration": 23,
    "start_time": "2023-11-24T13:52:11.078Z"
   },
   {
    "duration": 25,
    "start_time": "2023-11-24T13:52:11.102Z"
   },
   {
    "duration": 48,
    "start_time": "2023-11-24T13:52:11.129Z"
   },
   {
    "duration": 6,
    "start_time": "2023-11-24T13:52:11.179Z"
   },
   {
    "duration": 14,
    "start_time": "2023-11-24T13:52:11.187Z"
   },
   {
    "duration": 14,
    "start_time": "2023-11-24T13:52:11.215Z"
   },
   {
    "duration": 39,
    "start_time": "2023-11-24T13:52:11.230Z"
   },
   {
    "duration": 39,
    "start_time": "2023-11-24T13:52:11.271Z"
   },
   {
    "duration": 27,
    "start_time": "2023-11-24T13:52:11.312Z"
   },
   {
    "duration": 27,
    "start_time": "2023-11-24T13:52:11.340Z"
   },
   {
    "duration": 45,
    "start_time": "2023-11-24T13:52:11.369Z"
   },
   {
    "duration": 7,
    "start_time": "2023-11-24T13:52:11.416Z"
   },
   {
    "duration": 23,
    "start_time": "2023-11-24T13:52:11.425Z"
   },
   {
    "duration": 50,
    "start_time": "2023-11-24T13:52:11.449Z"
   },
   {
    "duration": 9,
    "start_time": "2023-11-24T13:52:11.501Z"
   },
   {
    "duration": 92,
    "start_time": "2023-11-24T13:52:11.512Z"
   },
   {
    "duration": 3,
    "start_time": "2023-11-24T13:53:54.084Z"
   },
   {
    "duration": 6,
    "start_time": "2023-11-24T13:53:56.200Z"
   },
   {
    "duration": 3,
    "start_time": "2023-11-24T13:56:03.169Z"
   },
   {
    "duration": 6,
    "start_time": "2023-11-24T13:56:03.975Z"
   },
   {
    "duration": 6,
    "start_time": "2023-11-24T14:00:52.966Z"
   },
   {
    "duration": 6,
    "start_time": "2023-11-24T14:01:01.585Z"
   },
   {
    "duration": 3,
    "start_time": "2023-11-24T14:01:02.223Z"
   },
   {
    "duration": 7,
    "start_time": "2023-11-24T14:01:03.198Z"
   },
   {
    "duration": 6,
    "start_time": "2023-11-24T14:08:56.522Z"
   },
   {
    "duration": 1206,
    "start_time": "2023-11-24T14:09:04.909Z"
   },
   {
    "duration": 103,
    "start_time": "2023-11-24T14:09:06.117Z"
   },
   {
    "duration": 33,
    "start_time": "2023-11-24T14:09:06.221Z"
   },
   {
    "duration": 15,
    "start_time": "2023-11-24T14:09:06.256Z"
   },
   {
    "duration": 2011,
    "start_time": "2023-11-24T14:09:06.273Z"
   },
   {
    "duration": 11,
    "start_time": "2023-11-24T14:09:08.286Z"
   },
   {
    "duration": 37,
    "start_time": "2023-11-24T14:09:08.299Z"
   },
   {
    "duration": 8,
    "start_time": "2023-11-24T14:09:08.338Z"
   },
   {
    "duration": 34,
    "start_time": "2023-11-24T14:09:08.347Z"
   },
   {
    "duration": 25,
    "start_time": "2023-11-24T14:09:08.382Z"
   },
   {
    "duration": 28,
    "start_time": "2023-11-24T14:09:08.408Z"
   },
   {
    "duration": 52,
    "start_time": "2023-11-24T14:09:08.437Z"
   },
   {
    "duration": 27,
    "start_time": "2023-11-24T14:09:08.490Z"
   },
   {
    "duration": 4,
    "start_time": "2023-11-24T14:09:08.520Z"
   },
   {
    "duration": 10,
    "start_time": "2023-11-24T14:09:08.525Z"
   },
   {
    "duration": 6,
    "start_time": "2023-11-24T14:09:08.537Z"
   },
   {
    "duration": 18,
    "start_time": "2023-11-24T14:09:08.544Z"
   },
   {
    "duration": 24,
    "start_time": "2023-11-24T14:09:08.564Z"
   },
   {
    "duration": 27,
    "start_time": "2023-11-24T14:09:08.589Z"
   },
   {
    "duration": 9,
    "start_time": "2023-11-24T14:09:08.617Z"
   },
   {
    "duration": 24,
    "start_time": "2023-11-24T14:09:08.628Z"
   },
   {
    "duration": 9,
    "start_time": "2023-11-24T14:09:08.654Z"
   },
   {
    "duration": 117,
    "start_time": "2023-11-24T14:09:08.664Z"
   },
   {
    "duration": 12,
    "start_time": "2023-11-24T14:09:57.270Z"
   },
   {
    "duration": 4,
    "start_time": "2023-11-24T14:19:51.010Z"
   },
   {
    "duration": 20,
    "start_time": "2023-11-24T14:20:04.560Z"
   },
   {
    "duration": 5,
    "start_time": "2023-11-24T14:20:52.883Z"
   },
   {
    "duration": 21,
    "start_time": "2023-11-24T14:20:58.337Z"
   },
   {
    "duration": 4,
    "start_time": "2023-11-24T14:21:53.600Z"
   },
   {
    "duration": 13,
    "start_time": "2023-11-24T14:24:08.945Z"
   },
   {
    "duration": 23,
    "start_time": "2023-11-24T14:24:33.093Z"
   },
   {
    "duration": 95,
    "start_time": "2023-11-24T14:27:30.498Z"
   },
   {
    "duration": 3,
    "start_time": "2023-11-24T14:27:32.910Z"
   },
   {
    "duration": 1848,
    "start_time": "2023-11-24T14:27:34.789Z"
   },
   {
    "duration": 3,
    "start_time": "2023-11-24T14:28:14.265Z"
   },
   {
    "duration": 324,
    "start_time": "2023-11-24T14:28:16.896Z"
   },
   {
    "duration": 3,
    "start_time": "2023-11-24T14:29:03.291Z"
   },
   {
    "duration": 324,
    "start_time": "2023-11-24T14:29:04.897Z"
   },
   {
    "duration": 24,
    "start_time": "2023-11-24T14:29:31.737Z"
   },
   {
    "duration": 5,
    "start_time": "2023-11-24T14:36:46.247Z"
   },
   {
    "duration": 33,
    "start_time": "2023-11-24T14:36:57.273Z"
   },
   {
    "duration": 4,
    "start_time": "2023-11-24T14:37:10.355Z"
   },
   {
    "duration": 34,
    "start_time": "2023-11-24T14:37:10.972Z"
   },
   {
    "duration": 3,
    "start_time": "2023-11-24T14:38:26.640Z"
   },
   {
    "duration": 23,
    "start_time": "2023-11-24T14:38:27.330Z"
   },
   {
    "duration": 2,
    "start_time": "2023-11-25T21:13:00.562Z"
   },
   {
    "duration": 2,
    "start_time": "2023-11-25T21:13:01.873Z"
   },
   {
    "duration": 347,
    "start_time": "2023-11-25T21:13:41.479Z"
   },
   {
    "duration": 285,
    "start_time": "2023-11-25T21:57:59.012Z"
   },
   {
    "duration": 279,
    "start_time": "2023-11-26T07:03:06.967Z"
   },
   {
    "duration": 269,
    "start_time": "2023-11-26T07:16:57.856Z"
   },
   {
    "duration": 263,
    "start_time": "2023-11-26T07:17:36.403Z"
   },
   {
    "duration": 280,
    "start_time": "2023-11-26T07:17:43.220Z"
   },
   {
    "duration": 380,
    "start_time": "2023-11-26T07:18:47.668Z"
   },
   {
    "duration": 258,
    "start_time": "2023-11-26T07:23:45.543Z"
   },
   {
    "duration": 269,
    "start_time": "2023-11-26T07:40:40.119Z"
   },
   {
    "duration": 270,
    "start_time": "2023-11-26T07:41:59.108Z"
   },
   {
    "duration": 1119,
    "start_time": "2023-11-26T07:42:17.166Z"
   },
   {
    "duration": 100,
    "start_time": "2023-11-26T07:42:18.287Z"
   },
   {
    "duration": 38,
    "start_time": "2023-11-26T07:42:18.390Z"
   },
   {
    "duration": 14,
    "start_time": "2023-11-26T07:42:18.430Z"
   },
   {
    "duration": 1910,
    "start_time": "2023-11-26T07:42:18.446Z"
   },
   {
    "duration": 9,
    "start_time": "2023-11-26T07:42:20.358Z"
   },
   {
    "duration": 27,
    "start_time": "2023-11-26T07:42:20.369Z"
   },
   {
    "duration": 13,
    "start_time": "2023-11-26T07:42:20.398Z"
   },
   {
    "duration": 32,
    "start_time": "2023-11-26T07:42:20.413Z"
   },
   {
    "duration": 37,
    "start_time": "2023-11-26T07:42:20.447Z"
   },
   {
    "duration": 22,
    "start_time": "2023-11-26T07:42:20.485Z"
   },
   {
    "duration": 52,
    "start_time": "2023-11-26T07:42:20.509Z"
   },
   {
    "duration": 5,
    "start_time": "2023-11-26T07:42:20.563Z"
   },
   {
    "duration": 7,
    "start_time": "2023-11-26T07:42:20.569Z"
   },
   {
    "duration": 12,
    "start_time": "2023-11-26T07:42:20.577Z"
   },
   {
    "duration": 25,
    "start_time": "2023-11-26T07:42:20.591Z"
   },
   {
    "duration": 13,
    "start_time": "2023-11-26T07:42:20.617Z"
   },
   {
    "duration": 22,
    "start_time": "2023-11-26T07:42:20.631Z"
   },
   {
    "duration": 7,
    "start_time": "2023-11-26T07:42:20.655Z"
   },
   {
    "duration": 21,
    "start_time": "2023-11-26T07:42:20.663Z"
   },
   {
    "duration": 37,
    "start_time": "2023-11-26T07:42:20.685Z"
   },
   {
    "duration": 9,
    "start_time": "2023-11-26T07:42:20.723Z"
   },
   {
    "duration": 129,
    "start_time": "2023-11-26T07:42:20.733Z"
   },
   {
    "duration": 4,
    "start_time": "2023-11-26T07:42:20.863Z"
   },
   {
    "duration": 26,
    "start_time": "2023-11-26T07:42:20.868Z"
   },
   {
    "duration": 34,
    "start_time": "2023-11-26T07:42:20.896Z"
   },
   {
    "duration": 56,
    "start_time": "2023-11-26T07:42:20.931Z"
   },
   {
    "duration": 18,
    "start_time": "2023-11-26T07:42:20.989Z"
   },
   {
    "duration": 354,
    "start_time": "2023-11-26T07:42:21.008Z"
   },
   {
    "duration": 22,
    "start_time": "2023-11-26T07:42:21.364Z"
   },
   {
    "duration": 14,
    "start_time": "2023-11-26T07:42:21.388Z"
   },
   {
    "duration": 29,
    "start_time": "2023-11-26T07:42:21.404Z"
   },
   {
    "duration": 305,
    "start_time": "2023-11-26T07:42:21.436Z"
   },
   {
    "duration": 277,
    "start_time": "2023-11-26T07:42:21.743Z"
   },
   {
    "duration": 279,
    "start_time": "2023-11-26T07:42:22.022Z"
   },
   {
    "duration": 378,
    "start_time": "2023-11-26T07:42:22.302Z"
   },
   {
    "duration": 273,
    "start_time": "2023-11-26T07:46:44.067Z"
   },
   {
    "duration": 267,
    "start_time": "2023-11-26T07:46:49.124Z"
   },
   {
    "duration": 1657,
    "start_time": "2023-11-26T07:47:38.599Z"
   },
   {
    "duration": 219,
    "start_time": "2023-11-26T07:47:50.456Z"
   },
   {
    "duration": 129,
    "start_time": "2023-11-26T07:48:01.336Z"
   },
   {
    "duration": 9,
    "start_time": "2023-11-26T07:49:38.274Z"
   },
   {
    "duration": 290,
    "start_time": "2023-11-26T07:49:46.331Z"
   },
   {
    "duration": 386,
    "start_time": "2023-11-26T07:49:53.398Z"
   },
   {
    "duration": 4,
    "start_time": "2023-11-26T07:50:06.167Z"
   },
   {
    "duration": 273,
    "start_time": "2023-11-26T07:50:16.666Z"
   },
   {
    "duration": 160,
    "start_time": "2023-11-26T07:55:57.166Z"
   },
   {
    "duration": 5,
    "start_time": "2023-11-26T07:57:23.615Z"
   },
   {
    "duration": 234,
    "start_time": "2023-11-26T07:57:37.918Z"
   },
   {
    "duration": 1540,
    "start_time": "2023-11-26T07:57:57.124Z"
   },
   {
    "duration": 120,
    "start_time": "2023-11-26T07:58:06.653Z"
   },
   {
    "duration": 196,
    "start_time": "2023-11-26T07:58:13.770Z"
   },
   {
    "duration": 3,
    "start_time": "2023-11-26T07:58:29.718Z"
   },
   {
    "duration": 3,
    "start_time": "2023-11-26T07:59:22.600Z"
   },
   {
    "duration": 9,
    "start_time": "2023-11-26T07:59:33.697Z"
   },
   {
    "duration": 14,
    "start_time": "2023-11-26T08:00:28.449Z"
   },
   {
    "duration": 2,
    "start_time": "2023-11-26T08:00:40.848Z"
   },
   {
    "duration": 431,
    "start_time": "2023-11-26T08:01:23.847Z"
   },
   {
    "duration": 281,
    "start_time": "2023-11-26T08:01:43.823Z"
   },
   {
    "duration": 305,
    "start_time": "2023-11-26T08:02:09.914Z"
   },
   {
    "duration": 305,
    "start_time": "2023-11-26T08:02:15.166Z"
   },
   {
    "duration": 9,
    "start_time": "2023-11-26T08:02:35.266Z"
   },
   {
    "duration": 247,
    "start_time": "2023-11-26T08:04:49.565Z"
   },
   {
    "duration": 272,
    "start_time": "2023-11-26T08:07:13.632Z"
   },
   {
    "duration": 373,
    "start_time": "2023-11-26T08:07:26.094Z"
   },
   {
    "duration": 275,
    "start_time": "2023-11-26T08:07:34.291Z"
   },
   {
    "duration": 295,
    "start_time": "2023-11-26T08:08:49.565Z"
   },
   {
    "duration": 10,
    "start_time": "2023-11-26T08:11:44.715Z"
   },
   {
    "duration": 316,
    "start_time": "2023-11-26T08:11:58.275Z"
   },
   {
    "duration": 299,
    "start_time": "2023-11-26T08:13:38.131Z"
   },
   {
    "duration": 1171,
    "start_time": "2023-11-26T08:13:44.252Z"
   },
   {
    "duration": 101,
    "start_time": "2023-11-26T08:13:45.425Z"
   },
   {
    "duration": 31,
    "start_time": "2023-11-26T08:13:45.527Z"
   },
   {
    "duration": 23,
    "start_time": "2023-11-26T08:13:45.560Z"
   },
   {
    "duration": 2086,
    "start_time": "2023-11-26T08:13:45.586Z"
   },
   {
    "duration": 15,
    "start_time": "2023-11-26T08:13:47.675Z"
   },
   {
    "duration": 42,
    "start_time": "2023-11-26T08:13:47.692Z"
   },
   {
    "duration": 18,
    "start_time": "2023-11-26T08:13:47.736Z"
   },
   {
    "duration": 30,
    "start_time": "2023-11-26T08:13:47.756Z"
   },
   {
    "duration": 24,
    "start_time": "2023-11-26T08:13:47.788Z"
   },
   {
    "duration": 23,
    "start_time": "2023-11-26T08:13:47.813Z"
   },
   {
    "duration": 52,
    "start_time": "2023-11-26T08:13:47.838Z"
   },
   {
    "duration": 26,
    "start_time": "2023-11-26T08:13:47.892Z"
   },
   {
    "duration": 9,
    "start_time": "2023-11-26T08:13:47.922Z"
   },
   {
    "duration": 37,
    "start_time": "2023-11-26T08:13:47.933Z"
   },
   {
    "duration": 5,
    "start_time": "2023-11-26T08:13:47.972Z"
   },
   {
    "duration": 14,
    "start_time": "2023-11-26T08:13:47.978Z"
   },
   {
    "duration": 22,
    "start_time": "2023-11-26T08:13:47.993Z"
   },
   {
    "duration": 7,
    "start_time": "2023-11-26T08:13:48.017Z"
   },
   {
    "duration": 9,
    "start_time": "2023-11-26T08:13:48.025Z"
   },
   {
    "duration": 24,
    "start_time": "2023-11-26T08:13:48.035Z"
   },
   {
    "duration": 9,
    "start_time": "2023-11-26T08:13:48.061Z"
   },
   {
    "duration": 125,
    "start_time": "2023-11-26T08:13:48.072Z"
   },
   {
    "duration": 5,
    "start_time": "2023-11-26T08:13:48.198Z"
   },
   {
    "duration": 21,
    "start_time": "2023-11-26T08:13:48.204Z"
   },
   {
    "duration": 21,
    "start_time": "2023-11-26T08:13:48.226Z"
   },
   {
    "duration": 22,
    "start_time": "2023-11-26T08:13:48.249Z"
   },
   {
    "duration": 12,
    "start_time": "2023-11-26T08:13:48.273Z"
   },
   {
    "duration": 358,
    "start_time": "2023-11-26T08:13:48.286Z"
   },
   {
    "duration": 23,
    "start_time": "2023-11-26T08:13:48.646Z"
   },
   {
    "duration": 7,
    "start_time": "2023-11-26T08:13:48.671Z"
   },
   {
    "duration": 49,
    "start_time": "2023-11-26T08:13:48.679Z"
   },
   {
    "duration": 350,
    "start_time": "2023-11-26T08:13:48.730Z"
   },
   {
    "duration": 291,
    "start_time": "2023-11-26T08:13:49.082Z"
   },
   {
    "duration": 285,
    "start_time": "2023-11-26T08:13:49.375Z"
   },
   {
    "duration": 407,
    "start_time": "2023-11-26T08:13:49.662Z"
   },
   {
    "duration": 193,
    "start_time": "2023-11-27T06:27:08.815Z"
   },
   {
    "duration": 212,
    "start_time": "2023-11-27T06:27:43.683Z"
   },
   {
    "duration": 177,
    "start_time": "2023-11-27T06:30:59.179Z"
   },
   {
    "duration": 178,
    "start_time": "2023-11-27T06:35:22.376Z"
   },
   {
    "duration": 175,
    "start_time": "2023-11-27T06:35:42.645Z"
   },
   {
    "duration": 1669,
    "start_time": "2023-11-27T06:37:17.611Z"
   },
   {
    "duration": 19,
    "start_time": "2023-11-27T06:37:52.286Z"
   },
   {
    "duration": 10,
    "start_time": "2023-11-27T06:38:18.213Z"
   },
   {
    "duration": 7,
    "start_time": "2023-11-27T06:38:36.541Z"
   },
   {
    "duration": 3,
    "start_time": "2023-11-27T06:40:37.557Z"
   },
   {
    "duration": 174,
    "start_time": "2023-11-27T06:41:09.145Z"
   },
   {
    "duration": 9,
    "start_time": "2023-11-27T06:47:11.960Z"
   },
   {
    "duration": 183,
    "start_time": "2023-11-27T06:47:22.331Z"
   },
   {
    "duration": 175,
    "start_time": "2023-11-27T06:56:01.153Z"
   },
   {
    "duration": 177,
    "start_time": "2023-11-27T06:56:22.837Z"
   },
   {
    "duration": 181,
    "start_time": "2023-11-27T07:01:10.586Z"
   },
   {
    "duration": 706,
    "start_time": "2023-11-27T07:06:08.888Z"
   },
   {
    "duration": 565,
    "start_time": "2023-11-27T07:06:19.928Z"
   },
   {
    "duration": 192,
    "start_time": "2023-11-27T07:12:10.119Z"
   },
   {
    "duration": 552,
    "start_time": "2023-11-27T07:12:53.322Z"
   },
   {
    "duration": 681,
    "start_time": "2023-11-27T07:15:26.310Z"
   },
   {
    "duration": 564,
    "start_time": "2023-11-27T07:16:43.902Z"
   },
   {
    "duration": 282,
    "start_time": "2023-11-27T07:32:20.508Z"
   },
   {
    "duration": 577,
    "start_time": "2023-11-27T07:33:07.901Z"
   },
   {
    "duration": 399,
    "start_time": "2023-11-27T07:34:45.325Z"
   },
   {
    "duration": 14,
    "start_time": "2023-11-27T08:08:53.905Z"
   },
   {
    "duration": 148,
    "start_time": "2023-11-27T08:09:53.260Z"
   },
   {
    "duration": 165,
    "start_time": "2023-11-28T07:08:59.965Z"
   },
   {
    "duration": 157,
    "start_time": "2023-11-28T07:19:42.386Z"
   },
   {
    "duration": 142,
    "start_time": "2023-11-28T07:19:57.041Z"
   },
   {
    "duration": 62,
    "start_time": "2023-11-28T07:21:53.174Z"
   },
   {
    "duration": 24,
    "start_time": "2023-11-28T07:26:37.162Z"
   },
   {
    "duration": 23,
    "start_time": "2023-11-28T07:26:52.614Z"
   },
   {
    "duration": 24,
    "start_time": "2023-11-28T07:38:34.781Z"
   },
   {
    "duration": 12,
    "start_time": "2023-11-28T07:41:01.625Z"
   },
   {
    "duration": 10,
    "start_time": "2023-11-28T07:41:36.240Z"
   },
   {
    "duration": 24,
    "start_time": "2023-11-28T07:41:43.879Z"
   },
   {
    "duration": 18,
    "start_time": "2023-11-28T07:42:33.057Z"
   },
   {
    "duration": 401,
    "start_time": "2023-11-28T07:45:43.959Z"
   },
   {
    "duration": 51,
    "start_time": "2023-11-30T10:55:05.284Z"
   },
   {
    "duration": 1461,
    "start_time": "2023-11-30T10:55:16.050Z"
   },
   {
    "duration": 148,
    "start_time": "2023-11-30T10:55:17.513Z"
   },
   {
    "duration": 33,
    "start_time": "2023-11-30T10:55:17.663Z"
   },
   {
    "duration": 15,
    "start_time": "2023-11-30T10:55:17.698Z"
   },
   {
    "duration": 2071,
    "start_time": "2023-11-30T10:55:17.715Z"
   },
   {
    "duration": 10,
    "start_time": "2023-11-30T10:55:19.787Z"
   },
   {
    "duration": 18,
    "start_time": "2023-11-30T10:55:19.798Z"
   },
   {
    "duration": 8,
    "start_time": "2023-11-30T10:55:19.818Z"
   },
   {
    "duration": 40,
    "start_time": "2023-11-30T10:55:19.828Z"
   },
   {
    "duration": 33,
    "start_time": "2023-11-30T10:55:19.869Z"
   },
   {
    "duration": 24,
    "start_time": "2023-11-30T10:55:19.904Z"
   },
   {
    "duration": 68,
    "start_time": "2023-11-30T10:55:19.930Z"
   },
   {
    "duration": 6,
    "start_time": "2023-11-30T10:55:20.000Z"
   },
   {
    "duration": 60,
    "start_time": "2023-11-30T10:55:20.008Z"
   },
   {
    "duration": 27,
    "start_time": "2023-11-30T10:55:20.069Z"
   },
   {
    "duration": 23,
    "start_time": "2023-11-30T10:55:20.098Z"
   },
   {
    "duration": 20,
    "start_time": "2023-11-30T10:55:20.123Z"
   },
   {
    "duration": 45,
    "start_time": "2023-11-30T10:55:20.144Z"
   },
   {
    "duration": 14,
    "start_time": "2023-11-30T10:55:20.190Z"
   },
   {
    "duration": 35,
    "start_time": "2023-11-30T10:55:20.205Z"
   },
   {
    "duration": 49,
    "start_time": "2023-11-30T10:55:20.241Z"
   },
   {
    "duration": 11,
    "start_time": "2023-11-30T10:55:20.292Z"
   },
   {
    "duration": 116,
    "start_time": "2023-11-30T10:55:20.304Z"
   },
   {
    "duration": 4,
    "start_time": "2023-11-30T10:55:20.422Z"
   },
   {
    "duration": 28,
    "start_time": "2023-11-30T10:55:20.427Z"
   },
   {
    "duration": 31,
    "start_time": "2023-11-30T10:55:20.457Z"
   },
   {
    "duration": 42,
    "start_time": "2023-11-30T10:55:20.489Z"
   },
   {
    "duration": 5,
    "start_time": "2023-11-30T10:55:20.533Z"
   },
   {
    "duration": 366,
    "start_time": "2023-11-30T10:55:20.539Z"
   },
   {
    "duration": 24,
    "start_time": "2023-11-30T10:55:20.906Z"
   },
   {
    "duration": 29,
    "start_time": "2023-11-30T10:55:20.932Z"
   },
   {
    "duration": 45,
    "start_time": "2023-11-30T10:55:20.963Z"
   },
   {
    "duration": 307,
    "start_time": "2023-11-30T10:55:21.010Z"
   },
   {
    "duration": 303,
    "start_time": "2023-11-30T10:55:21.319Z"
   },
   {
    "duration": 310,
    "start_time": "2023-11-30T10:55:21.623Z"
   },
   {
    "duration": 648,
    "start_time": "2023-11-30T10:55:21.935Z"
   },
   {
    "duration": 404,
    "start_time": "2023-11-30T10:55:22.584Z"
   },
   {
    "duration": 412,
    "start_time": "2023-11-30T10:55:22.990Z"
   },
   {
    "duration": 9,
    "start_time": "2023-11-30T10:55:23.404Z"
   },
   {
    "duration": 318,
    "start_time": "2023-11-30T10:55:23.414Z"
   },
   {
    "duration": 201,
    "start_time": "2023-11-30T10:55:23.736Z"
   },
   {
    "duration": 206,
    "start_time": "2023-11-30T10:55:23.939Z"
   },
   {
    "duration": 305,
    "start_time": "2023-11-30T10:55:24.147Z"
   },
   {
    "duration": 64,
    "start_time": "2023-11-30T10:55:24.454Z"
   },
   {
    "duration": 30,
    "start_time": "2023-11-30T10:56:47.303Z"
   },
   {
    "duration": 310,
    "start_time": "2023-11-30T10:58:38.271Z"
   },
   {
    "duration": 409,
    "start_time": "2023-11-30T11:01:55.128Z"
   },
   {
    "duration": 213,
    "start_time": "2023-11-30T11:02:05.986Z"
   },
   {
    "duration": 161,
    "start_time": "2023-11-30T11:07:45.723Z"
   },
   {
    "duration": 179,
    "start_time": "2023-11-30T11:54:50.644Z"
   },
   {
    "duration": 101,
    "start_time": "2023-11-30T11:58:58.278Z"
   },
   {
    "duration": 162,
    "start_time": "2023-11-30T12:01:48.514Z"
   },
   {
    "duration": 21,
    "start_time": "2023-11-30T12:05:43.811Z"
   },
   {
    "duration": 126,
    "start_time": "2023-11-30T12:09:28.052Z"
   },
   {
    "duration": 15,
    "start_time": "2023-11-30T12:09:48.015Z"
   },
   {
    "duration": 25,
    "start_time": "2023-11-30T12:13:29.889Z"
   },
   {
    "duration": 191,
    "start_time": "2023-11-30T12:14:39.798Z"
   },
   {
    "duration": 177,
    "start_time": "2023-11-30T12:16:10.647Z"
   },
   {
    "duration": 194,
    "start_time": "2023-11-30T12:17:06.017Z"
   },
   {
    "duration": 178,
    "start_time": "2023-11-30T15:10:13.808Z"
   },
   {
    "duration": 177,
    "start_time": "2023-11-30T15:15:44.390Z"
   },
   {
    "duration": 1184,
    "start_time": "2023-11-30T15:18:29.034Z"
   },
   {
    "duration": 104,
    "start_time": "2023-11-30T15:18:30.221Z"
   },
   {
    "duration": 32,
    "start_time": "2023-11-30T15:18:30.327Z"
   },
   {
    "duration": 37,
    "start_time": "2023-11-30T15:18:30.361Z"
   },
   {
    "duration": 2182,
    "start_time": "2023-11-30T15:18:30.400Z"
   },
   {
    "duration": 11,
    "start_time": "2023-11-30T15:18:32.583Z"
   },
   {
    "duration": 29,
    "start_time": "2023-11-30T15:18:32.596Z"
   },
   {
    "duration": 15,
    "start_time": "2023-11-30T15:18:32.627Z"
   },
   {
    "duration": 28,
    "start_time": "2023-11-30T15:18:32.644Z"
   },
   {
    "duration": 29,
    "start_time": "2023-11-30T15:18:32.674Z"
   },
   {
    "duration": 309,
    "start_time": "2023-11-30T15:18:32.704Z"
   },
   {
    "duration": 26,
    "start_time": "2023-11-30T15:18:33.014Z"
   },
   {
    "duration": 76,
    "start_time": "2023-11-30T15:18:33.041Z"
   },
   {
    "duration": 7,
    "start_time": "2023-11-30T15:18:33.121Z"
   },
   {
    "duration": 5,
    "start_time": "2023-11-30T15:18:33.130Z"
   },
   {
    "duration": 51,
    "start_time": "2023-11-30T15:18:33.136Z"
   },
   {
    "duration": 19,
    "start_time": "2023-11-30T15:18:33.188Z"
   },
   {
    "duration": 10,
    "start_time": "2023-11-30T15:18:33.209Z"
   },
   {
    "duration": 31,
    "start_time": "2023-11-30T15:18:33.221Z"
   },
   {
    "duration": 9,
    "start_time": "2023-11-30T15:18:33.253Z"
   },
   {
    "duration": 21,
    "start_time": "2023-11-30T15:18:33.264Z"
   },
   {
    "duration": 31,
    "start_time": "2023-11-30T15:18:33.287Z"
   },
   {
    "duration": 11,
    "start_time": "2023-11-30T15:18:33.320Z"
   },
   {
    "duration": 112,
    "start_time": "2023-11-30T15:18:33.333Z"
   },
   {
    "duration": 5,
    "start_time": "2023-11-30T15:18:33.447Z"
   },
   {
    "duration": 23,
    "start_time": "2023-11-30T15:18:33.454Z"
   },
   {
    "duration": 42,
    "start_time": "2023-11-30T15:18:33.478Z"
   },
   {
    "duration": 26,
    "start_time": "2023-11-30T15:18:33.522Z"
   },
   {
    "duration": 27,
    "start_time": "2023-11-30T15:18:33.550Z"
   },
   {
    "duration": 360,
    "start_time": "2023-11-30T15:18:33.578Z"
   },
   {
    "duration": 25,
    "start_time": "2023-11-30T15:18:33.939Z"
   },
   {
    "duration": 17,
    "start_time": "2023-11-30T15:18:33.973Z"
   },
   {
    "duration": 38,
    "start_time": "2023-11-30T15:18:33.992Z"
   },
   {
    "duration": 344,
    "start_time": "2023-11-30T15:18:34.031Z"
   },
   {
    "duration": 307,
    "start_time": "2023-11-30T15:18:34.376Z"
   },
   {
    "duration": 413,
    "start_time": "2023-11-30T15:18:34.685Z"
   },
   {
    "duration": 323,
    "start_time": "2023-11-30T15:18:35.100Z"
   },
   {
    "duration": 202,
    "start_time": "2023-11-30T15:18:35.425Z"
   },
   {
    "duration": 208,
    "start_time": "2023-11-30T15:18:35.629Z"
   },
   {
    "duration": 9,
    "start_time": "2023-11-30T15:18:35.838Z"
   },
   {
    "duration": 244,
    "start_time": "2023-11-30T15:18:35.851Z"
   },
   {
    "duration": 216,
    "start_time": "2023-11-30T15:18:36.096Z"
   },
   {
    "duration": 214,
    "start_time": "2023-11-30T15:18:36.314Z"
   },
   {
    "duration": 318,
    "start_time": "2023-11-30T15:18:36.530Z"
   },
   {
    "duration": 65,
    "start_time": "2023-11-30T15:18:36.850Z"
   },
   {
    "duration": 18,
    "start_time": "2023-11-30T15:18:36.916Z"
   },
   {
    "duration": 360,
    "start_time": "2023-11-30T15:18:36.936Z"
   },
   {
    "duration": 197,
    "start_time": "2023-11-30T15:18:37.298Z"
   },
   {
    "duration": 179,
    "start_time": "2023-11-30T15:18:37.497Z"
   },
   {
    "duration": 113,
    "start_time": "2023-11-30T15:18:37.677Z"
   },
   {
    "duration": 14,
    "start_time": "2023-11-30T16:34:36.936Z"
   },
   {
    "duration": 35,
    "start_time": "2023-11-30T16:35:12.043Z"
   },
   {
    "duration": 24,
    "start_time": "2023-11-30T16:35:31.075Z"
   },
   {
    "duration": 38,
    "start_time": "2023-11-30T21:55:40.454Z"
   },
   {
    "duration": 19,
    "start_time": "2023-11-30T21:56:24.778Z"
   },
   {
    "duration": 10,
    "start_time": "2023-11-30T21:56:42.134Z"
   },
   {
    "duration": 9,
    "start_time": "2023-11-30T21:57:06.135Z"
   },
   {
    "duration": 18,
    "start_time": "2023-11-30T21:57:41.059Z"
   },
   {
    "duration": 13,
    "start_time": "2023-11-30T21:57:47.770Z"
   },
   {
    "duration": 9,
    "start_time": "2023-11-30T21:58:12.125Z"
   },
   {
    "duration": 18,
    "start_time": "2023-11-30T21:59:11.312Z"
   },
   {
    "duration": 18,
    "start_time": "2023-11-30T21:59:32.350Z"
   },
   {
    "duration": 20,
    "start_time": "2023-11-30T21:59:42.204Z"
   },
   {
    "duration": 23,
    "start_time": "2023-11-30T22:01:19.207Z"
   },
   {
    "duration": 19,
    "start_time": "2023-11-30T22:02:28.408Z"
   },
   {
    "duration": 8,
    "start_time": "2023-11-30T22:03:29.285Z"
   },
   {
    "duration": 7,
    "start_time": "2023-11-30T22:04:21.648Z"
   },
   {
    "duration": 7,
    "start_time": "2023-11-30T22:04:46.130Z"
   },
   {
    "duration": 147,
    "start_time": "2023-11-30T22:09:23.848Z"
   },
   {
    "duration": 134,
    "start_time": "2023-11-30T22:11:02.384Z"
   },
   {
    "duration": 143,
    "start_time": "2023-11-30T22:14:10.486Z"
   },
   {
    "duration": 1465,
    "start_time": "2023-12-01T05:41:54.829Z"
   },
   {
    "duration": 319,
    "start_time": "2023-12-01T05:41:56.296Z"
   },
   {
    "duration": 32,
    "start_time": "2023-12-01T05:41:56.617Z"
   },
   {
    "duration": 16,
    "start_time": "2023-12-01T05:41:56.652Z"
   },
   {
    "duration": 2067,
    "start_time": "2023-12-01T05:41:56.670Z"
   },
   {
    "duration": 12,
    "start_time": "2023-12-01T05:41:58.739Z"
   },
   {
    "duration": 13,
    "start_time": "2023-12-01T05:41:58.753Z"
   },
   {
    "duration": 9,
    "start_time": "2023-12-01T05:41:58.768Z"
   },
   {
    "duration": 51,
    "start_time": "2023-12-01T05:41:58.778Z"
   },
   {
    "duration": 28,
    "start_time": "2023-12-01T05:41:58.831Z"
   },
   {
    "duration": 308,
    "start_time": "2023-12-01T05:41:58.861Z"
   },
   {
    "duration": 39,
    "start_time": "2023-12-01T05:41:59.171Z"
   },
   {
    "duration": 52,
    "start_time": "2023-12-01T05:41:59.223Z"
   },
   {
    "duration": 5,
    "start_time": "2023-12-01T05:41:59.277Z"
   },
   {
    "duration": 9,
    "start_time": "2023-12-01T05:41:59.284Z"
   },
   {
    "duration": 28,
    "start_time": "2023-12-01T05:41:59.295Z"
   },
   {
    "duration": 4,
    "start_time": "2023-12-01T05:41:59.325Z"
   },
   {
    "duration": 13,
    "start_time": "2023-12-01T05:41:59.331Z"
   },
   {
    "duration": 24,
    "start_time": "2023-12-01T05:41:59.346Z"
   },
   {
    "duration": 8,
    "start_time": "2023-12-01T05:41:59.371Z"
   },
   {
    "duration": 11,
    "start_time": "2023-12-01T05:41:59.381Z"
   },
   {
    "duration": 49,
    "start_time": "2023-12-01T05:41:59.394Z"
   },
   {
    "duration": 10,
    "start_time": "2023-12-01T05:41:59.444Z"
   },
   {
    "duration": 121,
    "start_time": "2023-12-01T05:41:59.456Z"
   },
   {
    "duration": 4,
    "start_time": "2023-12-01T05:41:59.578Z"
   },
   {
    "duration": 8,
    "start_time": "2023-12-01T05:41:59.584Z"
   },
   {
    "duration": 29,
    "start_time": "2023-12-01T05:41:59.593Z"
   },
   {
    "duration": 24,
    "start_time": "2023-12-01T05:41:59.626Z"
   },
   {
    "duration": 4,
    "start_time": "2023-12-01T05:41:59.652Z"
   },
   {
    "duration": 370,
    "start_time": "2023-12-01T05:41:59.657Z"
   },
   {
    "duration": 24,
    "start_time": "2023-12-01T05:42:00.028Z"
   },
   {
    "duration": 55,
    "start_time": "2023-12-01T05:42:00.054Z"
   },
   {
    "duration": 68,
    "start_time": "2023-12-01T05:42:00.111Z"
   },
   {
    "duration": 341,
    "start_time": "2023-12-01T05:42:00.181Z"
   },
   {
    "duration": 344,
    "start_time": "2023-12-01T05:42:00.523Z"
   },
   {
    "duration": 413,
    "start_time": "2023-12-01T05:42:00.869Z"
   },
   {
    "duration": 325,
    "start_time": "2023-12-01T05:42:01.285Z"
   },
   {
    "duration": 197,
    "start_time": "2023-12-01T05:42:01.611Z"
   },
   {
    "duration": 206,
    "start_time": "2023-12-01T05:42:01.810Z"
   },
   {
    "duration": 8,
    "start_time": "2023-12-01T05:42:02.022Z"
   },
   {
    "duration": 208,
    "start_time": "2023-12-01T05:42:02.032Z"
   },
   {
    "duration": 230,
    "start_time": "2023-12-01T05:42:02.241Z"
   },
   {
    "duration": 209,
    "start_time": "2023-12-01T05:42:02.472Z"
   },
   {
    "duration": 310,
    "start_time": "2023-12-01T05:42:02.683Z"
   },
   {
    "duration": 66,
    "start_time": "2023-12-01T05:42:02.994Z"
   },
   {
    "duration": 17,
    "start_time": "2023-12-01T05:42:03.061Z"
   },
   {
    "duration": 303,
    "start_time": "2023-12-01T05:42:03.080Z"
   },
   {
    "duration": 191,
    "start_time": "2023-12-01T05:42:03.385Z"
   },
   {
    "duration": 172,
    "start_time": "2023-12-01T05:42:03.578Z"
   },
   {
    "duration": 20,
    "start_time": "2023-12-01T05:42:03.752Z"
   },
   {
    "duration": 17,
    "start_time": "2023-12-01T05:42:03.774Z"
   },
   {
    "duration": 26,
    "start_time": "2023-12-01T05:42:03.793Z"
   },
   {
    "duration": 183,
    "start_time": "2023-12-01T05:42:03.821Z"
   },
   {
    "duration": 8,
    "start_time": "2023-12-01T05:47:20.712Z"
   },
   {
    "duration": 5,
    "start_time": "2023-12-01T05:47:32.459Z"
   },
   {
    "duration": 81,
    "start_time": "2023-12-01T05:48:08.610Z"
   },
   {
    "duration": 89,
    "start_time": "2023-12-01T06:57:16.521Z"
   },
   {
    "duration": 40,
    "start_time": "2023-12-01T06:57:40.820Z"
   },
   {
    "duration": 1290,
    "start_time": "2023-12-01T06:57:50.433Z"
   },
   {
    "duration": 299,
    "start_time": "2023-12-01T06:57:51.725Z"
   },
   {
    "duration": 34,
    "start_time": "2023-12-01T06:57:52.025Z"
   },
   {
    "duration": 17,
    "start_time": "2023-12-01T06:57:52.061Z"
   },
   {
    "duration": 1857,
    "start_time": "2023-12-01T06:57:52.079Z"
   },
   {
    "duration": 10,
    "start_time": "2023-12-01T06:57:53.938Z"
   },
   {
    "duration": 11,
    "start_time": "2023-12-01T06:57:53.949Z"
   },
   {
    "duration": 7,
    "start_time": "2023-12-01T06:57:53.961Z"
   },
   {
    "duration": 26,
    "start_time": "2023-12-01T06:57:53.969Z"
   },
   {
    "duration": 29,
    "start_time": "2023-12-01T06:57:54.010Z"
   },
   {
    "duration": 280,
    "start_time": "2023-12-01T06:57:54.040Z"
   },
   {
    "duration": 22,
    "start_time": "2023-12-01T06:57:54.322Z"
   },
   {
    "duration": 49,
    "start_time": "2023-12-01T06:57:54.345Z"
   },
   {
    "duration": 6,
    "start_time": "2023-12-01T06:57:54.411Z"
   },
   {
    "duration": 5,
    "start_time": "2023-12-01T06:57:54.419Z"
   },
   {
    "duration": 9,
    "start_time": "2023-12-01T06:57:54.425Z"
   },
   {
    "duration": 4,
    "start_time": "2023-12-01T06:57:54.436Z"
   },
   {
    "duration": 10,
    "start_time": "2023-12-01T06:57:54.442Z"
   },
   {
    "duration": 62,
    "start_time": "2023-12-01T06:57:54.454Z"
   },
   {
    "duration": 8,
    "start_time": "2023-12-01T06:57:54.517Z"
   },
   {
    "duration": 6,
    "start_time": "2023-12-01T06:57:54.526Z"
   },
   {
    "duration": 23,
    "start_time": "2023-12-01T06:57:54.533Z"
   },
   {
    "duration": 9,
    "start_time": "2023-12-01T06:57:54.557Z"
   },
   {
    "duration": 118,
    "start_time": "2023-12-01T06:57:54.567Z"
   },
   {
    "duration": 3,
    "start_time": "2023-12-01T06:57:54.687Z"
   },
   {
    "duration": 7,
    "start_time": "2023-12-01T06:57:54.692Z"
   },
   {
    "duration": 11,
    "start_time": "2023-12-01T06:57:54.711Z"
   },
   {
    "duration": 22,
    "start_time": "2023-12-01T06:57:54.725Z"
   },
   {
    "duration": 20,
    "start_time": "2023-12-01T06:57:54.748Z"
   },
   {
    "duration": 326,
    "start_time": "2023-12-01T06:57:54.769Z"
   },
   {
    "duration": 22,
    "start_time": "2023-12-01T06:57:55.096Z"
   },
   {
    "duration": 4,
    "start_time": "2023-12-01T06:57:55.119Z"
   },
   {
    "duration": 22,
    "start_time": "2023-12-01T06:57:55.125Z"
   },
   {
    "duration": 293,
    "start_time": "2023-12-01T06:57:55.149Z"
   },
   {
    "duration": 277,
    "start_time": "2023-12-01T06:57:55.443Z"
   },
   {
    "duration": 396,
    "start_time": "2023-12-01T06:57:55.722Z"
   },
   {
    "duration": 282,
    "start_time": "2023-12-01T06:57:56.120Z"
   },
   {
    "duration": 186,
    "start_time": "2023-12-01T06:57:56.404Z"
   },
   {
    "duration": 187,
    "start_time": "2023-12-01T06:57:56.592Z"
   },
   {
    "duration": 7,
    "start_time": "2023-12-01T06:57:56.780Z"
   },
   {
    "duration": 190,
    "start_time": "2023-12-01T06:57:56.789Z"
   },
   {
    "duration": 185,
    "start_time": "2023-12-01T06:57:56.980Z"
   },
   {
    "duration": 196,
    "start_time": "2023-12-01T06:57:57.166Z"
   },
   {
    "duration": 289,
    "start_time": "2023-12-01T06:57:57.364Z"
   },
   {
    "duration": 63,
    "start_time": "2023-12-01T06:57:57.655Z"
   },
   {
    "duration": 15,
    "start_time": "2023-12-01T06:57:57.720Z"
   },
   {
    "duration": 275,
    "start_time": "2023-12-01T06:57:57.737Z"
   },
   {
    "duration": 177,
    "start_time": "2023-12-01T06:57:58.014Z"
   },
   {
    "duration": 160,
    "start_time": "2023-12-01T06:57:58.193Z"
   },
   {
    "duration": 19,
    "start_time": "2023-12-01T06:57:58.355Z"
   },
   {
    "duration": 6,
    "start_time": "2023-12-01T06:57:58.376Z"
   },
   {
    "duration": 10,
    "start_time": "2023-12-01T06:57:58.384Z"
   },
   {
    "duration": 187,
    "start_time": "2023-12-01T06:57:58.411Z"
   },
   {
    "duration": 1091,
    "start_time": "2023-12-01T10:57:40.811Z"
   },
   {
    "duration": 101,
    "start_time": "2023-12-01T10:57:41.904Z"
   },
   {
    "duration": 32,
    "start_time": "2023-12-01T10:57:42.007Z"
   },
   {
    "duration": 16,
    "start_time": "2023-12-01T10:57:42.041Z"
   },
   {
    "duration": 1817,
    "start_time": "2023-12-01T10:57:42.059Z"
   },
   {
    "duration": 11,
    "start_time": "2023-12-01T10:57:43.878Z"
   },
   {
    "duration": 11,
    "start_time": "2023-12-01T10:57:43.891Z"
   },
   {
    "duration": 11,
    "start_time": "2023-12-01T10:57:43.904Z"
   },
   {
    "duration": 25,
    "start_time": "2023-12-01T10:57:43.917Z"
   },
   {
    "duration": 112,
    "start_time": "2023-12-01T10:57:43.944Z"
   },
   {
    "duration": 0,
    "start_time": "2023-12-01T10:57:44.058Z"
   },
   {
    "duration": 0,
    "start_time": "2023-12-01T10:57:44.059Z"
   },
   {
    "duration": 0,
    "start_time": "2023-12-01T10:57:44.060Z"
   },
   {
    "duration": 0,
    "start_time": "2023-12-01T10:57:44.061Z"
   },
   {
    "duration": 0,
    "start_time": "2023-12-01T10:57:44.061Z"
   },
   {
    "duration": 0,
    "start_time": "2023-12-01T10:57:44.062Z"
   },
   {
    "duration": 0,
    "start_time": "2023-12-01T10:57:44.063Z"
   },
   {
    "duration": 0,
    "start_time": "2023-12-01T10:57:44.064Z"
   },
   {
    "duration": 0,
    "start_time": "2023-12-01T10:57:44.065Z"
   },
   {
    "duration": 0,
    "start_time": "2023-12-01T10:57:44.065Z"
   },
   {
    "duration": 0,
    "start_time": "2023-12-01T10:57:44.067Z"
   },
   {
    "duration": 0,
    "start_time": "2023-12-01T10:57:44.067Z"
   },
   {
    "duration": 0,
    "start_time": "2023-12-01T10:57:44.068Z"
   },
   {
    "duration": 0,
    "start_time": "2023-12-01T10:57:44.069Z"
   },
   {
    "duration": 0,
    "start_time": "2023-12-01T10:57:44.070Z"
   },
   {
    "duration": 0,
    "start_time": "2023-12-01T10:57:44.070Z"
   },
   {
    "duration": 0,
    "start_time": "2023-12-01T10:57:44.072Z"
   },
   {
    "duration": 0,
    "start_time": "2023-12-01T10:57:44.073Z"
   },
   {
    "duration": 0,
    "start_time": "2023-12-01T10:57:44.074Z"
   },
   {
    "duration": 0,
    "start_time": "2023-12-01T10:57:44.074Z"
   },
   {
    "duration": 0,
    "start_time": "2023-12-01T10:57:44.075Z"
   },
   {
    "duration": 0,
    "start_time": "2023-12-01T10:57:44.076Z"
   },
   {
    "duration": 0,
    "start_time": "2023-12-01T10:57:44.077Z"
   },
   {
    "duration": 0,
    "start_time": "2023-12-01T10:57:44.078Z"
   },
   {
    "duration": 0,
    "start_time": "2023-12-01T10:57:44.079Z"
   },
   {
    "duration": 0,
    "start_time": "2023-12-01T10:57:44.111Z"
   },
   {
    "duration": 0,
    "start_time": "2023-12-01T10:57:44.112Z"
   },
   {
    "duration": 0,
    "start_time": "2023-12-01T10:57:44.113Z"
   },
   {
    "duration": 0,
    "start_time": "2023-12-01T10:57:44.115Z"
   },
   {
    "duration": 0,
    "start_time": "2023-12-01T10:57:44.115Z"
   },
   {
    "duration": 0,
    "start_time": "2023-12-01T10:57:44.116Z"
   },
   {
    "duration": 0,
    "start_time": "2023-12-01T10:57:44.117Z"
   },
   {
    "duration": 0,
    "start_time": "2023-12-01T10:57:44.118Z"
   },
   {
    "duration": 0,
    "start_time": "2023-12-01T10:57:44.119Z"
   },
   {
    "duration": 0,
    "start_time": "2023-12-01T10:57:44.119Z"
   },
   {
    "duration": 0,
    "start_time": "2023-12-01T10:57:44.120Z"
   },
   {
    "duration": 0,
    "start_time": "2023-12-01T10:57:44.121Z"
   },
   {
    "duration": 0,
    "start_time": "2023-12-01T10:57:44.122Z"
   },
   {
    "duration": 0,
    "start_time": "2023-12-01T10:57:44.123Z"
   },
   {
    "duration": 0,
    "start_time": "2023-12-01T10:57:44.124Z"
   },
   {
    "duration": 0,
    "start_time": "2023-12-01T10:57:44.124Z"
   },
   {
    "duration": 0,
    "start_time": "2023-12-01T10:57:44.125Z"
   },
   {
    "duration": 0,
    "start_time": "2023-12-01T10:57:44.126Z"
   },
   {
    "duration": 13,
    "start_time": "2023-12-01T10:59:44.955Z"
   },
   {
    "duration": 34,
    "start_time": "2023-12-01T11:00:33.871Z"
   },
   {
    "duration": 29,
    "start_time": "2023-12-01T11:00:44.188Z"
   },
   {
    "duration": 24,
    "start_time": "2023-12-01T11:01:15.857Z"
   },
   {
    "duration": 7,
    "start_time": "2023-12-01T11:02:57.086Z"
   },
   {
    "duration": 7,
    "start_time": "2023-12-01T11:03:30.579Z"
   },
   {
    "duration": 9,
    "start_time": "2023-12-01T11:06:51.230Z"
   },
   {
    "duration": 4,
    "start_time": "2023-12-01T11:07:00.748Z"
   },
   {
    "duration": 4,
    "start_time": "2023-12-01T11:07:03.726Z"
   },
   {
    "duration": 6,
    "start_time": "2023-12-01T11:07:10.156Z"
   },
   {
    "duration": 5,
    "start_time": "2023-12-01T11:08:29.582Z"
   },
   {
    "duration": 6,
    "start_time": "2023-12-01T11:08:41.658Z"
   },
   {
    "duration": 297,
    "start_time": "2023-12-01T11:10:47.076Z"
   },
   {
    "duration": 78,
    "start_time": "2023-12-01T11:11:02.935Z"
   },
   {
    "duration": 28,
    "start_time": "2023-12-01T11:13:53.398Z"
   },
   {
    "duration": 1136,
    "start_time": "2023-12-01T11:14:20.795Z"
   },
   {
    "duration": 99,
    "start_time": "2023-12-01T11:14:21.933Z"
   },
   {
    "duration": 34,
    "start_time": "2023-12-01T11:14:22.033Z"
   },
   {
    "duration": 15,
    "start_time": "2023-12-01T11:14:22.068Z"
   },
   {
    "duration": 1920,
    "start_time": "2023-12-01T11:14:22.085Z"
   },
   {
    "duration": 11,
    "start_time": "2023-12-01T11:14:24.007Z"
   },
   {
    "duration": 13,
    "start_time": "2023-12-01T11:14:24.020Z"
   },
   {
    "duration": 7,
    "start_time": "2023-12-01T11:14:24.035Z"
   },
   {
    "duration": 26,
    "start_time": "2023-12-01T11:14:24.044Z"
   },
   {
    "duration": 39,
    "start_time": "2023-12-01T11:14:24.071Z"
   },
   {
    "duration": 278,
    "start_time": "2023-12-01T11:14:24.112Z"
   },
   {
    "duration": 20,
    "start_time": "2023-12-01T11:14:24.391Z"
   },
   {
    "duration": 23,
    "start_time": "2023-12-01T11:14:24.412Z"
   },
   {
    "duration": 47,
    "start_time": "2023-12-01T11:14:24.437Z"
   },
   {
    "duration": 28,
    "start_time": "2023-12-01T11:14:24.486Z"
   },
   {
    "duration": 6,
    "start_time": "2023-12-01T11:14:24.515Z"
   },
   {
    "duration": 9,
    "start_time": "2023-12-01T11:14:24.522Z"
   },
   {
    "duration": 4,
    "start_time": "2023-12-01T11:14:24.533Z"
   },
   {
    "duration": 9,
    "start_time": "2023-12-01T11:14:24.538Z"
   },
   {
    "duration": 22,
    "start_time": "2023-12-01T11:14:24.548Z"
   },
   {
    "duration": 43,
    "start_time": "2023-12-01T11:14:24.572Z"
   },
   {
    "duration": 10,
    "start_time": "2023-12-01T11:14:24.617Z"
   },
   {
    "duration": 24,
    "start_time": "2023-12-01T11:14:24.629Z"
   },
   {
    "duration": 9,
    "start_time": "2023-12-01T11:14:24.655Z"
   },
   {
    "duration": 105,
    "start_time": "2023-12-01T11:14:24.665Z"
   },
   {
    "duration": 4,
    "start_time": "2023-12-01T11:14:24.773Z"
   },
   {
    "duration": 8,
    "start_time": "2023-12-01T11:14:24.778Z"
   },
   {
    "duration": 24,
    "start_time": "2023-12-01T11:14:24.788Z"
   },
   {
    "duration": 21,
    "start_time": "2023-12-01T11:14:24.814Z"
   },
   {
    "duration": 9,
    "start_time": "2023-12-01T11:14:24.837Z"
   },
   {
    "duration": 330,
    "start_time": "2023-12-01T11:14:24.847Z"
   },
   {
    "duration": 22,
    "start_time": "2023-12-01T11:14:25.179Z"
   },
   {
    "duration": 11,
    "start_time": "2023-12-01T11:14:25.202Z"
   },
   {
    "duration": 28,
    "start_time": "2023-12-01T11:14:25.214Z"
   },
   {
    "duration": 282,
    "start_time": "2023-12-01T11:14:25.243Z"
   },
   {
    "duration": 281,
    "start_time": "2023-12-01T11:14:25.526Z"
   },
   {
    "duration": 391,
    "start_time": "2023-12-01T11:14:25.811Z"
   },
   {
    "duration": 287,
    "start_time": "2023-12-01T11:14:26.204Z"
   },
   {
    "duration": 170,
    "start_time": "2023-12-01T11:14:26.493Z"
   },
   {
    "duration": 180,
    "start_time": "2023-12-01T11:14:26.664Z"
   },
   {
    "duration": 7,
    "start_time": "2023-12-01T11:14:26.848Z"
   },
   {
    "duration": 187,
    "start_time": "2023-12-01T11:14:26.856Z"
   },
   {
    "duration": 178,
    "start_time": "2023-12-01T11:14:27.045Z"
   },
   {
    "duration": 194,
    "start_time": "2023-12-01T11:14:27.225Z"
   },
   {
    "duration": 325,
    "start_time": "2023-12-01T11:14:27.421Z"
   },
   {
    "duration": 51,
    "start_time": "2023-12-01T11:14:27.748Z"
   },
   {
    "duration": 22,
    "start_time": "2023-12-01T11:14:27.800Z"
   },
   {
    "duration": 256,
    "start_time": "2023-12-01T11:14:27.824Z"
   },
   {
    "duration": 161,
    "start_time": "2023-12-01T11:14:28.082Z"
   },
   {
    "duration": 159,
    "start_time": "2023-12-01T11:14:28.244Z"
   },
   {
    "duration": 25,
    "start_time": "2023-12-01T11:14:28.405Z"
   },
   {
    "duration": 7,
    "start_time": "2023-12-01T11:14:28.432Z"
   },
   {
    "duration": 13,
    "start_time": "2023-12-01T11:14:28.441Z"
   },
   {
    "duration": 194,
    "start_time": "2023-12-01T11:14:28.457Z"
   },
   {
    "duration": 24,
    "start_time": "2023-12-01T11:14:47.571Z"
   },
   {
    "duration": 271,
    "start_time": "2023-12-01T11:26:24.480Z"
   },
   {
    "duration": 1197,
    "start_time": "2023-12-01T11:26:32.968Z"
   },
   {
    "duration": 94,
    "start_time": "2023-12-01T11:26:34.167Z"
   },
   {
    "duration": 29,
    "start_time": "2023-12-01T11:26:34.262Z"
   },
   {
    "duration": 22,
    "start_time": "2023-12-01T11:26:34.293Z"
   },
   {
    "duration": 1859,
    "start_time": "2023-12-01T11:26:34.317Z"
   },
   {
    "duration": 10,
    "start_time": "2023-12-01T11:26:36.178Z"
   },
   {
    "duration": 11,
    "start_time": "2023-12-01T11:26:36.189Z"
   },
   {
    "duration": 7,
    "start_time": "2023-12-01T11:26:36.201Z"
   },
   {
    "duration": 25,
    "start_time": "2023-12-01T11:26:36.209Z"
   },
   {
    "duration": 5,
    "start_time": "2023-12-01T11:26:36.236Z"
   },
   {
    "duration": 287,
    "start_time": "2023-12-01T11:26:36.243Z"
   },
   {
    "duration": 6,
    "start_time": "2023-12-01T11:26:36.532Z"
   },
   {
    "duration": 22,
    "start_time": "2023-12-01T11:26:36.539Z"
   },
   {
    "duration": 64,
    "start_time": "2023-12-01T11:26:36.564Z"
   },
   {
    "duration": 5,
    "start_time": "2023-12-01T11:26:36.630Z"
   },
   {
    "duration": 4,
    "start_time": "2023-12-01T11:26:36.636Z"
   },
   {
    "duration": 8,
    "start_time": "2023-12-01T11:26:36.642Z"
   },
   {
    "duration": 4,
    "start_time": "2023-12-01T11:26:36.652Z"
   },
   {
    "duration": 13,
    "start_time": "2023-12-01T11:26:36.657Z"
   },
   {
    "duration": 50,
    "start_time": "2023-12-01T11:26:36.672Z"
   },
   {
    "duration": 7,
    "start_time": "2023-12-01T11:26:36.723Z"
   },
   {
    "duration": 7,
    "start_time": "2023-12-01T11:26:36.732Z"
   },
   {
    "duration": 23,
    "start_time": "2023-12-01T11:26:36.741Z"
   },
   {
    "duration": 9,
    "start_time": "2023-12-01T11:26:36.765Z"
   },
   {
    "duration": 110,
    "start_time": "2023-12-01T11:26:36.776Z"
   },
   {
    "duration": 4,
    "start_time": "2023-12-01T11:26:36.887Z"
   },
   {
    "duration": 19,
    "start_time": "2023-12-01T11:26:36.892Z"
   },
   {
    "duration": 11,
    "start_time": "2023-12-01T11:26:36.913Z"
   },
   {
    "duration": 21,
    "start_time": "2023-12-01T11:26:36.926Z"
   },
   {
    "duration": 18,
    "start_time": "2023-12-01T11:26:36.949Z"
   },
   {
    "duration": 326,
    "start_time": "2023-12-01T11:26:36.968Z"
   },
   {
    "duration": 26,
    "start_time": "2023-12-01T11:26:37.296Z"
   },
   {
    "duration": 8,
    "start_time": "2023-12-01T11:26:37.323Z"
   },
   {
    "duration": 22,
    "start_time": "2023-12-01T11:26:37.332Z"
   },
   {
    "duration": 301,
    "start_time": "2023-12-01T11:26:37.355Z"
   },
   {
    "duration": 274,
    "start_time": "2023-12-01T11:26:37.657Z"
   },
   {
    "duration": 382,
    "start_time": "2023-12-01T11:26:37.933Z"
   },
   {
    "duration": 308,
    "start_time": "2023-12-01T11:26:38.316Z"
   },
   {
    "duration": 180,
    "start_time": "2023-12-01T11:26:38.625Z"
   },
   {
    "duration": 188,
    "start_time": "2023-12-01T11:26:38.812Z"
   },
   {
    "duration": 11,
    "start_time": "2023-12-01T11:26:39.004Z"
   },
   {
    "duration": 190,
    "start_time": "2023-12-01T11:26:39.017Z"
   },
   {
    "duration": 180,
    "start_time": "2023-12-01T11:26:39.210Z"
   },
   {
    "duration": 190,
    "start_time": "2023-12-01T11:26:39.391Z"
   },
   {
    "duration": 338,
    "start_time": "2023-12-01T11:26:39.582Z"
   },
   {
    "duration": 51,
    "start_time": "2023-12-01T11:26:39.921Z"
   },
   {
    "duration": 14,
    "start_time": "2023-12-01T11:26:39.973Z"
   },
   {
    "duration": 278,
    "start_time": "2023-12-01T11:26:39.988Z"
   },
   {
    "duration": 166,
    "start_time": "2023-12-01T11:26:40.267Z"
   },
   {
    "duration": 162,
    "start_time": "2023-12-01T11:26:40.434Z"
   },
   {
    "duration": 25,
    "start_time": "2023-12-01T11:26:40.597Z"
   },
   {
    "duration": 12,
    "start_time": "2023-12-01T11:26:40.624Z"
   },
   {
    "duration": 7,
    "start_time": "2023-12-01T11:26:40.638Z"
   },
   {
    "duration": 166,
    "start_time": "2023-12-01T11:26:40.647Z"
   },
   {
    "duration": 278,
    "start_time": "2023-12-01T11:27:12.822Z"
   },
   {
    "duration": 90,
    "start_time": "2023-12-01T11:27:52.903Z"
   },
   {
    "duration": 263,
    "start_time": "2023-12-01T11:27:58.144Z"
   },
   {
    "duration": 277,
    "start_time": "2023-12-01T11:28:12.776Z"
   },
   {
    "duration": 1161,
    "start_time": "2023-12-01T11:28:18.043Z"
   },
   {
    "duration": 94,
    "start_time": "2023-12-01T11:28:19.206Z"
   },
   {
    "duration": 30,
    "start_time": "2023-12-01T11:28:19.301Z"
   },
   {
    "duration": 15,
    "start_time": "2023-12-01T11:28:19.332Z"
   },
   {
    "duration": 1839,
    "start_time": "2023-12-01T11:28:19.349Z"
   },
   {
    "duration": 10,
    "start_time": "2023-12-01T11:28:21.190Z"
   },
   {
    "duration": 41,
    "start_time": "2023-12-01T11:28:21.201Z"
   },
   {
    "duration": 8,
    "start_time": "2023-12-01T11:28:21.243Z"
   },
   {
    "duration": 27,
    "start_time": "2023-12-01T11:28:21.252Z"
   },
   {
    "duration": 23,
    "start_time": "2023-12-01T11:28:21.280Z"
   },
   {
    "duration": 265,
    "start_time": "2023-12-01T11:28:21.304Z"
   },
   {
    "duration": 6,
    "start_time": "2023-12-01T11:28:21.571Z"
   },
   {
    "duration": 46,
    "start_time": "2023-12-01T11:28:21.579Z"
   },
   {
    "duration": 50,
    "start_time": "2023-12-01T11:28:21.629Z"
   },
   {
    "duration": 23,
    "start_time": "2023-12-01T11:28:21.680Z"
   },
   {
    "duration": 13,
    "start_time": "2023-12-01T11:28:21.704Z"
   },
   {
    "duration": 10,
    "start_time": "2023-12-01T11:28:21.719Z"
   },
   {
    "duration": 11,
    "start_time": "2023-12-01T11:28:21.730Z"
   },
   {
    "duration": 14,
    "start_time": "2023-12-01T11:28:21.743Z"
   },
   {
    "duration": 25,
    "start_time": "2023-12-01T11:28:21.759Z"
   },
   {
    "duration": 7,
    "start_time": "2023-12-01T11:28:21.785Z"
   },
   {
    "duration": 35,
    "start_time": "2023-12-01T11:28:21.794Z"
   },
   {
    "duration": 30,
    "start_time": "2023-12-01T11:28:21.831Z"
   },
   {
    "duration": 10,
    "start_time": "2023-12-01T11:28:21.863Z"
   },
   {
    "duration": 114,
    "start_time": "2023-12-01T11:28:21.874Z"
   },
   {
    "duration": 4,
    "start_time": "2023-12-01T11:28:21.990Z"
   },
   {
    "duration": 18,
    "start_time": "2023-12-01T11:28:21.996Z"
   },
   {
    "duration": 19,
    "start_time": "2023-12-01T11:28:22.015Z"
   },
   {
    "duration": 22,
    "start_time": "2023-12-01T11:28:22.035Z"
   },
   {
    "duration": 20,
    "start_time": "2023-12-01T11:28:22.059Z"
   },
   {
    "duration": 331,
    "start_time": "2023-12-01T11:28:22.080Z"
   },
   {
    "duration": 24,
    "start_time": "2023-12-01T11:28:22.412Z"
   },
   {
    "duration": 6,
    "start_time": "2023-12-01T11:28:22.437Z"
   },
   {
    "duration": 31,
    "start_time": "2023-12-01T11:28:22.445Z"
   },
   {
    "duration": 279,
    "start_time": "2023-12-01T11:28:22.477Z"
   },
   {
    "duration": 275,
    "start_time": "2023-12-01T11:28:22.757Z"
   },
   {
    "duration": 404,
    "start_time": "2023-12-01T11:28:23.034Z"
   },
   {
    "duration": 289,
    "start_time": "2023-12-01T11:28:23.440Z"
   },
   {
    "duration": 182,
    "start_time": "2023-12-01T11:28:23.731Z"
   },
   {
    "duration": 187,
    "start_time": "2023-12-01T11:28:23.914Z"
   },
   {
    "duration": 11,
    "start_time": "2023-12-01T11:28:24.104Z"
   },
   {
    "duration": 186,
    "start_time": "2023-12-01T11:28:24.117Z"
   },
   {
    "duration": 182,
    "start_time": "2023-12-01T11:28:24.305Z"
   },
   {
    "duration": 192,
    "start_time": "2023-12-01T11:28:24.489Z"
   },
   {
    "duration": 316,
    "start_time": "2023-12-01T11:28:24.683Z"
   },
   {
    "duration": 55,
    "start_time": "2023-12-01T11:28:25.001Z"
   },
   {
    "duration": 13,
    "start_time": "2023-12-01T11:28:25.058Z"
   },
   {
    "duration": 269,
    "start_time": "2023-12-01T11:28:25.072Z"
   },
   {
    "duration": 161,
    "start_time": "2023-12-01T11:28:25.343Z"
   },
   {
    "duration": 165,
    "start_time": "2023-12-01T11:28:25.505Z"
   },
   {
    "duration": 20,
    "start_time": "2023-12-01T11:28:25.671Z"
   },
   {
    "duration": 19,
    "start_time": "2023-12-01T11:28:25.692Z"
   },
   {
    "duration": 10,
    "start_time": "2023-12-01T11:28:25.713Z"
   },
   {
    "duration": 168,
    "start_time": "2023-12-01T11:28:25.724Z"
   },
   {
    "duration": 288,
    "start_time": "2023-12-01T11:31:17.750Z"
   },
   {
    "duration": 275,
    "start_time": "2023-12-01T11:31:29.347Z"
   },
   {
    "duration": 93,
    "start_time": "2023-12-01T11:33:02.828Z"
   },
   {
    "duration": 9,
    "start_time": "2023-12-01T11:33:15.343Z"
   },
   {
    "duration": 4,
    "start_time": "2023-12-01T11:33:52.336Z"
   },
   {
    "duration": 8,
    "start_time": "2023-12-01T11:34:02.700Z"
   },
   {
    "duration": 267,
    "start_time": "2023-12-01T11:44:00.089Z"
   },
   {
    "duration": 1252,
    "start_time": "2023-12-01T11:44:08.154Z"
   },
   {
    "duration": 95,
    "start_time": "2023-12-01T11:44:09.408Z"
   },
   {
    "duration": 30,
    "start_time": "2023-12-01T11:44:09.504Z"
   },
   {
    "duration": 19,
    "start_time": "2023-12-01T11:44:09.537Z"
   },
   {
    "duration": 1867,
    "start_time": "2023-12-01T11:44:09.557Z"
   },
   {
    "duration": 9,
    "start_time": "2023-12-01T11:44:11.426Z"
   },
   {
    "duration": 15,
    "start_time": "2023-12-01T11:44:11.436Z"
   },
   {
    "duration": 14,
    "start_time": "2023-12-01T11:44:11.453Z"
   },
   {
    "duration": 26,
    "start_time": "2023-12-01T11:44:11.469Z"
   },
   {
    "duration": 14,
    "start_time": "2023-12-01T11:44:11.498Z"
   },
   {
    "duration": 266,
    "start_time": "2023-12-01T11:44:11.514Z"
   },
   {
    "duration": 7,
    "start_time": "2023-12-01T11:44:11.782Z"
   },
   {
    "duration": 47,
    "start_time": "2023-12-01T11:44:11.790Z"
   },
   {
    "duration": 50,
    "start_time": "2023-12-01T11:44:11.838Z"
   },
   {
    "duration": 5,
    "start_time": "2023-12-01T11:44:11.889Z"
   },
   {
    "duration": 16,
    "start_time": "2023-12-01T11:44:11.895Z"
   },
   {
    "duration": 13,
    "start_time": "2023-12-01T11:44:11.913Z"
   },
   {
    "duration": 20,
    "start_time": "2023-12-01T11:44:11.927Z"
   },
   {
    "duration": 30,
    "start_time": "2023-12-01T11:44:11.949Z"
   },
   {
    "duration": 27,
    "start_time": "2023-12-01T11:44:11.980Z"
   },
   {
    "duration": 8,
    "start_time": "2023-12-01T11:44:12.009Z"
   },
   {
    "duration": 27,
    "start_time": "2023-12-01T11:44:12.018Z"
   },
   {
    "duration": 33,
    "start_time": "2023-12-01T11:44:12.047Z"
   },
   {
    "duration": 11,
    "start_time": "2023-12-01T11:44:12.081Z"
   },
   {
    "duration": 100,
    "start_time": "2023-12-01T11:44:12.093Z"
   },
   {
    "duration": 16,
    "start_time": "2023-12-01T11:44:12.195Z"
   },
   {
    "duration": 21,
    "start_time": "2023-12-01T11:44:12.212Z"
   },
   {
    "duration": 32,
    "start_time": "2023-12-01T11:44:12.238Z"
   },
   {
    "duration": 25,
    "start_time": "2023-12-01T11:44:12.272Z"
   },
   {
    "duration": 33,
    "start_time": "2023-12-01T11:44:12.298Z"
   },
   {
    "duration": 346,
    "start_time": "2023-12-01T11:44:12.332Z"
   },
   {
    "duration": 32,
    "start_time": "2023-12-01T11:44:12.679Z"
   },
   {
    "duration": 23,
    "start_time": "2023-12-01T11:44:12.712Z"
   },
   {
    "duration": 33,
    "start_time": "2023-12-01T11:44:12.737Z"
   },
   {
    "duration": 289,
    "start_time": "2023-12-01T11:44:12.771Z"
   },
   {
    "duration": 277,
    "start_time": "2023-12-01T11:44:13.061Z"
   },
   {
    "duration": 406,
    "start_time": "2023-12-01T11:44:13.340Z"
   },
   {
    "duration": 279,
    "start_time": "2023-12-01T11:44:13.748Z"
   },
   {
    "duration": 182,
    "start_time": "2023-12-01T11:44:14.029Z"
   },
   {
    "duration": 188,
    "start_time": "2023-12-01T11:44:14.213Z"
   },
   {
    "duration": 14,
    "start_time": "2023-12-01T11:44:14.403Z"
   },
   {
    "duration": 194,
    "start_time": "2023-12-01T11:44:14.419Z"
   },
   {
    "duration": 183,
    "start_time": "2023-12-01T11:44:14.614Z"
   },
   {
    "duration": 190,
    "start_time": "2023-12-01T11:44:14.799Z"
   },
   {
    "duration": 316,
    "start_time": "2023-12-01T11:44:14.991Z"
   },
   {
    "duration": 52,
    "start_time": "2023-12-01T11:44:15.310Z"
   },
   {
    "duration": 15,
    "start_time": "2023-12-01T11:44:15.364Z"
   },
   {
    "duration": 290,
    "start_time": "2023-12-01T11:44:15.381Z"
   },
   {
    "duration": 162,
    "start_time": "2023-12-01T11:44:15.673Z"
   },
   {
    "duration": 149,
    "start_time": "2023-12-01T11:44:15.836Z"
   },
   {
    "duration": 28,
    "start_time": "2023-12-01T11:44:15.987Z"
   },
   {
    "duration": 8,
    "start_time": "2023-12-01T11:44:16.016Z"
   },
   {
    "duration": 8,
    "start_time": "2023-12-01T11:44:16.026Z"
   },
   {
    "duration": 166,
    "start_time": "2023-12-01T11:44:16.035Z"
   },
   {
    "duration": 39,
    "start_time": "2023-12-01T11:54:53.526Z"
   },
   {
    "duration": 40,
    "start_time": "2023-12-01T11:55:05.331Z"
   },
   {
    "duration": 278,
    "start_time": "2023-12-01T11:56:02.198Z"
   },
   {
    "duration": 1094,
    "start_time": "2023-12-01T11:56:10.726Z"
   },
   {
    "duration": 101,
    "start_time": "2023-12-01T11:56:11.822Z"
   },
   {
    "duration": 32,
    "start_time": "2023-12-01T11:56:11.924Z"
   },
   {
    "duration": 15,
    "start_time": "2023-12-01T11:56:11.958Z"
   },
   {
    "duration": 1949,
    "start_time": "2023-12-01T11:56:11.975Z"
   },
   {
    "duration": 9,
    "start_time": "2023-12-01T11:56:13.926Z"
   },
   {
    "duration": 10,
    "start_time": "2023-12-01T11:56:13.936Z"
   },
   {
    "duration": 7,
    "start_time": "2023-12-01T11:56:13.947Z"
   },
   {
    "duration": 25,
    "start_time": "2023-12-01T11:56:13.956Z"
   },
   {
    "duration": 5,
    "start_time": "2023-12-01T11:56:13.984Z"
   },
   {
    "duration": 288,
    "start_time": "2023-12-01T11:56:13.990Z"
   },
   {
    "duration": 6,
    "start_time": "2023-12-01T11:56:14.279Z"
   },
   {
    "duration": 36,
    "start_time": "2023-12-01T11:56:14.287Z"
   },
   {
    "duration": 49,
    "start_time": "2023-12-01T11:56:14.325Z"
   },
   {
    "duration": 5,
    "start_time": "2023-12-01T11:56:14.376Z"
   },
   {
    "duration": 12,
    "start_time": "2023-12-01T11:56:14.383Z"
   },
   {
    "duration": 20,
    "start_time": "2023-12-01T11:56:14.397Z"
   },
   {
    "duration": 4,
    "start_time": "2023-12-01T11:56:14.419Z"
   },
   {
    "duration": 10,
    "start_time": "2023-12-01T11:56:14.424Z"
   },
   {
    "duration": 36,
    "start_time": "2023-12-01T11:56:14.436Z"
   },
   {
    "duration": 37,
    "start_time": "2023-12-01T11:56:14.474Z"
   },
   {
    "duration": 6,
    "start_time": "2023-12-01T11:56:14.513Z"
   },
   {
    "duration": 23,
    "start_time": "2023-12-01T11:56:14.521Z"
   },
   {
    "duration": 10,
    "start_time": "2023-12-01T11:56:14.546Z"
   },
   {
    "duration": 112,
    "start_time": "2023-12-01T11:56:14.557Z"
   },
   {
    "duration": 4,
    "start_time": "2023-12-01T11:56:14.671Z"
   },
   {
    "duration": 21,
    "start_time": "2023-12-01T11:56:14.677Z"
   },
   {
    "duration": 16,
    "start_time": "2023-12-01T11:56:14.702Z"
   },
   {
    "duration": 23,
    "start_time": "2023-12-01T11:56:14.719Z"
   },
   {
    "duration": 6,
    "start_time": "2023-12-01T11:56:14.744Z"
   },
   {
    "duration": 329,
    "start_time": "2023-12-01T11:56:14.752Z"
   },
   {
    "duration": 30,
    "start_time": "2023-12-01T11:56:15.083Z"
   },
   {
    "duration": 8,
    "start_time": "2023-12-01T11:56:15.115Z"
   },
   {
    "duration": 23,
    "start_time": "2023-12-01T11:56:15.125Z"
   },
   {
    "duration": 288,
    "start_time": "2023-12-01T11:56:15.149Z"
   },
   {
    "duration": 299,
    "start_time": "2023-12-01T11:56:15.440Z"
   },
   {
    "duration": 389,
    "start_time": "2023-12-01T11:56:15.740Z"
   },
   {
    "duration": 284,
    "start_time": "2023-12-01T11:56:16.130Z"
   },
   {
    "duration": 187,
    "start_time": "2023-12-01T11:56:16.416Z"
   },
   {
    "duration": 198,
    "start_time": "2023-12-01T11:56:16.604Z"
   },
   {
    "duration": 7,
    "start_time": "2023-12-01T11:56:16.804Z"
   },
   {
    "duration": 183,
    "start_time": "2023-12-01T11:56:16.813Z"
   },
   {
    "duration": 184,
    "start_time": "2023-12-01T11:56:16.998Z"
   },
   {
    "duration": 185,
    "start_time": "2023-12-01T11:56:17.184Z"
   },
   {
    "duration": 648,
    "start_time": "2023-12-01T11:56:17.371Z"
   },
   {
    "duration": 103,
    "start_time": "2023-12-01T11:56:18.020Z"
   },
   {
    "duration": 13,
    "start_time": "2023-12-01T11:56:18.125Z"
   },
   {
    "duration": 577,
    "start_time": "2023-12-01T11:56:18.140Z"
   },
   {
    "duration": 179,
    "start_time": "2023-12-01T11:56:18.719Z"
   },
   {
    "duration": 170,
    "start_time": "2023-12-01T11:56:18.900Z"
   },
   {
    "duration": 24,
    "start_time": "2023-12-01T11:56:19.072Z"
   },
   {
    "duration": 21,
    "start_time": "2023-12-01T11:56:19.097Z"
   },
   {
    "duration": 14,
    "start_time": "2023-12-01T11:56:19.120Z"
   },
   {
    "duration": 154,
    "start_time": "2023-12-01T11:56:19.135Z"
   },
   {
    "duration": 20,
    "start_time": "2023-12-01T11:57:07.486Z"
   },
   {
    "duration": 8,
    "start_time": "2023-12-01T11:58:58.041Z"
   },
   {
    "duration": 101,
    "start_time": "2023-12-01T12:00:10.097Z"
   },
   {
    "duration": 20,
    "start_time": "2023-12-01T13:37:58.336Z"
   },
   {
    "duration": 35,
    "start_time": "2023-12-01T13:38:20.869Z"
   },
   {
    "duration": 29,
    "start_time": "2023-12-01T13:38:33.498Z"
   },
   {
    "duration": 20,
    "start_time": "2023-12-01T13:38:50.291Z"
   },
   {
    "duration": 20,
    "start_time": "2023-12-01T13:39:20.503Z"
   },
   {
    "duration": 4,
    "start_time": "2023-12-01T13:45:45.661Z"
   },
   {
    "duration": 7,
    "start_time": "2023-12-01T13:46:20.431Z"
   },
   {
    "duration": 10,
    "start_time": "2023-12-01T13:46:36.431Z"
   },
   {
    "duration": 1151,
    "start_time": "2023-12-01T13:46:48.009Z"
   },
   {
    "duration": 96,
    "start_time": "2023-12-01T13:46:49.162Z"
   },
   {
    "duration": 29,
    "start_time": "2023-12-01T13:46:49.259Z"
   },
   {
    "duration": 31,
    "start_time": "2023-12-01T13:46:49.291Z"
   },
   {
    "duration": 1893,
    "start_time": "2023-12-01T13:46:49.323Z"
   },
   {
    "duration": 11,
    "start_time": "2023-12-01T13:46:51.218Z"
   },
   {
    "duration": 22,
    "start_time": "2023-12-01T13:46:51.231Z"
   },
   {
    "duration": 10,
    "start_time": "2023-12-01T13:46:51.255Z"
   },
   {
    "duration": 51,
    "start_time": "2023-12-01T13:46:51.267Z"
   },
   {
    "duration": 37,
    "start_time": "2023-12-01T13:46:51.321Z"
   },
   {
    "duration": 259,
    "start_time": "2023-12-01T13:46:51.359Z"
   },
   {
    "duration": 7,
    "start_time": "2023-12-01T13:46:51.620Z"
   },
   {
    "duration": 29,
    "start_time": "2023-12-01T13:46:51.629Z"
   },
   {
    "duration": 60,
    "start_time": "2023-12-01T13:46:51.660Z"
   },
   {
    "duration": 6,
    "start_time": "2023-12-01T13:46:51.722Z"
   },
   {
    "duration": 14,
    "start_time": "2023-12-01T13:46:51.730Z"
   },
   {
    "duration": 10,
    "start_time": "2023-12-01T13:46:51.746Z"
   },
   {
    "duration": 6,
    "start_time": "2023-12-01T13:46:51.757Z"
   },
   {
    "duration": 10,
    "start_time": "2023-12-01T13:46:51.764Z"
   },
   {
    "duration": 48,
    "start_time": "2023-12-01T13:46:51.775Z"
   },
   {
    "duration": 32,
    "start_time": "2023-12-01T13:46:51.825Z"
   },
   {
    "duration": 7,
    "start_time": "2023-12-01T13:46:51.858Z"
   },
   {
    "duration": 27,
    "start_time": "2023-12-01T13:46:51.866Z"
   },
   {
    "duration": 9,
    "start_time": "2023-12-01T13:46:51.895Z"
   },
   {
    "duration": 151,
    "start_time": "2023-12-01T13:46:51.905Z"
   },
   {
    "duration": 4,
    "start_time": "2023-12-01T13:46:52.057Z"
   },
   {
    "duration": 14,
    "start_time": "2023-12-01T13:46:52.062Z"
   },
   {
    "duration": 26,
    "start_time": "2023-12-01T13:46:52.079Z"
   },
   {
    "duration": 29,
    "start_time": "2023-12-01T13:46:52.107Z"
   },
   {
    "duration": 4,
    "start_time": "2023-12-01T13:46:52.137Z"
   },
   {
    "duration": 332,
    "start_time": "2023-12-01T13:46:52.142Z"
   },
   {
    "duration": 21,
    "start_time": "2023-12-01T13:46:52.476Z"
   },
   {
    "duration": 13,
    "start_time": "2023-12-01T13:46:52.498Z"
   },
   {
    "duration": 28,
    "start_time": "2023-12-01T13:46:52.512Z"
   },
   {
    "duration": 286,
    "start_time": "2023-12-01T13:46:52.541Z"
   },
   {
    "duration": 274,
    "start_time": "2023-12-01T13:46:52.829Z"
   },
   {
    "duration": 381,
    "start_time": "2023-12-01T13:46:53.104Z"
   },
   {
    "duration": 284,
    "start_time": "2023-12-01T13:46:53.487Z"
   },
   {
    "duration": 21,
    "start_time": "2023-12-01T13:46:53.773Z"
   },
   {
    "duration": 16,
    "start_time": "2023-12-01T13:46:53.796Z"
   },
   {
    "duration": 20,
    "start_time": "2023-12-01T13:46:53.814Z"
   },
   {
    "duration": 195,
    "start_time": "2023-12-01T13:46:53.835Z"
   },
   {
    "duration": 184,
    "start_time": "2023-12-01T13:46:54.031Z"
   },
   {
    "duration": 7,
    "start_time": "2023-12-01T13:46:54.216Z"
   },
   {
    "duration": 181,
    "start_time": "2023-12-01T13:46:54.224Z"
   },
   {
    "duration": 180,
    "start_time": "2023-12-01T13:46:54.406Z"
   },
   {
    "duration": 194,
    "start_time": "2023-12-01T13:46:54.588Z"
   },
   {
    "duration": 299,
    "start_time": "2023-12-01T13:46:54.783Z"
   },
   {
    "duration": 61,
    "start_time": "2023-12-01T13:46:55.083Z"
   },
   {
    "duration": 17,
    "start_time": "2023-12-01T13:46:55.145Z"
   },
   {
    "duration": 270,
    "start_time": "2023-12-01T13:46:55.164Z"
   },
   {
    "duration": 161,
    "start_time": "2023-12-01T13:46:55.435Z"
   },
   {
    "duration": 161,
    "start_time": "2023-12-01T13:46:55.598Z"
   },
   {
    "duration": 20,
    "start_time": "2023-12-01T13:46:55.760Z"
   },
   {
    "duration": 7,
    "start_time": "2023-12-01T13:46:55.781Z"
   },
   {
    "duration": 23,
    "start_time": "2023-12-01T13:46:55.789Z"
   },
   {
    "duration": 147,
    "start_time": "2023-12-01T13:46:55.814Z"
   },
   {
    "duration": 4,
    "start_time": "2023-12-01T13:49:43.625Z"
   },
   {
    "duration": 12,
    "start_time": "2023-12-01T13:49:46.112Z"
   },
   {
    "duration": 1097,
    "start_time": "2023-12-01T13:50:14.344Z"
   },
   {
    "duration": 96,
    "start_time": "2023-12-01T13:50:15.443Z"
   },
   {
    "duration": 32,
    "start_time": "2023-12-01T13:50:15.544Z"
   },
   {
    "duration": 36,
    "start_time": "2023-12-01T13:50:15.578Z"
   },
   {
    "duration": 2144,
    "start_time": "2023-12-01T13:50:15.616Z"
   },
   {
    "duration": 50,
    "start_time": "2023-12-01T13:50:17.762Z"
   },
   {
    "duration": 11,
    "start_time": "2023-12-01T13:50:17.814Z"
   },
   {
    "duration": 11,
    "start_time": "2023-12-01T13:50:17.827Z"
   },
   {
    "duration": 75,
    "start_time": "2023-12-01T13:50:17.840Z"
   },
   {
    "duration": 5,
    "start_time": "2023-12-01T13:50:17.917Z"
   },
   {
    "duration": 594,
    "start_time": "2023-12-01T13:50:17.924Z"
   },
   {
    "duration": 7,
    "start_time": "2023-12-01T13:50:18.520Z"
   },
   {
    "duration": 25,
    "start_time": "2023-12-01T13:50:18.529Z"
   },
   {
    "duration": 101,
    "start_time": "2023-12-01T13:50:18.556Z"
   },
   {
    "duration": 56,
    "start_time": "2023-12-01T13:50:18.658Z"
   },
   {
    "duration": 21,
    "start_time": "2023-12-01T13:50:18.716Z"
   },
   {
    "duration": 11,
    "start_time": "2023-12-01T13:50:18.739Z"
   },
   {
    "duration": 4,
    "start_time": "2023-12-01T13:50:18.752Z"
   },
   {
    "duration": 9,
    "start_time": "2023-12-01T13:50:18.757Z"
   },
   {
    "duration": 64,
    "start_time": "2023-12-01T13:50:18.768Z"
   },
   {
    "duration": 7,
    "start_time": "2023-12-01T13:50:18.833Z"
   },
   {
    "duration": 11,
    "start_time": "2023-12-01T13:50:18.842Z"
   },
   {
    "duration": 25,
    "start_time": "2023-12-01T13:50:18.855Z"
   },
   {
    "duration": 30,
    "start_time": "2023-12-01T13:50:18.881Z"
   },
   {
    "duration": 100,
    "start_time": "2023-12-01T13:50:18.913Z"
   },
   {
    "duration": 4,
    "start_time": "2023-12-01T13:50:19.014Z"
   },
   {
    "duration": 16,
    "start_time": "2023-12-01T13:50:19.021Z"
   },
   {
    "duration": 21,
    "start_time": "2023-12-01T13:50:19.038Z"
   },
   {
    "duration": 30,
    "start_time": "2023-12-01T13:50:19.061Z"
   },
   {
    "duration": 4,
    "start_time": "2023-12-01T13:50:19.092Z"
   },
   {
    "duration": 318,
    "start_time": "2023-12-01T13:50:19.097Z"
   },
   {
    "duration": 21,
    "start_time": "2023-12-01T13:50:19.416Z"
   },
   {
    "duration": 4,
    "start_time": "2023-12-01T13:50:19.438Z"
   },
   {
    "duration": 22,
    "start_time": "2023-12-01T13:50:19.443Z"
   },
   {
    "duration": 291,
    "start_time": "2023-12-01T13:50:19.467Z"
   },
   {
    "duration": 272,
    "start_time": "2023-12-01T13:50:19.760Z"
   },
   {
    "duration": 402,
    "start_time": "2023-12-01T13:50:20.033Z"
   },
   {
    "duration": 281,
    "start_time": "2023-12-01T13:50:20.436Z"
   },
   {
    "duration": 19,
    "start_time": "2023-12-01T13:50:20.719Z"
   },
   {
    "duration": 6,
    "start_time": "2023-12-01T13:50:20.739Z"
   },
   {
    "duration": 11,
    "start_time": "2023-12-01T13:50:20.746Z"
   },
   {
    "duration": 183,
    "start_time": "2023-12-01T13:50:20.758Z"
   },
   {
    "duration": 177,
    "start_time": "2023-12-01T13:50:20.942Z"
   },
   {
    "duration": 5,
    "start_time": "2023-12-01T13:50:21.121Z"
   },
   {
    "duration": 168,
    "start_time": "2023-12-01T13:50:21.127Z"
   },
   {
    "duration": 169,
    "start_time": "2023-12-01T13:50:21.296Z"
   },
   {
    "duration": 173,
    "start_time": "2023-12-01T13:50:21.467Z"
   },
   {
    "duration": 267,
    "start_time": "2023-12-01T13:50:21.641Z"
   },
   {
    "duration": 54,
    "start_time": "2023-12-01T13:50:21.910Z"
   },
   {
    "duration": 11,
    "start_time": "2023-12-01T13:50:21.966Z"
   },
   {
    "duration": 278,
    "start_time": "2023-12-01T13:50:21.979Z"
   },
   {
    "duration": 159,
    "start_time": "2023-12-01T13:50:22.258Z"
   },
   {
    "duration": 159,
    "start_time": "2023-12-01T13:50:22.418Z"
   },
   {
    "duration": 14,
    "start_time": "2023-12-01T13:50:22.579Z"
   },
   {
    "duration": 23,
    "start_time": "2023-12-01T13:50:22.594Z"
   },
   {
    "duration": 8,
    "start_time": "2023-12-01T13:50:22.618Z"
   },
   {
    "duration": 148,
    "start_time": "2023-12-01T13:50:22.627Z"
   },
   {
    "duration": 12,
    "start_time": "2023-12-01T13:52:05.275Z"
   },
   {
    "duration": 1052,
    "start_time": "2023-12-01T13:52:32.149Z"
   },
   {
    "duration": 97,
    "start_time": "2023-12-01T13:52:33.203Z"
   },
   {
    "duration": 31,
    "start_time": "2023-12-01T13:52:33.301Z"
   },
   {
    "duration": 14,
    "start_time": "2023-12-01T13:52:33.333Z"
   },
   {
    "duration": 2424,
    "start_time": "2023-12-01T13:52:33.349Z"
   },
   {
    "duration": 9,
    "start_time": "2023-12-01T13:52:35.812Z"
   },
   {
    "duration": 18,
    "start_time": "2023-12-01T13:52:35.822Z"
   },
   {
    "duration": 8,
    "start_time": "2023-12-01T13:52:35.841Z"
   },
   {
    "duration": 90,
    "start_time": "2023-12-01T13:52:35.850Z"
   },
   {
    "duration": 5,
    "start_time": "2023-12-01T13:52:35.941Z"
   },
   {
    "duration": 480,
    "start_time": "2023-12-01T13:52:35.947Z"
   },
   {
    "duration": 6,
    "start_time": "2023-12-01T13:52:36.429Z"
   },
   {
    "duration": 44,
    "start_time": "2023-12-01T13:52:36.437Z"
   },
   {
    "duration": 48,
    "start_time": "2023-12-01T13:52:36.484Z"
   },
   {
    "duration": 6,
    "start_time": "2023-12-01T13:52:36.533Z"
   },
   {
    "duration": 6,
    "start_time": "2023-12-01T13:52:36.540Z"
   },
   {
    "duration": 11,
    "start_time": "2023-12-01T13:52:36.547Z"
   },
   {
    "duration": 4,
    "start_time": "2023-12-01T13:52:36.559Z"
   },
   {
    "duration": 9,
    "start_time": "2023-12-01T13:52:36.564Z"
   },
   {
    "duration": 45,
    "start_time": "2023-12-01T13:52:36.575Z"
   },
   {
    "duration": 8,
    "start_time": "2023-12-01T13:52:36.621Z"
   },
   {
    "duration": 11,
    "start_time": "2023-12-01T13:52:36.631Z"
   },
   {
    "duration": 22,
    "start_time": "2023-12-01T13:52:36.644Z"
   },
   {
    "duration": 9,
    "start_time": "2023-12-01T13:52:36.667Z"
   },
   {
    "duration": 105,
    "start_time": "2023-12-01T13:52:36.677Z"
   },
   {
    "duration": 4,
    "start_time": "2023-12-01T13:52:36.783Z"
   },
   {
    "duration": 7,
    "start_time": "2023-12-01T13:52:36.788Z"
   },
   {
    "duration": 26,
    "start_time": "2023-12-01T13:52:36.796Z"
   },
   {
    "duration": 21,
    "start_time": "2023-12-01T13:52:36.824Z"
   },
   {
    "duration": 4,
    "start_time": "2023-12-01T13:52:36.846Z"
   },
   {
    "duration": 320,
    "start_time": "2023-12-01T13:52:36.851Z"
   },
   {
    "duration": 22,
    "start_time": "2023-12-01T13:52:37.173Z"
   },
   {
    "duration": 18,
    "start_time": "2023-12-01T13:52:37.197Z"
   },
   {
    "duration": 29,
    "start_time": "2023-12-01T13:52:37.217Z"
   },
   {
    "duration": 281,
    "start_time": "2023-12-01T13:52:37.248Z"
   },
   {
    "duration": 283,
    "start_time": "2023-12-01T13:52:37.530Z"
   },
   {
    "duration": 386,
    "start_time": "2023-12-01T13:52:37.814Z"
   },
   {
    "duration": 291,
    "start_time": "2023-12-01T13:52:38.202Z"
   },
   {
    "duration": 28,
    "start_time": "2023-12-01T13:52:38.495Z"
   },
   {
    "duration": 19,
    "start_time": "2023-12-01T13:52:38.525Z"
   },
   {
    "duration": 188,
    "start_time": "2023-12-01T13:52:38.548Z"
   },
   {
    "duration": 188,
    "start_time": "2023-12-01T13:52:38.737Z"
   },
   {
    "duration": 7,
    "start_time": "2023-12-01T13:52:38.927Z"
   },
   {
    "duration": 185,
    "start_time": "2023-12-01T13:52:38.936Z"
   },
   {
    "duration": 179,
    "start_time": "2023-12-01T13:52:39.122Z"
   },
   {
    "duration": 199,
    "start_time": "2023-12-01T13:52:39.302Z"
   },
   {
    "duration": 317,
    "start_time": "2023-12-01T13:52:39.510Z"
   },
   {
    "duration": 49,
    "start_time": "2023-12-01T13:52:39.829Z"
   },
   {
    "duration": 14,
    "start_time": "2023-12-01T13:52:39.880Z"
   },
   {
    "duration": 281,
    "start_time": "2023-12-01T13:52:39.895Z"
   },
   {
    "duration": 167,
    "start_time": "2023-12-01T13:52:40.177Z"
   },
   {
    "duration": 157,
    "start_time": "2023-12-01T13:52:40.345Z"
   },
   {
    "duration": 26,
    "start_time": "2023-12-01T13:52:40.503Z"
   },
   {
    "duration": 7,
    "start_time": "2023-12-01T13:52:40.530Z"
   },
   {
    "duration": 12,
    "start_time": "2023-12-01T13:52:40.539Z"
   },
   {
    "duration": 181,
    "start_time": "2023-12-01T13:52:40.553Z"
   },
   {
    "duration": 39,
    "start_time": "2023-12-01T13:56:00.055Z"
   },
   {
    "duration": 19,
    "start_time": "2023-12-01T13:56:20.426Z"
   },
   {
    "duration": 4,
    "start_time": "2023-12-01T13:58:27.566Z"
   },
   {
    "duration": 11,
    "start_time": "2023-12-01T13:58:38.372Z"
   },
   {
    "duration": 10,
    "start_time": "2023-12-01T13:58:41.895Z"
   },
   {
    "duration": 1111,
    "start_time": "2023-12-01T13:58:45.489Z"
   },
   {
    "duration": 93,
    "start_time": "2023-12-01T13:58:46.601Z"
   },
   {
    "duration": 27,
    "start_time": "2023-12-01T13:58:46.696Z"
   },
   {
    "duration": 12,
    "start_time": "2023-12-01T13:58:46.725Z"
   },
   {
    "duration": 1913,
    "start_time": "2023-12-01T13:58:46.739Z"
   },
   {
    "duration": 10,
    "start_time": "2023-12-01T13:58:48.653Z"
   },
   {
    "duration": 10,
    "start_time": "2023-12-01T13:58:48.665Z"
   },
   {
    "duration": 7,
    "start_time": "2023-12-01T13:58:48.676Z"
   },
   {
    "duration": 41,
    "start_time": "2023-12-01T13:58:48.685Z"
   },
   {
    "duration": 5,
    "start_time": "2023-12-01T13:58:48.728Z"
   },
   {
    "duration": 489,
    "start_time": "2023-12-01T13:58:48.734Z"
   },
   {
    "duration": 7,
    "start_time": "2023-12-01T13:58:49.225Z"
   },
   {
    "duration": 78,
    "start_time": "2023-12-01T13:58:49.234Z"
   },
   {
    "duration": 99,
    "start_time": "2023-12-01T13:58:49.313Z"
   },
   {
    "duration": 5,
    "start_time": "2023-12-01T13:58:49.414Z"
   },
   {
    "duration": 5,
    "start_time": "2023-12-01T13:58:49.420Z"
   },
   {
    "duration": 8,
    "start_time": "2023-12-01T13:58:49.426Z"
   },
   {
    "duration": 13,
    "start_time": "2023-12-01T13:58:49.435Z"
   },
   {
    "duration": 9,
    "start_time": "2023-12-01T13:58:49.449Z"
   },
   {
    "duration": 22,
    "start_time": "2023-12-01T13:58:49.511Z"
   },
   {
    "duration": 6,
    "start_time": "2023-12-01T13:58:49.534Z"
   },
   {
    "duration": 5,
    "start_time": "2023-12-01T13:58:49.542Z"
   },
   {
    "duration": 71,
    "start_time": "2023-12-01T13:58:49.548Z"
   },
   {
    "duration": 9,
    "start_time": "2023-12-01T13:58:49.621Z"
   },
   {
    "duration": 215,
    "start_time": "2023-12-01T13:58:49.632Z"
   },
   {
    "duration": 5,
    "start_time": "2023-12-01T13:58:49.848Z"
   },
   {
    "duration": 60,
    "start_time": "2023-12-01T13:58:49.854Z"
   },
   {
    "duration": 26,
    "start_time": "2023-12-01T13:58:49.918Z"
   },
   {
    "duration": 66,
    "start_time": "2023-12-01T13:58:49.945Z"
   },
   {
    "duration": 2,
    "start_time": "2023-12-01T13:58:50.013Z"
   },
   {
    "duration": 488,
    "start_time": "2023-12-01T13:58:50.017Z"
   },
   {
    "duration": 23,
    "start_time": "2023-12-01T13:58:50.506Z"
   },
   {
    "duration": 4,
    "start_time": "2023-12-01T13:58:50.530Z"
   },
   {
    "duration": 22,
    "start_time": "2023-12-01T13:58:50.535Z"
   },
   {
    "duration": 290,
    "start_time": "2023-12-01T13:58:50.559Z"
   },
   {
    "duration": 266,
    "start_time": "2023-12-01T13:58:50.850Z"
   },
   {
    "duration": 373,
    "start_time": "2023-12-01T13:58:51.117Z"
   },
   {
    "duration": 272,
    "start_time": "2023-12-01T13:58:51.492Z"
   },
   {
    "duration": 19,
    "start_time": "2023-12-01T13:58:51.765Z"
   },
   {
    "duration": 3,
    "start_time": "2023-12-01T13:58:51.786Z"
   },
   {
    "duration": 25,
    "start_time": "2023-12-01T13:58:51.791Z"
   },
   {
    "duration": 167,
    "start_time": "2023-12-01T13:58:51.817Z"
   },
   {
    "duration": 175,
    "start_time": "2023-12-01T13:58:51.986Z"
   },
   {
    "duration": 5,
    "start_time": "2023-12-01T13:58:52.163Z"
   },
   {
    "duration": 167,
    "start_time": "2023-12-01T13:58:52.169Z"
   },
   {
    "duration": 175,
    "start_time": "2023-12-01T13:58:52.338Z"
   },
   {
    "duration": 176,
    "start_time": "2023-12-01T13:58:52.514Z"
   },
   {
    "duration": 252,
    "start_time": "2023-12-01T13:58:52.692Z"
   },
   {
    "duration": 48,
    "start_time": "2023-12-01T13:58:52.945Z"
   },
   {
    "duration": 25,
    "start_time": "2023-12-01T13:58:52.995Z"
   },
   {
    "duration": 259,
    "start_time": "2023-12-01T13:58:53.022Z"
   },
   {
    "duration": 166,
    "start_time": "2023-12-01T13:58:53.283Z"
   },
   {
    "duration": 178,
    "start_time": "2023-12-01T13:58:53.451Z"
   },
   {
    "duration": 15,
    "start_time": "2023-12-01T13:58:53.631Z"
   },
   {
    "duration": 7,
    "start_time": "2023-12-01T13:58:53.648Z"
   },
   {
    "duration": 9,
    "start_time": "2023-12-01T13:58:53.657Z"
   },
   {
    "duration": 149,
    "start_time": "2023-12-01T13:58:53.667Z"
   },
   {
    "duration": 1164,
    "start_time": "2023-12-01T13:59:55.197Z"
   },
   {
    "duration": 96,
    "start_time": "2023-12-01T13:59:56.363Z"
   },
   {
    "duration": 31,
    "start_time": "2023-12-01T13:59:56.460Z"
   },
   {
    "duration": 26,
    "start_time": "2023-12-01T13:59:56.492Z"
   },
   {
    "duration": 1876,
    "start_time": "2023-12-01T13:59:56.520Z"
   },
   {
    "duration": 9,
    "start_time": "2023-12-01T13:59:58.398Z"
   },
   {
    "duration": 16,
    "start_time": "2023-12-01T13:59:58.408Z"
   },
   {
    "duration": 19,
    "start_time": "2023-12-01T13:59:58.425Z"
   },
   {
    "duration": 30,
    "start_time": "2023-12-01T13:59:58.445Z"
   },
   {
    "duration": 12,
    "start_time": "2023-12-01T13:59:58.477Z"
   },
   {
    "duration": 454,
    "start_time": "2023-12-01T13:59:58.491Z"
   },
   {
    "duration": 6,
    "start_time": "2023-12-01T13:59:58.947Z"
   },
   {
    "duration": 77,
    "start_time": "2023-12-01T13:59:58.954Z"
   },
   {
    "duration": 102,
    "start_time": "2023-12-01T13:59:59.034Z"
   },
   {
    "duration": 5,
    "start_time": "2023-12-01T13:59:59.138Z"
   },
   {
    "duration": 6,
    "start_time": "2023-12-01T13:59:59.144Z"
   },
   {
    "duration": 60,
    "start_time": "2023-12-01T13:59:59.151Z"
   },
   {
    "duration": 4,
    "start_time": "2023-12-01T13:59:59.213Z"
   },
   {
    "duration": 11,
    "start_time": "2023-12-01T13:59:59.218Z"
   },
   {
    "duration": 22,
    "start_time": "2023-12-01T13:59:59.231Z"
   },
   {
    "duration": 60,
    "start_time": "2023-12-01T13:59:59.255Z"
   },
   {
    "duration": 7,
    "start_time": "2023-12-01T13:59:59.316Z"
   },
   {
    "duration": 30,
    "start_time": "2023-12-01T13:59:59.324Z"
   },
   {
    "duration": 55,
    "start_time": "2023-12-01T13:59:59.356Z"
   },
   {
    "duration": 140,
    "start_time": "2023-12-01T13:59:59.413Z"
   },
   {
    "duration": 4,
    "start_time": "2023-12-01T13:59:59.555Z"
   },
   {
    "duration": 5,
    "start_time": "2023-12-01T13:59:59.611Z"
   },
   {
    "duration": 18,
    "start_time": "2023-12-01T13:59:59.618Z"
   },
   {
    "duration": 27,
    "start_time": "2023-12-01T13:59:59.637Z"
   },
   {
    "duration": 3,
    "start_time": "2023-12-01T13:59:59.711Z"
   },
   {
    "duration": 523,
    "start_time": "2023-12-01T13:59:59.716Z"
   },
   {
    "duration": 34,
    "start_time": "2023-12-01T14:00:00.241Z"
   },
   {
    "duration": 39,
    "start_time": "2023-12-01T14:00:00.277Z"
   },
   {
    "duration": 44,
    "start_time": "2023-12-01T14:00:00.318Z"
   },
   {
    "duration": 316,
    "start_time": "2023-12-01T14:00:00.364Z"
   },
   {
    "duration": 281,
    "start_time": "2023-12-01T14:00:00.681Z"
   },
   {
    "duration": 405,
    "start_time": "2023-12-01T14:00:00.964Z"
   },
   {
    "duration": 303,
    "start_time": "2023-12-01T14:00:01.371Z"
   },
   {
    "duration": 22,
    "start_time": "2023-12-01T14:00:01.675Z"
   },
   {
    "duration": 61,
    "start_time": "2023-12-01T14:00:01.698Z"
   },
   {
    "duration": 246,
    "start_time": "2023-12-01T14:00:01.763Z"
   },
   {
    "duration": 197,
    "start_time": "2023-12-01T14:00:02.011Z"
   },
   {
    "duration": 8,
    "start_time": "2023-12-01T14:00:02.211Z"
   },
   {
    "duration": 194,
    "start_time": "2023-12-01T14:00:02.220Z"
   },
   {
    "duration": 199,
    "start_time": "2023-12-01T14:00:02.416Z"
   },
   {
    "duration": 184,
    "start_time": "2023-12-01T14:00:02.617Z"
   },
   {
    "duration": 309,
    "start_time": "2023-12-01T14:00:02.803Z"
   },
   {
    "duration": 53,
    "start_time": "2023-12-01T14:00:03.114Z"
   },
   {
    "duration": 14,
    "start_time": "2023-12-01T14:00:03.168Z"
   },
   {
    "duration": 277,
    "start_time": "2023-12-01T14:00:03.183Z"
   },
   {
    "duration": 164,
    "start_time": "2023-12-01T14:00:03.461Z"
   },
   {
    "duration": 166,
    "start_time": "2023-12-01T14:00:03.627Z"
   },
   {
    "duration": 27,
    "start_time": "2023-12-01T14:00:03.795Z"
   },
   {
    "duration": 7,
    "start_time": "2023-12-01T14:00:03.824Z"
   },
   {
    "duration": 23,
    "start_time": "2023-12-01T14:00:03.832Z"
   },
   {
    "duration": 155,
    "start_time": "2023-12-01T14:00:03.856Z"
   },
   {
    "duration": 20,
    "start_time": "2023-12-01T14:03:15.436Z"
   },
   {
    "duration": 17,
    "start_time": "2023-12-01T14:03:27.722Z"
   },
   {
    "duration": 7,
    "start_time": "2023-12-01T14:04:13.499Z"
   },
   {
    "duration": 1145,
    "start_time": "2023-12-01T14:04:19.444Z"
   },
   {
    "duration": 95,
    "start_time": "2023-12-01T14:04:20.591Z"
   },
   {
    "duration": 28,
    "start_time": "2023-12-01T14:04:20.688Z"
   },
   {
    "duration": 14,
    "start_time": "2023-12-01T14:04:20.717Z"
   },
   {
    "duration": 2608,
    "start_time": "2023-12-01T14:04:20.732Z"
   },
   {
    "duration": 9,
    "start_time": "2023-12-01T14:04:23.342Z"
   },
   {
    "duration": 10,
    "start_time": "2023-12-01T14:04:23.352Z"
   },
   {
    "duration": 7,
    "start_time": "2023-12-01T14:04:23.364Z"
   },
   {
    "duration": 25,
    "start_time": "2023-12-01T14:04:23.372Z"
   },
   {
    "duration": 15,
    "start_time": "2023-12-01T14:04:23.399Z"
   },
   {
    "duration": 296,
    "start_time": "2023-12-01T14:04:23.415Z"
   },
   {
    "duration": 6,
    "start_time": "2023-12-01T14:04:23.712Z"
   },
   {
    "duration": 22,
    "start_time": "2023-12-01T14:04:23.720Z"
   },
   {
    "duration": 66,
    "start_time": "2023-12-01T14:04:23.745Z"
   },
   {
    "duration": 5,
    "start_time": "2023-12-01T14:04:23.812Z"
   },
   {
    "duration": 4,
    "start_time": "2023-12-01T14:04:23.819Z"
   },
   {
    "duration": 8,
    "start_time": "2023-12-01T14:04:23.825Z"
   },
   {
    "duration": 13,
    "start_time": "2023-12-01T14:04:23.835Z"
   },
   {
    "duration": 10,
    "start_time": "2023-12-01T14:04:23.850Z"
   },
   {
    "duration": 22,
    "start_time": "2023-12-01T14:04:23.862Z"
   },
   {
    "duration": 31,
    "start_time": "2023-12-01T14:04:23.886Z"
   },
   {
    "duration": 5,
    "start_time": "2023-12-01T14:04:23.919Z"
   },
   {
    "duration": 31,
    "start_time": "2023-12-01T14:04:23.925Z"
   },
   {
    "duration": 9,
    "start_time": "2023-12-01T14:04:23.957Z"
   },
   {
    "duration": 118,
    "start_time": "2023-12-01T14:04:23.968Z"
   },
   {
    "duration": 4,
    "start_time": "2023-12-01T14:04:24.087Z"
   },
   {
    "duration": 5,
    "start_time": "2023-12-01T14:04:24.092Z"
   },
   {
    "duration": 12,
    "start_time": "2023-12-01T14:04:24.110Z"
   },
   {
    "duration": 22,
    "start_time": "2023-12-01T14:04:24.123Z"
   },
   {
    "duration": 17,
    "start_time": "2023-12-01T14:04:24.147Z"
   },
   {
    "duration": 322,
    "start_time": "2023-12-01T14:04:24.166Z"
   },
   {
    "duration": 25,
    "start_time": "2023-12-01T14:04:24.490Z"
   },
   {
    "duration": 3,
    "start_time": "2023-12-01T14:04:24.517Z"
   },
   {
    "duration": 23,
    "start_time": "2023-12-01T14:04:24.522Z"
   },
   {
    "duration": 306,
    "start_time": "2023-12-01T14:04:24.547Z"
   },
   {
    "duration": 274,
    "start_time": "2023-12-01T14:04:24.855Z"
   },
   {
    "duration": 407,
    "start_time": "2023-12-01T14:04:25.131Z"
   },
   {
    "duration": 289,
    "start_time": "2023-12-01T14:04:25.539Z"
   },
   {
    "duration": 26,
    "start_time": "2023-12-01T14:04:25.829Z"
   },
   {
    "duration": 4,
    "start_time": "2023-12-01T14:04:25.857Z"
   },
   {
    "duration": 47,
    "start_time": "2023-12-01T14:04:25.867Z"
   },
   {
    "duration": 5,
    "start_time": "2023-12-01T14:04:25.915Z"
   },
   {
    "duration": 196,
    "start_time": "2023-12-01T14:04:25.922Z"
   },
   {
    "duration": 194,
    "start_time": "2023-12-01T14:04:26.120Z"
   },
   {
    "duration": 7,
    "start_time": "2023-12-01T14:04:26.316Z"
   },
   {
    "duration": 197,
    "start_time": "2023-12-01T14:04:26.324Z"
   },
   {
    "duration": 182,
    "start_time": "2023-12-01T14:04:26.523Z"
   },
   {
    "duration": 190,
    "start_time": "2023-12-01T14:04:26.710Z"
   },
   {
    "duration": 323,
    "start_time": "2023-12-01T14:04:26.902Z"
   },
   {
    "duration": 54,
    "start_time": "2023-12-01T14:04:27.226Z"
   },
   {
    "duration": 15,
    "start_time": "2023-12-01T14:04:27.281Z"
   },
   {
    "duration": 262,
    "start_time": "2023-12-01T14:04:27.311Z"
   },
   {
    "duration": 179,
    "start_time": "2023-12-01T14:04:27.574Z"
   },
   {
    "duration": 162,
    "start_time": "2023-12-01T14:04:27.754Z"
   },
   {
    "duration": 19,
    "start_time": "2023-12-01T14:04:27.918Z"
   },
   {
    "duration": 7,
    "start_time": "2023-12-01T14:04:27.939Z"
   },
   {
    "duration": 8,
    "start_time": "2023-12-01T14:04:27.948Z"
   },
   {
    "duration": 180,
    "start_time": "2023-12-01T14:04:27.957Z"
   },
   {
    "duration": 6,
    "start_time": "2023-12-01T14:05:23.191Z"
   },
   {
    "duration": 10,
    "start_time": "2023-12-01T14:05:29.932Z"
   },
   {
    "duration": 10,
    "start_time": "2023-12-01T14:05:58.213Z"
   },
   {
    "duration": 276,
    "start_time": "2023-12-01T14:06:13.572Z"
   },
   {
    "duration": 9,
    "start_time": "2023-12-01T14:06:20.794Z"
   },
   {
    "duration": 9,
    "start_time": "2023-12-01T14:06:23.121Z"
   },
   {
    "duration": 2,
    "start_time": "2023-12-01T14:06:56.137Z"
   },
   {
    "duration": 108,
    "start_time": "2023-12-01T14:09:09.332Z"
   },
   {
    "duration": 287,
    "start_time": "2023-12-01T14:09:20.652Z"
   },
   {
    "duration": 1068,
    "start_time": "2023-12-01T14:10:12.640Z"
   },
   {
    "duration": 99,
    "start_time": "2023-12-01T14:10:13.710Z"
   },
   {
    "duration": 31,
    "start_time": "2023-12-01T14:10:13.810Z"
   },
   {
    "duration": 14,
    "start_time": "2023-12-01T14:10:13.843Z"
   },
   {
    "duration": 1869,
    "start_time": "2023-12-01T14:10:13.859Z"
   },
   {
    "duration": 9,
    "start_time": "2023-12-01T14:10:15.730Z"
   },
   {
    "duration": 13,
    "start_time": "2023-12-01T14:10:15.741Z"
   },
   {
    "duration": 24,
    "start_time": "2023-12-01T14:10:15.755Z"
   },
   {
    "duration": 38,
    "start_time": "2023-12-01T14:10:15.780Z"
   },
   {
    "duration": 5,
    "start_time": "2023-12-01T14:10:15.820Z"
   },
   {
    "duration": 293,
    "start_time": "2023-12-01T14:10:15.827Z"
   },
   {
    "duration": 6,
    "start_time": "2023-12-01T14:10:16.121Z"
   },
   {
    "duration": 31,
    "start_time": "2023-12-01T14:10:16.129Z"
   },
   {
    "duration": 74,
    "start_time": "2023-12-01T14:10:16.162Z"
   },
   {
    "duration": 6,
    "start_time": "2023-12-01T14:10:16.239Z"
   },
   {
    "duration": 4,
    "start_time": "2023-12-01T14:10:16.247Z"
   },
   {
    "duration": 14,
    "start_time": "2023-12-01T14:10:16.253Z"
   },
   {
    "duration": 7,
    "start_time": "2023-12-01T14:10:16.268Z"
   },
   {
    "duration": 10,
    "start_time": "2023-12-01T14:10:16.276Z"
   },
   {
    "duration": 24,
    "start_time": "2023-12-01T14:10:16.311Z"
   },
   {
    "duration": 8,
    "start_time": "2023-12-01T14:10:16.337Z"
   },
   {
    "duration": 39,
    "start_time": "2023-12-01T14:10:16.346Z"
   },
   {
    "duration": 25,
    "start_time": "2023-12-01T14:10:16.387Z"
   },
   {
    "duration": 10,
    "start_time": "2023-12-01T14:10:16.413Z"
   },
   {
    "duration": 105,
    "start_time": "2023-12-01T14:10:16.424Z"
   },
   {
    "duration": 4,
    "start_time": "2023-12-01T14:10:16.531Z"
   },
   {
    "duration": 10,
    "start_time": "2023-12-01T14:10:16.536Z"
   },
   {
    "duration": 28,
    "start_time": "2023-12-01T14:10:16.549Z"
   },
   {
    "duration": 23,
    "start_time": "2023-12-01T14:10:16.578Z"
   },
   {
    "duration": 23,
    "start_time": "2023-12-01T14:10:16.602Z"
   },
   {
    "duration": 325,
    "start_time": "2023-12-01T14:10:16.627Z"
   },
   {
    "duration": 22,
    "start_time": "2023-12-01T14:10:16.954Z"
   },
   {
    "duration": 14,
    "start_time": "2023-12-01T14:10:16.977Z"
   },
   {
    "duration": 37,
    "start_time": "2023-12-01T14:10:16.992Z"
   },
   {
    "duration": 327,
    "start_time": "2023-12-01T14:10:17.030Z"
   },
   {
    "duration": 305,
    "start_time": "2023-12-01T14:10:17.359Z"
   },
   {
    "duration": 416,
    "start_time": "2023-12-01T14:10:17.665Z"
   },
   {
    "duration": 292,
    "start_time": "2023-12-01T14:10:18.082Z"
   },
   {
    "duration": 23,
    "start_time": "2023-12-01T14:10:18.375Z"
   },
   {
    "duration": 12,
    "start_time": "2023-12-01T14:10:18.400Z"
   },
   {
    "duration": 20,
    "start_time": "2023-12-01T14:10:18.414Z"
   },
   {
    "duration": 8,
    "start_time": "2023-12-01T14:10:18.435Z"
   },
   {
    "duration": 206,
    "start_time": "2023-12-01T14:10:18.444Z"
   },
   {
    "duration": 185,
    "start_time": "2023-12-01T14:10:18.651Z"
   },
   {
    "duration": 7,
    "start_time": "2023-12-01T14:10:18.838Z"
   },
   {
    "duration": 209,
    "start_time": "2023-12-01T14:10:18.846Z"
   },
   {
    "duration": 194,
    "start_time": "2023-12-01T14:10:19.057Z"
   },
   {
    "duration": 205,
    "start_time": "2023-12-01T14:10:19.253Z"
   },
   {
    "duration": 321,
    "start_time": "2023-12-01T14:10:19.460Z"
   },
   {
    "duration": 56,
    "start_time": "2023-12-01T14:10:19.783Z"
   },
   {
    "duration": 14,
    "start_time": "2023-12-01T14:10:19.841Z"
   },
   {
    "duration": 275,
    "start_time": "2023-12-01T14:10:19.856Z"
   },
   {
    "duration": 168,
    "start_time": "2023-12-01T14:10:20.133Z"
   },
   {
    "duration": 162,
    "start_time": "2023-12-01T14:10:20.302Z"
   },
   {
    "duration": 45,
    "start_time": "2023-12-01T14:10:20.466Z"
   },
   {
    "duration": 8,
    "start_time": "2023-12-01T14:10:20.513Z"
   },
   {
    "duration": 21,
    "start_time": "2023-12-01T14:10:20.523Z"
   },
   {
    "duration": 175,
    "start_time": "2023-12-01T14:10:20.546Z"
   },
   {
    "duration": 288,
    "start_time": "2023-12-01T14:15:03.903Z"
   },
   {
    "duration": 1184,
    "start_time": "2023-12-01T14:15:14.611Z"
   },
   {
    "duration": 97,
    "start_time": "2023-12-01T14:15:15.796Z"
   },
   {
    "duration": 32,
    "start_time": "2023-12-01T14:15:15.894Z"
   },
   {
    "duration": 13,
    "start_time": "2023-12-01T14:15:15.928Z"
   },
   {
    "duration": 1881,
    "start_time": "2023-12-01T14:15:15.943Z"
   },
   {
    "duration": 9,
    "start_time": "2023-12-01T14:15:17.826Z"
   },
   {
    "duration": 10,
    "start_time": "2023-12-01T14:15:17.837Z"
   },
   {
    "duration": 8,
    "start_time": "2023-12-01T14:15:17.849Z"
   },
   {
    "duration": 26,
    "start_time": "2023-12-01T14:15:17.858Z"
   },
   {
    "duration": 25,
    "start_time": "2023-12-01T14:15:17.886Z"
   },
   {
    "duration": 262,
    "start_time": "2023-12-01T14:15:17.913Z"
   },
   {
    "duration": 6,
    "start_time": "2023-12-01T14:15:18.176Z"
   },
   {
    "duration": 33,
    "start_time": "2023-12-01T14:15:18.184Z"
   },
   {
    "duration": 49,
    "start_time": "2023-12-01T14:15:18.218Z"
   },
   {
    "duration": 5,
    "start_time": "2023-12-01T14:15:18.269Z"
   },
   {
    "duration": 4,
    "start_time": "2023-12-01T14:15:18.276Z"
   },
   {
    "duration": 31,
    "start_time": "2023-12-01T14:15:18.281Z"
   },
   {
    "duration": 4,
    "start_time": "2023-12-01T14:15:18.314Z"
   },
   {
    "duration": 10,
    "start_time": "2023-12-01T14:15:18.319Z"
   },
   {
    "duration": 23,
    "start_time": "2023-12-01T14:15:18.330Z"
   },
   {
    "duration": 8,
    "start_time": "2023-12-01T14:15:18.355Z"
   },
   {
    "duration": 6,
    "start_time": "2023-12-01T14:15:18.364Z"
   },
   {
    "duration": 57,
    "start_time": "2023-12-01T14:15:18.372Z"
   },
   {
    "duration": 18,
    "start_time": "2023-12-01T14:15:18.430Z"
   },
   {
    "duration": 110,
    "start_time": "2023-12-01T14:15:18.449Z"
   },
   {
    "duration": 5,
    "start_time": "2023-12-01T14:15:18.561Z"
   },
   {
    "duration": 14,
    "start_time": "2023-12-01T14:15:18.568Z"
   },
   {
    "duration": 26,
    "start_time": "2023-12-01T14:15:18.587Z"
   },
   {
    "duration": 29,
    "start_time": "2023-12-01T14:15:18.615Z"
   },
   {
    "duration": 3,
    "start_time": "2023-12-01T14:15:18.646Z"
   },
   {
    "duration": 347,
    "start_time": "2023-12-01T14:15:18.651Z"
   },
   {
    "duration": 28,
    "start_time": "2023-12-01T14:15:18.999Z"
   },
   {
    "duration": 14,
    "start_time": "2023-12-01T14:15:19.028Z"
   },
   {
    "duration": 41,
    "start_time": "2023-12-01T14:15:19.044Z"
   },
   {
    "duration": 282,
    "start_time": "2023-12-01T14:15:19.087Z"
   },
   {
    "duration": 278,
    "start_time": "2023-12-01T14:15:19.371Z"
   },
   {
    "duration": 405,
    "start_time": "2023-12-01T14:15:19.651Z"
   },
   {
    "duration": 286,
    "start_time": "2023-12-01T14:15:20.058Z"
   },
   {
    "duration": 37,
    "start_time": "2023-12-01T14:15:20.346Z"
   },
   {
    "duration": 4,
    "start_time": "2023-12-01T14:15:20.385Z"
   },
   {
    "duration": 37,
    "start_time": "2023-12-01T14:15:20.391Z"
   },
   {
    "duration": 35,
    "start_time": "2023-12-01T14:15:20.430Z"
   },
   {
    "duration": 183,
    "start_time": "2023-12-01T14:15:20.467Z"
   },
   {
    "duration": 192,
    "start_time": "2023-12-01T14:15:20.652Z"
   },
   {
    "duration": 7,
    "start_time": "2023-12-01T14:15:20.846Z"
   },
   {
    "duration": 403,
    "start_time": "2023-12-01T14:15:20.855Z"
   },
   {
    "duration": 398,
    "start_time": "2023-12-01T14:15:21.260Z"
   },
   {
    "duration": 343,
    "start_time": "2023-12-01T14:15:21.711Z"
   },
   {
    "duration": 478,
    "start_time": "2023-12-01T14:15:22.055Z"
   },
   {
    "duration": 51,
    "start_time": "2023-12-01T14:15:22.535Z"
   },
   {
    "duration": 30,
    "start_time": "2023-12-01T14:15:22.587Z"
   },
   {
    "duration": 247,
    "start_time": "2023-12-01T14:15:22.619Z"
   },
   {
    "duration": 154,
    "start_time": "2023-12-01T14:15:22.867Z"
   },
   {
    "duration": 151,
    "start_time": "2023-12-01T14:15:23.022Z"
   },
   {
    "duration": 37,
    "start_time": "2023-12-01T14:15:23.175Z"
   },
   {
    "duration": 7,
    "start_time": "2023-12-01T14:15:23.214Z"
   },
   {
    "duration": 8,
    "start_time": "2023-12-01T14:15:23.222Z"
   },
   {
    "duration": 164,
    "start_time": "2023-12-01T14:15:23.232Z"
   },
   {
    "duration": 1090,
    "start_time": "2023-12-01T14:16:36.748Z"
   },
   {
    "duration": 103,
    "start_time": "2023-12-01T14:16:37.841Z"
   },
   {
    "duration": 32,
    "start_time": "2023-12-01T14:16:37.946Z"
   },
   {
    "duration": 15,
    "start_time": "2023-12-01T14:16:37.981Z"
   },
   {
    "duration": 1917,
    "start_time": "2023-12-01T14:16:38.011Z"
   },
   {
    "duration": 9,
    "start_time": "2023-12-01T14:16:39.930Z"
   },
   {
    "duration": 17,
    "start_time": "2023-12-01T14:16:39.940Z"
   },
   {
    "duration": 6,
    "start_time": "2023-12-01T14:16:39.959Z"
   },
   {
    "duration": 30,
    "start_time": "2023-12-01T14:16:39.967Z"
   },
   {
    "duration": 12,
    "start_time": "2023-12-01T14:16:39.999Z"
   },
   {
    "duration": 256,
    "start_time": "2023-12-01T14:16:40.013Z"
   },
   {
    "duration": 7,
    "start_time": "2023-12-01T14:16:40.271Z"
   },
   {
    "duration": 35,
    "start_time": "2023-12-01T14:16:40.279Z"
   },
   {
    "duration": 56,
    "start_time": "2023-12-01T14:16:40.315Z"
   },
   {
    "duration": 13,
    "start_time": "2023-12-01T14:16:40.372Z"
   },
   {
    "duration": 13,
    "start_time": "2023-12-01T14:16:40.386Z"
   },
   {
    "duration": 9,
    "start_time": "2023-12-01T14:16:40.411Z"
   },
   {
    "duration": 14,
    "start_time": "2023-12-01T14:16:40.421Z"
   },
   {
    "duration": 15,
    "start_time": "2023-12-01T14:16:40.437Z"
   },
   {
    "duration": 40,
    "start_time": "2023-12-01T14:16:40.453Z"
   },
   {
    "duration": 7,
    "start_time": "2023-12-01T14:16:40.494Z"
   },
   {
    "duration": 12,
    "start_time": "2023-12-01T14:16:40.503Z"
   },
   {
    "duration": 31,
    "start_time": "2023-12-01T14:16:40.517Z"
   },
   {
    "duration": 9,
    "start_time": "2023-12-01T14:16:40.549Z"
   },
   {
    "duration": 92,
    "start_time": "2023-12-01T14:16:40.560Z"
   },
   {
    "duration": 4,
    "start_time": "2023-12-01T14:16:40.653Z"
   },
   {
    "duration": 7,
    "start_time": "2023-12-01T14:16:40.659Z"
   },
   {
    "duration": 23,
    "start_time": "2023-12-01T14:16:40.669Z"
   },
   {
    "duration": 31,
    "start_time": "2023-12-01T14:16:40.693Z"
   },
   {
    "duration": 12,
    "start_time": "2023-12-01T14:16:40.726Z"
   },
   {
    "duration": 322,
    "start_time": "2023-12-01T14:16:40.739Z"
   },
   {
    "duration": 22,
    "start_time": "2023-12-01T14:16:41.062Z"
   },
   {
    "duration": 14,
    "start_time": "2023-12-01T14:16:41.085Z"
   },
   {
    "duration": 36,
    "start_time": "2023-12-01T14:16:41.100Z"
   },
   {
    "duration": 275,
    "start_time": "2023-12-01T14:16:41.137Z"
   },
   {
    "duration": 299,
    "start_time": "2023-12-01T14:16:41.414Z"
   },
   {
    "duration": 414,
    "start_time": "2023-12-01T14:16:41.715Z"
   },
   {
    "duration": 280,
    "start_time": "2023-12-01T14:16:42.130Z"
   },
   {
    "duration": 20,
    "start_time": "2023-12-01T14:16:42.412Z"
   },
   {
    "duration": 4,
    "start_time": "2023-12-01T14:16:42.434Z"
   },
   {
    "duration": 18,
    "start_time": "2023-12-01T14:16:42.440Z"
   },
   {
    "duration": 6,
    "start_time": "2023-12-01T14:16:42.460Z"
   },
   {
    "duration": 227,
    "start_time": "2023-12-01T14:16:42.467Z"
   },
   {
    "duration": 179,
    "start_time": "2023-12-01T14:16:42.696Z"
   },
   {
    "duration": 6,
    "start_time": "2023-12-01T14:16:42.877Z"
   },
   {
    "duration": 181,
    "start_time": "2023-12-01T14:16:42.885Z"
   },
   {
    "duration": 182,
    "start_time": "2023-12-01T14:16:43.067Z"
   },
   {
    "duration": 182,
    "start_time": "2023-12-01T14:16:43.251Z"
   },
   {
    "duration": 309,
    "start_time": "2023-12-01T14:16:43.435Z"
   },
   {
    "duration": 72,
    "start_time": "2023-12-01T14:16:43.746Z"
   },
   {
    "duration": 15,
    "start_time": "2023-12-01T14:16:43.820Z"
   },
   {
    "duration": 276,
    "start_time": "2023-12-01T14:16:43.836Z"
   },
   {
    "duration": 157,
    "start_time": "2023-12-01T14:16:44.114Z"
   },
   {
    "duration": 155,
    "start_time": "2023-12-01T14:16:44.272Z"
   },
   {
    "duration": 19,
    "start_time": "2023-12-01T14:16:44.429Z"
   },
   {
    "duration": 7,
    "start_time": "2023-12-01T14:16:44.450Z"
   },
   {
    "duration": 14,
    "start_time": "2023-12-01T14:16:44.459Z"
   },
   {
    "duration": 166,
    "start_time": "2023-12-01T14:16:44.474Z"
   },
   {
    "duration": 1126,
    "start_time": "2023-12-01T14:21:41.793Z"
   },
   {
    "duration": 94,
    "start_time": "2023-12-01T14:21:42.921Z"
   },
   {
    "duration": 29,
    "start_time": "2023-12-01T14:21:43.016Z"
   },
   {
    "duration": 13,
    "start_time": "2023-12-01T14:21:43.047Z"
   },
   {
    "duration": 1914,
    "start_time": "2023-12-01T14:21:43.062Z"
   },
   {
    "duration": 10,
    "start_time": "2023-12-01T14:21:44.977Z"
   },
   {
    "duration": 9,
    "start_time": "2023-12-01T14:21:44.989Z"
   },
   {
    "duration": 15,
    "start_time": "2023-12-01T14:21:45.000Z"
   },
   {
    "duration": 64,
    "start_time": "2023-12-01T14:21:45.016Z"
   },
   {
    "duration": 19,
    "start_time": "2023-12-01T14:21:45.081Z"
   },
   {
    "duration": 262,
    "start_time": "2023-12-01T14:21:45.101Z"
   },
   {
    "duration": 6,
    "start_time": "2023-12-01T14:21:45.365Z"
   },
   {
    "duration": 33,
    "start_time": "2023-12-01T14:21:45.373Z"
   },
   {
    "duration": 49,
    "start_time": "2023-12-01T14:21:45.413Z"
   },
   {
    "duration": 5,
    "start_time": "2023-12-01T14:21:45.464Z"
   },
   {
    "duration": 5,
    "start_time": "2023-12-01T14:21:45.470Z"
   },
   {
    "duration": 8,
    "start_time": "2023-12-01T14:21:45.476Z"
   },
   {
    "duration": 27,
    "start_time": "2023-12-01T14:21:45.486Z"
   },
   {
    "duration": 10,
    "start_time": "2023-12-01T14:21:45.515Z"
   },
   {
    "duration": 23,
    "start_time": "2023-12-01T14:21:45.526Z"
   },
   {
    "duration": 7,
    "start_time": "2023-12-01T14:21:45.551Z"
   },
   {
    "duration": 20,
    "start_time": "2023-12-01T14:21:45.559Z"
   },
   {
    "duration": 43,
    "start_time": "2023-12-01T14:21:45.581Z"
   },
   {
    "duration": 10,
    "start_time": "2023-12-01T14:21:45.626Z"
   },
   {
    "duration": 104,
    "start_time": "2023-12-01T14:21:45.637Z"
   },
   {
    "duration": 4,
    "start_time": "2023-12-01T14:21:45.743Z"
   },
   {
    "duration": 8,
    "start_time": "2023-12-01T14:21:45.748Z"
   },
   {
    "duration": 14,
    "start_time": "2023-12-01T14:21:45.758Z"
   },
   {
    "duration": 45,
    "start_time": "2023-12-01T14:21:45.773Z"
   },
   {
    "duration": 11,
    "start_time": "2023-12-01T14:21:45.820Z"
   },
   {
    "duration": 315,
    "start_time": "2023-12-01T14:21:45.832Z"
   },
   {
    "duration": 22,
    "start_time": "2023-12-01T14:21:46.148Z"
   },
   {
    "duration": 15,
    "start_time": "2023-12-01T14:21:46.172Z"
   },
   {
    "duration": 27,
    "start_time": "2023-12-01T14:21:46.188Z"
   },
   {
    "duration": 278,
    "start_time": "2023-12-01T14:21:46.216Z"
   },
   {
    "duration": 443,
    "start_time": "2023-12-01T14:21:46.495Z"
   },
   {
    "duration": 817,
    "start_time": "2023-12-01T14:21:46.939Z"
   },
   {
    "duration": 425,
    "start_time": "2023-12-01T14:21:47.758Z"
   },
   {
    "duration": 191,
    "start_time": "2023-12-01T14:21:48.185Z"
   },
   {
    "duration": 202,
    "start_time": "2023-12-01T14:21:48.378Z"
   },
   {
    "duration": 6,
    "start_time": "2023-12-01T14:21:48.584Z"
   },
   {
    "duration": 186,
    "start_time": "2023-12-01T14:21:48.592Z"
   },
   {
    "duration": 207,
    "start_time": "2023-12-01T14:21:48.779Z"
   },
   {
    "duration": 192,
    "start_time": "2023-12-01T14:21:48.987Z"
   },
   {
    "duration": 318,
    "start_time": "2023-12-01T14:21:49.181Z"
   },
   {
    "duration": 54,
    "start_time": "2023-12-01T14:21:49.501Z"
   },
   {
    "duration": 14,
    "start_time": "2023-12-01T14:21:49.557Z"
   },
   {
    "duration": 266,
    "start_time": "2023-12-01T14:21:49.572Z"
   },
   {
    "duration": 173,
    "start_time": "2023-12-01T14:21:49.840Z"
   },
   {
    "duration": 156,
    "start_time": "2023-12-01T14:21:50.014Z"
   },
   {
    "duration": 20,
    "start_time": "2023-12-01T14:21:50.171Z"
   },
   {
    "duration": 27,
    "start_time": "2023-12-01T14:21:50.193Z"
   },
   {
    "duration": 8,
    "start_time": "2023-12-01T14:21:50.221Z"
   },
   {
    "duration": 155,
    "start_time": "2023-12-01T14:21:50.230Z"
   },
   {
    "duration": 286,
    "start_time": "2023-12-01T14:22:25.725Z"
   },
   {
    "duration": 38,
    "start_time": "2023-12-01T14:23:47.042Z"
   },
   {
    "duration": 47,
    "start_time": "2023-12-01T14:23:58.530Z"
   },
   {
    "duration": 39,
    "start_time": "2023-12-01T14:24:02.616Z"
   },
   {
    "duration": 41,
    "start_time": "2023-12-01T14:24:08.951Z"
   },
   {
    "duration": 39,
    "start_time": "2023-12-01T14:24:11.889Z"
   },
   {
    "duration": 38,
    "start_time": "2023-12-01T14:24:17.094Z"
   },
   {
    "duration": 11,
    "start_time": "2023-12-01T14:24:45.373Z"
   },
   {
    "duration": 10,
    "start_time": "2023-12-01T14:24:52.674Z"
   },
   {
    "duration": 4,
    "start_time": "2023-12-01T14:25:23.262Z"
   },
   {
    "duration": 871,
    "start_time": "2023-12-01T14:25:28.328Z"
   },
   {
    "duration": 35,
    "start_time": "2023-12-01T14:25:53.257Z"
   },
   {
    "duration": 105,
    "start_time": "2023-12-01T14:31:29.359Z"
   },
   {
    "duration": 274,
    "start_time": "2023-12-01T14:33:07.374Z"
   },
   {
    "duration": 298,
    "start_time": "2023-12-01T14:33:12.861Z"
   },
   {
    "duration": 1103,
    "start_time": "2023-12-01T14:33:17.735Z"
   },
   {
    "duration": 100,
    "start_time": "2023-12-01T14:33:18.839Z"
   },
   {
    "duration": 31,
    "start_time": "2023-12-01T14:33:18.941Z"
   },
   {
    "duration": 15,
    "start_time": "2023-12-01T14:33:18.974Z"
   },
   {
    "duration": 1925,
    "start_time": "2023-12-01T14:33:18.991Z"
   },
   {
    "duration": 10,
    "start_time": "2023-12-01T14:33:20.918Z"
   },
   {
    "duration": 15,
    "start_time": "2023-12-01T14:33:20.929Z"
   },
   {
    "duration": 12,
    "start_time": "2023-12-01T14:33:20.945Z"
   },
   {
    "duration": 26,
    "start_time": "2023-12-01T14:33:20.958Z"
   },
   {
    "duration": 25,
    "start_time": "2023-12-01T14:33:20.986Z"
   },
   {
    "duration": 260,
    "start_time": "2023-12-01T14:33:21.012Z"
   },
   {
    "duration": 6,
    "start_time": "2023-12-01T14:33:21.274Z"
   },
   {
    "duration": 35,
    "start_time": "2023-12-01T14:33:21.281Z"
   },
   {
    "duration": 51,
    "start_time": "2023-12-01T14:33:21.318Z"
   },
   {
    "duration": 5,
    "start_time": "2023-12-01T14:33:21.370Z"
   },
   {
    "duration": 8,
    "start_time": "2023-12-01T14:33:21.376Z"
   },
   {
    "duration": 31,
    "start_time": "2023-12-01T14:33:21.385Z"
   },
   {
    "duration": 4,
    "start_time": "2023-12-01T14:33:21.418Z"
   },
   {
    "duration": 9,
    "start_time": "2023-12-01T14:33:21.423Z"
   },
   {
    "duration": 22,
    "start_time": "2023-12-01T14:33:21.434Z"
   },
   {
    "duration": 8,
    "start_time": "2023-12-01T14:33:21.457Z"
   },
   {
    "duration": 5,
    "start_time": "2023-12-01T14:33:21.466Z"
   },
   {
    "duration": 51,
    "start_time": "2023-12-01T14:33:21.473Z"
   },
   {
    "duration": 10,
    "start_time": "2023-12-01T14:33:21.525Z"
   },
   {
    "duration": 99,
    "start_time": "2023-12-01T14:33:21.536Z"
   },
   {
    "duration": 4,
    "start_time": "2023-12-01T14:33:21.637Z"
   },
   {
    "duration": 6,
    "start_time": "2023-12-01T14:33:21.642Z"
   },
   {
    "duration": 12,
    "start_time": "2023-12-01T14:33:21.650Z"
   },
   {
    "duration": 21,
    "start_time": "2023-12-01T14:33:21.664Z"
   },
   {
    "duration": 25,
    "start_time": "2023-12-01T14:33:21.686Z"
   },
   {
    "duration": 367,
    "start_time": "2023-12-01T14:33:21.712Z"
   },
   {
    "duration": 24,
    "start_time": "2023-12-01T14:33:22.080Z"
   },
   {
    "duration": 8,
    "start_time": "2023-12-01T14:33:22.106Z"
   },
   {
    "duration": 23,
    "start_time": "2023-12-01T14:33:22.116Z"
   },
   {
    "duration": 284,
    "start_time": "2023-12-01T14:33:22.141Z"
   },
   {
    "duration": 276,
    "start_time": "2023-12-01T14:33:22.427Z"
   },
   {
    "duration": 396,
    "start_time": "2023-12-01T14:33:22.705Z"
   },
   {
    "duration": 282,
    "start_time": "2023-12-01T14:33:23.103Z"
   },
   {
    "duration": 107,
    "start_time": "2023-12-01T14:33:23.387Z"
   },
   {
    "duration": 171,
    "start_time": "2023-12-01T14:33:23.496Z"
   },
   {
    "duration": 186,
    "start_time": "2023-12-01T14:33:23.671Z"
   },
   {
    "duration": 8,
    "start_time": "2023-12-01T14:33:23.858Z"
   },
   {
    "duration": 188,
    "start_time": "2023-12-01T14:33:23.867Z"
   },
   {
    "duration": 176,
    "start_time": "2023-12-01T14:33:24.057Z"
   },
   {
    "duration": 197,
    "start_time": "2023-12-01T14:33:24.235Z"
   },
   {
    "duration": 304,
    "start_time": "2023-12-01T14:33:24.433Z"
   },
   {
    "duration": 148,
    "start_time": "2023-12-01T14:33:24.739Z"
   },
   {
    "duration": 24,
    "start_time": "2023-12-01T14:33:24.888Z"
   },
   {
    "duration": 168,
    "start_time": "2023-12-01T14:33:24.913Z"
   },
   {
    "duration": 159,
    "start_time": "2023-12-01T14:33:25.082Z"
   },
   {
    "duration": 169,
    "start_time": "2023-12-01T14:33:25.242Z"
   },
   {
    "duration": 19,
    "start_time": "2023-12-01T14:33:25.413Z"
   },
   {
    "duration": 6,
    "start_time": "2023-12-01T14:33:25.434Z"
   },
   {
    "duration": 11,
    "start_time": "2023-12-01T14:33:25.442Z"
   },
   {
    "duration": 176,
    "start_time": "2023-12-01T14:33:25.454Z"
   },
   {
    "duration": 278,
    "start_time": "2023-12-01T14:33:56.549Z"
   },
   {
    "duration": 1131,
    "start_time": "2023-12-01T14:34:02.890Z"
   },
   {
    "duration": 105,
    "start_time": "2023-12-01T14:34:04.023Z"
   },
   {
    "duration": 29,
    "start_time": "2023-12-01T14:34:04.130Z"
   },
   {
    "duration": 15,
    "start_time": "2023-12-01T14:34:04.161Z"
   },
   {
    "duration": 1987,
    "start_time": "2023-12-01T14:34:04.177Z"
   },
   {
    "duration": 11,
    "start_time": "2023-12-01T14:34:06.166Z"
   },
   {
    "duration": 15,
    "start_time": "2023-12-01T14:34:06.179Z"
   },
   {
    "duration": 8,
    "start_time": "2023-12-01T14:34:06.196Z"
   },
   {
    "duration": 53,
    "start_time": "2023-12-01T14:34:06.206Z"
   },
   {
    "duration": 11,
    "start_time": "2023-12-01T14:34:06.262Z"
   },
   {
    "duration": 297,
    "start_time": "2023-12-01T14:34:06.274Z"
   },
   {
    "duration": 6,
    "start_time": "2023-12-01T14:34:06.573Z"
   },
   {
    "duration": 44,
    "start_time": "2023-12-01T14:34:06.581Z"
   },
   {
    "duration": 46,
    "start_time": "2023-12-01T14:34:06.626Z"
   },
   {
    "duration": 5,
    "start_time": "2023-12-01T14:34:06.674Z"
   },
   {
    "duration": 18,
    "start_time": "2023-12-01T14:34:06.680Z"
   },
   {
    "duration": 24,
    "start_time": "2023-12-01T14:34:06.699Z"
   },
   {
    "duration": 5,
    "start_time": "2023-12-01T14:34:06.727Z"
   },
   {
    "duration": 16,
    "start_time": "2023-12-01T14:34:06.734Z"
   },
   {
    "duration": 21,
    "start_time": "2023-12-01T14:34:06.752Z"
   },
   {
    "duration": 7,
    "start_time": "2023-12-01T14:34:06.774Z"
   },
   {
    "duration": 14,
    "start_time": "2023-12-01T14:34:06.782Z"
   },
   {
    "duration": 37,
    "start_time": "2023-12-01T14:34:06.797Z"
   },
   {
    "duration": 9,
    "start_time": "2023-12-01T14:34:06.835Z"
   },
   {
    "duration": 179,
    "start_time": "2023-12-01T14:34:06.846Z"
   },
   {
    "duration": 3,
    "start_time": "2023-12-01T14:34:07.027Z"
   },
   {
    "duration": 15,
    "start_time": "2023-12-01T14:34:07.032Z"
   },
   {
    "duration": 11,
    "start_time": "2023-12-01T14:34:07.050Z"
   },
   {
    "duration": 76,
    "start_time": "2023-12-01T14:34:07.062Z"
   },
   {
    "duration": 3,
    "start_time": "2023-12-01T14:34:07.140Z"
   },
   {
    "duration": 783,
    "start_time": "2023-12-01T14:34:07.144Z"
   },
   {
    "duration": 23,
    "start_time": "2023-12-01T14:34:07.928Z"
   },
   {
    "duration": 6,
    "start_time": "2023-12-01T14:34:07.952Z"
   },
   {
    "duration": 82,
    "start_time": "2023-12-01T14:34:07.960Z"
   },
   {
    "duration": 525,
    "start_time": "2023-12-01T14:34:08.043Z"
   },
   {
    "duration": 297,
    "start_time": "2023-12-01T14:34:08.570Z"
   },
   {
    "duration": 408,
    "start_time": "2023-12-01T14:34:08.868Z"
   },
   {
    "duration": 310,
    "start_time": "2023-12-01T14:34:09.278Z"
   },
   {
    "duration": 125,
    "start_time": "2023-12-01T14:34:09.590Z"
   },
   {
    "duration": 178,
    "start_time": "2023-12-01T14:34:09.724Z"
   },
   {
    "duration": 188,
    "start_time": "2023-12-01T14:34:09.903Z"
   },
   {
    "duration": 7,
    "start_time": "2023-12-01T14:34:10.092Z"
   },
   {
    "duration": 188,
    "start_time": "2023-12-01T14:34:10.101Z"
   },
   {
    "duration": 194,
    "start_time": "2023-12-01T14:34:10.290Z"
   },
   {
    "duration": 190,
    "start_time": "2023-12-01T14:34:10.485Z"
   },
   {
    "duration": 328,
    "start_time": "2023-12-01T14:34:10.676Z"
   },
   {
    "duration": 157,
    "start_time": "2023-12-01T14:34:11.006Z"
   },
   {
    "duration": 13,
    "start_time": "2023-12-01T14:34:11.164Z"
   },
   {
    "duration": 164,
    "start_time": "2023-12-01T14:34:11.179Z"
   },
   {
    "duration": 154,
    "start_time": "2023-12-01T14:34:11.344Z"
   },
   {
    "duration": 160,
    "start_time": "2023-12-01T14:34:11.499Z"
   },
   {
    "duration": 18,
    "start_time": "2023-12-01T14:34:11.661Z"
   },
   {
    "duration": 7,
    "start_time": "2023-12-01T14:34:11.681Z"
   },
   {
    "duration": 35,
    "start_time": "2023-12-01T14:34:11.689Z"
   },
   {
    "duration": 151,
    "start_time": "2023-12-01T14:34:11.726Z"
   },
   {
    "duration": 1118,
    "start_time": "2023-12-01T14:34:30.593Z"
   },
   {
    "duration": 99,
    "start_time": "2023-12-01T14:34:31.713Z"
   },
   {
    "duration": 31,
    "start_time": "2023-12-01T14:34:31.814Z"
   },
   {
    "duration": 39,
    "start_time": "2023-12-01T14:34:31.847Z"
   },
   {
    "duration": 2676,
    "start_time": "2023-12-01T14:34:31.888Z"
   },
   {
    "duration": 9,
    "start_time": "2023-12-01T14:34:34.566Z"
   },
   {
    "duration": 10,
    "start_time": "2023-12-01T14:34:34.576Z"
   },
   {
    "duration": 8,
    "start_time": "2023-12-01T14:34:34.587Z"
   },
   {
    "duration": 28,
    "start_time": "2023-12-01T14:34:34.596Z"
   },
   {
    "duration": 5,
    "start_time": "2023-12-01T14:34:34.626Z"
   },
   {
    "duration": 364,
    "start_time": "2023-12-01T14:34:34.632Z"
   },
   {
    "duration": 14,
    "start_time": "2023-12-01T14:34:34.997Z"
   },
   {
    "duration": 39,
    "start_time": "2023-12-01T14:34:35.012Z"
   },
   {
    "duration": 47,
    "start_time": "2023-12-01T14:34:35.052Z"
   },
   {
    "duration": 11,
    "start_time": "2023-12-01T14:34:35.100Z"
   },
   {
    "duration": 5,
    "start_time": "2023-12-01T14:34:35.112Z"
   },
   {
    "duration": 11,
    "start_time": "2023-12-01T14:34:35.118Z"
   },
   {
    "duration": 3,
    "start_time": "2023-12-01T14:34:35.131Z"
   },
   {
    "duration": 19,
    "start_time": "2023-12-01T14:34:35.135Z"
   },
   {
    "duration": 33,
    "start_time": "2023-12-01T14:34:35.155Z"
   },
   {
    "duration": 7,
    "start_time": "2023-12-01T14:34:35.190Z"
   },
   {
    "duration": 23,
    "start_time": "2023-12-01T14:34:35.199Z"
   },
   {
    "duration": 36,
    "start_time": "2023-12-01T14:34:35.223Z"
   },
   {
    "duration": 11,
    "start_time": "2023-12-01T14:34:35.261Z"
   },
   {
    "duration": 119,
    "start_time": "2023-12-01T14:34:35.273Z"
   },
   {
    "duration": 4,
    "start_time": "2023-12-01T14:34:35.393Z"
   },
   {
    "duration": 28,
    "start_time": "2023-12-01T14:34:35.399Z"
   },
   {
    "duration": 29,
    "start_time": "2023-12-01T14:34:35.430Z"
   },
   {
    "duration": 23,
    "start_time": "2023-12-01T14:34:35.460Z"
   },
   {
    "duration": 12,
    "start_time": "2023-12-01T14:34:35.484Z"
   },
   {
    "duration": 328,
    "start_time": "2023-12-01T14:34:35.497Z"
   },
   {
    "duration": 21,
    "start_time": "2023-12-01T14:34:35.827Z"
   },
   {
    "duration": 35,
    "start_time": "2023-12-01T14:34:35.850Z"
   },
   {
    "duration": 44,
    "start_time": "2023-12-01T14:34:35.886Z"
   },
   {
    "duration": 297,
    "start_time": "2023-12-01T14:34:35.931Z"
   },
   {
    "duration": 278,
    "start_time": "2023-12-01T14:34:36.230Z"
   },
   {
    "duration": 379,
    "start_time": "2023-12-01T14:34:36.511Z"
   },
   {
    "duration": 281,
    "start_time": "2023-12-01T14:34:36.891Z"
   },
   {
    "duration": 113,
    "start_time": "2023-12-01T14:34:37.173Z"
   },
   {
    "duration": 178,
    "start_time": "2023-12-01T14:34:37.287Z"
   },
   {
    "duration": 185,
    "start_time": "2023-12-01T14:34:37.466Z"
   },
   {
    "duration": 7,
    "start_time": "2023-12-01T14:34:37.652Z"
   },
   {
    "duration": 183,
    "start_time": "2023-12-01T14:34:37.661Z"
   },
   {
    "duration": 180,
    "start_time": "2023-12-01T14:34:37.845Z"
   },
   {
    "duration": 185,
    "start_time": "2023-12-01T14:34:38.027Z"
   },
   {
    "duration": 301,
    "start_time": "2023-12-01T14:34:38.213Z"
   },
   {
    "duration": 152,
    "start_time": "2023-12-01T14:34:38.516Z"
   },
   {
    "duration": 13,
    "start_time": "2023-12-01T14:34:38.670Z"
   },
   {
    "duration": 164,
    "start_time": "2023-12-01T14:34:38.685Z"
   },
   {
    "duration": 173,
    "start_time": "2023-12-01T14:34:38.851Z"
   },
   {
    "duration": 155,
    "start_time": "2023-12-01T14:34:39.026Z"
   },
   {
    "duration": 29,
    "start_time": "2023-12-01T14:34:39.182Z"
   },
   {
    "duration": 8,
    "start_time": "2023-12-01T14:34:39.212Z"
   },
   {
    "duration": 53,
    "start_time": "2023-12-01T14:34:39.221Z"
   },
   {
    "duration": 177,
    "start_time": "2023-12-01T14:34:39.275Z"
   },
   {
    "duration": 95,
    "start_time": "2023-12-01T14:34:52.472Z"
   },
   {
    "duration": 9,
    "start_time": "2023-12-01T14:39:05.786Z"
   },
   {
    "duration": 14,
    "start_time": "2023-12-01T14:39:25.054Z"
   },
   {
    "duration": 10,
    "start_time": "2023-12-01T14:40:16.290Z"
   },
   {
    "duration": 10,
    "start_time": "2023-12-01T14:41:04.011Z"
   },
   {
    "duration": 7,
    "start_time": "2023-12-01T14:41:55.125Z"
   },
   {
    "duration": 7,
    "start_time": "2023-12-01T14:41:57.500Z"
   },
   {
    "duration": 9,
    "start_time": "2023-12-01T14:41:58.164Z"
   },
   {
    "duration": 8,
    "start_time": "2023-12-01T14:42:05.731Z"
   },
   {
    "duration": 8,
    "start_time": "2023-12-01T14:42:06.415Z"
   },
   {
    "duration": 1201,
    "start_time": "2023-12-01T21:17:46.003Z"
   },
   {
    "duration": 99,
    "start_time": "2023-12-01T21:17:47.205Z"
   },
   {
    "duration": 32,
    "start_time": "2023-12-01T21:17:47.305Z"
   },
   {
    "duration": 15,
    "start_time": "2023-12-01T21:17:47.338Z"
   },
   {
    "duration": 1889,
    "start_time": "2023-12-01T21:17:47.355Z"
   },
   {
    "duration": 9,
    "start_time": "2023-12-01T21:17:49.246Z"
   },
   {
    "duration": 11,
    "start_time": "2023-12-01T21:17:49.257Z"
   },
   {
    "duration": 8,
    "start_time": "2023-12-01T21:17:49.269Z"
   },
   {
    "duration": 35,
    "start_time": "2023-12-01T21:17:49.278Z"
   },
   {
    "duration": 6,
    "start_time": "2023-12-01T21:17:49.315Z"
   },
   {
    "duration": 265,
    "start_time": "2023-12-01T21:17:49.322Z"
   },
   {
    "duration": 7,
    "start_time": "2023-12-01T21:17:49.588Z"
   },
   {
    "duration": 38,
    "start_time": "2023-12-01T21:17:49.596Z"
   },
   {
    "duration": 48,
    "start_time": "2023-12-01T21:17:49.638Z"
   },
   {
    "duration": 23,
    "start_time": "2023-12-01T21:17:49.688Z"
   },
   {
    "duration": 5,
    "start_time": "2023-12-01T21:17:49.713Z"
   },
   {
    "duration": 10,
    "start_time": "2023-12-01T21:17:49.719Z"
   },
   {
    "duration": 5,
    "start_time": "2023-12-01T21:17:49.730Z"
   },
   {
    "duration": 15,
    "start_time": "2023-12-01T21:17:49.737Z"
   },
   {
    "duration": 24,
    "start_time": "2023-12-01T21:17:49.754Z"
   },
   {
    "duration": 9,
    "start_time": "2023-12-01T21:17:49.812Z"
   },
   {
    "duration": 15,
    "start_time": "2023-12-01T21:17:49.823Z"
   },
   {
    "duration": 25,
    "start_time": "2023-12-01T21:17:49.840Z"
   },
   {
    "duration": 11,
    "start_time": "2023-12-01T21:17:49.867Z"
   },
   {
    "duration": 116,
    "start_time": "2023-12-01T21:17:49.880Z"
   },
   {
    "duration": 15,
    "start_time": "2023-12-01T21:17:49.997Z"
   },
   {
    "duration": 8,
    "start_time": "2023-12-01T21:17:50.013Z"
   },
   {
    "duration": 16,
    "start_time": "2023-12-01T21:17:50.022Z"
   },
   {
    "duration": 40,
    "start_time": "2023-12-01T21:17:50.040Z"
   },
   {
    "duration": 4,
    "start_time": "2023-12-01T21:17:50.081Z"
   },
   {
    "duration": 337,
    "start_time": "2023-12-01T21:17:50.086Z"
   },
   {
    "duration": 22,
    "start_time": "2023-12-01T21:17:50.424Z"
   },
   {
    "duration": 3,
    "start_time": "2023-12-01T21:17:50.448Z"
   },
   {
    "duration": 23,
    "start_time": "2023-12-01T21:17:50.452Z"
   },
   {
    "duration": 469,
    "start_time": "2023-12-01T21:17:50.476Z"
   },
   {
    "duration": 338,
    "start_time": "2023-12-01T21:17:50.947Z"
   },
   {
    "duration": 409,
    "start_time": "2023-12-01T21:17:51.287Z"
   },
   {
    "duration": 283,
    "start_time": "2023-12-01T21:17:51.698Z"
   },
   {
    "duration": 125,
    "start_time": "2023-12-01T21:17:51.982Z"
   },
   {
    "duration": 186,
    "start_time": "2023-12-01T21:17:52.108Z"
   },
   {
    "duration": 181,
    "start_time": "2023-12-01T21:17:52.297Z"
   },
   {
    "duration": 7,
    "start_time": "2023-12-01T21:17:52.480Z"
   },
   {
    "duration": 183,
    "start_time": "2023-12-01T21:17:52.488Z"
   },
   {
    "duration": 174,
    "start_time": "2023-12-01T21:17:52.673Z"
   },
   {
    "duration": 179,
    "start_time": "2023-12-01T21:17:52.849Z"
   },
   {
    "duration": 301,
    "start_time": "2023-12-01T21:17:53.030Z"
   },
   {
    "duration": 150,
    "start_time": "2023-12-01T21:17:53.332Z"
   },
   {
    "duration": 13,
    "start_time": "2023-12-01T21:17:53.483Z"
   },
   {
    "duration": 164,
    "start_time": "2023-12-01T21:17:53.497Z"
   },
   {
    "duration": 157,
    "start_time": "2023-12-01T21:17:53.662Z"
   },
   {
    "duration": 150,
    "start_time": "2023-12-01T21:17:53.820Z"
   },
   {
    "duration": 18,
    "start_time": "2023-12-01T21:17:53.972Z"
   },
   {
    "duration": 7,
    "start_time": "2023-12-01T21:17:53.991Z"
   },
   {
    "duration": 7,
    "start_time": "2023-12-01T21:17:54.011Z"
   },
   {
    "duration": 152,
    "start_time": "2023-12-01T21:17:54.019Z"
   },
   {
    "duration": 1050,
    "start_time": "2023-12-01T22:44:38.951Z"
   },
   {
    "duration": 93,
    "start_time": "2023-12-01T22:44:40.002Z"
   },
   {
    "duration": 28,
    "start_time": "2023-12-01T22:44:40.096Z"
   },
   {
    "duration": 14,
    "start_time": "2023-12-01T22:44:40.125Z"
   },
   {
    "duration": 1820,
    "start_time": "2023-12-01T22:44:40.140Z"
   },
   {
    "duration": 9,
    "start_time": "2023-12-01T22:44:41.962Z"
   },
   {
    "duration": 12,
    "start_time": "2023-12-01T22:44:41.973Z"
   },
   {
    "duration": 7,
    "start_time": "2023-12-01T22:44:41.987Z"
   },
   {
    "duration": 40,
    "start_time": "2023-12-01T22:44:41.996Z"
   },
   {
    "duration": 7,
    "start_time": "2023-12-01T22:44:42.038Z"
   },
   {
    "duration": 270,
    "start_time": "2023-12-01T22:44:42.046Z"
   },
   {
    "duration": 7,
    "start_time": "2023-12-01T22:44:42.318Z"
   },
   {
    "duration": 23,
    "start_time": "2023-12-01T22:44:42.327Z"
   },
   {
    "duration": 68,
    "start_time": "2023-12-01T22:44:42.354Z"
   },
   {
    "duration": 6,
    "start_time": "2023-12-01T22:44:42.424Z"
   },
   {
    "duration": 4,
    "start_time": "2023-12-01T22:44:42.432Z"
   },
   {
    "duration": 9,
    "start_time": "2023-12-01T22:44:42.438Z"
   },
   {
    "duration": 4,
    "start_time": "2023-12-01T22:44:42.448Z"
   },
   {
    "duration": 11,
    "start_time": "2023-12-01T22:44:42.454Z"
   },
   {
    "duration": 58,
    "start_time": "2023-12-01T22:44:42.466Z"
   },
   {
    "duration": 7,
    "start_time": "2023-12-01T22:44:42.525Z"
   },
   {
    "duration": 5,
    "start_time": "2023-12-01T22:44:42.534Z"
   },
   {
    "duration": 22,
    "start_time": "2023-12-01T22:44:42.541Z"
   },
   {
    "duration": 9,
    "start_time": "2023-12-01T22:44:42.565Z"
   },
   {
    "duration": 124,
    "start_time": "2023-12-01T22:44:42.576Z"
   },
   {
    "duration": 11,
    "start_time": "2023-12-01T22:44:42.702Z"
   },
   {
    "duration": 7,
    "start_time": "2023-12-01T22:44:42.714Z"
   },
   {
    "duration": 13,
    "start_time": "2023-12-01T22:44:42.723Z"
   },
   {
    "duration": 24,
    "start_time": "2023-12-01T22:44:42.737Z"
   },
   {
    "duration": 11,
    "start_time": "2023-12-01T22:44:42.762Z"
   },
   {
    "duration": 338,
    "start_time": "2023-12-01T22:44:42.774Z"
   },
   {
    "duration": 22,
    "start_time": "2023-12-01T22:44:43.113Z"
   },
   {
    "duration": 7,
    "start_time": "2023-12-01T22:44:43.136Z"
   },
   {
    "duration": 26,
    "start_time": "2023-12-01T22:44:43.144Z"
   },
   {
    "duration": 271,
    "start_time": "2023-12-01T22:44:43.171Z"
   },
   {
    "duration": 275,
    "start_time": "2023-12-01T22:44:43.443Z"
   },
   {
    "duration": 386,
    "start_time": "2023-12-01T22:44:43.720Z"
   },
   {
    "duration": 258,
    "start_time": "2023-12-01T22:44:44.108Z"
   },
   {
    "duration": 104,
    "start_time": "2023-12-01T22:44:44.367Z"
   },
   {
    "duration": 169,
    "start_time": "2023-12-01T22:44:44.472Z"
   },
   {
    "duration": 178,
    "start_time": "2023-12-01T22:44:44.644Z"
   },
   {
    "duration": 7,
    "start_time": "2023-12-01T22:44:44.823Z"
   },
   {
    "duration": 182,
    "start_time": "2023-12-01T22:44:44.831Z"
   },
   {
    "duration": 180,
    "start_time": "2023-12-01T22:44:45.015Z"
   },
   {
    "duration": 184,
    "start_time": "2023-12-01T22:44:45.197Z"
   },
   {
    "duration": 298,
    "start_time": "2023-12-01T22:44:45.382Z"
   },
   {
    "duration": 158,
    "start_time": "2023-12-01T22:44:45.681Z"
   },
   {
    "duration": 16,
    "start_time": "2023-12-01T22:44:45.840Z"
   },
   {
    "duration": 196,
    "start_time": "2023-12-01T22:44:45.858Z"
   },
   {
    "duration": 369,
    "start_time": "2023-12-01T22:44:46.056Z"
   },
   {
    "duration": 296,
    "start_time": "2023-12-01T22:44:46.427Z"
   },
   {
    "duration": 19,
    "start_time": "2023-12-01T22:44:46.724Z"
   },
   {
    "duration": 7,
    "start_time": "2023-12-01T22:44:46.745Z"
   },
   {
    "duration": 63,
    "start_time": "2023-12-01T22:44:46.753Z"
   },
   {
    "duration": 300,
    "start_time": "2023-12-01T22:44:46.818Z"
   },
   {
    "duration": 269,
    "start_time": "2023-12-01T22:45:05.052Z"
   },
   {
    "duration": 269,
    "start_time": "2023-12-01T22:45:38.206Z"
   },
   {
    "duration": 298,
    "start_time": "2023-12-01T22:47:20.680Z"
   },
   {
    "duration": 1091,
    "start_time": "2023-12-01T22:47:26.133Z"
   },
   {
    "duration": 94,
    "start_time": "2023-12-01T22:47:27.225Z"
   },
   {
    "duration": 28,
    "start_time": "2023-12-01T22:47:27.321Z"
   },
   {
    "duration": 13,
    "start_time": "2023-12-01T22:47:27.351Z"
   },
   {
    "duration": 1866,
    "start_time": "2023-12-01T22:47:27.366Z"
   },
   {
    "duration": 9,
    "start_time": "2023-12-01T22:47:29.234Z"
   },
   {
    "duration": 18,
    "start_time": "2023-12-01T22:47:29.244Z"
   },
   {
    "duration": 7,
    "start_time": "2023-12-01T22:47:29.263Z"
   },
   {
    "duration": 25,
    "start_time": "2023-12-01T22:47:29.271Z"
   },
   {
    "duration": 6,
    "start_time": "2023-12-01T22:47:29.297Z"
   },
   {
    "duration": 245,
    "start_time": "2023-12-01T22:47:29.310Z"
   },
   {
    "duration": 6,
    "start_time": "2023-12-01T22:47:29.556Z"
   },
   {
    "duration": 21,
    "start_time": "2023-12-01T22:47:29.563Z"
   },
   {
    "duration": 64,
    "start_time": "2023-12-01T22:47:29.587Z"
   },
   {
    "duration": 8,
    "start_time": "2023-12-01T22:47:29.652Z"
   },
   {
    "duration": 14,
    "start_time": "2023-12-01T22:47:29.661Z"
   },
   {
    "duration": 17,
    "start_time": "2023-12-01T22:47:29.677Z"
   },
   {
    "duration": 4,
    "start_time": "2023-12-01T22:47:29.696Z"
   },
   {
    "duration": 16,
    "start_time": "2023-12-01T22:47:29.701Z"
   },
   {
    "duration": 23,
    "start_time": "2023-12-01T22:47:29.718Z"
   },
   {
    "duration": 7,
    "start_time": "2023-12-01T22:47:29.742Z"
   },
   {
    "duration": 6,
    "start_time": "2023-12-01T22:47:29.751Z"
   },
   {
    "duration": 26,
    "start_time": "2023-12-01T22:47:29.758Z"
   },
   {
    "duration": 33,
    "start_time": "2023-12-01T22:47:29.786Z"
   },
   {
    "duration": 94,
    "start_time": "2023-12-01T22:47:29.820Z"
   },
   {
    "duration": 4,
    "start_time": "2023-12-01T22:47:29.915Z"
   },
   {
    "duration": 6,
    "start_time": "2023-12-01T22:47:29.920Z"
   },
   {
    "duration": 12,
    "start_time": "2023-12-01T22:47:29.927Z"
   },
   {
    "duration": 24,
    "start_time": "2023-12-01T22:47:29.940Z"
   },
   {
    "duration": 3,
    "start_time": "2023-12-01T22:47:29.965Z"
   },
   {
    "duration": 348,
    "start_time": "2023-12-01T22:47:29.969Z"
   },
   {
    "duration": 23,
    "start_time": "2023-12-01T22:47:30.318Z"
   },
   {
    "duration": 23,
    "start_time": "2023-12-01T22:47:30.343Z"
   },
   {
    "duration": 38,
    "start_time": "2023-12-01T22:47:30.368Z"
   },
   {
    "duration": 279,
    "start_time": "2023-12-01T22:47:30.408Z"
   },
   {
    "duration": 285,
    "start_time": "2023-12-01T22:47:30.689Z"
   },
   {
    "duration": 391,
    "start_time": "2023-12-01T22:47:30.976Z"
   },
   {
    "duration": 267,
    "start_time": "2023-12-01T22:47:31.369Z"
   },
   {
    "duration": 102,
    "start_time": "2023-12-01T22:47:31.637Z"
   },
   {
    "duration": 173,
    "start_time": "2023-12-01T22:47:31.740Z"
   },
   {
    "duration": 204,
    "start_time": "2023-12-01T22:47:31.917Z"
   },
   {
    "duration": 7,
    "start_time": "2023-12-01T22:47:32.123Z"
   },
   {
    "duration": 181,
    "start_time": "2023-12-01T22:47:32.131Z"
   },
   {
    "duration": 168,
    "start_time": "2023-12-01T22:47:32.314Z"
   },
   {
    "duration": 175,
    "start_time": "2023-12-01T22:47:32.484Z"
   },
   {
    "duration": 284,
    "start_time": "2023-12-01T22:47:32.660Z"
   },
   {
    "duration": 156,
    "start_time": "2023-12-01T22:47:32.945Z"
   },
   {
    "duration": 18,
    "start_time": "2023-12-01T22:47:33.102Z"
   },
   {
    "duration": 160,
    "start_time": "2023-12-01T22:47:33.121Z"
   },
   {
    "duration": 154,
    "start_time": "2023-12-01T22:47:33.282Z"
   },
   {
    "duration": 149,
    "start_time": "2023-12-01T22:47:33.438Z"
   },
   {
    "duration": 31,
    "start_time": "2023-12-01T22:47:33.588Z"
   },
   {
    "duration": 6,
    "start_time": "2023-12-01T22:47:33.621Z"
   },
   {
    "duration": 6,
    "start_time": "2023-12-01T22:47:33.629Z"
   },
   {
    "duration": 158,
    "start_time": "2023-12-01T22:47:33.636Z"
   },
   {
    "duration": 289,
    "start_time": "2023-12-01T22:48:01.596Z"
   },
   {
    "duration": 1038,
    "start_time": "2023-12-01T22:48:08.269Z"
   },
   {
    "duration": 99,
    "start_time": "2023-12-01T22:48:09.309Z"
   },
   {
    "duration": 32,
    "start_time": "2023-12-01T22:48:09.409Z"
   },
   {
    "duration": 17,
    "start_time": "2023-12-01T22:48:09.442Z"
   },
   {
    "duration": 2611,
    "start_time": "2023-12-01T22:48:09.461Z"
   },
   {
    "duration": 9,
    "start_time": "2023-12-01T22:48:12.073Z"
   },
   {
    "duration": 12,
    "start_time": "2023-12-01T22:48:12.084Z"
   },
   {
    "duration": 8,
    "start_time": "2023-12-01T22:48:12.097Z"
   },
   {
    "duration": 26,
    "start_time": "2023-12-01T22:48:12.106Z"
   },
   {
    "duration": 6,
    "start_time": "2023-12-01T22:48:12.133Z"
   },
   {
    "duration": 264,
    "start_time": "2023-12-01T22:48:12.140Z"
   },
   {
    "duration": 10,
    "start_time": "2023-12-01T22:48:12.406Z"
   },
   {
    "duration": 23,
    "start_time": "2023-12-01T22:48:12.417Z"
   },
   {
    "duration": 68,
    "start_time": "2023-12-01T22:48:12.443Z"
   },
   {
    "duration": 5,
    "start_time": "2023-12-01T22:48:12.513Z"
   },
   {
    "duration": 4,
    "start_time": "2023-12-01T22:48:12.520Z"
   },
   {
    "duration": 9,
    "start_time": "2023-12-01T22:48:12.525Z"
   },
   {
    "duration": 4,
    "start_time": "2023-12-01T22:48:12.535Z"
   },
   {
    "duration": 11,
    "start_time": "2023-12-01T22:48:12.540Z"
   },
   {
    "duration": 21,
    "start_time": "2023-12-01T22:48:12.552Z"
   },
   {
    "duration": 41,
    "start_time": "2023-12-01T22:48:12.575Z"
   },
   {
    "duration": 5,
    "start_time": "2023-12-01T22:48:12.617Z"
   },
   {
    "duration": 22,
    "start_time": "2023-12-01T22:48:12.624Z"
   },
   {
    "duration": 9,
    "start_time": "2023-12-01T22:48:12.647Z"
   },
   {
    "duration": 111,
    "start_time": "2023-12-01T22:48:12.657Z"
   },
   {
    "duration": 4,
    "start_time": "2023-12-01T22:48:12.769Z"
   },
   {
    "duration": 5,
    "start_time": "2023-12-01T22:48:12.775Z"
   },
   {
    "duration": 11,
    "start_time": "2023-12-01T22:48:12.781Z"
   },
   {
    "duration": 22,
    "start_time": "2023-12-01T22:48:12.811Z"
   },
   {
    "duration": 12,
    "start_time": "2023-12-01T22:48:12.835Z"
   },
   {
    "duration": 312,
    "start_time": "2023-12-01T22:48:12.849Z"
   },
   {
    "duration": 22,
    "start_time": "2023-12-01T22:48:13.163Z"
   },
   {
    "duration": 4,
    "start_time": "2023-12-01T22:48:13.187Z"
   },
   {
    "duration": 37,
    "start_time": "2023-12-01T22:48:13.193Z"
   },
   {
    "duration": 282,
    "start_time": "2023-12-01T22:48:13.231Z"
   },
   {
    "duration": 330,
    "start_time": "2023-12-01T22:48:13.514Z"
   },
   {
    "duration": 381,
    "start_time": "2023-12-01T22:48:13.845Z"
   },
   {
    "duration": 284,
    "start_time": "2023-12-01T22:48:14.227Z"
   },
   {
    "duration": 99,
    "start_time": "2023-12-01T22:48:14.513Z"
   },
   {
    "duration": 199,
    "start_time": "2023-12-01T22:48:14.614Z"
   },
   {
    "duration": 175,
    "start_time": "2023-12-01T22:48:14.816Z"
   },
   {
    "duration": 7,
    "start_time": "2023-12-01T22:48:14.993Z"
   },
   {
    "duration": 179,
    "start_time": "2023-12-01T22:48:15.010Z"
   },
   {
    "duration": 175,
    "start_time": "2023-12-01T22:48:15.191Z"
   },
   {
    "duration": 176,
    "start_time": "2023-12-01T22:48:15.368Z"
   },
   {
    "duration": 306,
    "start_time": "2023-12-01T22:48:15.546Z"
   },
   {
    "duration": 167,
    "start_time": "2023-12-01T22:48:15.854Z"
   },
   {
    "duration": 14,
    "start_time": "2023-12-01T22:48:16.023Z"
   },
   {
    "duration": 166,
    "start_time": "2023-12-01T22:48:16.039Z"
   },
   {
    "duration": 170,
    "start_time": "2023-12-01T22:48:16.211Z"
   },
   {
    "duration": 153,
    "start_time": "2023-12-01T22:48:16.383Z"
   },
   {
    "duration": 19,
    "start_time": "2023-12-01T22:48:16.537Z"
   },
   {
    "duration": 7,
    "start_time": "2023-12-01T22:48:16.557Z"
   },
   {
    "duration": 6,
    "start_time": "2023-12-01T22:48:16.566Z"
   },
   {
    "duration": 169,
    "start_time": "2023-12-01T22:48:16.574Z"
   },
   {
    "duration": 1045,
    "start_time": "2023-12-01T22:57:28.257Z"
   },
   {
    "duration": 91,
    "start_time": "2023-12-01T22:57:29.304Z"
   },
   {
    "duration": 27,
    "start_time": "2023-12-01T22:57:29.397Z"
   },
   {
    "duration": 13,
    "start_time": "2023-12-01T22:57:29.426Z"
   },
   {
    "duration": 1792,
    "start_time": "2023-12-01T22:57:29.440Z"
   },
   {
    "duration": 10,
    "start_time": "2023-12-01T22:57:31.234Z"
   },
   {
    "duration": 32,
    "start_time": "2023-12-01T22:57:31.245Z"
   },
   {
    "duration": 17,
    "start_time": "2023-12-01T22:57:31.279Z"
   },
   {
    "duration": 48,
    "start_time": "2023-12-01T22:57:31.298Z"
   },
   {
    "duration": 29,
    "start_time": "2023-12-01T22:57:31.348Z"
   },
   {
    "duration": 291,
    "start_time": "2023-12-01T22:57:31.378Z"
   },
   {
    "duration": 6,
    "start_time": "2023-12-01T22:57:31.671Z"
   },
   {
    "duration": 52,
    "start_time": "2023-12-01T22:57:31.678Z"
   },
   {
    "duration": 47,
    "start_time": "2023-12-01T22:57:31.733Z"
   },
   {
    "duration": 4,
    "start_time": "2023-12-01T22:57:31.782Z"
   },
   {
    "duration": 24,
    "start_time": "2023-12-01T22:57:31.788Z"
   },
   {
    "duration": 19,
    "start_time": "2023-12-01T22:57:31.813Z"
   },
   {
    "duration": 19,
    "start_time": "2023-12-01T22:57:31.833Z"
   },
   {
    "duration": 19,
    "start_time": "2023-12-01T22:57:31.854Z"
   },
   {
    "duration": 33,
    "start_time": "2023-12-01T22:57:31.874Z"
   },
   {
    "duration": 17,
    "start_time": "2023-12-01T22:57:31.909Z"
   },
   {
    "duration": 7,
    "start_time": "2023-12-01T22:57:31.928Z"
   },
   {
    "duration": 32,
    "start_time": "2023-12-01T22:57:31.936Z"
   },
   {
    "duration": 15,
    "start_time": "2023-12-01T22:57:31.970Z"
   },
   {
    "duration": 103,
    "start_time": "2023-12-01T22:57:31.987Z"
   },
   {
    "duration": 5,
    "start_time": "2023-12-01T22:57:32.091Z"
   },
   {
    "duration": 23,
    "start_time": "2023-12-01T22:57:32.097Z"
   },
   {
    "duration": 13,
    "start_time": "2023-12-01T22:57:32.122Z"
   },
   {
    "duration": 22,
    "start_time": "2023-12-01T22:57:32.136Z"
   },
   {
    "duration": 3,
    "start_time": "2023-12-01T22:57:32.160Z"
   },
   {
    "duration": 320,
    "start_time": "2023-12-01T22:57:32.164Z"
   },
   {
    "duration": 26,
    "start_time": "2023-12-01T22:57:32.486Z"
   },
   {
    "duration": 18,
    "start_time": "2023-12-01T22:57:32.513Z"
   },
   {
    "duration": 24,
    "start_time": "2023-12-01T22:57:32.532Z"
   },
   {
    "duration": 290,
    "start_time": "2023-12-01T22:57:32.558Z"
   },
   {
    "duration": 245,
    "start_time": "2023-12-01T22:57:32.849Z"
   },
   {
    "duration": 367,
    "start_time": "2023-12-01T22:57:33.096Z"
   },
   {
    "duration": 284,
    "start_time": "2023-12-01T22:57:33.464Z"
   },
   {
    "duration": 100,
    "start_time": "2023-12-01T22:57:33.750Z"
   },
   {
    "duration": 164,
    "start_time": "2023-12-01T22:57:33.852Z"
   },
   {
    "duration": 177,
    "start_time": "2023-12-01T22:57:34.020Z"
   },
   {
    "duration": 6,
    "start_time": "2023-12-01T22:57:34.199Z"
   },
   {
    "duration": 173,
    "start_time": "2023-12-01T22:57:34.206Z"
   },
   {
    "duration": 171,
    "start_time": "2023-12-01T22:57:34.380Z"
   },
   {
    "duration": 178,
    "start_time": "2023-12-01T22:57:34.553Z"
   },
   {
    "duration": 316,
    "start_time": "2023-12-01T22:57:34.733Z"
   },
   {
    "duration": 301,
    "start_time": "2023-12-01T22:57:35.050Z"
   },
   {
    "duration": 66,
    "start_time": "2023-12-01T22:57:35.352Z"
   },
   {
    "duration": 301,
    "start_time": "2023-12-01T22:57:35.420Z"
   },
   {
    "duration": 324,
    "start_time": "2023-12-01T22:57:35.722Z"
   },
   {
    "duration": 287,
    "start_time": "2023-12-01T22:57:36.048Z"
   },
   {
    "duration": 19,
    "start_time": "2023-12-01T22:57:36.337Z"
   },
   {
    "duration": 7,
    "start_time": "2023-12-01T22:57:36.357Z"
   },
   {
    "duration": 10,
    "start_time": "2023-12-01T22:57:36.365Z"
   },
   {
    "duration": 159,
    "start_time": "2023-12-01T22:57:36.376Z"
   },
   {
    "duration": 18,
    "start_time": "2023-12-01T22:59:33.651Z"
   },
   {
    "duration": 2,
    "start_time": "2023-12-01T23:05:54.060Z"
   },
   {
    "duration": 19,
    "start_time": "2023-12-01T23:06:53.117Z"
   },
   {
    "duration": 7,
    "start_time": "2023-12-01T23:10:23.929Z"
   },
   {
    "duration": 1024,
    "start_time": "2023-12-01T23:10:29.168Z"
   },
   {
    "duration": 93,
    "start_time": "2023-12-01T23:10:30.194Z"
   },
   {
    "duration": 28,
    "start_time": "2023-12-01T23:10:30.288Z"
   },
   {
    "duration": 24,
    "start_time": "2023-12-01T23:10:30.317Z"
   },
   {
    "duration": 2545,
    "start_time": "2023-12-01T23:10:30.343Z"
   },
   {
    "duration": 10,
    "start_time": "2023-12-01T23:10:32.889Z"
   },
   {
    "duration": 16,
    "start_time": "2023-12-01T23:10:32.900Z"
   },
   {
    "duration": 7,
    "start_time": "2023-12-01T23:10:32.917Z"
   },
   {
    "duration": 26,
    "start_time": "2023-12-01T23:10:32.925Z"
   },
   {
    "duration": 5,
    "start_time": "2023-12-01T23:10:32.952Z"
   },
   {
    "duration": 268,
    "start_time": "2023-12-01T23:10:32.958Z"
   },
   {
    "duration": 6,
    "start_time": "2023-12-01T23:10:33.228Z"
   },
   {
    "duration": 23,
    "start_time": "2023-12-01T23:10:33.235Z"
   },
   {
    "duration": 62,
    "start_time": "2023-12-01T23:10:33.261Z"
   },
   {
    "duration": 5,
    "start_time": "2023-12-01T23:10:33.324Z"
   },
   {
    "duration": 4,
    "start_time": "2023-12-01T23:10:33.331Z"
   },
   {
    "duration": 10,
    "start_time": "2023-12-01T23:10:33.336Z"
   },
   {
    "duration": 4,
    "start_time": "2023-12-01T23:10:33.347Z"
   },
   {
    "duration": 9,
    "start_time": "2023-12-01T23:10:33.352Z"
   },
   {
    "duration": 54,
    "start_time": "2023-12-01T23:10:33.362Z"
   },
   {
    "duration": 8,
    "start_time": "2023-12-01T23:10:33.417Z"
   },
   {
    "duration": 6,
    "start_time": "2023-12-01T23:10:33.426Z"
   },
   {
    "duration": 23,
    "start_time": "2023-12-01T23:10:33.433Z"
   },
   {
    "duration": 9,
    "start_time": "2023-12-01T23:10:33.458Z"
   },
   {
    "duration": 112,
    "start_time": "2023-12-01T23:10:33.468Z"
   },
   {
    "duration": 3,
    "start_time": "2023-12-01T23:10:33.582Z"
   },
   {
    "duration": 10,
    "start_time": "2023-12-01T23:10:33.587Z"
   },
   {
    "duration": 21,
    "start_time": "2023-12-01T23:10:33.599Z"
   },
   {
    "duration": 21,
    "start_time": "2023-12-01T23:10:33.621Z"
   },
   {
    "duration": 4,
    "start_time": "2023-12-01T23:10:33.643Z"
   },
   {
    "duration": 335,
    "start_time": "2023-12-01T23:10:33.648Z"
   },
   {
    "duration": 26,
    "start_time": "2023-12-01T23:10:33.985Z"
   },
   {
    "duration": 17,
    "start_time": "2023-12-01T23:10:34.013Z"
   },
   {
    "duration": 29,
    "start_time": "2023-12-01T23:10:34.031Z"
   },
   {
    "duration": 263,
    "start_time": "2023-12-01T23:10:34.062Z"
   },
   {
    "duration": 255,
    "start_time": "2023-12-01T23:10:34.327Z"
   },
   {
    "duration": 380,
    "start_time": "2023-12-01T23:10:34.583Z"
   },
   {
    "duration": 257,
    "start_time": "2023-12-01T23:10:34.964Z"
   },
   {
    "duration": 18,
    "start_time": "2023-12-01T23:10:35.223Z"
   },
   {
    "duration": 10,
    "start_time": "2023-12-01T23:10:35.243Z"
   },
   {
    "duration": 23,
    "start_time": "2023-12-01T23:10:35.256Z"
   },
   {
    "duration": 172,
    "start_time": "2023-12-01T23:10:35.280Z"
   },
   {
    "duration": 176,
    "start_time": "2023-12-01T23:10:35.454Z"
   },
   {
    "duration": 6,
    "start_time": "2023-12-01T23:10:35.632Z"
   },
   {
    "duration": 175,
    "start_time": "2023-12-01T23:10:35.639Z"
   },
   {
    "duration": 168,
    "start_time": "2023-12-01T23:10:35.815Z"
   },
   {
    "duration": 183,
    "start_time": "2023-12-01T23:10:35.985Z"
   },
   {
    "duration": 301,
    "start_time": "2023-12-01T23:10:36.170Z"
   },
   {
    "duration": 59,
    "start_time": "2023-12-01T23:10:36.473Z"
   },
   {
    "duration": 14,
    "start_time": "2023-12-01T23:10:36.533Z"
   },
   {
    "duration": 251,
    "start_time": "2023-12-01T23:10:36.549Z"
   },
   {
    "duration": 158,
    "start_time": "2023-12-01T23:10:36.802Z"
   },
   {
    "duration": 151,
    "start_time": "2023-12-01T23:10:36.961Z"
   },
   {
    "duration": 19,
    "start_time": "2023-12-01T23:10:37.114Z"
   },
   {
    "duration": 7,
    "start_time": "2023-12-01T23:10:37.134Z"
   },
   {
    "duration": 8,
    "start_time": "2023-12-01T23:10:37.142Z"
   },
   {
    "duration": 168,
    "start_time": "2023-12-01T23:10:37.152Z"
   },
   {
    "duration": 1116,
    "start_time": "2023-12-01T23:11:41.687Z"
   },
   {
    "duration": 100,
    "start_time": "2023-12-01T23:11:42.805Z"
   },
   {
    "duration": 28,
    "start_time": "2023-12-01T23:11:42.907Z"
   },
   {
    "duration": 13,
    "start_time": "2023-12-01T23:11:42.936Z"
   },
   {
    "duration": 1813,
    "start_time": "2023-12-01T23:11:42.951Z"
   },
   {
    "duration": 11,
    "start_time": "2023-12-01T23:11:44.766Z"
   },
   {
    "duration": 11,
    "start_time": "2023-12-01T23:11:44.778Z"
   },
   {
    "duration": 21,
    "start_time": "2023-12-01T23:11:44.791Z"
   },
   {
    "duration": 26,
    "start_time": "2023-12-01T23:11:44.814Z"
   },
   {
    "duration": 7,
    "start_time": "2023-12-01T23:11:44.841Z"
   },
   {
    "duration": 275,
    "start_time": "2023-12-01T23:11:44.850Z"
   },
   {
    "duration": 7,
    "start_time": "2023-12-01T23:11:45.127Z"
   },
   {
    "duration": 41,
    "start_time": "2023-12-01T23:11:45.135Z"
   },
   {
    "duration": 48,
    "start_time": "2023-12-01T23:11:45.179Z"
   },
   {
    "duration": 9,
    "start_time": "2023-12-01T23:11:45.229Z"
   },
   {
    "duration": 11,
    "start_time": "2023-12-01T23:11:45.239Z"
   },
   {
    "duration": 14,
    "start_time": "2023-12-01T23:11:45.251Z"
   },
   {
    "duration": 16,
    "start_time": "2023-12-01T23:11:45.267Z"
   },
   {
    "duration": 17,
    "start_time": "2023-12-01T23:11:45.284Z"
   },
   {
    "duration": 27,
    "start_time": "2023-12-01T23:11:45.303Z"
   },
   {
    "duration": 7,
    "start_time": "2023-12-01T23:11:45.332Z"
   },
   {
    "duration": 14,
    "start_time": "2023-12-01T23:11:45.341Z"
   },
   {
    "duration": 24,
    "start_time": "2023-12-01T23:11:45.357Z"
   },
   {
    "duration": 10,
    "start_time": "2023-12-01T23:11:45.383Z"
   },
   {
    "duration": 105,
    "start_time": "2023-12-01T23:11:45.394Z"
   },
   {
    "duration": 12,
    "start_time": "2023-12-01T23:11:45.500Z"
   },
   {
    "duration": 10,
    "start_time": "2023-12-01T23:11:45.514Z"
   },
   {
    "duration": 13,
    "start_time": "2023-12-01T23:11:45.525Z"
   },
   {
    "duration": 23,
    "start_time": "2023-12-01T23:11:45.539Z"
   },
   {
    "duration": 13,
    "start_time": "2023-12-01T23:11:45.563Z"
   },
   {
    "duration": 318,
    "start_time": "2023-12-01T23:11:45.577Z"
   },
   {
    "duration": 29,
    "start_time": "2023-12-01T23:11:45.897Z"
   },
   {
    "duration": 6,
    "start_time": "2023-12-01T23:11:45.928Z"
   },
   {
    "duration": 24,
    "start_time": "2023-12-01T23:11:45.935Z"
   },
   {
    "duration": 284,
    "start_time": "2023-12-01T23:11:45.960Z"
   },
   {
    "duration": 272,
    "start_time": "2023-12-01T23:11:46.245Z"
   },
   {
    "duration": 795,
    "start_time": "2023-12-01T23:11:46.518Z"
   },
   {
    "duration": 544,
    "start_time": "2023-12-01T23:11:47.315Z"
   },
   {
    "duration": 64,
    "start_time": "2023-12-01T23:11:47.861Z"
   },
   {
    "duration": 20,
    "start_time": "2023-12-01T23:11:47.927Z"
   },
   {
    "duration": 195,
    "start_time": "2023-12-01T23:11:47.951Z"
   },
   {
    "duration": 182,
    "start_time": "2023-12-01T23:11:48.148Z"
   },
   {
    "duration": 7,
    "start_time": "2023-12-01T23:11:48.332Z"
   },
   {
    "duration": 199,
    "start_time": "2023-12-01T23:11:48.341Z"
   },
   {
    "duration": 187,
    "start_time": "2023-12-01T23:11:48.542Z"
   },
   {
    "duration": 189,
    "start_time": "2023-12-01T23:11:48.730Z"
   },
   {
    "duration": 324,
    "start_time": "2023-12-01T23:11:48.921Z"
   },
   {
    "duration": 52,
    "start_time": "2023-12-01T23:11:49.247Z"
   },
   {
    "duration": 16,
    "start_time": "2023-12-01T23:11:49.312Z"
   },
   {
    "duration": 268,
    "start_time": "2023-12-01T23:11:49.329Z"
   },
   {
    "duration": 164,
    "start_time": "2023-12-01T23:11:49.599Z"
   },
   {
    "duration": 156,
    "start_time": "2023-12-01T23:11:49.765Z"
   },
   {
    "duration": 20,
    "start_time": "2023-12-01T23:11:49.922Z"
   },
   {
    "duration": 7,
    "start_time": "2023-12-01T23:11:49.943Z"
   },
   {
    "duration": 9,
    "start_time": "2023-12-01T23:11:49.952Z"
   },
   {
    "duration": 175,
    "start_time": "2023-12-01T23:11:49.962Z"
   },
   {
    "duration": 7,
    "start_time": "2023-12-01T23:12:10.309Z"
   },
   {
    "duration": 5,
    "start_time": "2023-12-01T23:12:43.302Z"
   },
   {
    "duration": 9,
    "start_time": "2023-12-01T23:13:01.268Z"
   },
   {
    "duration": 4,
    "start_time": "2023-12-01T23:13:55.761Z"
   },
   {
    "duration": 7,
    "start_time": "2023-12-01T23:13:56.537Z"
   },
   {
    "duration": 1085,
    "start_time": "2023-12-01T23:14:02.619Z"
   },
   {
    "duration": 95,
    "start_time": "2023-12-01T23:14:03.705Z"
   },
   {
    "duration": 27,
    "start_time": "2023-12-01T23:14:03.802Z"
   },
   {
    "duration": 13,
    "start_time": "2023-12-01T23:14:03.831Z"
   },
   {
    "duration": 1815,
    "start_time": "2023-12-01T23:14:03.845Z"
   },
   {
    "duration": 9,
    "start_time": "2023-12-01T23:14:05.662Z"
   },
   {
    "duration": 12,
    "start_time": "2023-12-01T23:14:05.672Z"
   },
   {
    "duration": 7,
    "start_time": "2023-12-01T23:14:05.686Z"
   },
   {
    "duration": 25,
    "start_time": "2023-12-01T23:14:05.694Z"
   },
   {
    "duration": 5,
    "start_time": "2023-12-01T23:14:05.721Z"
   },
   {
    "duration": 250,
    "start_time": "2023-12-01T23:14:05.727Z"
   },
   {
    "duration": 6,
    "start_time": "2023-12-01T23:14:05.979Z"
   },
   {
    "duration": 32,
    "start_time": "2023-12-01T23:14:05.986Z"
   },
   {
    "duration": 45,
    "start_time": "2023-12-01T23:14:06.020Z"
   },
   {
    "duration": 11,
    "start_time": "2023-12-01T23:14:06.066Z"
   },
   {
    "duration": 14,
    "start_time": "2023-12-01T23:14:06.078Z"
   },
   {
    "duration": 12,
    "start_time": "2023-12-01T23:14:06.093Z"
   },
   {
    "duration": 8,
    "start_time": "2023-12-01T23:14:06.106Z"
   },
   {
    "duration": 13,
    "start_time": "2023-12-01T23:14:06.115Z"
   },
   {
    "duration": 21,
    "start_time": "2023-12-01T23:14:06.129Z"
   },
   {
    "duration": 20,
    "start_time": "2023-12-01T23:14:06.152Z"
   },
   {
    "duration": 14,
    "start_time": "2023-12-01T23:14:06.173Z"
   },
   {
    "duration": 28,
    "start_time": "2023-12-01T23:14:06.188Z"
   },
   {
    "duration": 9,
    "start_time": "2023-12-01T23:14:06.218Z"
   },
   {
    "duration": 98,
    "start_time": "2023-12-01T23:14:06.229Z"
   },
   {
    "duration": 4,
    "start_time": "2023-12-01T23:14:06.328Z"
   },
   {
    "duration": 16,
    "start_time": "2023-12-01T23:14:06.333Z"
   },
   {
    "duration": 12,
    "start_time": "2023-12-01T23:14:06.352Z"
   },
   {
    "duration": 21,
    "start_time": "2023-12-01T23:14:06.365Z"
   },
   {
    "duration": 5,
    "start_time": "2023-12-01T23:14:06.388Z"
   },
   {
    "duration": 329,
    "start_time": "2023-12-01T23:14:06.394Z"
   },
   {
    "duration": 33,
    "start_time": "2023-12-01T23:14:06.724Z"
   },
   {
    "duration": 8,
    "start_time": "2023-12-01T23:14:06.759Z"
   },
   {
    "duration": 30,
    "start_time": "2023-12-01T23:14:06.768Z"
   },
   {
    "duration": 268,
    "start_time": "2023-12-01T23:14:06.811Z"
   },
   {
    "duration": 257,
    "start_time": "2023-12-01T23:14:07.081Z"
   },
   {
    "duration": 383,
    "start_time": "2023-12-01T23:14:07.339Z"
   },
   {
    "duration": 283,
    "start_time": "2023-12-01T23:14:07.723Z"
   },
   {
    "duration": 18,
    "start_time": "2023-12-01T23:14:08.011Z"
   },
   {
    "duration": 17,
    "start_time": "2023-12-01T23:14:08.031Z"
   },
   {
    "duration": 61,
    "start_time": "2023-12-01T23:14:08.050Z"
   },
   {
    "duration": 6,
    "start_time": "2023-12-01T23:14:08.112Z"
   },
   {
    "duration": 7,
    "start_time": "2023-12-01T23:14:08.120Z"
   },
   {
    "duration": 315,
    "start_time": "2023-12-01T23:14:08.128Z"
   },
   {
    "duration": 375,
    "start_time": "2023-12-01T23:14:08.445Z"
   },
   {
    "duration": 6,
    "start_time": "2023-12-01T23:14:08.822Z"
   },
   {
    "duration": 383,
    "start_time": "2023-12-01T23:14:08.830Z"
   },
   {
    "duration": 272,
    "start_time": "2023-12-01T23:14:09.215Z"
   },
   {
    "duration": 175,
    "start_time": "2023-12-01T23:14:09.489Z"
   },
   {
    "duration": 274,
    "start_time": "2023-12-01T23:14:09.665Z"
   },
   {
    "duration": 48,
    "start_time": "2023-12-01T23:14:09.940Z"
   },
   {
    "duration": 24,
    "start_time": "2023-12-01T23:14:09.989Z"
   },
   {
    "duration": 234,
    "start_time": "2023-12-01T23:14:10.015Z"
   },
   {
    "duration": 142,
    "start_time": "2023-12-01T23:14:10.250Z"
   },
   {
    "duration": 144,
    "start_time": "2023-12-01T23:14:10.394Z"
   },
   {
    "duration": 19,
    "start_time": "2023-12-01T23:14:10.539Z"
   },
   {
    "duration": 8,
    "start_time": "2023-12-01T23:14:10.559Z"
   },
   {
    "duration": 8,
    "start_time": "2023-12-01T23:14:10.568Z"
   },
   {
    "duration": 169,
    "start_time": "2023-12-01T23:14:10.578Z"
   },
   {
    "duration": 256,
    "start_time": "2023-12-01T23:15:11.236Z"
   },
   {
    "duration": 11,
    "start_time": "2023-12-01T23:16:04.460Z"
   },
   {
    "duration": 1155,
    "start_time": "2023-12-01T23:16:18.505Z"
   },
   {
    "duration": 92,
    "start_time": "2023-12-01T23:16:19.663Z"
   },
   {
    "duration": 29,
    "start_time": "2023-12-01T23:16:19.756Z"
   },
   {
    "duration": 26,
    "start_time": "2023-12-01T23:16:19.787Z"
   },
   {
    "duration": 2342,
    "start_time": "2023-12-01T23:16:19.814Z"
   },
   {
    "duration": 10,
    "start_time": "2023-12-01T23:16:22.157Z"
   },
   {
    "duration": 48,
    "start_time": "2023-12-01T23:16:22.168Z"
   },
   {
    "duration": 7,
    "start_time": "2023-12-01T23:16:22.218Z"
   },
   {
    "duration": 27,
    "start_time": "2023-12-01T23:16:22.226Z"
   },
   {
    "duration": 6,
    "start_time": "2023-12-01T23:16:22.310Z"
   },
   {
    "duration": 346,
    "start_time": "2023-12-01T23:16:22.317Z"
   },
   {
    "duration": 6,
    "start_time": "2023-12-01T23:16:22.664Z"
   },
   {
    "duration": 24,
    "start_time": "2023-12-01T23:16:22.671Z"
   },
   {
    "duration": 60,
    "start_time": "2023-12-01T23:16:22.696Z"
   },
   {
    "duration": 10,
    "start_time": "2023-12-01T23:16:22.758Z"
   },
   {
    "duration": 4,
    "start_time": "2023-12-01T23:16:22.769Z"
   },
   {
    "duration": 8,
    "start_time": "2023-12-01T23:16:22.775Z"
   },
   {
    "duration": 27,
    "start_time": "2023-12-01T23:16:22.784Z"
   },
   {
    "duration": 10,
    "start_time": "2023-12-01T23:16:22.812Z"
   },
   {
    "duration": 22,
    "start_time": "2023-12-01T23:16:22.823Z"
   },
   {
    "duration": 7,
    "start_time": "2023-12-01T23:16:22.846Z"
   },
   {
    "duration": 13,
    "start_time": "2023-12-01T23:16:22.854Z"
   },
   {
    "duration": 44,
    "start_time": "2023-12-01T23:16:22.869Z"
   },
   {
    "duration": 10,
    "start_time": "2023-12-01T23:16:22.914Z"
   },
   {
    "duration": 96,
    "start_time": "2023-12-01T23:16:22.925Z"
   },
   {
    "duration": 4,
    "start_time": "2023-12-01T23:16:23.022Z"
   },
   {
    "duration": 5,
    "start_time": "2023-12-01T23:16:23.028Z"
   },
   {
    "duration": 11,
    "start_time": "2023-12-01T23:16:23.036Z"
   },
   {
    "duration": 20,
    "start_time": "2023-12-01T23:16:23.048Z"
   },
   {
    "duration": 3,
    "start_time": "2023-12-01T23:16:23.069Z"
   },
   {
    "duration": 347,
    "start_time": "2023-12-01T23:16:23.073Z"
   },
   {
    "duration": 24,
    "start_time": "2023-12-01T23:16:23.421Z"
   },
   {
    "duration": 4,
    "start_time": "2023-12-01T23:16:23.446Z"
   },
   {
    "duration": 23,
    "start_time": "2023-12-01T23:16:23.451Z"
   },
   {
    "duration": 273,
    "start_time": "2023-12-01T23:16:23.476Z"
   },
   {
    "duration": 262,
    "start_time": "2023-12-01T23:16:23.751Z"
   },
   {
    "duration": 367,
    "start_time": "2023-12-01T23:16:24.015Z"
   },
   {
    "duration": 279,
    "start_time": "2023-12-01T23:16:24.383Z"
   },
   {
    "duration": 20,
    "start_time": "2023-12-01T23:16:24.664Z"
   },
   {
    "duration": 30,
    "start_time": "2023-12-01T23:16:24.685Z"
   },
   {
    "duration": 171,
    "start_time": "2023-12-01T23:16:24.716Z"
   },
   {
    "duration": 175,
    "start_time": "2023-12-01T23:16:24.889Z"
   },
   {
    "duration": 7,
    "start_time": "2023-12-01T23:16:25.065Z"
   },
   {
    "duration": 173,
    "start_time": "2023-12-01T23:16:25.073Z"
   },
   {
    "duration": 174,
    "start_time": "2023-12-01T23:16:25.247Z"
   },
   {
    "duration": 190,
    "start_time": "2023-12-01T23:16:25.422Z"
   },
   {
    "duration": 430,
    "start_time": "2023-12-01T23:16:25.613Z"
   },
   {
    "duration": 102,
    "start_time": "2023-12-01T23:16:26.045Z"
   },
   {
    "duration": 64,
    "start_time": "2023-12-01T23:16:26.148Z"
   },
   {
    "duration": 506,
    "start_time": "2023-12-01T23:16:26.213Z"
   },
   {
    "duration": 304,
    "start_time": "2023-12-01T23:16:26.721Z"
   },
   {
    "duration": 192,
    "start_time": "2023-12-01T23:16:27.027Z"
   },
   {
    "duration": 18,
    "start_time": "2023-12-01T23:16:27.220Z"
   },
   {
    "duration": 6,
    "start_time": "2023-12-01T23:16:27.240Z"
   },
   {
    "duration": 7,
    "start_time": "2023-12-01T23:16:27.247Z"
   },
   {
    "duration": 205,
    "start_time": "2023-12-01T23:16:27.256Z"
   },
   {
    "duration": 7,
    "start_time": "2023-12-01T23:17:07.969Z"
   },
   {
    "duration": 8,
    "start_time": "2023-12-01T23:17:15.306Z"
   },
   {
    "duration": 8,
    "start_time": "2023-12-01T23:17:27.723Z"
   },
   {
    "duration": 99,
    "start_time": "2023-12-01T23:20:22.451Z"
   },
   {
    "duration": 264,
    "start_time": "2023-12-01T23:21:37.279Z"
   },
   {
    "duration": 1087,
    "start_time": "2023-12-01T23:21:58.068Z"
   },
   {
    "duration": 92,
    "start_time": "2023-12-01T23:21:59.157Z"
   },
   {
    "duration": 29,
    "start_time": "2023-12-01T23:21:59.250Z"
   },
   {
    "duration": 14,
    "start_time": "2023-12-01T23:21:59.280Z"
   },
   {
    "duration": 2510,
    "start_time": "2023-12-01T23:21:59.310Z"
   },
   {
    "duration": 10,
    "start_time": "2023-12-01T23:22:01.821Z"
   },
   {
    "duration": 31,
    "start_time": "2023-12-01T23:22:01.832Z"
   },
   {
    "duration": 20,
    "start_time": "2023-12-01T23:22:01.865Z"
   },
   {
    "duration": 30,
    "start_time": "2023-12-01T23:22:01.886Z"
   },
   {
    "duration": 5,
    "start_time": "2023-12-01T23:22:01.917Z"
   },
   {
    "duration": 274,
    "start_time": "2023-12-01T23:22:01.923Z"
   },
   {
    "duration": 13,
    "start_time": "2023-12-01T23:22:02.199Z"
   },
   {
    "duration": 21,
    "start_time": "2023-12-01T23:22:02.214Z"
   },
   {
    "duration": 47,
    "start_time": "2023-12-01T23:22:02.238Z"
   },
   {
    "duration": 26,
    "start_time": "2023-12-01T23:22:02.287Z"
   },
   {
    "duration": 4,
    "start_time": "2023-12-01T23:22:02.315Z"
   },
   {
    "duration": 24,
    "start_time": "2023-12-01T23:22:02.320Z"
   },
   {
    "duration": 4,
    "start_time": "2023-12-01T23:22:02.345Z"
   },
   {
    "duration": 13,
    "start_time": "2023-12-01T23:22:02.350Z"
   },
   {
    "duration": 27,
    "start_time": "2023-12-01T23:22:02.364Z"
   },
   {
    "duration": 8,
    "start_time": "2023-12-01T23:22:02.392Z"
   },
   {
    "duration": 15,
    "start_time": "2023-12-01T23:22:02.401Z"
   },
   {
    "duration": 34,
    "start_time": "2023-12-01T23:22:02.417Z"
   },
   {
    "duration": 10,
    "start_time": "2023-12-01T23:22:02.452Z"
   },
   {
    "duration": 97,
    "start_time": "2023-12-01T23:22:02.464Z"
   },
   {
    "duration": 3,
    "start_time": "2023-12-01T23:22:02.563Z"
   },
   {
    "duration": 19,
    "start_time": "2023-12-01T23:22:02.567Z"
   },
   {
    "duration": 27,
    "start_time": "2023-12-01T23:22:02.587Z"
   },
   {
    "duration": 22,
    "start_time": "2023-12-01T23:22:02.616Z"
   },
   {
    "duration": 22,
    "start_time": "2023-12-01T23:22:02.639Z"
   },
   {
    "duration": 340,
    "start_time": "2023-12-01T23:22:02.663Z"
   },
   {
    "duration": 26,
    "start_time": "2023-12-01T23:22:03.004Z"
   },
   {
    "duration": 6,
    "start_time": "2023-12-01T23:22:03.031Z"
   },
   {
    "duration": 34,
    "start_time": "2023-12-01T23:22:03.039Z"
   },
   {
    "duration": 267,
    "start_time": "2023-12-01T23:22:03.075Z"
   },
   {
    "duration": 259,
    "start_time": "2023-12-01T23:22:03.343Z"
   },
   {
    "duration": 383,
    "start_time": "2023-12-01T23:22:03.604Z"
   },
   {
    "duration": 256,
    "start_time": "2023-12-01T23:22:03.988Z"
   },
   {
    "duration": 20,
    "start_time": "2023-12-01T23:22:04.246Z"
   },
   {
    "duration": 19,
    "start_time": "2023-12-01T23:22:04.267Z"
   },
   {
    "duration": 6,
    "start_time": "2023-12-01T23:22:04.311Z"
   },
   {
    "duration": 7,
    "start_time": "2023-12-01T23:22:04.319Z"
   },
   {
    "duration": 273,
    "start_time": "2023-12-01T23:22:04.328Z"
   },
   {
    "duration": 109,
    "start_time": "2023-12-01T23:22:04.603Z"
   },
   {
    "duration": 176,
    "start_time": "2023-12-01T23:22:04.714Z"
   },
   {
    "duration": 182,
    "start_time": "2023-12-01T23:22:04.891Z"
   },
   {
    "duration": 6,
    "start_time": "2023-12-01T23:22:05.075Z"
   },
   {
    "duration": 180,
    "start_time": "2023-12-01T23:22:05.083Z"
   },
   {
    "duration": 190,
    "start_time": "2023-12-01T23:22:05.265Z"
   },
   {
    "duration": 184,
    "start_time": "2023-12-01T23:22:05.457Z"
   },
   {
    "duration": 414,
    "start_time": "2023-12-01T23:22:05.642Z"
   },
   {
    "duration": 66,
    "start_time": "2023-12-01T23:22:06.058Z"
   },
   {
    "duration": 14,
    "start_time": "2023-12-01T23:22:06.125Z"
   },
   {
    "duration": 176,
    "start_time": "2023-12-01T23:22:06.141Z"
   },
   {
    "duration": 159,
    "start_time": "2023-12-01T23:22:06.319Z"
   },
   {
    "duration": 155,
    "start_time": "2023-12-01T23:22:06.480Z"
   },
   {
    "duration": 19,
    "start_time": "2023-12-01T23:22:06.637Z"
   },
   {
    "duration": 7,
    "start_time": "2023-12-01T23:22:06.657Z"
   },
   {
    "duration": 16,
    "start_time": "2023-12-01T23:22:06.665Z"
   },
   {
    "duration": 154,
    "start_time": "2023-12-01T23:22:06.683Z"
   },
   {
    "duration": 283,
    "start_time": "2023-12-01T23:22:26.007Z"
   },
   {
    "duration": 1059,
    "start_time": "2023-12-01T23:22:32.534Z"
   },
   {
    "duration": 94,
    "start_time": "2023-12-01T23:22:33.595Z"
   },
   {
    "duration": 29,
    "start_time": "2023-12-01T23:22:33.690Z"
   },
   {
    "duration": 14,
    "start_time": "2023-12-01T23:22:33.720Z"
   },
   {
    "duration": 2508,
    "start_time": "2023-12-01T23:22:33.736Z"
   },
   {
    "duration": 9,
    "start_time": "2023-12-01T23:22:36.246Z"
   },
   {
    "duration": 11,
    "start_time": "2023-12-01T23:22:36.257Z"
   },
   {
    "duration": 8,
    "start_time": "2023-12-01T23:22:36.269Z"
   },
   {
    "duration": 32,
    "start_time": "2023-12-01T23:22:36.278Z"
   },
   {
    "duration": 6,
    "start_time": "2023-12-01T23:22:36.312Z"
   },
   {
    "duration": 272,
    "start_time": "2023-12-01T23:22:36.320Z"
   },
   {
    "duration": 6,
    "start_time": "2023-12-01T23:22:36.594Z"
   },
   {
    "duration": 31,
    "start_time": "2023-12-01T23:22:36.601Z"
   },
   {
    "duration": 49,
    "start_time": "2023-12-01T23:22:36.635Z"
   },
   {
    "duration": 16,
    "start_time": "2023-12-01T23:22:36.686Z"
   },
   {
    "duration": 4,
    "start_time": "2023-12-01T23:22:36.711Z"
   },
   {
    "duration": 9,
    "start_time": "2023-12-01T23:22:36.716Z"
   },
   {
    "duration": 4,
    "start_time": "2023-12-01T23:22:36.726Z"
   },
   {
    "duration": 10,
    "start_time": "2023-12-01T23:22:36.731Z"
   },
   {
    "duration": 22,
    "start_time": "2023-12-01T23:22:36.742Z"
   },
   {
    "duration": 8,
    "start_time": "2023-12-01T23:22:36.766Z"
   },
   {
    "duration": 5,
    "start_time": "2023-12-01T23:22:36.811Z"
   },
   {
    "duration": 24,
    "start_time": "2023-12-01T23:22:36.818Z"
   },
   {
    "duration": 9,
    "start_time": "2023-12-01T23:22:36.844Z"
   },
   {
    "duration": 106,
    "start_time": "2023-12-01T23:22:36.855Z"
   },
   {
    "duration": 5,
    "start_time": "2023-12-01T23:22:36.962Z"
   },
   {
    "duration": 6,
    "start_time": "2023-12-01T23:22:36.968Z"
   },
   {
    "duration": 12,
    "start_time": "2023-12-01T23:22:36.975Z"
   },
   {
    "duration": 22,
    "start_time": "2023-12-01T23:22:37.010Z"
   },
   {
    "duration": 9,
    "start_time": "2023-12-01T23:22:37.033Z"
   },
   {
    "duration": 300,
    "start_time": "2023-12-01T23:22:37.044Z"
   },
   {
    "duration": 22,
    "start_time": "2023-12-01T23:22:37.345Z"
   },
   {
    "duration": 7,
    "start_time": "2023-12-01T23:22:37.368Z"
   },
   {
    "duration": 36,
    "start_time": "2023-12-01T23:22:37.376Z"
   },
   {
    "duration": 280,
    "start_time": "2023-12-01T23:22:37.413Z"
   },
   {
    "duration": 255,
    "start_time": "2023-12-01T23:22:37.695Z"
   },
   {
    "duration": 374,
    "start_time": "2023-12-01T23:22:37.952Z"
   },
   {
    "duration": 277,
    "start_time": "2023-12-01T23:22:38.327Z"
   },
   {
    "duration": 27,
    "start_time": "2023-12-01T23:22:38.611Z"
   },
   {
    "duration": 19,
    "start_time": "2023-12-01T23:22:38.639Z"
   },
   {
    "duration": 5,
    "start_time": "2023-12-01T23:22:38.661Z"
   },
   {
    "duration": 7,
    "start_time": "2023-12-01T23:22:38.667Z"
   },
   {
    "duration": 281,
    "start_time": "2023-12-01T23:22:38.675Z"
   },
   {
    "duration": 103,
    "start_time": "2023-12-01T23:22:38.958Z"
   },
   {
    "duration": 167,
    "start_time": "2023-12-01T23:22:39.062Z"
   },
   {
    "duration": 181,
    "start_time": "2023-12-01T23:22:39.230Z"
   },
   {
    "duration": 6,
    "start_time": "2023-12-01T23:22:39.413Z"
   },
   {
    "duration": 177,
    "start_time": "2023-12-01T23:22:39.421Z"
   },
   {
    "duration": 203,
    "start_time": "2023-12-01T23:22:39.599Z"
   },
   {
    "duration": 169,
    "start_time": "2023-12-01T23:22:39.810Z"
   },
   {
    "duration": 390,
    "start_time": "2023-12-01T23:22:39.981Z"
   },
   {
    "duration": 55,
    "start_time": "2023-12-01T23:22:40.373Z"
   },
   {
    "duration": 12,
    "start_time": "2023-12-01T23:22:40.430Z"
   },
   {
    "duration": 155,
    "start_time": "2023-12-01T23:22:40.443Z"
   },
   {
    "duration": 151,
    "start_time": "2023-12-01T23:22:40.599Z"
   },
   {
    "duration": 145,
    "start_time": "2023-12-01T23:22:40.751Z"
   },
   {
    "duration": 28,
    "start_time": "2023-12-01T23:22:40.897Z"
   },
   {
    "duration": 6,
    "start_time": "2023-12-01T23:22:40.927Z"
   },
   {
    "duration": 11,
    "start_time": "2023-12-01T23:22:40.935Z"
   },
   {
    "duration": 151,
    "start_time": "2023-12-01T23:22:40.948Z"
   },
   {
    "duration": 99,
    "start_time": "2023-12-01T23:22:59.018Z"
   },
   {
    "duration": 277,
    "start_time": "2023-12-01T23:24:50.298Z"
   },
   {
    "duration": 1076,
    "start_time": "2023-12-01T23:24:58.863Z"
   },
   {
    "duration": 189,
    "start_time": "2023-12-01T23:24:59.941Z"
   },
   {
    "duration": 80,
    "start_time": "2023-12-01T23:25:00.132Z"
   },
   {
    "duration": 13,
    "start_time": "2023-12-01T23:25:00.214Z"
   },
   {
    "duration": 2343,
    "start_time": "2023-12-01T23:25:00.229Z"
   },
   {
    "duration": 9,
    "start_time": "2023-12-01T23:25:02.573Z"
   },
   {
    "duration": 10,
    "start_time": "2023-12-01T23:25:02.584Z"
   },
   {
    "duration": 6,
    "start_time": "2023-12-01T23:25:02.595Z"
   },
   {
    "duration": 24,
    "start_time": "2023-12-01T23:25:02.611Z"
   },
   {
    "duration": 20,
    "start_time": "2023-12-01T23:25:02.636Z"
   },
   {
    "duration": 255,
    "start_time": "2023-12-01T23:25:02.657Z"
   },
   {
    "duration": 5,
    "start_time": "2023-12-01T23:25:02.914Z"
   },
   {
    "duration": 28,
    "start_time": "2023-12-01T23:25:02.920Z"
   },
   {
    "duration": 60,
    "start_time": "2023-12-01T23:25:02.951Z"
   },
   {
    "duration": 5,
    "start_time": "2023-12-01T23:25:03.012Z"
   },
   {
    "duration": 19,
    "start_time": "2023-12-01T23:25:03.019Z"
   },
   {
    "duration": 14,
    "start_time": "2023-12-01T23:25:03.040Z"
   },
   {
    "duration": 4,
    "start_time": "2023-12-01T23:25:03.055Z"
   },
   {
    "duration": 11,
    "start_time": "2023-12-01T23:25:03.060Z"
   },
   {
    "duration": 39,
    "start_time": "2023-12-01T23:25:03.072Z"
   },
   {
    "duration": 8,
    "start_time": "2023-12-01T23:25:03.113Z"
   },
   {
    "duration": 9,
    "start_time": "2023-12-01T23:25:03.122Z"
   },
   {
    "duration": 24,
    "start_time": "2023-12-01T23:25:03.132Z"
   },
   {
    "duration": 9,
    "start_time": "2023-12-01T23:25:03.157Z"
   },
   {
    "duration": 107,
    "start_time": "2023-12-01T23:25:03.167Z"
   },
   {
    "duration": 4,
    "start_time": "2023-12-01T23:25:03.276Z"
   },
   {
    "duration": 20,
    "start_time": "2023-12-01T23:25:03.281Z"
   },
   {
    "duration": 32,
    "start_time": "2023-12-01T23:25:03.302Z"
   },
   {
    "duration": 38,
    "start_time": "2023-12-01T23:25:03.335Z"
   },
   {
    "duration": 27,
    "start_time": "2023-12-01T23:25:03.375Z"
   },
   {
    "duration": 335,
    "start_time": "2023-12-01T23:25:03.404Z"
   },
   {
    "duration": 23,
    "start_time": "2023-12-01T23:25:03.741Z"
   },
   {
    "duration": 20,
    "start_time": "2023-12-01T23:25:03.765Z"
   },
   {
    "duration": 29,
    "start_time": "2023-12-01T23:25:03.786Z"
   },
   {
    "duration": 268,
    "start_time": "2023-12-01T23:25:03.816Z"
   },
   {
    "duration": 261,
    "start_time": "2023-12-01T23:25:04.086Z"
   },
   {
    "duration": 381,
    "start_time": "2023-12-01T23:25:04.349Z"
   },
   {
    "duration": 276,
    "start_time": "2023-12-01T23:25:04.732Z"
   },
   {
    "duration": 19,
    "start_time": "2023-12-01T23:25:05.010Z"
   },
   {
    "duration": 17,
    "start_time": "2023-12-01T23:25:05.031Z"
   },
   {
    "duration": 6,
    "start_time": "2023-12-01T23:25:05.051Z"
   },
   {
    "duration": 7,
    "start_time": "2023-12-01T23:25:05.058Z"
   },
   {
    "duration": 291,
    "start_time": "2023-12-01T23:25:05.066Z"
   },
   {
    "duration": 100,
    "start_time": "2023-12-01T23:25:05.359Z"
   },
   {
    "duration": 174,
    "start_time": "2023-12-01T23:25:05.461Z"
   },
   {
    "duration": 175,
    "start_time": "2023-12-01T23:25:05.636Z"
   },
   {
    "duration": 7,
    "start_time": "2023-12-01T23:25:05.812Z"
   },
   {
    "duration": 172,
    "start_time": "2023-12-01T23:25:05.820Z"
   },
   {
    "duration": 174,
    "start_time": "2023-12-01T23:25:05.993Z"
   },
   {
    "duration": 182,
    "start_time": "2023-12-01T23:25:06.169Z"
   },
   {
    "duration": 395,
    "start_time": "2023-12-01T23:25:06.352Z"
   },
   {
    "duration": 51,
    "start_time": "2023-12-01T23:25:06.748Z"
   },
   {
    "duration": 22,
    "start_time": "2023-12-01T23:25:06.800Z"
   },
   {
    "duration": 164,
    "start_time": "2023-12-01T23:25:06.824Z"
   },
   {
    "duration": 158,
    "start_time": "2023-12-01T23:25:06.990Z"
   },
   {
    "duration": 143,
    "start_time": "2023-12-01T23:25:07.150Z"
   },
   {
    "duration": 30,
    "start_time": "2023-12-01T23:25:07.295Z"
   },
   {
    "duration": 18,
    "start_time": "2023-12-01T23:25:07.326Z"
   },
   {
    "duration": 12,
    "start_time": "2023-12-01T23:25:07.345Z"
   },
   {
    "duration": 148,
    "start_time": "2023-12-01T23:25:07.359Z"
   },
   {
    "duration": 286,
    "start_time": "2023-12-01T23:26:02.461Z"
   },
   {
    "duration": 93,
    "start_time": "2023-12-01T23:26:12.193Z"
   },
   {
    "duration": 93,
    "start_time": "2023-12-01T23:26:16.685Z"
   },
   {
    "duration": 87,
    "start_time": "2023-12-01T23:26:28.665Z"
   },
   {
    "duration": 176,
    "start_time": "2023-12-01T23:27:04.219Z"
   },
   {
    "duration": 1061,
    "start_time": "2023-12-01T23:30:24.240Z"
   },
   {
    "duration": 95,
    "start_time": "2023-12-01T23:30:25.302Z"
   },
   {
    "duration": 30,
    "start_time": "2023-12-01T23:30:25.398Z"
   },
   {
    "duration": 22,
    "start_time": "2023-12-01T23:30:25.429Z"
   },
   {
    "duration": 2726,
    "start_time": "2023-12-01T23:30:25.454Z"
   },
   {
    "duration": 10,
    "start_time": "2023-12-01T23:30:28.181Z"
   },
   {
    "duration": 16,
    "start_time": "2023-12-01T23:30:28.192Z"
   },
   {
    "duration": 7,
    "start_time": "2023-12-01T23:30:28.210Z"
   },
   {
    "duration": 25,
    "start_time": "2023-12-01T23:30:28.218Z"
   },
   {
    "duration": 6,
    "start_time": "2023-12-01T23:30:28.244Z"
   },
   {
    "duration": 273,
    "start_time": "2023-12-01T23:30:28.251Z"
   },
   {
    "duration": 7,
    "start_time": "2023-12-01T23:30:28.526Z"
   },
   {
    "duration": 23,
    "start_time": "2023-12-01T23:30:28.536Z"
   },
   {
    "duration": 65,
    "start_time": "2023-12-01T23:30:28.563Z"
   },
   {
    "duration": 5,
    "start_time": "2023-12-01T23:30:28.629Z"
   },
   {
    "duration": 4,
    "start_time": "2023-12-01T23:30:28.635Z"
   },
   {
    "duration": 10,
    "start_time": "2023-12-01T23:30:28.641Z"
   },
   {
    "duration": 12,
    "start_time": "2023-12-01T23:30:28.652Z"
   },
   {
    "duration": 9,
    "start_time": "2023-12-01T23:30:28.665Z"
   },
   {
    "duration": 42,
    "start_time": "2023-12-01T23:30:28.676Z"
   },
   {
    "duration": 7,
    "start_time": "2023-12-01T23:30:28.719Z"
   },
   {
    "duration": 18,
    "start_time": "2023-12-01T23:30:28.727Z"
   },
   {
    "duration": 31,
    "start_time": "2023-12-01T23:30:28.746Z"
   },
   {
    "duration": 9,
    "start_time": "2023-12-01T23:30:28.779Z"
   },
   {
    "duration": 91,
    "start_time": "2023-12-01T23:30:28.790Z"
   },
   {
    "duration": 4,
    "start_time": "2023-12-01T23:30:28.883Z"
   },
   {
    "duration": 5,
    "start_time": "2023-12-01T23:30:28.888Z"
   },
   {
    "duration": 19,
    "start_time": "2023-12-01T23:30:28.911Z"
   },
   {
    "duration": 25,
    "start_time": "2023-12-01T23:30:28.931Z"
   },
   {
    "duration": 9,
    "start_time": "2023-12-01T23:30:28.957Z"
   },
   {
    "duration": 313,
    "start_time": "2023-12-01T23:30:28.968Z"
   },
   {
    "duration": 21,
    "start_time": "2023-12-01T23:30:29.283Z"
   },
   {
    "duration": 3,
    "start_time": "2023-12-01T23:30:29.311Z"
   },
   {
    "duration": 23,
    "start_time": "2023-12-01T23:30:29.315Z"
   },
   {
    "duration": 279,
    "start_time": "2023-12-01T23:30:29.340Z"
   },
   {
    "duration": 259,
    "start_time": "2023-12-01T23:30:29.620Z"
   },
   {
    "duration": 388,
    "start_time": "2023-12-01T23:30:29.881Z"
   },
   {
    "duration": 265,
    "start_time": "2023-12-01T23:30:30.270Z"
   },
   {
    "duration": 19,
    "start_time": "2023-12-01T23:30:30.537Z"
   },
   {
    "duration": 18,
    "start_time": "2023-12-01T23:30:30.558Z"
   },
   {
    "duration": 8,
    "start_time": "2023-12-01T23:30:30.579Z"
   },
   {
    "duration": 23,
    "start_time": "2023-12-01T23:30:30.588Z"
   },
   {
    "duration": 299,
    "start_time": "2023-12-01T23:30:30.612Z"
   },
   {
    "duration": 102,
    "start_time": "2023-12-01T23:30:30.912Z"
   },
   {
    "duration": 190,
    "start_time": "2023-12-01T23:30:31.016Z"
   },
   {
    "duration": 179,
    "start_time": "2023-12-01T23:30:31.210Z"
   },
   {
    "duration": 7,
    "start_time": "2023-12-01T23:30:31.390Z"
   },
   {
    "duration": 202,
    "start_time": "2023-12-01T23:30:31.398Z"
   },
   {
    "duration": 179,
    "start_time": "2023-12-01T23:30:31.601Z"
   },
   {
    "duration": 195,
    "start_time": "2023-12-01T23:30:31.782Z"
   },
   {
    "duration": 405,
    "start_time": "2023-12-01T23:30:31.979Z"
   },
   {
    "duration": 58,
    "start_time": "2023-12-01T23:30:32.386Z"
   },
   {
    "duration": 13,
    "start_time": "2023-12-01T23:30:32.445Z"
   },
   {
    "duration": 153,
    "start_time": "2023-12-01T23:30:32.459Z"
   },
   {
    "duration": 150,
    "start_time": "2023-12-01T23:30:32.614Z"
   },
   {
    "duration": 144,
    "start_time": "2023-12-01T23:30:32.766Z"
   },
   {
    "duration": 19,
    "start_time": "2023-12-01T23:30:32.911Z"
   },
   {
    "duration": 7,
    "start_time": "2023-12-01T23:30:32.931Z"
   },
   {
    "duration": 7,
    "start_time": "2023-12-01T23:30:32.939Z"
   },
   {
    "duration": 152,
    "start_time": "2023-12-01T23:30:32.947Z"
   },
   {
    "duration": 1062,
    "start_time": "2023-12-01T23:30:58.838Z"
   },
   {
    "duration": 92,
    "start_time": "2023-12-01T23:30:59.902Z"
   },
   {
    "duration": 29,
    "start_time": "2023-12-01T23:30:59.996Z"
   },
   {
    "duration": 54,
    "start_time": "2023-12-01T23:31:00.027Z"
   },
   {
    "duration": 2453,
    "start_time": "2023-12-01T23:31:00.083Z"
   },
   {
    "duration": 9,
    "start_time": "2023-12-01T23:31:02.538Z"
   },
   {
    "duration": 65,
    "start_time": "2023-12-01T23:31:02.549Z"
   },
   {
    "duration": 7,
    "start_time": "2023-12-01T23:31:02.616Z"
   },
   {
    "duration": 32,
    "start_time": "2023-12-01T23:31:02.624Z"
   },
   {
    "duration": 57,
    "start_time": "2023-12-01T23:31:02.658Z"
   },
   {
    "duration": 327,
    "start_time": "2023-12-01T23:31:02.716Z"
   },
   {
    "duration": 5,
    "start_time": "2023-12-01T23:31:03.045Z"
   },
   {
    "duration": 23,
    "start_time": "2023-12-01T23:31:03.052Z"
   },
   {
    "duration": 62,
    "start_time": "2023-12-01T23:31:03.077Z"
   },
   {
    "duration": 4,
    "start_time": "2023-12-01T23:31:03.141Z"
   },
   {
    "duration": 5,
    "start_time": "2023-12-01T23:31:03.146Z"
   },
   {
    "duration": 8,
    "start_time": "2023-12-01T23:31:03.152Z"
   },
   {
    "duration": 5,
    "start_time": "2023-12-01T23:31:03.161Z"
   },
   {
    "duration": 9,
    "start_time": "2023-12-01T23:31:03.167Z"
   },
   {
    "duration": 55,
    "start_time": "2023-12-01T23:31:03.177Z"
   },
   {
    "duration": 7,
    "start_time": "2023-12-01T23:31:03.233Z"
   },
   {
    "duration": 7,
    "start_time": "2023-12-01T23:31:03.241Z"
   },
   {
    "duration": 23,
    "start_time": "2023-12-01T23:31:03.250Z"
   },
   {
    "duration": 10,
    "start_time": "2023-12-01T23:31:03.274Z"
   },
   {
    "duration": 86,
    "start_time": "2023-12-01T23:31:03.311Z"
   },
   {
    "duration": 13,
    "start_time": "2023-12-01T23:31:03.399Z"
   },
   {
    "duration": 7,
    "start_time": "2023-12-01T23:31:03.413Z"
   },
   {
    "duration": 32,
    "start_time": "2023-12-01T23:31:03.422Z"
   },
   {
    "duration": 19,
    "start_time": "2023-12-01T23:31:03.456Z"
   },
   {
    "duration": 20,
    "start_time": "2023-12-01T23:31:03.477Z"
   },
   {
    "duration": 313,
    "start_time": "2023-12-01T23:31:03.498Z"
   },
   {
    "duration": 21,
    "start_time": "2023-12-01T23:31:03.812Z"
   },
   {
    "duration": 6,
    "start_time": "2023-12-01T23:31:03.834Z"
   },
   {
    "duration": 24,
    "start_time": "2023-12-01T23:31:03.841Z"
   },
   {
    "duration": 268,
    "start_time": "2023-12-01T23:31:03.866Z"
   },
   {
    "duration": 263,
    "start_time": "2023-12-01T23:31:04.135Z"
   },
   {
    "duration": 393,
    "start_time": "2023-12-01T23:31:04.400Z"
   },
   {
    "duration": 267,
    "start_time": "2023-12-01T23:31:04.795Z"
   },
   {
    "duration": 20,
    "start_time": "2023-12-01T23:31:05.064Z"
   },
   {
    "duration": 34,
    "start_time": "2023-12-01T23:31:05.086Z"
   },
   {
    "duration": 6,
    "start_time": "2023-12-01T23:31:05.124Z"
   },
   {
    "duration": 17,
    "start_time": "2023-12-01T23:31:05.131Z"
   },
   {
    "duration": 264,
    "start_time": "2023-12-01T23:31:05.149Z"
   },
   {
    "duration": 113,
    "start_time": "2023-12-01T23:31:05.415Z"
   },
   {
    "duration": 181,
    "start_time": "2023-12-01T23:31:05.530Z"
   },
   {
    "duration": 185,
    "start_time": "2023-12-01T23:31:05.712Z"
   },
   {
    "duration": 15,
    "start_time": "2023-12-01T23:31:05.899Z"
   },
   {
    "duration": 175,
    "start_time": "2023-12-01T23:31:05.916Z"
   },
   {
    "duration": 179,
    "start_time": "2023-12-01T23:31:06.092Z"
   },
   {
    "duration": 184,
    "start_time": "2023-12-01T23:31:06.273Z"
   },
   {
    "duration": 401,
    "start_time": "2023-12-01T23:31:06.458Z"
   },
   {
    "duration": 53,
    "start_time": "2023-12-01T23:31:06.861Z"
   },
   {
    "duration": 14,
    "start_time": "2023-12-01T23:31:06.916Z"
   },
   {
    "duration": 189,
    "start_time": "2023-12-01T23:31:06.931Z"
   },
   {
    "duration": 150,
    "start_time": "2023-12-01T23:31:07.121Z"
   },
   {
    "duration": 156,
    "start_time": "2023-12-01T23:31:07.272Z"
   },
   {
    "duration": 20,
    "start_time": "2023-12-01T23:31:07.429Z"
   },
   {
    "duration": 7,
    "start_time": "2023-12-01T23:31:07.451Z"
   },
   {
    "duration": 7,
    "start_time": "2023-12-01T23:31:07.460Z"
   },
   {
    "duration": 182,
    "start_time": "2023-12-01T23:31:07.469Z"
   },
   {
    "duration": 85,
    "start_time": "2023-12-01T23:43:05.513Z"
   },
   {
    "duration": 93,
    "start_time": "2023-12-01T23:43:17.219Z"
   },
   {
    "duration": 87,
    "start_time": "2023-12-01T23:43:27.239Z"
   },
   {
    "duration": 87,
    "start_time": "2023-12-01T23:43:53.678Z"
   },
   {
    "duration": 160,
    "start_time": "2023-12-01T23:44:00.844Z"
   },
   {
    "duration": 99,
    "start_time": "2023-12-01T23:44:31.888Z"
   },
   {
    "duration": 93,
    "start_time": "2023-12-01T23:45:18.576Z"
   },
   {
    "duration": 89,
    "start_time": "2023-12-01T23:45:56.409Z"
   },
   {
    "duration": 88,
    "start_time": "2023-12-01T23:46:17.937Z"
   },
   {
    "duration": 88,
    "start_time": "2023-12-01T23:47:07.432Z"
   },
   {
    "duration": 86,
    "start_time": "2023-12-01T23:49:18.398Z"
   },
   {
    "duration": 14,
    "start_time": "2023-12-01T23:58:04.366Z"
   },
   {
    "duration": 4,
    "start_time": "2023-12-01T23:58:29.192Z"
   },
   {
    "duration": 14,
    "start_time": "2023-12-01T23:59:53.409Z"
   },
   {
    "duration": 75,
    "start_time": "2023-12-02T00:00:36.306Z"
   },
   {
    "duration": 91,
    "start_time": "2023-12-02T00:00:40.645Z"
   },
   {
    "duration": 8,
    "start_time": "2023-12-02T00:01:00.603Z"
   },
   {
    "duration": 1114,
    "start_time": "2023-12-02T00:02:23.593Z"
   },
   {
    "duration": 96,
    "start_time": "2023-12-02T00:02:24.710Z"
   },
   {
    "duration": 29,
    "start_time": "2023-12-02T00:02:24.807Z"
   },
   {
    "duration": 13,
    "start_time": "2023-12-02T00:02:24.837Z"
   },
   {
    "duration": 1824,
    "start_time": "2023-12-02T00:02:24.852Z"
   },
   {
    "duration": 9,
    "start_time": "2023-12-02T00:02:26.678Z"
   },
   {
    "duration": 15,
    "start_time": "2023-12-02T00:02:26.688Z"
   },
   {
    "duration": 11,
    "start_time": "2023-12-02T00:02:26.705Z"
   },
   {
    "duration": 26,
    "start_time": "2023-12-02T00:02:26.717Z"
   },
   {
    "duration": 11,
    "start_time": "2023-12-02T00:02:26.744Z"
   },
   {
    "duration": 261,
    "start_time": "2023-12-02T00:02:26.756Z"
   },
   {
    "duration": 6,
    "start_time": "2023-12-02T00:02:27.018Z"
   },
   {
    "duration": 23,
    "start_time": "2023-12-02T00:02:27.026Z"
   },
   {
    "duration": 74,
    "start_time": "2023-12-02T00:02:27.053Z"
   },
   {
    "duration": 6,
    "start_time": "2023-12-02T00:02:27.129Z"
   },
   {
    "duration": 14,
    "start_time": "2023-12-02T00:02:27.136Z"
   },
   {
    "duration": 15,
    "start_time": "2023-12-02T00:02:27.151Z"
   },
   {
    "duration": 6,
    "start_time": "2023-12-02T00:02:27.168Z"
   },
   {
    "duration": 10,
    "start_time": "2023-12-02T00:02:27.175Z"
   },
   {
    "duration": 45,
    "start_time": "2023-12-02T00:02:27.186Z"
   },
   {
    "duration": 8,
    "start_time": "2023-12-02T00:02:27.232Z"
   },
   {
    "duration": 20,
    "start_time": "2023-12-02T00:02:27.241Z"
   },
   {
    "duration": 33,
    "start_time": "2023-12-02T00:02:27.262Z"
   },
   {
    "duration": 21,
    "start_time": "2023-12-02T00:02:27.296Z"
   },
   {
    "duration": 92,
    "start_time": "2023-12-02T00:02:27.318Z"
   },
   {
    "duration": 4,
    "start_time": "2023-12-02T00:02:27.411Z"
   },
   {
    "duration": 11,
    "start_time": "2023-12-02T00:02:27.416Z"
   },
   {
    "duration": 11,
    "start_time": "2023-12-02T00:02:27.429Z"
   },
   {
    "duration": 20,
    "start_time": "2023-12-02T00:02:27.442Z"
   },
   {
    "duration": 13,
    "start_time": "2023-12-02T00:02:27.463Z"
   },
   {
    "duration": 448,
    "start_time": "2023-12-02T00:02:27.477Z"
   },
   {
    "duration": 22,
    "start_time": "2023-12-02T00:02:27.926Z"
   },
   {
    "duration": 4,
    "start_time": "2023-12-02T00:02:27.949Z"
   },
   {
    "duration": 71,
    "start_time": "2023-12-02T00:02:27.955Z"
   },
   {
    "duration": 401,
    "start_time": "2023-12-02T00:02:28.028Z"
   },
   {
    "duration": 99,
    "start_time": "2023-12-02T00:02:28.430Z"
   },
   {
    "duration": 263,
    "start_time": "2023-12-02T00:02:28.531Z"
   },
   {
    "duration": 386,
    "start_time": "2023-12-02T00:02:28.795Z"
   },
   {
    "duration": 272,
    "start_time": "2023-12-02T00:02:29.183Z"
   },
   {
    "duration": 19,
    "start_time": "2023-12-02T00:02:29.457Z"
   },
   {
    "duration": 42,
    "start_time": "2023-12-02T00:02:29.479Z"
   },
   {
    "duration": 5,
    "start_time": "2023-12-02T00:02:29.523Z"
   },
   {
    "duration": 7,
    "start_time": "2023-12-02T00:02:29.529Z"
   },
   {
    "duration": 275,
    "start_time": "2023-12-02T00:02:29.538Z"
   },
   {
    "duration": 98,
    "start_time": "2023-12-02T00:02:29.814Z"
   },
   {
    "duration": 169,
    "start_time": "2023-12-02T00:02:29.914Z"
   },
   {
    "duration": 90,
    "start_time": "2023-12-02T00:02:30.084Z"
   },
   {
    "duration": 176,
    "start_time": "2023-12-02T00:02:30.176Z"
   },
   {
    "duration": 7,
    "start_time": "2023-12-02T00:02:30.353Z"
   },
   {
    "duration": 199,
    "start_time": "2023-12-02T00:02:30.362Z"
   },
   {
    "duration": 259,
    "start_time": "2023-12-02T00:02:30.562Z"
   },
   {
    "duration": 180,
    "start_time": "2023-12-02T00:02:30.823Z"
   },
   {
    "duration": 14,
    "start_time": "2023-12-02T00:02:31.004Z"
   },
   {
    "duration": 306,
    "start_time": "2023-12-02T00:02:31.019Z"
   },
   {
    "duration": 53,
    "start_time": "2023-12-02T00:02:31.326Z"
   },
   {
    "duration": 31,
    "start_time": "2023-12-02T00:02:31.380Z"
   },
   {
    "duration": 163,
    "start_time": "2023-12-02T00:02:31.412Z"
   },
   {
    "duration": 197,
    "start_time": "2023-12-02T00:02:31.576Z"
   },
   {
    "duration": 160,
    "start_time": "2023-12-02T00:02:31.775Z"
   },
   {
    "duration": 22,
    "start_time": "2023-12-02T00:02:31.937Z"
   },
   {
    "duration": 20,
    "start_time": "2023-12-02T00:02:31.961Z"
   },
   {
    "duration": 23,
    "start_time": "2023-12-02T00:02:31.983Z"
   },
   {
    "duration": 167,
    "start_time": "2023-12-02T00:02:32.008Z"
   },
   {
    "duration": 4,
    "start_time": "2023-12-02T00:05:51.118Z"
   },
   {
    "duration": 3,
    "start_time": "2023-12-02T00:05:59.678Z"
   },
   {
    "duration": 1122,
    "start_time": "2023-12-02T00:10:29.566Z"
   },
   {
    "duration": 96,
    "start_time": "2023-12-02T00:10:30.690Z"
   },
   {
    "duration": 29,
    "start_time": "2023-12-02T00:10:30.787Z"
   },
   {
    "duration": 36,
    "start_time": "2023-12-02T00:10:30.818Z"
   },
   {
    "duration": 1939,
    "start_time": "2023-12-02T00:10:30.857Z"
   },
   {
    "duration": 12,
    "start_time": "2023-12-02T00:10:32.798Z"
   },
   {
    "duration": 12,
    "start_time": "2023-12-02T00:10:32.812Z"
   },
   {
    "duration": 57,
    "start_time": "2023-12-02T00:10:32.825Z"
   },
   {
    "duration": 27,
    "start_time": "2023-12-02T00:10:32.884Z"
   },
   {
    "duration": 5,
    "start_time": "2023-12-02T00:10:32.913Z"
   },
   {
    "duration": 274,
    "start_time": "2023-12-02T00:10:32.920Z"
   },
   {
    "duration": 15,
    "start_time": "2023-12-02T00:10:33.196Z"
   },
   {
    "duration": 27,
    "start_time": "2023-12-02T00:10:33.213Z"
   },
   {
    "duration": 46,
    "start_time": "2023-12-02T00:10:33.243Z"
   },
   {
    "duration": 21,
    "start_time": "2023-12-02T00:10:33.291Z"
   },
   {
    "duration": 4,
    "start_time": "2023-12-02T00:10:33.313Z"
   },
   {
    "duration": 15,
    "start_time": "2023-12-02T00:10:33.318Z"
   },
   {
    "duration": 18,
    "start_time": "2023-12-02T00:10:33.334Z"
   },
   {
    "duration": 14,
    "start_time": "2023-12-02T00:10:33.354Z"
   },
   {
    "duration": 25,
    "start_time": "2023-12-02T00:10:33.369Z"
   },
   {
    "duration": 7,
    "start_time": "2023-12-02T00:10:33.395Z"
   },
   {
    "duration": 15,
    "start_time": "2023-12-02T00:10:33.403Z"
   },
   {
    "duration": 35,
    "start_time": "2023-12-02T00:10:33.419Z"
   },
   {
    "duration": 10,
    "start_time": "2023-12-02T00:10:33.455Z"
   },
   {
    "duration": 85,
    "start_time": "2023-12-02T00:10:33.466Z"
   },
   {
    "duration": 4,
    "start_time": "2023-12-02T00:10:33.552Z"
   },
   {
    "duration": 18,
    "start_time": "2023-12-02T00:10:33.557Z"
   },
   {
    "duration": 24,
    "start_time": "2023-12-02T00:10:33.577Z"
   },
   {
    "duration": 36,
    "start_time": "2023-12-02T00:10:33.603Z"
   },
   {
    "duration": 6,
    "start_time": "2023-12-02T00:10:33.640Z"
   },
   {
    "duration": 324,
    "start_time": "2023-12-02T00:10:33.647Z"
   },
   {
    "duration": 21,
    "start_time": "2023-12-02T00:10:33.973Z"
   },
   {
    "duration": 16,
    "start_time": "2023-12-02T00:10:33.995Z"
   },
   {
    "duration": 20,
    "start_time": "2023-12-02T00:10:34.012Z"
   },
   {
    "duration": 511,
    "start_time": "2023-12-02T00:10:34.034Z"
   },
   {
    "duration": 192,
    "start_time": "2023-12-02T00:10:34.547Z"
   },
   {
    "duration": 570,
    "start_time": "2023-12-02T00:10:34.741Z"
   },
   {
    "duration": 392,
    "start_time": "2023-12-02T00:10:35.313Z"
   },
   {
    "duration": 260,
    "start_time": "2023-12-02T00:10:35.710Z"
   },
   {
    "duration": 20,
    "start_time": "2023-12-02T00:10:35.971Z"
   },
   {
    "duration": 32,
    "start_time": "2023-12-02T00:10:35.994Z"
   },
   {
    "duration": 5,
    "start_time": "2023-12-02T00:10:36.027Z"
   },
   {
    "duration": 10,
    "start_time": "2023-12-02T00:10:36.033Z"
   },
   {
    "duration": 267,
    "start_time": "2023-12-02T00:10:36.044Z"
   },
   {
    "duration": 90,
    "start_time": "2023-12-02T00:10:36.312Z"
   },
   {
    "duration": 180,
    "start_time": "2023-12-02T00:10:36.403Z"
   },
   {
    "duration": 89,
    "start_time": "2023-12-02T00:10:36.585Z"
   },
   {
    "duration": 184,
    "start_time": "2023-12-02T00:10:36.676Z"
   },
   {
    "duration": 7,
    "start_time": "2023-12-02T00:10:36.862Z"
   },
   {
    "duration": 177,
    "start_time": "2023-12-02T00:10:36.870Z"
   },
   {
    "duration": 265,
    "start_time": "2023-12-02T00:10:37.048Z"
   },
   {
    "duration": 179,
    "start_time": "2023-12-02T00:10:37.315Z"
   },
   {
    "duration": 16,
    "start_time": "2023-12-02T00:10:37.495Z"
   },
   {
    "duration": 306,
    "start_time": "2023-12-02T00:10:37.513Z"
   },
   {
    "duration": 49,
    "start_time": "2023-12-02T00:10:37.821Z"
   },
   {
    "duration": 12,
    "start_time": "2023-12-02T00:10:37.871Z"
   },
   {
    "duration": 156,
    "start_time": "2023-12-02T00:10:37.885Z"
   },
   {
    "duration": 150,
    "start_time": "2023-12-02T00:10:38.042Z"
   },
   {
    "duration": 158,
    "start_time": "2023-12-02T00:10:38.193Z"
   },
   {
    "duration": 18,
    "start_time": "2023-12-02T00:10:38.353Z"
   },
   {
    "duration": 7,
    "start_time": "2023-12-02T00:10:38.372Z"
   },
   {
    "duration": 7,
    "start_time": "2023-12-02T00:10:38.380Z"
   },
   {
    "duration": 188,
    "start_time": "2023-12-02T00:10:38.389Z"
   },
   {
    "duration": 2154,
    "start_time": "2023-12-02T19:56:48.789Z"
   },
   {
    "duration": 199,
    "start_time": "2023-12-02T19:56:50.945Z"
   },
   {
    "duration": 93,
    "start_time": "2023-12-02T19:56:51.146Z"
   },
   {
    "duration": 75,
    "start_time": "2023-12-02T19:56:51.241Z"
   },
   {
    "duration": 6315,
    "start_time": "2023-12-02T19:56:51.319Z"
   },
   {
    "duration": 11,
    "start_time": "2023-12-02T19:56:57.706Z"
   },
   {
    "duration": 94,
    "start_time": "2023-12-02T19:56:57.719Z"
   },
   {
    "duration": 7,
    "start_time": "2023-12-02T19:56:57.815Z"
   },
   {
    "duration": 206,
    "start_time": "2023-12-02T19:56:57.824Z"
   },
   {
    "duration": 17,
    "start_time": "2023-12-02T19:56:58.107Z"
   },
   {
    "duration": 909,
    "start_time": "2023-12-02T19:56:58.126Z"
   },
   {
    "duration": 8,
    "start_time": "2023-12-02T19:56:59.107Z"
   },
   {
    "duration": 95,
    "start_time": "2023-12-02T19:56:59.117Z"
   },
   {
    "duration": 192,
    "start_time": "2023-12-02T19:56:59.215Z"
   },
   {
    "duration": 6,
    "start_time": "2023-12-02T19:56:59.409Z"
   },
   {
    "duration": 5,
    "start_time": "2023-12-02T19:56:59.417Z"
   },
   {
    "duration": 283,
    "start_time": "2023-12-02T19:56:59.424Z"
   },
   {
    "duration": 4,
    "start_time": "2023-12-02T19:56:59.709Z"
   },
   {
    "duration": 102,
    "start_time": "2023-12-02T19:56:59.715Z"
   },
   {
    "duration": 103,
    "start_time": "2023-12-02T19:56:59.819Z"
   },
   {
    "duration": 82,
    "start_time": "2023-12-02T19:56:59.925Z"
   },
   {
    "duration": 102,
    "start_time": "2023-12-02T19:57:00.009Z"
   },
   {
    "duration": 126,
    "start_time": "2023-12-02T19:57:00.113Z"
   },
   {
    "duration": 38,
    "start_time": "2023-12-02T19:57:00.306Z"
   },
   {
    "duration": 184,
    "start_time": "2023-12-02T19:57:00.346Z"
   },
   {
    "duration": 5,
    "start_time": "2023-12-02T19:57:00.532Z"
   },
   {
    "duration": 73,
    "start_time": "2023-12-02T19:57:00.538Z"
   },
   {
    "duration": 29,
    "start_time": "2023-12-02T19:57:00.613Z"
   },
   {
    "duration": 82,
    "start_time": "2023-12-02T19:57:00.644Z"
   },
   {
    "duration": 229,
    "start_time": "2023-12-02T19:57:00.727Z"
   },
   {
    "duration": 1158,
    "start_time": "2023-12-02T19:57:00.958Z"
   },
   {
    "duration": 97,
    "start_time": "2023-12-02T19:57:02.117Z"
   },
   {
    "duration": 91,
    "start_time": "2023-12-02T19:57:02.216Z"
   },
   {
    "duration": 97,
    "start_time": "2023-12-02T19:57:02.309Z"
   },
   {
    "duration": 1301,
    "start_time": "2023-12-02T19:57:02.409Z"
   },
   {
    "duration": 417,
    "start_time": "2023-12-02T19:57:03.713Z"
   },
   {
    "duration": 1275,
    "start_time": "2023-12-02T19:57:04.132Z"
   },
   {
    "duration": 1519,
    "start_time": "2023-12-02T19:57:05.409Z"
   },
   {
    "duration": 1007,
    "start_time": "2023-12-02T19:57:06.930Z"
   },
   {
    "duration": 23,
    "start_time": "2023-12-02T19:57:08.008Z"
   },
   {
    "duration": 21,
    "start_time": "2023-12-02T19:57:08.111Z"
   },
   {
    "duration": 78,
    "start_time": "2023-12-02T19:57:08.134Z"
   },
   {
    "duration": 8,
    "start_time": "2023-12-02T19:57:08.214Z"
   },
   {
    "duration": 999,
    "start_time": "2023-12-02T19:57:08.224Z"
   },
   {
    "duration": 405,
    "start_time": "2023-12-02T19:57:09.225Z"
   },
   {
    "duration": 595,
    "start_time": "2023-12-02T19:57:09.632Z"
   },
   {
    "duration": 306,
    "start_time": "2023-12-02T19:57:10.229Z"
   },
   {
    "duration": 621,
    "start_time": "2023-12-02T19:57:10.606Z"
   },
   {
    "duration": 81,
    "start_time": "2023-12-02T19:57:11.229Z"
   },
   {
    "duration": 709,
    "start_time": "2023-12-02T19:57:11.312Z"
   },
   {
    "duration": 901,
    "start_time": "2023-12-02T19:57:12.023Z"
   },
   {
    "duration": 702,
    "start_time": "2023-12-02T19:57:12.926Z"
   },
   {
    "duration": 81,
    "start_time": "2023-12-02T19:57:13.630Z"
   },
   {
    "duration": 1016,
    "start_time": "2023-12-02T19:57:13.713Z"
   },
   {
    "duration": 192,
    "start_time": "2023-12-02T19:57:14.731Z"
   },
   {
    "duration": 92,
    "start_time": "2023-12-02T19:57:14.925Z"
   },
   {
    "duration": 616,
    "start_time": "2023-12-02T19:57:15.019Z"
   },
   {
    "duration": 520,
    "start_time": "2023-12-02T19:57:15.706Z"
   },
   {
    "duration": 607,
    "start_time": "2023-12-02T19:57:16.228Z"
   },
   {
    "duration": 25,
    "start_time": "2023-12-02T19:57:16.907Z"
   },
   {
    "duration": 8,
    "start_time": "2023-12-02T19:57:17.006Z"
   },
   {
    "duration": 11,
    "start_time": "2023-12-02T19:57:17.016Z"
   },
   {
    "duration": 593,
    "start_time": "2023-12-02T19:57:17.028Z"
   },
   {
    "duration": 97,
    "start_time": "2023-12-02T20:04:53.394Z"
   }
  ],
  "kernelspec": {
   "display_name": "Python 3 (ipykernel)",
   "language": "python",
   "name": "python3"
  },
  "language_info": {
   "codemirror_mode": {
    "name": "ipython",
    "version": 3
   },
   "file_extension": ".py",
   "mimetype": "text/x-python",
   "name": "python",
   "nbconvert_exporter": "python",
   "pygments_lexer": "ipython3",
   "version": "3.11.5"
  },
  "toc": {
   "base_numbering": 1,
   "nav_menu": {},
   "number_sections": true,
   "sideBar": true,
   "skip_h1_title": true,
   "title_cell": "Table of Contents",
   "title_sidebar": "Contents",
   "toc_cell": false,
   "toc_position": {
    "height": "calc(100% - 180px)",
    "left": "10px",
    "top": "150px",
    "width": "275px"
   },
   "toc_section_display": true,
   "toc_window_display": false
  }
 },
 "nbformat": 4,
 "nbformat_minor": 2
}
